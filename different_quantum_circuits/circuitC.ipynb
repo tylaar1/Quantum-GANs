{
  "cells": [
    {
      "cell_type": "markdown",
      "metadata": {
        "colab_type": "text",
        "id": "view-in-github"
      },
      "source": [
        "<a href=\"https://colab.research.google.com/github/tylaar1/Quantum-GANs/blob/main/Whatsapp_circuit_1.ipynb\" target=\"_parent\"><img src=\"https://colab.research.google.com/assets/colab-badge.svg\" alt=\"Open In Colab\"/></a>"
      ]
    },
    {
      "cell_type": "markdown",
      "metadata": {
        "id": "VgxWWTb88ERn"
      },
      "source": [
        "# REFERENCES\n",
        "\n",
        "1. [Experimental Quantum Generative Adversarial Networks for Image Generation](https://arxiv.org/abs/2010.06201)\n",
        "2. [FID metric](https://machinelearningmastery.com/how-to-implement-the-frechet-inception-distance-fid-from-scratch/)"
      ]
    },
    {
      "cell_type": "markdown",
      "metadata": {
        "id": "2OLTpKi4-Qoa"
      },
      "source": [
        "# POTENTIAL ADD-ONS\n",
        "\n",
        "- code quantitative evaluation metrics [ref2]\n",
        "- grid search for hyperparam optimisation\n",
        "- quantum discriminator [ref 1]"
      ]
    },
    {
      "cell_type": "markdown",
      "metadata": {
        "id": "Vk1aXXB97Amb"
      },
      "source": [
        "# Imports + Preamble"
      ]
    },
    {
      "cell_type": "code",
      "execution_count": 16,
      "metadata": {
        "colab": {
          "base_uri": "https://localhost:8080/"
        },
        "collapsed": true,
        "id": "c5d3UZ7FGU8w",
        "outputId": "4bc60730-9e93-4cdb-8cf7-70c2c5df33ad"
      },
      "outputs": [
        {
          "name": "stdout",
          "output_type": "stream",
          "text": [
            "Requirement already satisfied: pennylane in /home/ppytr13/anaconda3/envs/qgan_env/lib/python3.9/site-packages (0.38.0)\n",
            "Requirement already satisfied: numpy<2.0 in /home/ppytr13/anaconda3/envs/qgan_env/lib/python3.9/site-packages (from pennylane) (1.26.4)\n",
            "Requirement already satisfied: scipy in /home/ppytr13/anaconda3/envs/qgan_env/lib/python3.9/site-packages (from pennylane) (1.13.1)\n",
            "Requirement already satisfied: networkx in /home/ppytr13/anaconda3/envs/qgan_env/lib/python3.9/site-packages (from pennylane) (3.2.1)\n",
            "Requirement already satisfied: rustworkx>=0.14.0 in /home/ppytr13/anaconda3/envs/qgan_env/lib/python3.9/site-packages (from pennylane) (0.16.0)\n",
            "Requirement already satisfied: autograd in /home/ppytr13/anaconda3/envs/qgan_env/lib/python3.9/site-packages (from pennylane) (1.7.0)\n",
            "Requirement already satisfied: toml in /home/ppytr13/anaconda3/envs/qgan_env/lib/python3.9/site-packages (from pennylane) (0.10.2)\n",
            "Requirement already satisfied: appdirs in /home/ppytr13/anaconda3/envs/qgan_env/lib/python3.9/site-packages (from pennylane) (1.4.4)\n",
            "Requirement already satisfied: autoray>=0.6.11 in /home/ppytr13/anaconda3/envs/qgan_env/lib/python3.9/site-packages (from pennylane) (0.7.1)\n",
            "Requirement already satisfied: cachetools in /home/ppytr13/anaconda3/envs/qgan_env/lib/python3.9/site-packages (from pennylane) (5.5.2)\n",
            "Requirement already satisfied: pennylane-lightning>=0.38 in /home/ppytr13/anaconda3/envs/qgan_env/lib/python3.9/site-packages (from pennylane) (0.38.0)\n",
            "Requirement already satisfied: requests in /home/ppytr13/anaconda3/envs/qgan_env/lib/python3.9/site-packages (from pennylane) (2.32.3)\n",
            "Requirement already satisfied: typing-extensions in /home/ppytr13/anaconda3/envs/qgan_env/lib/python3.9/site-packages (from pennylane) (4.12.2)\n",
            "Requirement already satisfied: packaging in /home/ppytr13/anaconda3/envs/qgan_env/lib/python3.9/site-packages (from pennylane) (24.2)\n",
            "Requirement already satisfied: charset-normalizer<4,>=2 in /home/ppytr13/anaconda3/envs/qgan_env/lib/python3.9/site-packages (from requests->pennylane) (3.3.2)\n",
            "Requirement already satisfied: idna<4,>=2.5 in /home/ppytr13/anaconda3/envs/qgan_env/lib/python3.9/site-packages (from requests->pennylane) (3.7)\n",
            "Requirement already satisfied: urllib3<3,>=1.21.1 in /home/ppytr13/anaconda3/envs/qgan_env/lib/python3.9/site-packages (from requests->pennylane) (2.3.0)\n",
            "Requirement already satisfied: certifi>=2017.4.17 in /home/ppytr13/anaconda3/envs/qgan_env/lib/python3.9/site-packages (from requests->pennylane) (2025.4.26)\n"
          ]
        }
      ],
      "source": [
        "import math\n",
        "import random\n",
        "import numpy as np\n",
        "import pandas as pd\n",
        "import matplotlib.pyplot as plt\n",
        "import matplotlib.gridspec as gridspec\n",
        "\n",
        "!pip install pennylane\n",
        "import pennylane as qml\n",
        "\n",
        "import torch\n",
        "import torch.nn as nn\n",
        "import torch.optim as optim\n",
        "import torchvision\n",
        "import torchvision.transforms as transforms\n",
        "from torch.utils.data import Dataset, DataLoader\n",
        "\n",
        "from scipy.linalg import sqrtm"
      ]
    },
    {
      "cell_type": "markdown",
      "metadata": {
        "id": "Stf86xUe2ULF"
      },
      "source": [
        "Set the random seed for reproducibility"
      ]
    },
    {
      "cell_type": "code",
      "execution_count": 17,
      "metadata": {
        "id": "KzdGW-v92TeF"
      },
      "outputs": [],
      "source": [
        "seed = 42\n",
        "torch.manual_seed(seed)\n",
        "np.random.seed(seed)\n",
        "random.seed(seed)"
      ]
    },
    {
      "cell_type": "markdown",
      "metadata": {
        "id": "EsZ-epQ52YVO"
      },
      "source": [
        "# 1) Data Loading + Pre-Processing\n",
        "\n",
        "a) Create class that does the loading and pre-processing of the MNIST data\n",
        "\n",
        "b) create class instance to load in the MNIST data\n",
        "\n",
        "c) create data loader object"
      ]
    },
    {
      "cell_type": "markdown",
      "metadata": {
        "id": "AnTmL2PH2uaU"
      },
      "source": [
        "## 1a) Create class that does the loading and pre-processing of the MNIST data\n",
        "\n",
        "- `__init__`: stores MNIST filepath, data transformation and filtered MNIST dataframe\n",
        "- `filter_by_label`: filters for images with the label = [insert [0,9] label]\n",
        "- `__len__`: returns total number of images in the filtered dataset\n",
        "- `__getitem__`: retrieves specific image and its label from the dataset based on the provided index. It normalises pixel values, reshapes the image, applies any specified transformations & returns the processed image and label"
      ]
    },
    {
      "cell_type": "code",
      "execution_count": 18,
      "metadata": {
        "id": "HJ8SAMtyGiMX"
      },
      "outputs": [],
      "source": [
        "class DigitsDataset(Dataset):\n",
        "    \"\"\"Pytorch dataloader for the Optical Recognition of Handwritten Digits Data Set\"\"\"\n",
        "\n",
        "    def __init__(self, csv_file, label=0, transform=None):\n",
        "        \"\"\"\n",
        "        Args:\n",
        "            csv_file (string): Path to the csv file with annotations.\n",
        "            label (int [0,9], optional): Filter for MNIST images with said specified label.\n",
        "            transform (callable, optional): Optional transform to be applied\n",
        "                on a sample.\n",
        "            \"\"\"\n",
        "        self.csv_file = csv_file\n",
        "        self.transform = transform\n",
        "        self.df = self.filter_by_label(label)\n",
        "\n",
        "    def filter_by_label(self, label):\n",
        "        # Use pandas to return a dataframe of only zeros\n",
        "        df = pd.read_csv(self.csv_file)\n",
        "        df = df.loc[df.iloc[:, -1] == label]\n",
        "        return df\n",
        "\n",
        "    def __len__(self):\n",
        "        return len(self.df)\n",
        "\n",
        "    def __getitem__(self, idx):\n",
        "        if torch.is_tensor(idx):\n",
        "            idx = idx.tolist()\n",
        "\n",
        "        image = self.df.iloc[idx, :-1] / 16\n",
        "        image = np.array(image)\n",
        "        image = image.astype(np.float32).reshape(8, 8)\n",
        "\n",
        "        if self.transform:\n",
        "            image = self.transform(image)\n",
        "\n",
        "        # Return image and label\n",
        "        return image, 0"
      ]
    },
    {
      "cell_type": "markdown",
      "metadata": {
        "id": "39NfGu8wCsnk"
      },
      "source": [
        "## 1b) create class instance to load in the MNIST data\n",
        "This data is filtered by the label kwarg in the DigitDataset class"
      ]
    },
    {
      "cell_type": "code",
      "execution_count": 19,
      "metadata": {
        "id": "R9DB1blcIQ9F"
      },
      "outputs": [],
      "source": [
        "transform_to_pytorch_tensor = transforms.Compose([transforms.ToTensor()])\n",
        "\n",
        "\n",
        "dataset = DigitsDataset(\n",
        "    csv_file = \"MNIST_images.tra\",\n",
        "    transform = transform_to_pytorch_tensor\n",
        ")"
      ]
    },
    {
      "cell_type": "code",
      "execution_count": 20,
      "metadata": {
        "colab": {
          "base_uri": "https://localhost:8080/"
        },
        "id": "BJJDGkIbKXkT",
        "outputId": "ff3dd9e2-adb3-4f43-cb92-f88f451bd538"
      },
      "outputs": [
        {
          "data": {
            "text/plain": [
              "['2nd_quantum_circuit.pdf',\n",
              " 'new_circuit.ipynb',\n",
              " 'Whatsapp_circuit_1.ipynb',\n",
              " 'MNIST_images.tra',\n",
              " 'Whatsapp_circuit_3.ipynb']"
            ]
          },
          "execution_count": 20,
          "metadata": {},
          "output_type": "execute_result"
        }
      ],
      "source": [
        "import os\n",
        "os.listdir()"
      ]
    },
    {
      "cell_type": "code",
      "execution_count": 21,
      "metadata": {
        "colab": {
          "base_uri": "https://localhost:8080/",
          "height": 88
        },
        "id": "mJfbRVAVPDZO",
        "outputId": "398b2e2c-e303-48b2-ab21-6c024183f38b"
      },
      "outputs": [
        {
          "data": {
            "text/plain": [
              "'\\nimport os\\nimport requests\\nimport io\\n\\n# URL of the file in your GitHub repository\\nfile_url = \"https://raw.githubusercontent.com/your-username/your-repo-name/main/MNIST_images.tra\"  # Replace with your actual URL\\n\\n# Download the file\\nresponse = requests.get(file_url)\\nresponse.raise_for_status()  # Raise an exception for bad responses\\n\\n# Create a file-like object from the response content\\nfile_object = io.BytesIO(response.content)\\n\\n# Load the dataset using the file-like object\\ntransform_to_pytorch_tensor = transforms.Compose([transforms.ToTensor()])\\ndataset = DigitsDataset(\\n    csv_file=file_object,  # Pass the file-like object to DigitsDataset\\n    transform=transform_to_pytorch_tensor\\n)\\n'"
            ]
          },
          "execution_count": 21,
          "metadata": {},
          "output_type": "execute_result"
        }
      ],
      "source": [
        "'''\n",
        "import os\n",
        "import requests\n",
        "import io\n",
        "\n",
        "# URL of the file in your GitHub repository\n",
        "file_url = \"https://raw.githubusercontent.com/your-username/your-repo-name/main/MNIST_images.tra\"  # Replace with your actual URL\n",
        "\n",
        "# Download the file\n",
        "response = requests.get(file_url)\n",
        "response.raise_for_status()  # Raise an exception for bad responses\n",
        "\n",
        "# Create a file-like object from the response content\n",
        "file_object = io.BytesIO(response.content)\n",
        "\n",
        "# Load the dataset using the file-like object\n",
        "transform_to_pytorch_tensor = transforms.Compose([transforms.ToTensor()])\n",
        "dataset = DigitsDataset(\n",
        "    csv_file=file_object,  # Pass the file-like object to DigitsDataset\n",
        "    transform=transform_to_pytorch_tensor\n",
        ")\n",
        "'''"
      ]
    },
    {
      "cell_type": "markdown",
      "metadata": {
        "id": "B8zMwPqZBwUG"
      },
      "source": [
        "see what's in our class instance"
      ]
    },
    {
      "cell_type": "code",
      "execution_count": 22,
      "metadata": {
        "colab": {
          "base_uri": "https://localhost:8080/"
        },
        "id": "964z9cFsB2cf",
        "outputId": "f44b0445-3f13-48ee-dee3-6eae93a11842"
      },
      "outputs": [
        {
          "data": {
            "text/plain": [
              "(tensor([[[0.0000, 0.0000, 0.6250, 1.0000, 0.3750, 0.0000, 0.0000, 0.0000],\n",
              "          [0.0000, 0.4375, 1.0000, 0.5000, 1.0000, 0.3125, 0.0000, 0.0000],\n",
              "          [0.0000, 0.6875, 1.0000, 0.0000, 0.3750, 0.8750, 0.1875, 0.0000],\n",
              "          [0.0000, 0.7500, 0.7500, 0.0000, 0.0000, 0.6875, 0.6875, 0.0000],\n",
              "          [0.0000, 0.7500, 0.7500, 0.0000, 0.0000, 0.5000, 0.7500, 0.0000],\n",
              "          [0.0000, 0.4375, 0.9375, 0.0625, 0.0000, 0.8125, 0.6875, 0.0000],\n",
              "          [0.0000, 0.0000, 1.0000, 0.5000, 0.6250, 0.9375, 0.1875, 0.0000],\n",
              "          [0.0000, 0.0000, 0.6250, 1.0000, 0.9375, 0.1875, 0.0000, 0.0000]]]),\n",
              " 0)"
            ]
          },
          "execution_count": 22,
          "metadata": {},
          "output_type": "execute_result"
        }
      ],
      "source": [
        "dataset[0]"
      ]
    },
    {
      "cell_type": "markdown",
      "metadata": {
        "id": "SAR0HLfTGHNF"
      },
      "source": [
        "in the above output we can see the feature map and the label"
      ]
    },
    {
      "cell_type": "markdown",
      "metadata": {
        "id": "Lsd2Z3kUDMY3"
      },
      "source": [
        "display the first 8 images in the dataset class instance"
      ]
    },
    {
      "cell_type": "code",
      "execution_count": 23,
      "metadata": {
        "colab": {
          "base_uri": "https://localhost:8080/",
          "height": 102
        },
        "id": "DD3SLOH_DLmM",
        "outputId": "c51d5d27-cdb5-45f4-fa3e-8712be232b87"
      },
      "outputs": [
        {
          "data": {
            "image/png": "[encoded data removed]",
            "text/plain": [
              "<Figure size 800x200 with 8 Axes>"
            ]
          },
          "metadata": {},
          "output_type": "display_data"
        }
      ],
      "source": [
        "IMAGE_SIZE= 8\n",
        "reshaped_image_shape = (IMAGE_SIZE, IMAGE_SIZE)\n",
        "\n",
        "plt.figure(figsize=(8,2))\n",
        "\n",
        "for i in range(8):\n",
        "    image = dataset[i][0].reshape(reshaped_image_shape)\n",
        "    plt.subplot(1, 8, i+1)\n",
        "    plt.axis('off')\n",
        "    plt.imshow(image.numpy(), cmap='gray')\n",
        "\n",
        "plt.show()"
      ]
    },
    {
      "cell_type": "markdown",
      "metadata": {
        "id": "UUUOK8zaHKZe"
      },
      "source": [
        "to change the digits printed, change the label kwarg in the DigitDataset class"
      ]
    },
    {
      "cell_type": "markdown",
      "metadata": {
        "id": "51EJy9vUGQxK"
      },
      "source": [
        "## 1c) create data loader object\n",
        "\n",
        "dataloaders efficiently load date in batches during training"
      ]
    },
    {
      "cell_type": "code",
      "execution_count": 24,
      "metadata": {
        "id": "oG-T9naRCdoP"
      },
      "outputs": [],
      "source": [
        "BATCH_SIZE = 10\n",
        "\n",
        "dataloader = torch.utils.data.DataLoader(\n",
        "    dataset,\n",
        "    batch_size = BATCH_SIZE,\n",
        "    shuffle = True,\n",
        "    drop_last = True\n",
        ")"
      ]
    },
    {
      "cell_type": "markdown",
      "metadata": {
        "id": "3o5ceqNUG8tr"
      },
      "source": [
        "# 2) Model Building\n",
        "\n",
        "a) Build class for the classical discriminator\n",
        "\n",
        "b) Building the quantum generator\n",
        "- i) define the quantum variables\n",
        "- ii) define the quantum device\n",
        "- iii) define the qunatum circuit\n",
        "- iv) define the partial measurement process\n",
        "- v) create quantum generator class to use during training"
      ]
    },
    {
      "cell_type": "markdown",
      "metadata": {
        "id": "lRW_ZMRMHyhO"
      },
      "source": [
        "## 2a) Build class for the classical discriminator\n",
        "\n",
        "- fully connected NN with two hidden layers\n",
        "- sigmoid output => probability of an input being classified as real"
      ]
    },
    {
      "cell_type": "code",
      "execution_count": 25,
      "metadata": {
        "id": "YKMfcs35J3wi"
      },
      "outputs": [],
      "source": [
        "class Discriminator(nn.Module):\n",
        "    \"\"\"Fully connected classical discriminator\"\"\"\n",
        "\n",
        "    def __init__(self):\n",
        "        super().__init__() # calls the constructer of the parent class (nn.Module)\n",
        "\n",
        "        self.model = nn.Sequential(\n",
        "            # Inputs to first hidden layer (num_input_features -> 64)\n",
        "            nn.Linear(IMAGE_SIZE * IMAGE_SIZE, 64),\n",
        "            nn.ReLU(),\n",
        "            # First hidden layer (64 -> 16)\n",
        "            nn.Linear(64, 16),\n",
        "            nn.ReLU(),\n",
        "            # Second hidden layer (16 -> output)\n",
        "            nn.Linear(16, 1),\n",
        "            nn.Sigmoid(),\n",
        "        )\n",
        "\n",
        "    def forward(self, x):\n",
        "        return self.model(x)"
      ]
    },
    {
      "cell_type": "markdown",
      "metadata": {
        "id": "tGFyFTxJKUUF"
      },
      "source": [
        "## 2b) building the quantum generator\n",
        "\n",
        "Quantum generator consists of `n_generators` sub-generators, each comprised of `n_qubits` qubits\n",
        "\n",
        "Sub-generator circuit architecture from the original article:\n",
        "\n",
        "<img src=\"https://pennylane.ai/_images/qcircuit.jpeg\" width=\"500\">\n",
        "\n",
        "---\n",
        "\n",
        "i) **state embedding**: a latent vector, $z \\in \\mathbb{R}^N$, is sampled from a uniform distn in the interval $[0, \\pi/2)$ and sent to all sub-generators\n",
        "\n",
        "$z$ --> $|z\\rangle$ (state embedding) by applying the RY gates. Each element of z determines the rotation angle of the RY gate.\n",
        "\n",
        "---\n",
        "\n",
        "ii) **parameterised layers**: a set of parameterised RY gates apply LINEAR (because they're unitary) TRANSFORMATIONS to the quantum state, followed by control Z gates (to introduce entanglement). This layer is repeated `q_depth` times.\n",
        "\n",
        "---\n",
        "\n",
        "iii) **Non-linear transform**: For non-simple generative tasks we need a non-linearity.\n",
        "\n",
        "Ancillary qubits and partial measurements are used to introduce NON-LINEARITY.\n",
        "\n",
        "Partial measurement: measure ONLY the ancillary qubits. This collapses them into classical values. We don't care about those values though so just discard them.\n",
        "\n",
        "The act of measuring the ancillary qubits and collapsing them to classical values forces a non-linear transformation on the remaining qubits. We then measure these remaining qubits to obtain sub-generator output $\\boldsymbol{g^{(i)}}$, the output for a given patch of pixels. Normalisation, causes the sum of all its elements to sum to 1\n",
        "\n",
        "---\n",
        "\n",
        "iv) **post processing**: all the elements summing to one makes it difficult to map them to pixel intensities\n",
        "\n",
        "$\\tilde{x}(i) = \\frac{g(i)}{\\max_k g(i)_k}$\n",
        "\n",
        "this solves the issue by scaling it so the largest values becomes 1 and all other values scale proportionally\n",
        "\n",
        "---"
      ]
    },
    {
      "cell_type": "markdown",
      "metadata": {
        "id": "LdjmV6ldb7In"
      },
      "source": [
        "### 2b) i) define quantum variables - as per the diagram in the above markdown"
      ]
    },
    {
      "cell_type": "markdown",
      "metadata": {
        "id": "V5saS53R9s2G"
      },
      "source": [
        "potentially add grid search for these hyperparams"
      ]
    },
    {
      "cell_type": "code",
      "execution_count": 26,
      "metadata": {
        "id": "J569xl1mJ3yt"
      },
      "outputs": [],
      "source": [
        "n_qubits = 5\n",
        "n_a_qubits = 1\n",
        "q_depth = 1 #later should be able to vary this\n",
        "n_generators = 4"
      ]
    },
    {
      "cell_type": "markdown",
      "metadata": {
        "id": "0CBCslgkcrcX"
      },
      "source": [
        "### 2b) ii) define the quantum device"
      ]
    },
    {
      "cell_type": "code",
      "execution_count": 27,
      "metadata": {
        "colab": {
          "base_uri": "https://localhost:8080/"
        },
        "id": "kum6J7AnJ304",
        "outputId": "8230e41d-991d-4506-bede-140beac33bd9"
      },
      "outputs": [
        {
          "data": {
            "text/plain": [
              "device(type='cuda', index=0)"
            ]
          },
          "execution_count": 27,
          "metadata": {},
          "output_type": "execute_result"
        }
      ],
      "source": [
        "dev = qml.device(\"lightning.qubit\", wires=n_qubits)\n",
        "\n",
        "# Enable CUDA device if available\n",
        "device = torch.device(\"cuda:0\" if torch.cuda.is_available() else \"cpu\")\n",
        "device"
      ]
    },
    {
      "cell_type": "markdown",
      "metadata": {
        "id": "r4nvaFV7dl6O"
      },
      "source": [
        "### 2b) iii) define the quantum circuit"
      ]
    },
    {
      "cell_type": "code",
      "execution_count": 28,
      "metadata": {
        "id": "ikXIuHasJ32z"
      },
      "outputs": [],
      "source": [
        "@qml.qnode(dev, diff_method=\"parameter-shift\")\n",
        "def quantum_circuit(noise, weights):\n",
        "    weights = weights.reshape(q_depth, n_qubits, 2)\n",
        "\n",
        "    for i in range(n_qubits):\n",
        "        qml.RY(noise[i], wires=i)\n",
        "        qml.RZ(noise[i], wires=i)\n",
        "\n",
        "    for i in range(q_depth):\n",
        "        for q in range(n_qubits):\n",
        "            qml.RY(weights[i][q][0], wires=q)\n",
        "\n",
        "\n",
        "        for q in range(n_qubits-1):\n",
        "            qml.CNOT(wires=[q, q + 1])\n",
        "            qml.RZ(weights[i][q + 1][1], wires=q + 1)\n",
        "            qml.CNOT(wires=[q, q + 1])\n",
        "\n",
        "    return qml.probs(wires=list(range(n_qubits)))\n"
      ]
    },
    {
      "cell_type": "code",
      "execution_count": 29,
      "metadata": {
        "colab": {
          "base_uri": "https://localhost:8080/",
          "height": 382
        },
        "id": "DxKtAh4SVUU-",
        "outputId": "4f46a5f7-cf7b-405d-d538-c54095e2b178"
      },
      "outputs": [
        {
          "data": {
            "image/png": "[encoded data removed]",
            "text/plain": [
              "<Figure size 1800x600 with 1 Axes>"
            ]
          },
          "metadata": {},
          "output_type": "display_data"
        }
      ],
      "source": [
        "#ignore noise and weight here they are just so we can visualise the circuit\n",
        "#we input them properly in the generator forward pass\n",
        "noise = np.random.uniform(0, 2 * np.pi, size=n_qubits)\n",
        "weights = np.random.uniform(0, 2 * np.pi, size=(q_depth, n_qubits,2))\n",
        "\n",
        "test_circuit = quantum_circuit(noise,weights)\n",
        "\n",
        "qml.drawer.use_style(\"black_white\")\n",
        "fig, ax = qml.draw_mpl(\n",
        "    quantum_circuit,\n",
        "    show=False,\n",
        "    fontsize=40  # or try 16, 'xx-large', etc.\n",
        ")(noise, weights)\n",
        "\n",
        "fig.savefig(\"3rd_quantum_circuit.pdf\", format=\"pdf\", bbox_inches=\"tight\", dpi=300)"
      ]
    },
    {
      "cell_type": "markdown",
      "metadata": {
        "id": "tq9TG0K6Ua4D"
      },
      "source": [
        "### new quanum circuit:\n",
        "From bens suggested code"
      ]
    },
    {
      "cell_type": "markdown",
      "metadata": {
        "id": "ti2hLBDVdxxF"
      },
      "source": [
        "### 2b) iv) define the partial measurement process"
      ]
    },
    {
      "cell_type": "code",
      "execution_count": 114,
      "metadata": {
        "id": "PjK8QVbrdxMV"
      },
      "outputs": [],
      "source": [
        "def partial_measure(noise, weights):\n",
        "    # Non-linear Transform\n",
        "    probs = quantum_circuit(noise, weights)\n",
        "    probsgiven0 = probs[: (2 ** (n_qubits - n_a_qubits))]\n",
        "    probsgiven0 /= torch.sum(probs)\n",
        "\n",
        "    # Post-Processing\n",
        "    probsgiven = probsgiven0 / torch.max(probsgiven0)\n",
        "    return probsgiven"
      ]
    },
    {
      "cell_type": "markdown",
      "metadata": {
        "id": "claNHS8qeeT3"
      },
      "source": [
        "### 2b) v) create a quantum generator class to use during training\n",
        "\n",
        "- `__init__`: initialises the quantum generator, holds container for the learnable weights that will updated during training (`self.q_params`)\n",
        "- `forward`: iterates over `self.q_params` list which contains the paramters for each sub-generator used to generate the output patches, the patches are concatenated together to form a full image"
      ]
    },
    {
      "cell_type": "code",
      "execution_count": 115,
      "metadata": {
        "id": "KNN-JD7nJ342"
      },
      "outputs": [],
      "source": [
        "class PatchQuantumGenerator(nn.Module):\n",
        "    \"\"\"Quantum generator class for the patch method\"\"\"\n",
        "\n",
        "    def __init__(self, n_generators, q_delta=1):\n",
        "        \"\"\"\n",
        "        Args:\n",
        "            n_generators (int): Number of sub-generators to be used in the patch method.\n",
        "            q_delta (float, optional): Spread of the random distribution for parameter initialisation.\n",
        "        \"\"\"\n",
        "\n",
        "        super().__init__()\n",
        "\n",
        "        self.q_params = nn.ParameterList(\n",
        "            [\n",
        "                nn.Parameter(q_delta * torch.rand(2*q_depth * n_qubits), requires_grad=True)\n",
        "                for _ in range(n_generators)\n",
        "            ]\n",
        "        )\n",
        "        self.n_generators = n_generators\n",
        "\n",
        "    def forward(self, input_batch):\n",
        "        # Initialise empty pytorch Tensor to store the generated images - x.size(0) is the batch size.\n",
        "        images = torch.Tensor(input_batch.size(0), 0).to(device)\n",
        "\n",
        "        # Iterate over all sub-generators\n",
        "        for params in self.q_params:\n",
        "\n",
        "            # Create a Tensor to 'catch' a batch of the patches from a single sub-generator\n",
        "            PATCH_SIZE = 2 ** (n_qubits - n_a_qubits)\n",
        "            patches = torch.Tensor(0, PATCH_SIZE).to(device) # initialise empty pytorch tensor to store the generated patches\n",
        "            for elem in input_batch:\n",
        "                q_out = partial_measure(elem, params).float().unsqueeze(0)\n",
        "                patches = torch.cat((patches, q_out))\n",
        "\n",
        "            # Each batch of patches is concatenated with each other to create a batch of images\n",
        "            images = torch.cat((images, patches), 1)\n",
        "\n",
        "        return images"
      ]
    },
    {
      "cell_type": "markdown",
      "metadata": {
        "id": "6aWLSLqMekl4"
      },
      "source": [
        "# 3) Training + Evaluation\n",
        "\n",
        "a) define learning rates and number of training iterations\n",
        "\n",
        "b) execute training process\n",
        "\n",
        "c) evaluation: plot how the generated images evolved throughout training"
      ]
    },
    {
      "cell_type": "markdown",
      "metadata": {
        "id": "wxquusP8erje"
      },
      "source": [
        "## 3a) define learning rates and number of training iterations"
      ]
    },
    {
      "cell_type": "code",
      "execution_count": 116,
      "metadata": {
        "id": "WYu1hzGVJ367"
      },
      "outputs": [],
      "source": [
        "generator_learnrate = 0.3\n",
        "discrim_learnrate = 0.01\n",
        "num_iterations = 500"
      ]
    },
    {
      "cell_type": "markdown",
      "metadata": {
        "id": "aPQ6Z3H5VOBK"
      },
      "source": [
        "## 3b) define quantitative evaluation metric"
      ]
    },
    {
      "cell_type": "code",
      "execution_count": 117,
      "metadata": {
        "id": "jpQmqkpLVSWp"
      },
      "outputs": [],
      "source": [
        "def calculate_fid(act1, act2):\n",
        "    \"\"\"Calculate the FID score between two sets of activations.\n",
        "\n",
        "    This function has been modified to handle potential shape mismatches\n",
        "    between the real and generated images. It now ensures that both sets\n",
        "    of activations have the same number of features before calculating\n",
        "    the FID score.\n",
        "\n",
        "    Args:\n",
        "        act1 (np.ndarray): Activations of real images.\n",
        "        act2 (np.ndarray): Activations of generated images.\n",
        "\n",
        "    Returns:\n",
        "        float: FID score.\n",
        "    \"\"\"\n",
        "    # Ensure both sets of activations have the same number of features\n",
        "    num_features = min(act1.shape[1], act2.shape[1])\n",
        "    act1 = act1[:, :num_features]\n",
        "    act2 = act2[:, :num_features]\n",
        "\n",
        "    # Calculate mean and covariance statistics\n",
        "    mu1, sigma1 = act1.mean(axis=0), np.cov(act1, rowvar=False)\n",
        "    mu2, sigma2 = act2.mean(axis=0), np.cov(act2, rowvar=False)\n",
        "    # calculate sum squared difference between means\n",
        "    ssdiff = np.sum((mu1 - mu2)**2.0)\n",
        "    # calculate sqrt of product between cov\n",
        "    covmean = sqrtm(sigma1.dot(sigma2))\n",
        "    # check and correct imaginary numbers from sqrt\n",
        "    if np.iscomplexobj(covmean):\n",
        "        covmean = covmean.real\n",
        "    # calculate score\n",
        "    fid = ssdiff + np.trace(sigma1 + sigma2 - 2.0 * covmean)\n",
        "    return fid"
      ]
    },
    {
      "cell_type": "markdown",
      "metadata": {
        "id": "R6RG8MTbfH-k"
      },
      "source": [
        "## 3c) Execute training process"
      ]
    },
    {
      "cell_type": "code",
      "execution_count": null,
      "metadata": {
        "colab": {
          "base_uri": "https://localhost:8080/"
        },
        "collapsed": true,
        "id": "rqb8PyqyJ386",
        "outputId": "00ef469c-000a-49d9-d2d9-06ef6e306dc4"
      },
      "outputs": [
        {
          "name": "stdout",
          "output_type": "stream",
          "text": [
            "Iteration: 10, Discriminator Loss: 1.344, Generator Loss: 0.606\n",
            "Iteration: 10, FID Score: 15.012\n"
          ]
        }
      ],
      "source": [
        "# Model and optimizer setup\n",
        "discriminator = Discriminator().to(device)\n",
        "generator = PatchQuantumGenerator(n_generators).to(device)\n",
        "\n",
        "# Binary cross entropy\n",
        "criterion = nn.BCELoss()\n",
        "\n",
        "# Optimisers - stochastic grad descent\n",
        "optD = optim.SGD(discriminator.parameters(), lr=discrim_learnrate)\n",
        "optG = optim.SGD(generator.parameters(), lr=generator_learnrate)\n",
        "\n",
        "# Labels\n",
        "real_labels = torch.full((BATCH_SIZE,), 1.0, dtype=torch.float, device=device)\n",
        "fake_labels = torch.full((BATCH_SIZE,), 0.0, dtype=torch.float, device=device)\n",
        "\n",
        "# Fixed noise allows us to visually track the generated images throughout training\n",
        "fixed_noise = torch.rand(8, n_qubits, device=device) * math.pi / 2\n",
        "\n",
        "# Iteration counter\n",
        "counter = 0\n",
        "\n",
        "# Collect images for plotting later\n",
        "results = []\n",
        "\n",
        "# Lists to track FID scores\n",
        "fid_scores = []\n",
        "\n",
        "# Training loop\n",
        "while True:\n",
        "    for i, (data, _) in enumerate(dataloader):\n",
        "        # Data for training the discriminator\n",
        "        data = data.reshape(-1, IMAGE_SIZE * IMAGE_SIZE)\n",
        "        real_data = data.to(device)\n",
        "\n",
        "        # Noise following a uniform distribution in range [0,pi/2)\n",
        "        noise = torch.rand(BATCH_SIZE, n_qubits, device=device) * math.pi / 2\n",
        "        fake_data = generator(noise)\n",
        "\n",
        "        # Training the discriminator\n",
        "        discriminator.zero_grad()\n",
        "        outD_real = discriminator(real_data).view(-1)\n",
        "        outD_fake = discriminator(fake_data.detach()).view(-1)\n",
        "\n",
        "        errD_real = criterion(outD_real, real_labels)\n",
        "        errD_fake = criterion(outD_fake, fake_labels)\n",
        "\n",
        "        # Propagate gradients\n",
        "        errD_real.backward()\n",
        "        errD_fake.backward()\n",
        "\n",
        "        errD = errD_real + errD_fake\n",
        "        optD.step()\n",
        "\n",
        "        # Training the generator\n",
        "        generator.zero_grad()\n",
        "        outD_fake = discriminator(fake_data).view(-1)\n",
        "        errG = criterion(outD_fake, real_labels)\n",
        "        errG.backward()\n",
        "        optG.step()\n",
        "\n",
        "        counter += 1\n",
        "\n",
        "        # Show loss values and calculate FID periodically\n",
        "        if counter % 10 == 0:\n",
        "            print(f'Iteration: {counter}, Discriminator Loss: {errD:0.3f}, Generator Loss: {errG:0.3f}')\n",
        "            test_images = generator(fixed_noise).view(8, 1, IMAGE_SIZE, IMAGE_SIZE).cpu().detach()\n",
        "\n",
        "            # Save images every 50 iterations\n",
        "            if counter % 50 == 0:\n",
        "                results.append(test_images)\n",
        "\n",
        "        # Calculate FID every 100 iterations\n",
        "        if counter % 10 == 0:\n",
        "            # Generate images with fixed noise\n",
        "            test_images = generator(fixed_noise).view(8, -1).cpu().detach().numpy()\n",
        "\n",
        "            # Load some real images from the dataset\n",
        "            real_batch, _ = next(iter(dataloader))\n",
        "            real_batch = real_batch.reshape(8, -1).numpy()\n",
        "\n",
        "            # Calculate FID\n",
        "            fid_score = calculate_fid(real_batch, test_images)\n",
        "            fid_scores.append(fid_score)\n",
        "            print(f'Iteration: {counter}, FID Score: {fid_score:0.3f}')\n",
        "\n",
        "        if counter == num_iterations:\n",
        "            break\n",
        "    if counter == num_iterations:\n",
        "        break"
      ]
    },
    {
      "cell_type": "code",
      "execution_count": null,
      "metadata": {
        "id": "uRsB0whwb5Ft"
      },
      "outputs": [],
      "source": [
        "np.savetxt('fid_scores.txt', fid_scores)"
      ]
    },
    {
      "cell_type": "code",
      "execution_count": null,
      "metadata": {
        "id": "I4vfvGWhcc-C"
      },
      "outputs": [],
      "source": []
    },
    {
      "cell_type": "code",
      "execution_count": null,
      "metadata": {
        "id": "a_2VqBAlD1_e"
      },
      "outputs": [],
      "source": [
        "# Optional: Plot FID scores\n",
        "import matplotlib.pyplot as plt\n",
        "plt.figure(figsize=(10,5))\n",
        "plt.plot(np.arange(len(fid_scores))*10, fid_scores)\n",
        "plt.xlabel('Training Epochs')\n",
        "plt.ylabel('FID Score')\n",
        "plt.show()"
      ]
    },
    {
      "cell_type": "markdown",
      "metadata": {
        "id": "HTVIp1tzfc5S"
      },
      "source": [
        "## 3c) plot how the generated images evolved throughout training"
      ]
    },
    {
      "cell_type": "code",
      "execution_count": null,
      "metadata": {
        "id": "XmT9z1RhJ3-9"
      },
      "outputs": [],
      "source": [
        "fig = plt.figure(figsize=(10, 5))\n",
        "outer = gridspec.GridSpec(5, 2, wspace=0.1)\n",
        "\n",
        "for i, images in enumerate(results):\n",
        "    inner = gridspec.GridSpecFromSubplotSpec(1, images.size(0),\n",
        "                    subplot_spec=outer[i])\n",
        "\n",
        "    images = torch.squeeze(images, dim=1)\n",
        "    for j, im in enumerate(images):\n",
        "\n",
        "        ax = plt.Subplot(fig, inner[j])\n",
        "        ax.imshow(im.numpy(), cmap=\"gray\")\n",
        "        ax.set_xticks([])\n",
        "        ax.set_yticks([])\n",
        "        if j==0:\n",
        "            ax.set_title(f'Iteration {50+i*50}', loc='left')\n",
        "        fig.add_subplot(ax)\n",
        "\n",
        "plt.show()"
      ]
    },
    {
      "cell_type": "code",
      "execution_count": null,
      "metadata": {
        "id": "nvSSPSkkJ4BA"
      },
      "outputs": [],
      "source": []
    }
  ],
  "metadata": {
    "colab": {
      "include_colab_link": true,
      "provenance": []
    },
    "kernelspec": {
      "display_name": "qgan_env",
      "language": "python",
      "name": "python3"
    },
    "language_info": {
      "codemirror_mode": {
        "name": "ipython",
        "version": 3
      },
      "file_extension": ".py",
      "mimetype": "text/x-python",
      "name": "python",
      "nbconvert_exporter": "python",
      "pygments_lexer": "ipython3",
      "version": "3.9.21"
    }
  },
  "nbformat": 4,
  "nbformat_minor": 0
}
