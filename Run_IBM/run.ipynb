{
 "cells": [
  {
   "cell_type": "code",
   "execution_count": 39,
   "id": "6d725d88",
   "metadata": {},
   "outputs": [
    {
     "name": "stdout",
     "output_type": "stream",
     "text": [
      "Total bits generated: 320\n"
     ]
    },
    {
     "data": {
      "image/png": "[encoded data removed]",
      "text/plain": [
       "<Figure size 640x480 with 1 Axes>"
      ]
     },
     "metadata": {},
     "output_type": "display_data"
    }
   ],
   "source": [
    "import numpy as np\n",
    "import matplotlib.pyplot as plt\n",
    "import pennylane as qml\n",
    "\n",
    "n_qubits = 5\n",
    "q_depth = 4\n",
    "n_generators = 4\n",
    "#n_generators = 1\n",
    "n_a_qubits = 1  \n",
    "PATCH_SIZE = 2 ** (n_qubits - n_a_qubits)\n",
    "#PATCH_SIZE = 16\n",
    "'uncomment and load in key'\n",
    "#api_key = np.load('api_key.npy', allow_pickle=True) #load in api key here\n",
    "\n",
    "\n",
    "q_weights = np.load(\"quantum_weights.npy\", allow_pickle=True)\n",
    "\n",
    "dev = qml.device(\"default.qubit\", wires=n_qubits, shots=PATCH_SIZE)\n",
    "'swap out for qiskit.ibmq to run on real device'\n",
    "#dev = qml.device(\"qiskit.ibmq\", wires=n_qubits, backend=\"name on website\", token=api_key, shots=PATCH_SIZE)\n",
    "\n",
    "@qml.qnode(dev)\n",
    "def quantum_circuit(noise, weights):\n",
    "    weights = weights.reshape(q_depth, n_qubits, 2)\n",
    "    \n",
    "    for i in range(n_qubits):\n",
    "        qml.RX(noise[i], wires=i)\n",
    "        \n",
    "    for i in range(q_depth):\n",
    "        for q in range(n_qubits):\n",
    "            qml.RX(weights[i][q][0], wires=q)\n",
    "            qml.RZ(weights[i][q][1], wires=q)\n",
    "        for q in range(n_qubits):\n",
    "            qml.CNOT(wires=[q, (q + 1) % n_qubits])\n",
    "\n",
    "    return qml.sample(wires=range(n_qubits))\n",
    "\n",
    "\n",
    "# --- Generate patches locally ---\n",
    "patches = []\n",
    "\n",
    "for generator_id in range(n_generators):\n",
    "    # Random input noise\n",
    "    noise = np.random.uniform(0, np.pi / 2, size=n_qubits)\n",
    "\n",
    "    # Use weights from trained generator\n",
    "    weights = q_weights[generator_id]\n",
    "\n",
    "    # Get output samples (bitstrings)\n",
    "    samples = quantum_circuit(noise, weights)  # shape: [PATCH_SIZE, n_qubits]\n",
    "\n",
    "    # Flatten samples across all qubits (this gives one patch per generator)\n",
    "    patch = samples.flatten()\n",
    "\n",
    "    patches.append(patch)\n",
    "\n",
    "flat_image = np.concatenate(patches)  # Concatenate all patches into a flat image\n",
    "print(f\"Total bits generated: {flat_image.size}\")  # Make sure the total number of bits is 320\n",
    "\n",
    "# Reshape to an array of (64, 5) - 64 pixels, each with 5 bits\n",
    "pixels_5bits = flat_image.reshape((IMAGE_SIZE * IMAGE_SIZE, 5))\n",
    "\n",
    "# Map each 5-bit group into a value between 0-31 (5 bits -> 0 to 31)\n",
    "pixel_values = []\n",
    "for pixel in pixels_5bits:\n",
    "    # Convert the 5 bits to an integer value between 0 and 31\n",
    "    bit_value = sum([bit * (2**i) for i, bit in enumerate(pixel[::-1])])  # Convert bits to int\n",
    "    pixel_values.append(bit_value)\n",
    "\n",
    "# Normalize to 0-255 for grayscale intensity\n",
    "grayscale_pixels = np.array(pixel_values) * (255 // 31)  # Scale between 0 and 255\n",
    "\n",
    "# Reshape into 8x8 image\n",
    "image = grayscale_pixels.reshape(IMAGE_SIZE, IMAGE_SIZE)\n",
    "\n",
    "# --- Display the image ---\n",
    "plt.imshow(image, cmap=\"gray\")\n",
    "plt.title(\"Generated Image (Local Simulator)\")\n",
    "plt.axis(\"off\")\n",
    "plt.show()\n"
   ]
  }
 ],
 "metadata": {
  "kernelspec": {
   "display_name": "qgan_env",
   "language": "python",
   "name": "python3"
  },
  "language_info": {
   "codemirror_mode": {
    "name": "ipython",
    "version": 3
   },
   "file_extension": ".py",
   "mimetype": "text/x-python",
   "name": "python",
   "nbconvert_exporter": "python",
   "pygments_lexer": "ipython3",
   "version": "3.9.21"
  }
 },
 "nbformat": 4,
 "nbformat_minor": 5
}
