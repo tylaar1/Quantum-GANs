{
 "cells": [
  {
   "cell_type": "markdown",
   "metadata": {
    "colab_type": "text",
    "id": "view-in-github"
   },
   "source": [
    "<a href=\"https://colab.research.google.com/github/tylaar1/Quantum-GANs/blob/main/BaseModel_Quantum_GANs.ipynb\" target=\"_parent\"><img src=\"https://colab.research.google.com/assets/colab-badge.svg\" alt=\"Open In Colab\"/></a>"
   ]
  },
  {
   "cell_type": "markdown",
   "metadata": {
    "id": "Vk1aXXB97Amb"
   },
   "source": [
    "# Imports + Preamble"
   ]
  },
  {
   "cell_type": "markdown",
   "metadata": {},
   "source": [
    "# testing out if this ssh madness actually works"
   ]
  },
  {
   "cell_type": "code",
   "execution_count": 1,
   "metadata": {
    "colab": {
     "base_uri": "https://localhost:8080/"
    },
    "id": "c5d3UZ7FGU8w",
    "outputId": "c91a4698-6606-4a47-8780-c915076961c5"
   },
   "outputs": [
    {
     "name": "stderr",
     "output_type": "stream",
     "text": [
      "/home/ppytr13/anaconda3/envs/qgan_env/lib/python3.9/site-packages/torchvision/io/image.py:13: UserWarning: Failed to load image Python extension: '/home/ppytr13/anaconda3/envs/qgan_env/lib/python3.9/site-packages/torchvision/image.so: undefined symbol: _ZN3c1017RegisterOperatorsD1Ev'If you don't plan on using image functionality from `torchvision.io`, you can ignore this warning. Otherwise, there might be something wrong with your environment. Did you have `libjpeg` or `libpng` installed before building `torchvision` from source?\n",
      "  warn(\n"
     ]
    }
   ],
   "source": [
    "import math\n",
    "import random\n",
    "import numpy as np\n",
    "import pandas as pd\n",
    "import matplotlib.pyplot as plt\n",
    "import matplotlib.gridspec as gridspec\n",
    "\n",
    "# !pip install pennylane\n",
    "import pennylane as qml\n",
    "\n",
    "import torch\n",
    "import torch.nn as nn\n",
    "import torch.optim as optim\n",
    "import torchvision\n",
    "import torchvision.transforms as transforms\n",
    "from torch.utils.data import Dataset, DataLoader"
   ]
  },
  {
   "cell_type": "code",
   "execution_count": 2,
   "metadata": {
    "colab": {
     "base_uri": "https://localhost:8080/"
    },
    "id": "cxMcVhHZJqQN",
    "outputId": "8f9c7d20-86f8-43a1-9e62-c4e248b4ccb2"
   },
   "outputs": [],
   "source": [
    "# from google.colab import drive\n",
    "# drive.mount('/content/drive')"
   ]
  },
  {
   "cell_type": "markdown",
   "metadata": {
    "id": "Stf86xUe2ULF"
   },
   "source": [
    "Set the random seed for reproducibility"
   ]
  },
  {
   "cell_type": "code",
   "execution_count": 3,
   "metadata": {
    "id": "KzdGW-v92TeF"
   },
   "outputs": [],
   "source": [
    "seed = 7\n",
    "torch.manual_seed(seed)\n",
    "np.random.seed(seed)\n",
    "random.seed(seed)"
   ]
  },
  {
   "cell_type": "markdown",
   "metadata": {
    "id": "EsZ-epQ52YVO"
   },
   "source": [
    "# 1) Data Loading + Pre-Processing\n",
    "\n",
    "a) Create class that does the loading and pre-processing of the MNIST data\n",
    "\n",
    "b) create class instance to load in the MNIST data\n",
    "\n",
    "c) create data loader object"
   ]
  },
  {
   "cell_type": "markdown",
   "metadata": {
    "id": "AnTmL2PH2uaU"
   },
   "source": [
    "## 1a) Create class that does the loading and pre-processing of the MNIST data\n",
    "\n",
    "- `__init__`: stores MNIST filepath, data transformation and filtered MNIST dataframe\n",
    "- `filter_by_label`: filters for images with the label = [insert [0,9] label]\n",
    "- `__len__`: returns total number of images in the filtered dataset\n",
    "- `__getitem__`: retrieves specific image and its label from the dataset based on the provided index. It normalises pixel values, reshapes the image, applies any specified transformations & returns the processed image and label"
   ]
  },
  {
   "cell_type": "code",
   "execution_count": 4,
   "metadata": {
    "id": "HJ8SAMtyGiMX"
   },
   "outputs": [],
   "source": [
    "class DigitsDataset(Dataset):\n",
    "    \"\"\"Pytorch dataloader for the Optical Recognition of Handwritten Digits Data Set\"\"\"\n",
    "\n",
    "    def __init__(self, filepath, label=0, transform=None):\n",
    "        \"\"\"\n",
    "        Args:\n",
    "            csv_file (string): Path to the csv file with annotations.\n",
    "            label (int [0,9], optional): Filter for MNIST images with said specified label.\n",
    "            transform (callable, optional): Optional transform to be applied\n",
    "                on a sample.\n",
    "            \"\"\"\n",
    "        self.filepath = filepath\n",
    "        self.transform = transform\n",
    "        self.df = self.filter_by_label(label)\n",
    "\n",
    "    def filter_by_label(self, label):\n",
    "        # Use pandas to return a dataframe of only zeros\n",
    "        df = pd.read_csv(self.filepath)\n",
    "        df = df.loc[df.iloc[:, -1] == label]\n",
    "        return df\n",
    "\n",
    "    def __len__(self):\n",
    "        return len(self.df)\n",
    "\n",
    "    def __getitem__(self, idx):\n",
    "        if torch.is_tensor(idx):\n",
    "            idx = idx.tolist()\n",
    "\n",
    "        image = self.df.iloc[idx, :-1] / 16\n",
    "        image = np.array(image)\n",
    "        image = image.astype(np.float32).reshape(8, 8)\n",
    "\n",
    "        if self.transform:\n",
    "            image = self.transform(image)\n",
    "\n",
    "        # Return image and label\n",
    "        return image, 0"
   ]
  },
  {
   "cell_type": "markdown",
   "metadata": {
    "id": "39NfGu8wCsnk"
   },
   "source": [
    "## 1b) create class instance to load in the MNIST data\n",
    "This data is filtered by the label kwarg in the DigitDataset class"
   ]
  },
  {
   "cell_type": "code",
   "execution_count": 5,
   "metadata": {
    "id": "R9DB1blcIQ9F"
   },
   "outputs": [],
   "source": [
    "transform_to_pytorch_tensor = transforms.Compose([transforms.ToTensor()])\n",
    "\n",
    "dataset = DigitsDataset(\n",
    "    filepath = \"MNIST_images.tra\",\n",
    "    transform = transform_to_pytorch_tensor\n",
    ")"
   ]
  },
  {
   "cell_type": "markdown",
   "metadata": {
    "id": "B8zMwPqZBwUG"
   },
   "source": [
    "see what's in our class instance"
   ]
  },
  {
   "cell_type": "code",
   "execution_count": 6,
   "metadata": {
    "colab": {
     "base_uri": "https://localhost:8080/"
    },
    "id": "964z9cFsB2cf",
    "outputId": "2f7d35a1-f5d6-4074-cf84-abf6f4582ab1"
   },
   "outputs": [
    {
     "data": {
      "text/plain": [
       "(tensor([[[0.0000, 0.0000, 0.6250, 1.0000, 0.3750, 0.0000, 0.0000, 0.0000],\n",
       "          [0.0000, 0.4375, 1.0000, 0.5000, 1.0000, 0.3125, 0.0000, 0.0000],\n",
       "          [0.0000, 0.6875, 1.0000, 0.0000, 0.3750, 0.8750, 0.1875, 0.0000],\n",
       "          [0.0000, 0.7500, 0.7500, 0.0000, 0.0000, 0.6875, 0.6875, 0.0000],\n",
       "          [0.0000, 0.7500, 0.7500, 0.0000, 0.0000, 0.5000, 0.7500, 0.0000],\n",
       "          [0.0000, 0.4375, 0.9375, 0.0625, 0.0000, 0.8125, 0.6875, 0.0000],\n",
       "          [0.0000, 0.0000, 1.0000, 0.5000, 0.6250, 0.9375, 0.1875, 0.0000],\n",
       "          [0.0000, 0.0000, 0.6250, 1.0000, 0.9375, 0.1875, 0.0000, 0.0000]]]),\n",
       " 0)"
      ]
     },
     "execution_count": 6,
     "metadata": {},
     "output_type": "execute_result"
    }
   ],
   "source": [
    "dataset[0]"
   ]
  },
  {
   "cell_type": "markdown",
   "metadata": {
    "id": "SAR0HLfTGHNF"
   },
   "source": [
    "in the above output we can see the feature map and the label"
   ]
  },
  {
   "cell_type": "markdown",
   "metadata": {
    "id": "Lsd2Z3kUDMY3"
   },
   "source": [
    "display the first 8 images in the dataset class instance"
   ]
  },
  {
   "cell_type": "code",
   "execution_count": 7,
   "metadata": {
    "colab": {
     "base_uri": "https://localhost:8080/",
     "height": 102
    },
    "id": "DD3SLOH_DLmM",
    "outputId": "a35ceabf-f375-4467-c7af-c620f3e6606c"
   },
   "outputs": [
    {
     "data": {
      "image/png": "[encoded data removed]",
      "text/plain": [
       "<Figure size 800x200 with 8 Axes>"
      ]
     },
     "metadata": {},
     "output_type": "display_data"
    }
   ],
   "source": [
    "IMAGE_SIZE = 8\n",
    "reshaped_image_shape = (IMAGE_SIZE, IMAGE_SIZE)\n",
    "\n",
    "plt.figure(figsize=(8,2))\n",
    "\n",
    "for i in range(8):\n",
    "    image = dataset[i][0].reshape(reshaped_image_shape)\n",
    "    plt.subplot(1, 8, i+1)\n",
    "    plt.axis('off')\n",
    "    plt.imshow(image.numpy(), cmap='gray')\n",
    "\n",
    "plt.show()"
   ]
  },
  {
   "cell_type": "markdown",
   "metadata": {
    "id": "UUUOK8zaHKZe"
   },
   "source": [
    "to change the digits printed, change the label kwarg in the DigitDataset class"
   ]
  },
  {
   "cell_type": "markdown",
   "metadata": {
    "id": "51EJy9vUGQxK"
   },
   "source": [
    "## 1c) create data loader object\n",
    "\n",
    "dataloaders efficiently load date in batches during training"
   ]
  },
  {
   "cell_type": "code",
   "execution_count": 8,
   "metadata": {
    "id": "oG-T9naRCdoP"
   },
   "outputs": [],
   "source": [
    "BATCH_SIZE = 1\n",
    "\n",
    "dataloader = torch.utils.data.DataLoader(\n",
    "    dataset,\n",
    "    batch_size = BATCH_SIZE,\n",
    "    shuffle = True,\n",
    "    drop_last = True\n",
    ")"
   ]
  },
  {
   "cell_type": "code",
   "execution_count": 9,
   "metadata": {},
   "outputs": [
    {
     "name": "stdout",
     "output_type": "stream",
     "text": [
      "there are 375 images in the dataloader\n"
     ]
    }
   ],
   "source": [
    "print(f'there are {len(dataloader)} images in the dataloader')"
   ]
  },
  {
   "cell_type": "markdown",
   "metadata": {
    "id": "3o5ceqNUG8tr"
   },
   "source": [
    "# 2) Model Building\n",
    "\n",
    "a) Build class for the classical discriminator\n",
    "\n",
    "b) Building the quantum generator\n",
    "- i) define the quantum variables\n",
    "- ii) define the quantum device\n",
    "- iii) define the qunatum circuit\n",
    "- iv) define the partial measurement process\n",
    "- v) create quantum generator class to use during training"
   ]
  },
  {
   "cell_type": "markdown",
   "metadata": {
    "id": "lRW_ZMRMHyhO"
   },
   "source": [
    "## 2a) Build class for the classical discriminator\n",
    "\n",
    "- fully connected NN with two hidden layers\n",
    "- sigmoid output => probability of an input being classified as real"
   ]
  },
  {
   "cell_type": "code",
   "execution_count": 10,
   "metadata": {
    "id": "YKMfcs35J3wi"
   },
   "outputs": [],
   "source": [
    "class Discriminator(nn.Module):\n",
    "    \"\"\"Fully connected classical discriminator\"\"\"\n",
    "\n",
    "    def __init__(self):\n",
    "        super().__init__() # calls the constructer of the parent class (nn.Module)\n",
    "\n",
    "        self.model = nn.Sequential(\n",
    "            # Inputs to first hidden layer (num_input_features -> 64)\n",
    "            nn.Linear(IMAGE_SIZE * IMAGE_SIZE, 64),\n",
    "            nn.ReLU(),\n",
    "            # First hidden layer (64 -> 16)\n",
    "            nn.Linear(64, 16),\n",
    "            nn.ReLU(),\n",
    "            # Second hidden layer (16 -> output)\n",
    "            nn.Linear(16, 1),\n",
    "            nn.Sigmoid(),\n",
    "        )\n",
    "\n",
    "    def forward(self, x):\n",
    "        return self.model(x)"
   ]
  },
  {
   "cell_type": "markdown",
   "metadata": {
    "id": "tGFyFTxJKUUF"
   },
   "source": [
    "## 2b) building the quantum generator\n",
    "\n",
    "Quantum generator consists of `n_generators` sub-generators, each comprised of `n_qubits` qubits\n",
    "\n",
    "Sub-generator circuit architecture:\n",
    "\n",
    "<img src=\"https://pennylane.ai/_images/qcircuit.jpeg\" width=\"500\">\n",
    "\n",
    "---\n",
    "\n",
    "i) **state embedding**: a latent vector, $z \\in \\mathbb{R}^N$, is sampled from a uniform distn in the interval $[0, \\pi/2)$ and sent to all sub-generators\n",
    "\n",
    "$z$ --> $|z\\rangle$ (state embedding) by applying the RY gates. Each element of z determines the rotation angle of the RY gate.\n",
    "\n",
    "---\n",
    "\n",
    "ii) **parameterised layers**: a set of parameterised RY gates apply LINEAR (because they're unitary) TRANSFORMATIONS to the quantum state, followed by control Z gates (to introduce entanglement). This layer is repeated `q_depth` times.\n",
    "\n",
    "---\n",
    "\n",
    "iii) **Non-linear transform**: For non-simple generative tasks we need a non-linearity.\n",
    "\n",
    "Ancillary qubits and partial measurements are used to introduce NON-LINEARITY.\n",
    "\n",
    "Partial measurement: measure ONLY the ancillary qubits. This collapses them into classical values. We don't care about those values though so just discard them.\n",
    "\n",
    "The act of measuring the ancillary qubits and collapsing them to classical values forces a non-linear transformation on the remaining qubits. We then measure these remaining qubits to obtain sub-generator output $\\boldsymbol{g^{(i)}}$, the output for a given patch of pixels. Normalisation, causes the sum of all its elements to sum to 1\n",
    "\n",
    "---\n",
    "\n",
    "iv) **post processing**: all the elements summing to one makes it difficult to map them to pixel intensities\n",
    "\n",
    "$\\tilde{x}(i) = \\frac{g(i)}{\\max_k g(i)_k}$\n",
    "\n",
    "this solves the issue by scaling it so the largest values becomes 1 and all other values scale proportionally\n",
    "\n",
    "---"
   ]
  },
  {
   "cell_type": "markdown",
   "metadata": {
    "id": "LdjmV6ldb7In"
   },
   "source": [
    "### 2b) i) define quantum variables - as per the diagram in the above markdown"
   ]
  },
  {
   "cell_type": "markdown",
   "metadata": {
    "id": "V5saS53R9s2G"
   },
   "source": [
    "potentially add grid search for these hyperparams"
   ]
  },
  {
   "cell_type": "code",
   "execution_count": 11,
   "metadata": {
    "id": "J569xl1mJ3yt"
   },
   "outputs": [],
   "source": [
    "n_qubits = 5\n",
    "n_a_qubits = 1\n",
    "q_depth = 4\n",
    "n_generators = 4"
   ]
  },
  {
   "cell_type": "markdown",
   "metadata": {
    "id": "0CBCslgkcrcX"
   },
   "source": [
    "### 2b) ii) define the quantum device"
   ]
  },
  {
   "cell_type": "code",
   "execution_count": 12,
   "metadata": {
    "colab": {
     "base_uri": "https://localhost:8080/"
    },
    "id": "kum6J7AnJ304",
    "outputId": "3d0ca499-8131-483c-a632-9de3d8276f27"
   },
   "outputs": [
    {
     "data": {
      "text/plain": [
       "device(type='cuda', index=0)"
      ]
     },
     "execution_count": 12,
     "metadata": {},
     "output_type": "execute_result"
    }
   ],
   "source": [
    "dev = qml.device(\"lightning.qubit\", wires=n_qubits)\n",
    "\n",
    "# Enable CUDA device if available\n",
    "device = torch.device(\"cuda:0\" if torch.cuda.is_available() else \"cpu\")\n",
    "device"
   ]
  },
  {
   "cell_type": "markdown",
   "metadata": {
    "id": "r4nvaFV7dl6O"
   },
   "source": [
    "### 2b) iii) define the quantum circuit"
   ]
  },
  {
   "cell_type": "code",
   "execution_count": 13,
   "metadata": {
    "id": "ikXIuHasJ32z"
   },
   "outputs": [],
   "source": [
    "@qml.qnode(dev, diff_method=\"parameter-shift\") # recall the parameter shift differentiation method from lectures, differentiation needed for backprop\n",
    "def quantum_circuit(noise, weights):\n",
    "\n",
    "    weights = weights.reshape(q_depth, n_qubits)\n",
    "\n",
    "    # State embedding\n",
    "    for i in range(n_qubits):\n",
    "        qml.RY(noise[i], wires=i)\n",
    "\n",
    "    # Repeated layer\n",
    "    for i in range(q_depth):\n",
    "        # Parameterised layer\n",
    "        for y in range(n_qubits):\n",
    "            qml.RY(weights[i][y], wires=y)\n",
    "\n",
    "        # Control Z gates\n",
    "        for y in range(n_qubits - 1):\n",
    "            qml.CZ(wires=[y, y + 1])\n",
    "\n",
    "    return qml.probs(wires=list(range(n_qubits)))"
   ]
  },
  {
   "cell_type": "markdown",
   "metadata": {
    "id": "ti2hLBDVdxxF"
   },
   "source": [
    "### 2b) iv) define the partial measurement process"
   ]
  },
  {
   "cell_type": "code",
   "execution_count": 14,
   "metadata": {
    "id": "PjK8QVbrdxMV"
   },
   "outputs": [],
   "source": [
    "def partial_measure(noise, weights):\n",
    "    # Non-linear Transform\n",
    "    probs = quantum_circuit(noise, weights)\n",
    "    probsgiven0 = probs[: (2 ** (n_qubits - n_a_qubits))]\n",
    "    probsgiven0 /= torch.sum(probs)\n",
    "\n",
    "    # Post-Processing\n",
    "    probsgiven = probsgiven0 / torch.max(probsgiven0)\n",
    "    return probsgiven"
   ]
  },
  {
   "cell_type": "markdown",
   "metadata": {
    "id": "claNHS8qeeT3"
   },
   "source": [
    "### 2b) v) create a quantum generator class to use during training\n",
    "\n",
    "- `__init__`: initialises the quantum generator, holds container for the learnable weights that will updated during training (`self.q_params`)\n",
    "- `forward`: iterates over `self.q_params` list which contains the paramters for each sub-generator used to generate the output patches, the patches are concatenated together to form a full image"
   ]
  },
  {
   "cell_type": "code",
   "execution_count": 15,
   "metadata": {
    "id": "KNN-JD7nJ342"
   },
   "outputs": [],
   "source": [
    "class PatchQuantumGenerator(nn.Module):\n",
    "    \"\"\"Quantum generator class for the patch method\"\"\"\n",
    "\n",
    "    def __init__(self, n_generators, q_delta=1):\n",
    "        \"\"\"\n",
    "        Args:\n",
    "            n_generators (int): Number of sub-generators to be used in the patch method.\n",
    "            q_delta (float, optional): Spread of the random distribution for parameter initialisation.\n",
    "        \"\"\"\n",
    "\n",
    "        super().__init__()\n",
    "\n",
    "        self.q_params = nn.ParameterList(\n",
    "            [\n",
    "                nn.Parameter(q_delta * torch.rand(q_depth * n_qubits), requires_grad=True)\n",
    "                for _ in range(n_generators)\n",
    "            ]\n",
    "        )\n",
    "        self.n_generators = n_generators\n",
    "\n",
    "    def forward(self, input_batch):\n",
    "        # Initialise empty pytorch Tensor to store the generated images - x.size(0) is the batch size.\n",
    "        images = torch.Tensor(input_batch.size(0), 0).to(device)\n",
    "\n",
    "        # Iterate over all sub-generators\n",
    "        for params in self.q_params:\n",
    "\n",
    "            # Create a Tensor to 'catch' a batch of the patches from a single sub-generator\n",
    "            PATCH_SIZE = 2 ** (n_qubits - n_a_qubits)\n",
    "            patches = torch.Tensor(0, PATCH_SIZE).to(device) # initialise empty pytorch tensor to store the generated patches\n",
    "            for elem in input_batch:\n",
    "                q_out = partial_measure(elem, params).float().unsqueeze(0)\n",
    "                patches = torch.cat((patches, q_out))\n",
    "\n",
    "            # Each batch of patches is concatenated with each other to create a batch of images\n",
    "            images = torch.cat((images, patches), 1)\n",
    "\n",
    "        return images"
   ]
  },
  {
   "cell_type": "markdown",
   "metadata": {
    "id": "6aWLSLqMekl4"
   },
   "source": [
    "# 3) Training + Evaluation\n",
    "\n",
    "a) define learning rates and number of training iterations\n",
    "\n",
    "b) execute training process\n",
    "\n",
    "c) evaluation: plot how the generated images evolved throughout training"
   ]
  },
  {
   "cell_type": "markdown",
   "metadata": {
    "id": "wxquusP8erje"
   },
   "source": [
    "## 3a) define learning rates and number of training iterations"
   ]
  },
  {
   "cell_type": "code",
   "execution_count": 16,
   "metadata": {
    "id": "WYu1hzGVJ367"
   },
   "outputs": [],
   "source": [
    "lrG = 0.3  # Learning rate for the generator\n",
    "lrD = 0.01  # Learning rate for the discriminator\n",
    "num_iter = 500  # Number of training iterations"
   ]
  },
  {
   "cell_type": "code",
   "execution_count": 17,
   "metadata": {},
   "outputs": [],
   "source": [
    "import numpy as np\n",
    "from scipy.linalg import sqrtm\n",
    "\n",
    "def calculate_distribution_similarity(real_images, fake_images):\n",
    "    \"\"\"\n",
    "    Calculate a distribution similarity score between real and generated images.\n",
    "    Lower score means distributions are more similar.\n",
    "    \n",
    "    Args:\n",
    "        real_images: Tensor of shape [batch_size, 1, height, width]\n",
    "        fake_images: Tensor of shape [batch_size, 1, height, width]\n",
    "    \n",
    "    Returns:\n",
    "        similarity_score (float)\n",
    "    \"\"\"\n",
    "    # Flatten images to feature vectors\n",
    "    real_features = real_images.view(real_images.size(0), -1).cpu().detach().numpy()\n",
    "    fake_features = fake_images.view(fake_images.size(0), -1).cpu().detach().numpy()\n",
    "    \n",
    "    # Calculate mean vectors\n",
    "    mu1 = real_features.mean(axis=0)\n",
    "    mu2 = fake_features.mean(axis=0)\n",
    "    \n",
    "    # Calculate squared difference between means\n",
    "    mean_diff = np.sum((mu1 - mu2) ** 2.0)\n",
    "    \n",
    "    # Handle covariance calculation (need at least 2 samples for proper covariance)\n",
    "    if real_features.shape[0] > 1 and fake_features.shape[0] > 1:\n",
    "        # Calculate covariance matrices\n",
    "        sigma1 = np.cov(real_features, rowvar=False)\n",
    "        sigma2 = np.cov(fake_features, rowvar=False)\n",
    "        \n",
    "        # Add small epsilon to diagonal for numerical stability\n",
    "        eps = 1e-6\n",
    "        sigma1 = sigma1 + np.eye(sigma1.shape[0]) * eps\n",
    "        sigma2 = sigma2 + np.eye(sigma2.shape[0]) * eps\n",
    "        \n",
    "        # Calculate matrix sqrt product\n",
    "        try:\n",
    "            covmean = sqrtm(sigma1.dot(sigma2))\n",
    "            if np.iscomplexobj(covmean):\n",
    "                covmean = covmean.real\n",
    "            \n",
    "            # Complete similarity score with covariance term\n",
    "            similarity_score = mean_diff + np.trace(sigma1 + sigma2 - 2.0 * covmean)\n",
    "        except:\n",
    "            # Fallback if matrix operations fail\n",
    "            similarity_score = mean_diff\n",
    "    else:\n",
    "        # If we don't have enough samples for covariance, just use mean difference\n",
    "        similarity_score = mean_diff\n",
    "    \n",
    "    return similarity_score"
   ]
  },
  {
   "cell_type": "markdown",
   "metadata": {
    "id": "R6RG8MTbfH-k"
   },
   "source": [
    "## 3b) Execute training process"
   ]
  },
  {
   "cell_type": "code",
   "execution_count": 18,
   "metadata": {
    "colab": {
     "base_uri": "https://localhost:8080/"
    },
    "id": "rqb8PyqyJ386",
    "outputId": "3d26fc66-5bc4-4ad2-ed33-fec3b10d8418"
   },
   "outputs": [
    {
     "name": "stdout",
     "output_type": "stream",
     "text": [
      "\n",
      "Starting Epoch 1\n",
      "Iteration: 10, Discriminator Loss: 1.350, Generator Loss: 0.635, Similarity Score: 15.0907\n",
      "Iteration: 20, Discriminator Loss: 1.384, Generator Loss: 0.605, Similarity Score: 15.0048\n",
      "Iteration: 30, Discriminator Loss: 1.346, Generator Loss: 0.628, Similarity Score: 14.6413\n",
      "Iteration: 40, Discriminator Loss: 1.355, Generator Loss: 0.610, Similarity Score: 13.8944\n",
      "Iteration: 50, Discriminator Loss: 1.319, Generator Loss: 0.642, Similarity Score: 13.7307\n",
      "Iteration: 60, Discriminator Loss: 1.297, Generator Loss: 0.669, Similarity Score: 13.3306\n",
      "Iteration: 70, Discriminator Loss: 1.326, Generator Loss: 0.628, Similarity Score: 12.9501\n",
      "Iteration: 80, Discriminator Loss: 1.310, Generator Loss: 0.659, Similarity Score: 12.2837\n",
      "Iteration: 90, Discriminator Loss: 1.314, Generator Loss: 0.640, Similarity Score: 11.6566\n",
      "Iteration: 100, Discriminator Loss: 1.216, Generator Loss: 0.709, Similarity Score: 11.4162\n",
      "Iteration: 110, Discriminator Loss: 1.220, Generator Loss: 0.671, Similarity Score: 11.0943\n",
      "Iteration: 120, Discriminator Loss: 1.258, Generator Loss: 0.653, Similarity Score: 10.7822\n",
      "Iteration: 130, Discriminator Loss: 1.215, Generator Loss: 0.685, Similarity Score: 10.4748\n",
      "Iteration: 140, Discriminator Loss: 1.134, Generator Loss: 0.708, Similarity Score: 10.0250\n",
      "Iteration: 150, Discriminator Loss: 1.093, Generator Loss: 0.727, Similarity Score: 9.2005\n",
      "Iteration: 160, Discriminator Loss: 1.082, Generator Loss: 0.728, Similarity Score: 8.1686\n",
      "Iteration: 170, Discriminator Loss: 1.105, Generator Loss: 0.767, Similarity Score: 7.6540\n",
      "Iteration: 180, Discriminator Loss: 1.076, Generator Loss: 0.737, Similarity Score: 7.1405\n",
      "Iteration: 190, Discriminator Loss: 1.048, Generator Loss: 0.738, Similarity Score: 7.1955\n",
      "Iteration: 200, Discriminator Loss: 1.127, Generator Loss: 0.659, Similarity Score: 7.1540\n",
      "Iteration: 210, Discriminator Loss: 1.008, Generator Loss: 0.797, Similarity Score: 6.2012\n",
      "Iteration: 220, Discriminator Loss: 1.243, Generator Loss: 0.606, Similarity Score: 6.2116\n",
      "Iteration: 230, Discriminator Loss: 1.028, Generator Loss: 0.712, Similarity Score: 6.3885\n",
      "Iteration: 240, Discriminator Loss: 1.156, Generator Loss: 0.688, Similarity Score: 6.5549\n",
      "Iteration: 250, Discriminator Loss: 1.029, Generator Loss: 0.750, Similarity Score: 6.8923\n",
      "Iteration: 260, Discriminator Loss: 1.010, Generator Loss: 0.733, Similarity Score: 7.1476\n",
      "Iteration: 270, Discriminator Loss: 1.051, Generator Loss: 0.757, Similarity Score: 6.9229\n",
      "Iteration: 280, Discriminator Loss: 1.226, Generator Loss: 0.583, Similarity Score: 6.3693\n",
      "Iteration: 290, Discriminator Loss: 1.280, Generator Loss: 0.564, Similarity Score: 6.7865\n",
      "Iteration: 300, Discriminator Loss: 0.991, Generator Loss: 0.856, Similarity Score: 6.6006\n",
      "Iteration: 310, Discriminator Loss: 0.880, Generator Loss: 0.854, Similarity Score: 6.6998\n",
      "Iteration: 320, Discriminator Loss: 0.774, Generator Loss: 1.009, Similarity Score: 7.6296\n",
      "Iteration: 330, Discriminator Loss: 0.768, Generator Loss: 0.903, Similarity Score: 5.8991\n",
      "Iteration: 340, Discriminator Loss: 0.759, Generator Loss: 0.947, Similarity Score: 5.1594\n",
      "Iteration: 350, Discriminator Loss: 0.963, Generator Loss: 0.791, Similarity Score: 6.0135\n",
      "Iteration: 360, Discriminator Loss: 0.982, Generator Loss: 0.809, Similarity Score: 6.0772\n",
      "Iteration: 370, Discriminator Loss: 0.993, Generator Loss: 0.791, Similarity Score: 5.9219\n",
      "Epoch 1 completed | Avg D Loss: 1.1444 | Avg G Loss: 0.7085 | Similarity Score: 5.9484\n",
      "\n",
      "Starting Epoch 2\n",
      "Iteration: 380, Discriminator Loss: 0.918, Generator Loss: 0.857, Similarity Score: 5.7153\n",
      "Iteration: 390, Discriminator Loss: 0.832, Generator Loss: 1.075, Similarity Score: 6.5659\n",
      "Iteration: 400, Discriminator Loss: 0.838, Generator Loss: 1.029, Similarity Score: 5.3671\n",
      "Iteration: 410, Discriminator Loss: 1.192, Generator Loss: 0.750, Similarity Score: 6.6599\n",
      "Iteration: 420, Discriminator Loss: 1.124, Generator Loss: 0.700, Similarity Score: 7.3896\n",
      "Iteration: 430, Discriminator Loss: 0.751, Generator Loss: 1.007, Similarity Score: 5.8848\n",
      "Iteration: 440, Discriminator Loss: 1.220, Generator Loss: 0.710, Similarity Score: 6.6498\n",
      "Iteration: 450, Discriminator Loss: 0.757, Generator Loss: 0.920, Similarity Score: 5.1180\n",
      "Iteration: 460, Discriminator Loss: 0.433, Generator Loss: 1.582, Similarity Score: 5.2784\n",
      "Iteration: 470, Discriminator Loss: 0.710, Generator Loss: 1.057, Similarity Score: 4.7235\n",
      "Iteration: 480, Discriminator Loss: 0.856, Generator Loss: 0.989, Similarity Score: 5.6884\n",
      "Iteration: 490, Discriminator Loss: 0.573, Generator Loss: 1.289, Similarity Score: 5.5596\n",
      "Iteration: 500, Discriminator Loss: 0.522, Generator Loss: 1.376, Similarity Score: 7.0342\n",
      "Epoch 2 completed | Avg D Loss: 0.2699 | Avg G Loss: 0.3420 | Similarity Score: 7.0342\n",
      "\n",
      "Training completed after 2 epochs and 500 iterations.\n"
     ]
    }
   ],
   "source": [
    "discriminator = Discriminator().to(device)\n",
    "generator = PatchQuantumGenerator(n_generators).to(device)\n",
    "\n",
    "# Binary cross entropy\n",
    "criterion = nn.BCELoss()\n",
    "\n",
    "# Optimisers\n",
    "optD = optim.SGD(discriminator.parameters(), lr=lrD)\n",
    "optG = optim.SGD(generator.parameters(), lr=lrG)\n",
    "\n",
    "real_labels = torch.full((BATCH_SIZE,), 1.0, dtype=torch.float, device=device)\n",
    "fake_labels = torch.full((BATCH_SIZE,), 0.0, dtype=torch.float, device=device)\n",
    "\n",
    "# Fixed noise allows us to visually track the generated images throughout training\n",
    "fixed_noise = torch.rand(8, n_qubits, device=device) * math.pi / 2\n",
    "\n",
    "# Counters\n",
    "counter = 0\n",
    "epoch = 0\n",
    "\n",
    "# For plotting\n",
    "results = [] # images (pytorch tensors of pixel values)\n",
    "discriminator_loss = []\n",
    "generator_loss = []\n",
    "similarity_scores = []  # For tracking our distribution similarity metric\n",
    "\n",
    "# Cache real images batch for similarity calculation to avoid reloading for each iteration\n",
    "real_batch = []\n",
    "for j in range(min(10, len(dataset))):\n",
    "    real_batch.append(dataset[j][0])\n",
    "real_images_cache = torch.stack(real_batch).view(-1, 1, IMAGE_SIZE, IMAGE_SIZE)\n",
    "\n",
    "# Total number of images in dataset\n",
    "total_images = len(dataloader)\n",
    "\n",
    "while True:\n",
    "    epoch += 1\n",
    "    epoch_d_loss = 0.0\n",
    "    epoch_g_loss = 0.0\n",
    "    \n",
    "    print(f\"\\nStarting Epoch {epoch}\")\n",
    "    \n",
    "    for i, (data, _) in enumerate(dataloader):\n",
    "        # Data for training the discriminator\n",
    "        data = data.reshape(-1, IMAGE_SIZE * IMAGE_SIZE)\n",
    "        real_data = data.to(device)\n",
    "\n",
    "        # Noise following a uniform distribution in range [0,pi/2)\n",
    "        noise = torch.rand(BATCH_SIZE, n_qubits, device=device) * math.pi / 2\n",
    "        fake_data = generator(noise)\n",
    "\n",
    "        # Training the discriminator\n",
    "        discriminator.zero_grad()\n",
    "        outD_real = discriminator(real_data).view(-1)\n",
    "        outD_fake = discriminator(fake_data.detach()).view(-1)\n",
    "\n",
    "        errD_real = criterion(outD_real, real_labels) # discriminator loss = errD\n",
    "        errD_fake = criterion(outD_fake, fake_labels) # generator loss = errG\n",
    "        # Propagate gradients\n",
    "        errD_real.backward()\n",
    "        errD_fake.backward()\n",
    "\n",
    "        errD = errD_real + errD_fake\n",
    "        optD.step()\n",
    "\n",
    "        # Training the generator\n",
    "        generator.zero_grad()\n",
    "        outD_fake = discriminator(fake_data).view(-1)\n",
    "        errG = criterion(outD_fake, real_labels)\n",
    "        errG.backward()\n",
    "        optG.step()\n",
    "\n",
    "        # Store loss values\n",
    "        discriminator_loss.append(errD.item())\n",
    "        generator_loss.append(errG.item())\n",
    "        \n",
    "        # Calculate and store similarity score at every iteration\n",
    "        with torch.no_grad():\n",
    "            # Use fixed noise for consistent comparison across iterations\n",
    "            test_images = generator(fixed_noise).view(8, 1, IMAGE_SIZE, IMAGE_SIZE).cpu().detach()\n",
    "            \n",
    "            # Calculate similarity\n",
    "            sim_score = calculate_distribution_similarity(real_images_cache, test_images)\n",
    "            similarity_scores.append(sim_score)\n",
    "        \n",
    "        # Add to epoch average\n",
    "        epoch_d_loss += errD.item()\n",
    "        epoch_g_loss += errG.item()\n",
    "\n",
    "        counter += 1\n",
    "\n",
    "        # Show loss values\n",
    "        if counter % 10 == 0:\n",
    "            print(f'Iteration: {counter}, Discriminator Loss: {errD:0.3f}, Generator Loss: {errG:0.3f}, Similarity Score: {sim_score:.4f}')\n",
    "            \n",
    "            # Save images every 50 iterations\n",
    "            if counter % 50 == 0:\n",
    "                results.append(test_images)\n",
    "\n",
    "        if counter == num_iter:\n",
    "            break\n",
    "    \n",
    "    # Calculate average losses for this epoch\n",
    "    avg_d_loss = epoch_d_loss / total_images\n",
    "    avg_g_loss = epoch_g_loss / total_images\n",
    "    \n",
    "    # Calculate final similarity score for the epoch (using the most recent value)\n",
    "    final_sim_score = similarity_scores[-1]\n",
    "    \n",
    "    print(f\"Epoch {epoch} completed | Avg D Loss: {avg_d_loss:.4f} | Avg G Loss: {avg_g_loss:.4f} | Similarity Score: {final_sim_score:.4f}\")\n",
    "    \n",
    "    if counter == num_iter:\n",
    "        break\n",
    "\n",
    "print(f\"\\nTraining completed after {epoch} epochs and {counter} iterations.\")\n",
    "\n",
    "# Now you can plot your metrics and generate final images"
   ]
  },
  {
   "cell_type": "markdown",
   "metadata": {
    "id": "HTVIp1tzfc5S"
   },
   "source": [
    "## 3c) plot how the loss and generated images evolved throughout training"
   ]
  },
  {
   "cell_type": "code",
   "execution_count": 19,
   "metadata": {},
   "outputs": [
    {
     "name": "stdout",
     "output_type": "stream",
     "text": [
      "<class 'list'>\n",
      "500\n",
      "[15.232905056597183, 15.226596553993726, 15.213735250503321, 15.189749153542099, 15.1371983573644]\n"
     ]
    }
   ],
   "source": [
    "print(type(similarity_scores))\n",
    "print(len(similarity_scores))\n",
    "print(similarity_scores[:5])\n",
    "np.save(\"pshift_similarity_scores.npy\", similarity_scores)"
   ]
  },
  {
   "cell_type": "code",
   "execution_count": 20,
   "metadata": {},
   "outputs": [
    {
     "data": {
      "text/plain": [
       "1.4115478992462158"
      ]
     },
     "execution_count": 20,
     "metadata": {},
     "output_type": "execute_result"
    }
   ],
   "source": [
    "discriminator_loss[0]"
   ]
  },
  {
   "cell_type": "code",
   "execution_count": 21,
   "metadata": {},
   "outputs": [
    {
     "data": {
      "image/png": "[encoded data removed]",
      "text/plain": [
       "<Figure size 500x300 with 1 Axes>"
      ]
     },
     "metadata": {},
     "output_type": "display_data"
    },
    {
     "data": {
      "image/png": "[encoded data removed]",
      "text/plain": [
       "<Figure size 500x300 with 1 Axes>"
      ]
     },
     "metadata": {},
     "output_type": "display_data"
    },
    {
     "data": {
      "image/png": "[encoded data removed]",
      "text/plain": [
       "<Figure size 500x300 with 1 Axes>"
      ]
     },
     "metadata": {},
     "output_type": "display_data"
    }
   ],
   "source": [
    "def rolling_average(arr, ROLLING_WINDOW_SIZE):\n",
    "    np_arr = np.array(arr)\n",
    "    cumsum = np_arr.cumsum()\n",
    "    cumsum[ROLLING_WINDOW_SIZE:] -= cumsum[:-ROLLING_WINDOW_SIZE]\n",
    "    return np.array((cumsum[ROLLING_WINDOW_SIZE - 1:] / ROLLING_WINDOW_SIZE))\n",
    "\n",
    "# def plot_loss(loss_tensors, ylabel):\n",
    "#     loss = np.array([l.item() for l in loss_tensors])\n",
    "#     loss = rolling_average(loss, 20)\n",
    "#     fig = plt.figure()\n",
    "#     ax = fig.gca()\n",
    "#     ax.plot(loss)\n",
    "#     ax.set_ylabel(ylabel)\n",
    "#     ax.set_xlabel('iteration')\n",
    "\n",
    "def plot_metric(metric, ylabel):\n",
    "    metric_roll_avg = rolling_average(metric, 20)\n",
    "    # metric_roll_avg = metric # No rolling average for similarity scores\n",
    "    fig = plt.figure(figsize=(5, 3))\n",
    "    ax = fig.gca()\n",
    "    ax.plot(metric_roll_avg)\n",
    "    ax.set_ylabel(ylabel)\n",
    "    ax.set_xlabel('iteration')\n",
    "\n",
    "plot_metric(discriminator_loss, 'discriminator loss')\n",
    "plot_metric(generator_loss, 'generator loss')\n",
    "plot_metric(similarity_scores, 'similarity score')"
   ]
  },
  {
   "cell_type": "code",
   "execution_count": 22,
   "metadata": {
    "colab": {
     "base_uri": "https://localhost:8080/",
     "height": 417
    },
    "id": "XmT9z1RhJ3-9",
    "outputId": "4caee03c-3cfc-469c-98d7-a70cab728aa3"
   },
   "outputs": [
    {
     "data": {
      "image/png": "[encoded data removed]",
      "text/plain": [
       "<Figure size 1000x500 with 80 Axes>"
      ]
     },
     "metadata": {},
     "output_type": "display_data"
    }
   ],
   "source": [
    "fig = plt.figure(figsize=(10, 5))\n",
    "outer = gridspec.GridSpec(5, 2, wspace=0.1)\n",
    "\n",
    "for i, images in enumerate(results):\n",
    "    inner = gridspec.GridSpecFromSubplotSpec(1, images.size(0),\n",
    "                    subplot_spec=outer[i])\n",
    "\n",
    "    images = torch.squeeze(images, dim=1)\n",
    "    for j, im in enumerate(images):\n",
    "\n",
    "        ax = plt.Subplot(fig, inner[j])\n",
    "        ax.imshow(im.numpy(), cmap=\"gray\")\n",
    "        ax.set_xticks([])\n",
    "        ax.set_yticks([])\n",
    "        if j==0:\n",
    "            ax.set_title(f'Iteration {50+i*50}', loc='left')\n",
    "        fig.add_subplot(ax)\n",
    "\n",
    "plt.show()\n",
    "for i, img in enumerate(images[-8:]):\n",
    "    plt.imshow(img)\n",
    "    plt.axis('off')  # Optional: remove axes\n",
    "    plt.savefig(f'pshift_image_{i}.png', bbox_inches='tight', pad_inches=0)\n",
    "    plt.close()"
   ]
  },
  {
   "cell_type": "code",
   "execution_count": null,
   "metadata": {
    "id": "nvSSPSkkJ4BA"
   },
   "outputs": [],
   "source": []
  }
 ],
 "metadata": {
  "colab": {
   "include_colab_link": true,
   "provenance": []
  },
  "kernelspec": {
   "display_name": "qgan_env",
   "language": "python",
   "name": "python3"
  },
  "language_info": {
   "codemirror_mode": {
    "name": "ipython",
    "version": 3
   },
   "file_extension": ".py",
   "mimetype": "text/x-python",
   "name": "python",
   "nbconvert_exporter": "python",
   "pygments_lexer": "ipython3",
   "version": "3.9.21"
  }
 },
 "nbformat": 4,
 "nbformat_minor": 4
}
