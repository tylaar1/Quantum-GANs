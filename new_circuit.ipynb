{
  "cells": [
    {
      "cell_type": "markdown",
      "metadata": {
        "id": "view-in-github",
        "colab_type": "text"
      },
      "source": [
        "<a href=\"https://colab.research.google.com/github/tylaar1/Quantum-GANs/blob/main/new_circuit.ipynb\" target=\"_parent\"><img src=\"https://colab.research.google.com/assets/colab-badge.svg\" alt=\"Open In Colab\"/></a>"
      ]
    },
    {
      "cell_type": "markdown",
      "metadata": {
        "id": "VgxWWTb88ERn"
      },
      "source": [
        "# REFERENCES\n",
        "\n",
        "1. [Experimental Quantum Generative Adversarial Networks for Image Generation](https://arxiv.org/abs/2010.06201)\n",
        "2. [FID metric](https://machinelearningmastery.com/how-to-implement-the-frechet-inception-distance-fid-from-scratch/)"
      ]
    },
    {
      "cell_type": "markdown",
      "metadata": {
        "id": "2OLTpKi4-Qoa"
      },
      "source": [
        "# POTENTIAL ADD-ONS\n",
        "\n",
        "- code quantitative evaluation metrics [ref2]\n",
        "- grid search for hyperparam optimisation\n",
        "- quantum discriminator [ref 1]"
      ]
    },
    {
      "cell_type": "markdown",
      "metadata": {
        "id": "Vk1aXXB97Amb"
      },
      "source": [
        "# Imports + Preamble"
      ]
    },
    {
      "cell_type": "code",
      "execution_count": 10,
      "metadata": {
        "colab": {
          "base_uri": "https://localhost:8080/"
        },
        "collapsed": true,
        "id": "c5d3UZ7FGU8w",
        "outputId": "47fe492f-cb2e-4008-f9ab-5a63bb4b75de"
      },
      "outputs": [
        {
          "output_type": "stream",
          "name": "stdout",
          "text": [
            "Requirement already satisfied: pennylane in /usr/local/lib/python3.11/dist-packages (0.41.0)\n",
            "Requirement already satisfied: numpy in /usr/local/lib/python3.11/dist-packages (from pennylane) (2.0.2)\n",
            "Requirement already satisfied: scipy in /usr/local/lib/python3.11/dist-packages (from pennylane) (1.14.1)\n",
            "Requirement already satisfied: networkx in /usr/local/lib/python3.11/dist-packages (from pennylane) (3.4.2)\n",
            "Requirement already satisfied: rustworkx>=0.14.0 in /usr/local/lib/python3.11/dist-packages (from pennylane) (0.16.0)\n",
            "Requirement already satisfied: autograd in /usr/local/lib/python3.11/dist-packages (from pennylane) (1.7.0)\n",
            "Requirement already satisfied: tomlkit in /usr/local/lib/python3.11/dist-packages (from pennylane) (0.13.2)\n",
            "Requirement already satisfied: appdirs in /usr/local/lib/python3.11/dist-packages (from pennylane) (1.4.4)\n",
            "Requirement already satisfied: autoray>=0.6.11 in /usr/local/lib/python3.11/dist-packages (from pennylane) (0.7.1)\n",
            "Requirement already satisfied: cachetools in /usr/local/lib/python3.11/dist-packages (from pennylane) (5.5.2)\n",
            "Requirement already satisfied: pennylane-lightning>=0.41 in /usr/local/lib/python3.11/dist-packages (from pennylane) (0.41.0)\n",
            "Requirement already satisfied: requests in /usr/local/lib/python3.11/dist-packages (from pennylane) (2.32.3)\n",
            "Requirement already satisfied: typing-extensions in /usr/local/lib/python3.11/dist-packages (from pennylane) (4.13.2)\n",
            "Requirement already satisfied: packaging in /usr/local/lib/python3.11/dist-packages (from pennylane) (24.2)\n",
            "Requirement already satisfied: diastatic-malt in /usr/local/lib/python3.11/dist-packages (from pennylane) (2.15.2)\n",
            "Requirement already satisfied: scipy-openblas32>=0.3.26 in /usr/local/lib/python3.11/dist-packages (from pennylane-lightning>=0.41->pennylane) (0.3.29.0.0)\n",
            "Requirement already satisfied: astunparse in /usr/local/lib/python3.11/dist-packages (from diastatic-malt->pennylane) (1.6.3)\n",
            "Requirement already satisfied: gast in /usr/local/lib/python3.11/dist-packages (from diastatic-malt->pennylane) (0.6.0)\n",
            "Requirement already satisfied: termcolor in /usr/local/lib/python3.11/dist-packages (from diastatic-malt->pennylane) (3.0.1)\n",
            "Requirement already satisfied: charset-normalizer<4,>=2 in /usr/local/lib/python3.11/dist-packages (from requests->pennylane) (3.4.1)\n",
            "Requirement already satisfied: idna<4,>=2.5 in /usr/local/lib/python3.11/dist-packages (from requests->pennylane) (3.10)\n",
            "Requirement already satisfied: urllib3<3,>=1.21.1 in /usr/local/lib/python3.11/dist-packages (from requests->pennylane) (2.3.0)\n",
            "Requirement already satisfied: certifi>=2017.4.17 in /usr/local/lib/python3.11/dist-packages (from requests->pennylane) (2025.1.31)\n",
            "Requirement already satisfied: wheel<1.0,>=0.23.0 in /usr/local/lib/python3.11/dist-packages (from astunparse->diastatic-malt->pennylane) (0.45.1)\n",
            "Requirement already satisfied: six<2.0,>=1.6.1 in /usr/local/lib/python3.11/dist-packages (from astunparse->diastatic-malt->pennylane) (1.17.0)\n"
          ]
        }
      ],
      "source": [
        "import math\n",
        "import random\n",
        "import numpy as np\n",
        "import pandas as pd\n",
        "import matplotlib.pyplot as plt\n",
        "import matplotlib.gridspec as gridspec\n",
        "\n",
        "!pip install pennylane\n",
        "import pennylane as qml\n",
        "\n",
        "import torch\n",
        "import torch.nn as nn\n",
        "import torch.optim as optim\n",
        "import torchvision\n",
        "import torchvision.transforms as transforms\n",
        "from torch.utils.data import Dataset, DataLoader\n",
        "\n",
        "from scipy.linalg import sqrtm"
      ]
    },
    {
      "cell_type": "code",
      "execution_count": 11,
      "metadata": {
        "colab": {
          "base_uri": "https://localhost:8080/"
        },
        "id": "cxMcVhHZJqQN",
        "outputId": "9539eedd-c152-4362-eb13-4940e57b69ce"
      },
      "outputs": [
        {
          "output_type": "stream",
          "name": "stdout",
          "text": [
            "Drive already mounted at /content/drive; to attempt to forcibly remount, call drive.mount(\"/content/drive\", force_remount=True).\n"
          ]
        }
      ],
      "source": [
        "from google.colab import drive\n",
        "drive.mount('/content/drive')"
      ]
    },
    {
      "cell_type": "markdown",
      "metadata": {
        "id": "Stf86xUe2ULF"
      },
      "source": [
        "Set the random seed for reproducibility"
      ]
    },
    {
      "cell_type": "code",
      "execution_count": 12,
      "metadata": {
        "id": "KzdGW-v92TeF"
      },
      "outputs": [],
      "source": [
        "seed = 42\n",
        "torch.manual_seed(seed)\n",
        "np.random.seed(seed)\n",
        "random.seed(seed)"
      ]
    },
    {
      "cell_type": "markdown",
      "metadata": {
        "id": "EsZ-epQ52YVO"
      },
      "source": [
        "# 1) Data Loading + Pre-Processing\n",
        "\n",
        "a) Create class that does the loading and pre-processing of the MNIST data\n",
        "\n",
        "b) create class instance to load in the MNIST data\n",
        "\n",
        "c) create data loader object"
      ]
    },
    {
      "cell_type": "markdown",
      "metadata": {
        "id": "AnTmL2PH2uaU"
      },
      "source": [
        "## 1a) Create class that does the loading and pre-processing of the MNIST data\n",
        "\n",
        "- `__init__`: stores MNIST filepath, data transformation and filtered MNIST dataframe\n",
        "- `filter_by_label`: filters for images with the label = [insert [0,9] label]\n",
        "- `__len__`: returns total number of images in the filtered dataset\n",
        "- `__getitem__`: retrieves specific image and its label from the dataset based on the provided index. It normalises pixel values, reshapes the image, applies any specified transformations & returns the processed image and label"
      ]
    },
    {
      "cell_type": "code",
      "execution_count": 13,
      "metadata": {
        "id": "HJ8SAMtyGiMX"
      },
      "outputs": [],
      "source": [
        "class DigitsDataset(Dataset):\n",
        "    \"\"\"Pytorch dataloader for the Optical Recognition of Handwritten Digits Data Set\"\"\"\n",
        "\n",
        "    def __init__(self, csv_file, label=0, transform=None):\n",
        "        \"\"\"\n",
        "        Args:\n",
        "            csv_file (string): Path to the csv file with annotations.\n",
        "            label (int [0,9], optional): Filter for MNIST images with said specified label.\n",
        "            transform (callable, optional): Optional transform to be applied\n",
        "                on a sample.\n",
        "            \"\"\"\n",
        "        self.csv_file = csv_file\n",
        "        self.transform = transform\n",
        "        self.df = self.filter_by_label(label)\n",
        "\n",
        "    def filter_by_label(self, label):\n",
        "        # Use pandas to return a dataframe of only zeros\n",
        "        df = pd.read_csv(self.csv_file)\n",
        "        df = df.loc[df.iloc[:, -1] == label]\n",
        "        return df\n",
        "\n",
        "    def __len__(self):\n",
        "        return len(self.df)\n",
        "\n",
        "    def __getitem__(self, idx):\n",
        "        if torch.is_tensor(idx):\n",
        "            idx = idx.tolist()\n",
        "\n",
        "        image = self.df.iloc[idx, :-1] / 16\n",
        "        image = np.array(image)\n",
        "        image = image.astype(np.float32).reshape(8, 8)\n",
        "\n",
        "        if self.transform:\n",
        "            image = self.transform(image)\n",
        "\n",
        "        # Return image and label\n",
        "        return image, 0"
      ]
    },
    {
      "cell_type": "markdown",
      "metadata": {
        "id": "39NfGu8wCsnk"
      },
      "source": [
        "## 1b) create class instance to load in the MNIST data\n",
        "This data is filtered by the label kwarg in the DigitDataset class"
      ]
    },
    {
      "cell_type": "code",
      "execution_count": 14,
      "metadata": {
        "id": "R9DB1blcIQ9F"
      },
      "outputs": [],
      "source": [
        "transform_to_pytorch_tensor = transforms.Compose([transforms.ToTensor()])\n",
        "\n",
        "dataset = DigitsDataset(\n",
        "    csv_file = \"/content/drive/MyDrive/Quantum_data/optdigits.tra\",\n",
        "    transform = transform_to_pytorch_tensor\n",
        ")"
      ]
    },
    {
      "source": [
        "import os\n",
        "os.listdir()"
      ],
      "cell_type": "code",
      "metadata": {
        "id": "BJJDGkIbKXkT",
        "outputId": "d235d10e-4a1d-422f-bd76-6b882cbc6191",
        "colab": {
          "base_uri": "https://localhost:8080/"
        }
      },
      "execution_count": 15,
      "outputs": [
        {
          "output_type": "execute_result",
          "data": {
            "text/plain": [
              "['.config', 'drive', 'sample_data']"
            ]
          },
          "metadata": {},
          "execution_count": 15
        }
      ]
    },
    {
      "source": [
        "'''\n",
        "import os\n",
        "import requests\n",
        "import io\n",
        "\n",
        "# URL of the file in your GitHub repository\n",
        "file_url = \"https://raw.githubusercontent.com/your-username/your-repo-name/main/MNIST_images.tra\"  # Replace with your actual URL\n",
        "\n",
        "# Download the file\n",
        "response = requests.get(file_url)\n",
        "response.raise_for_status()  # Raise an exception for bad responses\n",
        "\n",
        "# Create a file-like object from the response content\n",
        "file_object = io.BytesIO(response.content)\n",
        "\n",
        "# Load the dataset using the file-like object\n",
        "transform_to_pytorch_tensor = transforms.Compose([transforms.ToTensor()])\n",
        "dataset = DigitsDataset(\n",
        "    csv_file=file_object,  # Pass the file-like object to DigitsDataset\n",
        "    transform=transform_to_pytorch_tensor\n",
        ")\n",
        "'''"
      ],
      "cell_type": "code",
      "metadata": {
        "id": "mJfbRVAVPDZO"
      },
      "execution_count": null,
      "outputs": []
    },
    {
      "cell_type": "markdown",
      "metadata": {
        "id": "B8zMwPqZBwUG"
      },
      "source": [
        "see what's in our class instance"
      ]
    },
    {
      "cell_type": "code",
      "execution_count": 16,
      "metadata": {
        "colab": {
          "base_uri": "https://localhost:8080/"
        },
        "id": "964z9cFsB2cf",
        "outputId": "c98ce4c0-0f8b-4daf-d030-bc7bcba08bd6"
      },
      "outputs": [
        {
          "output_type": "execute_result",
          "data": {
            "text/plain": [
              "(tensor([[[0.0000, 0.0000, 0.6250, 1.0000, 0.3750, 0.0000, 0.0000, 0.0000],\n",
              "          [0.0000, 0.4375, 1.0000, 0.5000, 1.0000, 0.3125, 0.0000, 0.0000],\n",
              "          [0.0000, 0.6875, 1.0000, 0.0000, 0.3750, 0.8750, 0.1875, 0.0000],\n",
              "          [0.0000, 0.7500, 0.7500, 0.0000, 0.0000, 0.6875, 0.6875, 0.0000],\n",
              "          [0.0000, 0.7500, 0.7500, 0.0000, 0.0000, 0.5000, 0.7500, 0.0000],\n",
              "          [0.0000, 0.4375, 0.9375, 0.0625, 0.0000, 0.8125, 0.6875, 0.0000],\n",
              "          [0.0000, 0.0000, 1.0000, 0.5000, 0.6250, 0.9375, 0.1875, 0.0000],\n",
              "          [0.0000, 0.0000, 0.6250, 1.0000, 0.9375, 0.1875, 0.0000, 0.0000]]]),\n",
              " 0)"
            ]
          },
          "metadata": {},
          "execution_count": 16
        }
      ],
      "source": [
        "dataset[0]"
      ]
    },
    {
      "cell_type": "markdown",
      "metadata": {
        "id": "SAR0HLfTGHNF"
      },
      "source": [
        "in the above output we can see the feature map and the label"
      ]
    },
    {
      "cell_type": "markdown",
      "metadata": {
        "id": "Lsd2Z3kUDMY3"
      },
      "source": [
        "display the first 8 images in the dataset class instance"
      ]
    },
    {
      "cell_type": "code",
      "execution_count": 17,
      "metadata": {
        "colab": {
          "base_uri": "https://localhost:8080/",
          "height": 102
        },
        "id": "DD3SLOH_DLmM",
        "outputId": "52ec126a-d6e8-40bf-bcc1-9d7cbc991476"
      },
      "outputs": [
        {
          "output_type": "display_data",
          "data": {
            "text/plain": [
              "<Figure size 800x200 with 8 Axes>"
            ],
            "image/png": "[encoded data removed]"
          },
          "metadata": {}
        }
      ],
      "source": [
        "IMAGE_SIZE= 8\n",
        "reshaped_image_shape = (IMAGE_SIZE, IMAGE_SIZE)\n",
        "\n",
        "plt.figure(figsize=(8,2))\n",
        "\n",
        "for i in range(8):\n",
        "    image = dataset[i][0].reshape(reshaped_image_shape)\n",
        "    plt.subplot(1, 8, i+1)\n",
        "    plt.axis('off')\n",
        "    plt.imshow(image.numpy(), cmap='gray')\n",
        "\n",
        "plt.show()"
      ]
    },
    {
      "cell_type": "markdown",
      "metadata": {
        "id": "UUUOK8zaHKZe"
      },
      "source": [
        "to change the digits printed, change the label kwarg in the DigitDataset class"
      ]
    },
    {
      "cell_type": "markdown",
      "metadata": {
        "id": "51EJy9vUGQxK"
      },
      "source": [
        "## 1c) create data loader object\n",
        "\n",
        "dataloaders efficiently load date in batches during training"
      ]
    },
    {
      "cell_type": "code",
      "execution_count": 18,
      "metadata": {
        "id": "oG-T9naRCdoP"
      },
      "outputs": [],
      "source": [
        "BATCH_SIZE = 10\n",
        "\n",
        "dataloader = torch.utils.data.DataLoader(\n",
        "    dataset,\n",
        "    batch_size = BATCH_SIZE,\n",
        "    shuffle = True,\n",
        "    drop_last = True\n",
        ")"
      ]
    },
    {
      "cell_type": "markdown",
      "metadata": {
        "id": "3o5ceqNUG8tr"
      },
      "source": [
        "# 2) Model Building\n",
        "\n",
        "a) Build class for the classical discriminator\n",
        "\n",
        "b) Building the quantum generator\n",
        "- i) define the quantum variables\n",
        "- ii) define the quantum device\n",
        "- iii) define the qunatum circuit\n",
        "- iv) define the partial measurement process\n",
        "- v) create quantum generator class to use during training"
      ]
    },
    {
      "cell_type": "markdown",
      "metadata": {
        "id": "lRW_ZMRMHyhO"
      },
      "source": [
        "## 2a) Build class for the classical discriminator\n",
        "\n",
        "- fully connected NN with two hidden layers\n",
        "- sigmoid output => probability of an input being classified as real"
      ]
    },
    {
      "cell_type": "code",
      "execution_count": 19,
      "metadata": {
        "id": "YKMfcs35J3wi"
      },
      "outputs": [],
      "source": [
        "class Discriminator(nn.Module):\n",
        "    \"\"\"Fully connected classical discriminator\"\"\"\n",
        "\n",
        "    def __init__(self):\n",
        "        super().__init__() # calls the constructer of the parent class (nn.Module)\n",
        "\n",
        "        self.model = nn.Sequential(\n",
        "            # Inputs to first hidden layer (num_input_features -> 64)\n",
        "            nn.Linear(IMAGE_SIZE * IMAGE_SIZE, 64),\n",
        "            nn.ReLU(),\n",
        "            # First hidden layer (64 -> 16)\n",
        "            nn.Linear(64, 16),\n",
        "            nn.ReLU(),\n",
        "            # Second hidden layer (16 -> output)\n",
        "            nn.Linear(16, 1),\n",
        "            nn.Sigmoid(),\n",
        "        )\n",
        "\n",
        "    def forward(self, x):\n",
        "        return self.model(x)"
      ]
    },
    {
      "cell_type": "markdown",
      "metadata": {
        "id": "tGFyFTxJKUUF"
      },
      "source": [
        "## 2b) building the quantum generator\n",
        "\n",
        "Quantum generator consists of `n_generators` sub-generators, each comprised of `n_qubits` qubits\n",
        "\n",
        "Sub-generator circuit architecture from the original article:\n",
        "\n",
        "<img src=\"https://pennylane.ai/_images/qcircuit.jpeg\" width=\"500\">\n",
        "\n",
        "---\n",
        "\n",
        "i) **state embedding**: a latent vector, $z \\in \\mathbb{R}^N$, is sampled from a uniform distn in the interval $[0, \\pi/2)$ and sent to all sub-generators\n",
        "\n",
        "$z$ --> $|z\\rangle$ (state embedding) by applying the RY gates. Each element of z determines the rotation angle of the RY gate.\n",
        "\n",
        "---\n",
        "\n",
        "ii) **parameterised layers**: a set of parameterised RY gates apply LINEAR (because they're unitary) TRANSFORMATIONS to the quantum state, followed by control Z gates (to introduce entanglement). This layer is repeated `q_depth` times.\n",
        "\n",
        "---\n",
        "\n",
        "iii) **Non-linear transform**: For non-simple generative tasks we need a non-linearity.\n",
        "\n",
        "Ancillary qubits and partial measurements are used to introduce NON-LINEARITY.\n",
        "\n",
        "Partial measurement: measure ONLY the ancillary qubits. This collapses them into classical values. We don't care about those values though so just discard them.\n",
        "\n",
        "The act of measuring the ancillary qubits and collapsing them to classical values forces a non-linear transformation on the remaining qubits. We then measure these remaining qubits to obtain sub-generator output $\\boldsymbol{g^{(i)}}$, the output for a given patch of pixels. Normalisation, causes the sum of all its elements to sum to 1\n",
        "\n",
        "---\n",
        "\n",
        "iv) **post processing**: all the elements summing to one makes it difficult to map them to pixel intensities\n",
        "\n",
        "$\\tilde{x}(i) = \\frac{g(i)}{\\max_k g(i)_k}$\n",
        "\n",
        "this solves the issue by scaling it so the largest values becomes 1 and all other values scale proportionally\n",
        "\n",
        "---"
      ]
    },
    {
      "cell_type": "markdown",
      "metadata": {
        "id": "LdjmV6ldb7In"
      },
      "source": [
        "### 2b) i) define quantum variables - as per the diagram in the above markdown"
      ]
    },
    {
      "cell_type": "markdown",
      "metadata": {
        "id": "V5saS53R9s2G"
      },
      "source": [
        "potentially add grid search for these hyperparams"
      ]
    },
    {
      "cell_type": "code",
      "execution_count": 20,
      "metadata": {
        "id": "J569xl1mJ3yt"
      },
      "outputs": [],
      "source": [
        "n_qubits = 5\n",
        "n_a_qubits = 1\n",
        "q_depth = 6\n",
        "n_generators = 4"
      ]
    },
    {
      "cell_type": "markdown",
      "metadata": {
        "id": "0CBCslgkcrcX"
      },
      "source": [
        "### 2b) ii) define the quantum device"
      ]
    },
    {
      "cell_type": "code",
      "execution_count": 21,
      "metadata": {
        "colab": {
          "base_uri": "https://localhost:8080/"
        },
        "id": "kum6J7AnJ304",
        "outputId": "3ba293b5-70f8-4446-a686-05f79f78a78b"
      },
      "outputs": [
        {
          "output_type": "execute_result",
          "data": {
            "text/plain": [
              "device(type='cpu')"
            ]
          },
          "metadata": {},
          "execution_count": 21
        }
      ],
      "source": [
        "dev = qml.device(\"lightning.qubit\", wires=n_qubits)\n",
        "\n",
        "# Enable CUDA device if available\n",
        "device = torch.device(\"cuda:0\" if torch.cuda.is_available() else \"cpu\")\n",
        "device"
      ]
    },
    {
      "cell_type": "markdown",
      "metadata": {
        "id": "r4nvaFV7dl6O"
      },
      "source": [
        "### 2b) iii) define the quantum circuit"
      ]
    },
    {
      "cell_type": "code",
      "execution_count": 41,
      "metadata": {
        "id": "ikXIuHasJ32z"
      },
      "outputs": [],
      "source": [
        "@qml.qnode(dev, diff_method=\"parameter-shift\")\n",
        "def quantum_circuit(noise, weights):\n",
        "    weights = weights.reshape(q_depth, n_qubits, 2)\n",
        "\n",
        "    for i in range(n_qubits):\n",
        "        qml.RX(noise[i], wires=i)\n",
        "\n",
        "    for i in range(q_depth):\n",
        "        for q in range(n_qubits):\n",
        "            qml.RX(weights[i][q][0], wires=q)\n",
        "            qml.RZ(weights[i][q][1], wires=q)\n",
        "\n",
        "        for q in range(n_qubits):\n",
        "            qml.CNOT(wires=[q, (q + 1) % n_qubits])\n",
        "\n",
        "    return qml.probs(wires=list(range(n_qubits)))\n"
      ]
    },
    {
      "cell_type": "code",
      "source": [
        "#ignore noise and weight here they are just so we can visualise the circuit\n",
        "#we input them properly in the generator forward pass\n",
        "noise = np.random.uniform(0, 2 * np.pi, size=n_qubits)\n",
        "weights = np.random.uniform(0, 2 * np.pi, size=(q_depth, n_qubits))\n",
        "\n",
        "test_circuit = quantum_circuit(noise,weights)\n",
        "\n",
        "qml.drawer.use_style(\"black_white\")\n",
        "qml.draw_mpl(quantum_circuit)(noise,weights)"
      ],
      "metadata": {
        "id": "DxKtAh4SVUU-",
        "outputId": "4a12b5c5-4b0d-45ec-aecd-b1f23fc1e058",
        "colab": {
          "base_uri": "https://localhost:8080/",
          "height": 356
        }
      },
      "execution_count": 42,
      "outputs": [
        {
          "output_type": "error",
          "ename": "ValueError",
          "evalue": "cannot reshape array of size 30 into shape (6,5,2)",
          "traceback": [
            "\u001b[0;31m---------------------------------------------------------------------------\u001b[0m",
            "\u001b[0;31mValueError\u001b[0m                                Traceback (most recent call last)",
            "\u001b[0;32m<ipython-input-42-5db3e77a918e>\u001b[0m in \u001b[0;36m<cell line: 0>\u001b[0;34m()\u001b[0m\n\u001b[1;32m      4\u001b[0m \u001b[0mweights\u001b[0m \u001b[0;34m=\u001b[0m \u001b[0mnp\u001b[0m\u001b[0;34m.\u001b[0m\u001b[0mrandom\u001b[0m\u001b[0;34m.\u001b[0m\u001b[0muniform\u001b[0m\u001b[0;34m(\u001b[0m\u001b[0;36m0\u001b[0m\u001b[0;34m,\u001b[0m \u001b[0;36m2\u001b[0m \u001b[0;34m*\u001b[0m \u001b[0mnp\u001b[0m\u001b[0;34m.\u001b[0m\u001b[0mpi\u001b[0m\u001b[0;34m,\u001b[0m \u001b[0msize\u001b[0m\u001b[0;34m=\u001b[0m\u001b[0;34m(\u001b[0m\u001b[0mq_depth\u001b[0m\u001b[0;34m,\u001b[0m \u001b[0mn_qubits\u001b[0m\u001b[0;34m)\u001b[0m\u001b[0;34m)\u001b[0m\u001b[0;34m\u001b[0m\u001b[0;34m\u001b[0m\u001b[0m\n\u001b[1;32m      5\u001b[0m \u001b[0;34m\u001b[0m\u001b[0m\n\u001b[0;32m----> 6\u001b[0;31m \u001b[0mtest_circuit\u001b[0m \u001b[0;34m=\u001b[0m \u001b[0mquantum_circuit\u001b[0m\u001b[0;34m(\u001b[0m\u001b[0mnoise\u001b[0m\u001b[0;34m,\u001b[0m\u001b[0mweights\u001b[0m\u001b[0;34m)\u001b[0m\u001b[0;34m\u001b[0m\u001b[0;34m\u001b[0m\u001b[0m\n\u001b[0m\u001b[1;32m      7\u001b[0m \u001b[0;34m\u001b[0m\u001b[0m\n\u001b[1;32m      8\u001b[0m \u001b[0mqml\u001b[0m\u001b[0;34m.\u001b[0m\u001b[0mdrawer\u001b[0m\u001b[0;34m.\u001b[0m\u001b[0muse_style\u001b[0m\u001b[0;34m(\u001b[0m\u001b[0;34m\"black_white\"\u001b[0m\u001b[0;34m)\u001b[0m\u001b[0;34m\u001b[0m\u001b[0;34m\u001b[0m\u001b[0m\n",
            "\u001b[0;32m/usr/local/lib/python3.11/dist-packages/pennylane/workflow/qnode.py\u001b[0m in \u001b[0;36m__call__\u001b[0;34m(self, *args, **kwargs)\u001b[0m\n\u001b[1;32m    880\u001b[0m \u001b[0;34m\u001b[0m\u001b[0m\n\u001b[1;32m    881\u001b[0m             \u001b[0;32mreturn\u001b[0m \u001b[0mcapture_qnode\u001b[0m\u001b[0;34m(\u001b[0m\u001b[0mself\u001b[0m\u001b[0;34m,\u001b[0m \u001b[0;34m*\u001b[0m\u001b[0margs\u001b[0m\u001b[0;34m,\u001b[0m \u001b[0;34m**\u001b[0m\u001b[0mkwargs\u001b[0m\u001b[0;34m)\u001b[0m\u001b[0;34m\u001b[0m\u001b[0;34m\u001b[0m\u001b[0m\n\u001b[0;32m--> 882\u001b[0;31m         \u001b[0;32mreturn\u001b[0m \u001b[0mself\u001b[0m\u001b[0;34m.\u001b[0m\u001b[0m_impl_call\u001b[0m\u001b[0;34m(\u001b[0m\u001b[0;34m*\u001b[0m\u001b[0margs\u001b[0m\u001b[0;34m,\u001b[0m \u001b[0;34m**\u001b[0m\u001b[0mkwargs\u001b[0m\u001b[0;34m)\u001b[0m\u001b[0;34m\u001b[0m\u001b[0;34m\u001b[0m\u001b[0m\n\u001b[0m\u001b[1;32m    883\u001b[0m \u001b[0;34m\u001b[0m\u001b[0m\n\u001b[1;32m    884\u001b[0m \u001b[0;34m\u001b[0m\u001b[0m\n",
            "\u001b[0;32m/usr/local/lib/python3.11/dist-packages/pennylane/workflow/qnode.py\u001b[0m in \u001b[0;36m_impl_call\u001b[0;34m(self, *args, **kwargs)\u001b[0m\n\u001b[1;32m    848\u001b[0m \u001b[0;34m\u001b[0m\u001b[0m\n\u001b[1;32m    849\u001b[0m         \u001b[0;31m# construct the tape\u001b[0m\u001b[0;34m\u001b[0m\u001b[0;34m\u001b[0m\u001b[0m\n\u001b[0;32m--> 850\u001b[0;31m         \u001b[0mtape\u001b[0m \u001b[0;34m=\u001b[0m \u001b[0mself\u001b[0m\u001b[0;34m.\u001b[0m\u001b[0mconstruct\u001b[0m\u001b[0;34m(\u001b[0m\u001b[0margs\u001b[0m\u001b[0;34m,\u001b[0m \u001b[0mkwargs\u001b[0m\u001b[0;34m)\u001b[0m\u001b[0;34m\u001b[0m\u001b[0;34m\u001b[0m\u001b[0m\n\u001b[0m\u001b[1;32m    851\u001b[0m \u001b[0;34m\u001b[0m\u001b[0m\n\u001b[1;32m    852\u001b[0m         \u001b[0;31m# Calculate the classical jacobians if necessary\u001b[0m\u001b[0;34m\u001b[0m\u001b[0;34m\u001b[0m\u001b[0m\n",
            "\u001b[0;32m/usr/local/lib/python3.11/dist-packages/pennylane/logging/decorators.py\u001b[0m in \u001b[0;36mwrapper_entry\u001b[0;34m(*args, **kwargs)\u001b[0m\n\u001b[1;32m     59\u001b[0m                 \u001b[0;34m**\u001b[0m\u001b[0m_debug_log_kwargs\u001b[0m\u001b[0;34m,\u001b[0m\u001b[0;34m\u001b[0m\u001b[0;34m\u001b[0m\u001b[0m\n\u001b[1;32m     60\u001b[0m             )\n\u001b[0;32m---> 61\u001b[0;31m         \u001b[0;32mreturn\u001b[0m \u001b[0mfunc\u001b[0m\u001b[0;34m(\u001b[0m\u001b[0;34m*\u001b[0m\u001b[0margs\u001b[0m\u001b[0;34m,\u001b[0m \u001b[0;34m**\u001b[0m\u001b[0mkwargs\u001b[0m\u001b[0;34m)\u001b[0m\u001b[0;34m\u001b[0m\u001b[0;34m\u001b[0m\u001b[0m\n\u001b[0m\u001b[1;32m     62\u001b[0m \u001b[0;34m\u001b[0m\u001b[0m\n\u001b[1;32m     63\u001b[0m     \u001b[0;34m@\u001b[0m\u001b[0mwraps\u001b[0m\u001b[0;34m(\u001b[0m\u001b[0mfunc\u001b[0m\u001b[0;34m)\u001b[0m\u001b[0;34m\u001b[0m\u001b[0;34m\u001b[0m\u001b[0m\n",
            "\u001b[0;32m/usr/local/lib/python3.11/dist-packages/pennylane/workflow/qnode.py\u001b[0m in \u001b[0;36mconstruct\u001b[0;34m(self, args, kwargs)\u001b[0m\n\u001b[1;32m    834\u001b[0m         \u001b[0;32mwith\u001b[0m \u001b[0mpldb_device_manager\u001b[0m\u001b[0;34m(\u001b[0m\u001b[0mself\u001b[0m\u001b[0;34m.\u001b[0m\u001b[0mdevice\u001b[0m\u001b[0;34m)\u001b[0m\u001b[0;34m:\u001b[0m\u001b[0;34m\u001b[0m\u001b[0;34m\u001b[0m\u001b[0m\n\u001b[1;32m    835\u001b[0m             \u001b[0;32mwith\u001b[0m \u001b[0mqml\u001b[0m\u001b[0;34m.\u001b[0m\u001b[0mqueuing\u001b[0m\u001b[0;34m.\u001b[0m\u001b[0mAnnotatedQueue\u001b[0m\u001b[0;34m(\u001b[0m\u001b[0;34m)\u001b[0m \u001b[0;32mas\u001b[0m \u001b[0mq\u001b[0m\u001b[0;34m:\u001b[0m\u001b[0;34m\u001b[0m\u001b[0;34m\u001b[0m\u001b[0m\n\u001b[0;32m--> 836\u001b[0;31m                 \u001b[0mself\u001b[0m\u001b[0;34m.\u001b[0m\u001b[0m_qfunc_output\u001b[0m \u001b[0;34m=\u001b[0m \u001b[0mself\u001b[0m\u001b[0;34m.\u001b[0m\u001b[0mfunc\u001b[0m\u001b[0;34m(\u001b[0m\u001b[0;34m*\u001b[0m\u001b[0margs\u001b[0m\u001b[0;34m,\u001b[0m \u001b[0;34m**\u001b[0m\u001b[0mkwargs\u001b[0m\u001b[0;34m)\u001b[0m\u001b[0;34m\u001b[0m\u001b[0;34m\u001b[0m\u001b[0m\n\u001b[0m\u001b[1;32m    837\u001b[0m \u001b[0;34m\u001b[0m\u001b[0m\n\u001b[1;32m    838\u001b[0m         \u001b[0mtape\u001b[0m \u001b[0;34m=\u001b[0m \u001b[0mQuantumScript\u001b[0m\u001b[0;34m.\u001b[0m\u001b[0mfrom_queue\u001b[0m\u001b[0;34m(\u001b[0m\u001b[0mq\u001b[0m\u001b[0;34m,\u001b[0m \u001b[0mshots\u001b[0m\u001b[0;34m)\u001b[0m\u001b[0;34m\u001b[0m\u001b[0;34m\u001b[0m\u001b[0m\n",
            "\u001b[0;32m<ipython-input-41-62a7f4cab32d>\u001b[0m in \u001b[0;36mquantum_circuit\u001b[0;34m(noise, weights)\u001b[0m\n\u001b[1;32m      1\u001b[0m \u001b[0;34m@\u001b[0m\u001b[0mqml\u001b[0m\u001b[0;34m.\u001b[0m\u001b[0mqnode\u001b[0m\u001b[0;34m(\u001b[0m\u001b[0mdev\u001b[0m\u001b[0;34m,\u001b[0m \u001b[0mdiff_method\u001b[0m\u001b[0;34m=\u001b[0m\u001b[0;34m\"parameter-shift\"\u001b[0m\u001b[0;34m)\u001b[0m\u001b[0;34m\u001b[0m\u001b[0;34m\u001b[0m\u001b[0m\n\u001b[1;32m      2\u001b[0m \u001b[0;32mdef\u001b[0m \u001b[0mquantum_circuit\u001b[0m\u001b[0;34m(\u001b[0m\u001b[0mnoise\u001b[0m\u001b[0;34m,\u001b[0m \u001b[0mweights\u001b[0m\u001b[0;34m)\u001b[0m\u001b[0;34m:\u001b[0m\u001b[0;34m\u001b[0m\u001b[0;34m\u001b[0m\u001b[0m\n\u001b[0;32m----> 3\u001b[0;31m     \u001b[0mweights\u001b[0m \u001b[0;34m=\u001b[0m \u001b[0mweights\u001b[0m\u001b[0;34m.\u001b[0m\u001b[0mreshape\u001b[0m\u001b[0;34m(\u001b[0m\u001b[0mq_depth\u001b[0m\u001b[0;34m,\u001b[0m \u001b[0mn_qubits\u001b[0m\u001b[0;34m,\u001b[0m \u001b[0;36m2\u001b[0m\u001b[0;34m)\u001b[0m\u001b[0;34m\u001b[0m\u001b[0;34m\u001b[0m\u001b[0m\n\u001b[0m\u001b[1;32m      4\u001b[0m \u001b[0;34m\u001b[0m\u001b[0m\n\u001b[1;32m      5\u001b[0m     \u001b[0;32mfor\u001b[0m \u001b[0mi\u001b[0m \u001b[0;32min\u001b[0m \u001b[0mrange\u001b[0m\u001b[0;34m(\u001b[0m\u001b[0mn_qubits\u001b[0m\u001b[0;34m)\u001b[0m\u001b[0;34m:\u001b[0m\u001b[0;34m\u001b[0m\u001b[0;34m\u001b[0m\u001b[0m\n",
            "\u001b[0;31mValueError\u001b[0m: cannot reshape array of size 30 into shape (6,5,2)"
          ]
        }
      ]
    },
    {
      "cell_type": "markdown",
      "source": [
        "### new quanum circuit:\n",
        "-Input encoding: use RX instead of RY for noise embedding\n",
        "\n",
        "-Variational layers: use RX and RZ instead of just RY\n",
        "\n",
        "-Entanglement: use CNOT gates in a ring (last qubit connects back to first)"
      ],
      "metadata": {
        "id": "tq9TG0K6Ua4D"
      }
    },
    {
      "cell_type": "markdown",
      "metadata": {
        "id": "ti2hLBDVdxxF"
      },
      "source": [
        "### 2b) iv) define the partial measurement process"
      ]
    },
    {
      "cell_type": "code",
      "execution_count": 31,
      "metadata": {
        "id": "PjK8QVbrdxMV"
      },
      "outputs": [],
      "source": [
        "def partial_measure(noise, weights):\n",
        "    # Non-linear Transform\n",
        "    probs = quantum_circuit(noise, weights)\n",
        "    probsgiven0 = probs[: (2 ** (n_qubits - n_a_qubits))]\n",
        "    probsgiven0 /= torch.sum(probs)\n",
        "\n",
        "    # Post-Processing\n",
        "    probsgiven = probsgiven0 / torch.max(probsgiven0)\n",
        "    return probsgiven"
      ]
    },
    {
      "cell_type": "markdown",
      "metadata": {
        "id": "claNHS8qeeT3"
      },
      "source": [
        "### 2b) v) create a quantum generator class to use during training\n",
        "\n",
        "- `__init__`: initialises the quantum generator, holds container for the learnable weights that will updated during training (`self.q_params`)\n",
        "- `forward`: iterates over `self.q_params` list which contains the paramters for each sub-generator used to generate the output patches, the patches are concatenated together to form a full image"
      ]
    },
    {
      "cell_type": "code",
      "execution_count": 32,
      "metadata": {
        "id": "KNN-JD7nJ342"
      },
      "outputs": [],
      "source": [
        "class PatchQuantumGenerator(nn.Module):\n",
        "    \"\"\"Quantum generator class for the patch method\"\"\"\n",
        "\n",
        "    def __init__(self, n_generators, q_delta=1):\n",
        "        \"\"\"\n",
        "        Args:\n",
        "            n_generators (int): Number of sub-generators to be used in the patch method.\n",
        "            q_delta (float, optional): Spread of the random distribution for parameter initialisation.\n",
        "        \"\"\"\n",
        "\n",
        "        super().__init__()\n",
        "\n",
        "        self.q_params = nn.ParameterList(\n",
        "            [\n",
        "                nn.Parameter(q_delta * torch.rand(q_depth * n_qubits), requires_grad=True)\n",
        "                for _ in range(n_generators)\n",
        "            ]\n",
        "        )\n",
        "        self.n_generators = n_generators\n",
        "\n",
        "    def forward(self, input_batch):\n",
        "        # Initialise empty pytorch Tensor to store the generated images - x.size(0) is the batch size.\n",
        "        images = torch.Tensor(input_batch.size(0), 0).to(device)\n",
        "\n",
        "        # Iterate over all sub-generators\n",
        "        for params in self.q_params:\n",
        "\n",
        "            # Create a Tensor to 'catch' a batch of the patches from a single sub-generator\n",
        "            PATCH_SIZE = 2 ** (n_qubits - n_a_qubits)\n",
        "            patches = torch.Tensor(0, PATCH_SIZE).to(device) # initialise empty pytorch tensor to store the generated patches\n",
        "            for elem in input_batch:\n",
        "                q_out = partial_measure(elem, params).float().unsqueeze(0)\n",
        "                patches = torch.cat((patches, q_out))\n",
        "\n",
        "            # Each batch of patches is concatenated with each other to create a batch of images\n",
        "            images = torch.cat((images, patches), 1)\n",
        "\n",
        "        return images"
      ]
    },
    {
      "cell_type": "markdown",
      "metadata": {
        "id": "6aWLSLqMekl4"
      },
      "source": [
        "# 3) Training + Evaluation\n",
        "\n",
        "a) define learning rates and number of training iterations\n",
        "\n",
        "b) execute training process\n",
        "\n",
        "c) evaluation: plot how the generated images evolved throughout training"
      ]
    },
    {
      "cell_type": "markdown",
      "metadata": {
        "id": "wxquusP8erje"
      },
      "source": [
        "## 3a) define learning rates and number of training iterations"
      ]
    },
    {
      "cell_type": "code",
      "execution_count": 33,
      "metadata": {
        "id": "WYu1hzGVJ367"
      },
      "outputs": [],
      "source": [
        "generator_learnrate = 0.3\n",
        "discrim_learnrate = 0.01\n",
        "num_iterations = 500"
      ]
    },
    {
      "cell_type": "markdown",
      "metadata": {
        "id": "aPQ6Z3H5VOBK"
      },
      "source": [
        "## 3b) define quantitative evaluation metric"
      ]
    },
    {
      "cell_type": "code",
      "execution_count": 34,
      "metadata": {
        "id": "jpQmqkpLVSWp"
      },
      "outputs": [],
      "source": [
        "def calculate_fid(act1, act2):\n",
        "    \"\"\"Calculate the FID score between two sets of activations.\n",
        "\n",
        "    This function has been modified to handle potential shape mismatches\n",
        "    between the real and generated images. It now ensures that both sets\n",
        "    of activations have the same number of features before calculating\n",
        "    the FID score.\n",
        "\n",
        "    Args:\n",
        "        act1 (np.ndarray): Activations of real images.\n",
        "        act2 (np.ndarray): Activations of generated images.\n",
        "\n",
        "    Returns:\n",
        "        float: FID score.\n",
        "    \"\"\"\n",
        "    # Ensure both sets of activations have the same number of features\n",
        "    num_features = min(act1.shape[1], act2.shape[1])\n",
        "    act1 = act1[:, :num_features]\n",
        "    act2 = act2[:, :num_features]\n",
        "\n",
        "    # Calculate mean and covariance statistics\n",
        "    mu1, sigma1 = act1.mean(axis=0), np.cov(act1, rowvar=False)\n",
        "    mu2, sigma2 = act2.mean(axis=0), np.cov(act2, rowvar=False)\n",
        "    # calculate sum squared difference between means\n",
        "    ssdiff = np.sum((mu1 - mu2)**2.0)\n",
        "    # calculate sqrt of product between cov\n",
        "    covmean = sqrtm(sigma1.dot(sigma2))\n",
        "    # check and correct imaginary numbers from sqrt\n",
        "    if np.iscomplexobj(covmean):\n",
        "        covmean = covmean.real\n",
        "    # calculate score\n",
        "    fid = ssdiff + np.trace(sigma1 + sigma2 - 2.0 * covmean)\n",
        "    return fid"
      ]
    },
    {
      "cell_type": "markdown",
      "metadata": {
        "id": "R6RG8MTbfH-k"
      },
      "source": [
        "## 3c) Execute training process"
      ]
    },
    {
      "cell_type": "code",
      "execution_count": 35,
      "metadata": {
        "colab": {
          "base_uri": "https://localhost:8080/"
        },
        "collapsed": true,
        "id": "rqb8PyqyJ386",
        "outputId": "b18b6742-6c4b-4491-d50a-afe58ccc882f"
      },
      "outputs": [
        {
          "output_type": "stream",
          "name": "stdout",
          "text": [
            "Iteration: 10, Discriminator Loss: 1.377, Generator Loss: 0.812\n",
            "Iteration: 10, FID Score: 14.312\n",
            "Iteration: 20, Discriminator Loss: 1.353, Generator Loss: 0.806\n",
            "Iteration: 20, FID Score: 13.187\n",
            "Iteration: 30, Discriminator Loss: 1.349, Generator Loss: 0.795\n",
            "Iteration: 30, FID Score: 13.512\n",
            "Iteration: 40, Discriminator Loss: 1.332, Generator Loss: 0.782\n",
            "Iteration: 40, FID Score: 14.360\n",
            "Iteration: 50, Discriminator Loss: 1.322, Generator Loss: 0.778\n",
            "Iteration: 50, FID Score: 13.688\n",
            "Iteration: 60, Discriminator Loss: 1.314, Generator Loss: 0.774\n",
            "Iteration: 60, FID Score: 12.928\n",
            "Iteration: 70, Discriminator Loss: 1.298, Generator Loss: 0.763\n",
            "Iteration: 70, FID Score: 14.286\n",
            "Iteration: 80, Discriminator Loss: 1.299, Generator Loss: 0.738\n",
            "Iteration: 80, FID Score: 12.819\n",
            "Iteration: 90, Discriminator Loss: 1.329, Generator Loss: 0.701\n",
            "Iteration: 90, FID Score: 11.923\n",
            "Iteration: 100, Discriminator Loss: 1.320, Generator Loss: 0.693\n",
            "Iteration: 100, FID Score: 11.333\n",
            "Iteration: 110, Discriminator Loss: 1.319, Generator Loss: 0.680\n",
            "Iteration: 110, FID Score: 11.397\n",
            "Iteration: 120, Discriminator Loss: 1.308, Generator Loss: 0.679\n",
            "Failed to find a square root.\n",
            "Iteration: 120, FID Score: nan\n",
            "Iteration: 130, Discriminator Loss: 1.286, Generator Loss: 0.678\n",
            "Failed to find a square root.\n",
            "Iteration: 130, FID Score: nan\n",
            "Iteration: 140, Discriminator Loss: 1.291, Generator Loss: 0.678\n",
            "Failed to find a square root.\n",
            "Iteration: 140, FID Score: nan\n",
            "Iteration: 150, Discriminator Loss: 1.278, Generator Loss: 0.679\n",
            "Iteration: 150, FID Score: 10.234\n",
            "Iteration: 160, Discriminator Loss: 1.261, Generator Loss: 0.672\n",
            "Iteration: 160, FID Score: 10.147\n",
            "Iteration: 170, Discriminator Loss: 1.270, Generator Loss: 0.681\n",
            "Iteration: 170, FID Score: 10.465\n",
            "Iteration: 180, Discriminator Loss: 1.235, Generator Loss: 0.690\n",
            "Iteration: 180, FID Score: 9.142\n",
            "Iteration: 190, Discriminator Loss: 1.246, Generator Loss: 0.674\n",
            "Iteration: 190, FID Score: 9.845\n",
            "Iteration: 200, Discriminator Loss: 1.224, Generator Loss: 0.682\n",
            "Iteration: 200, FID Score: 10.662\n",
            "Iteration: 210, Discriminator Loss: 1.186, Generator Loss: 0.693\n",
            "Iteration: 210, FID Score: 9.796\n",
            "Iteration: 220, Discriminator Loss: 1.237, Generator Loss: 0.663\n",
            "Iteration: 220, FID Score: 9.671\n",
            "Iteration: 230, Discriminator Loss: 1.172, Generator Loss: 0.697\n",
            "Iteration: 230, FID Score: 9.246\n",
            "Iteration: 240, Discriminator Loss: 1.216, Generator Loss: 0.663\n",
            "Iteration: 240, FID Score: 8.713\n",
            "Iteration: 250, Discriminator Loss: 1.187, Generator Loss: 0.685\n",
            "Iteration: 250, FID Score: 8.635\n",
            "Iteration: 260, Discriminator Loss: 1.170, Generator Loss: 0.696\n",
            "Iteration: 260, FID Score: 8.392\n",
            "Iteration: 270, Discriminator Loss: 1.184, Generator Loss: 0.680\n",
            "Iteration: 270, FID Score: 9.046\n",
            "Iteration: 280, Discriminator Loss: 1.203, Generator Loss: 0.667\n",
            "Iteration: 280, FID Score: 8.117\n",
            "Iteration: 290, Discriminator Loss: 1.190, Generator Loss: 0.666\n",
            "Iteration: 290, FID Score: 8.004\n",
            "Iteration: 300, Discriminator Loss: 1.195, Generator Loss: 0.668\n",
            "Iteration: 300, FID Score: 8.607\n",
            "Iteration: 310, Discriminator Loss: 1.226, Generator Loss: 0.644\n",
            "Iteration: 310, FID Score: 8.753\n",
            "Iteration: 320, Discriminator Loss: 1.193, Generator Loss: 0.676\n",
            "Iteration: 320, FID Score: 9.281\n",
            "Iteration: 330, Discriminator Loss: 1.207, Generator Loss: 0.651\n",
            "Iteration: 330, FID Score: 8.611\n",
            "Iteration: 340, Discriminator Loss: 1.209, Generator Loss: 0.653\n",
            "Iteration: 340, FID Score: 9.511\n",
            "Iteration: 350, Discriminator Loss: 1.211, Generator Loss: 0.664\n",
            "Iteration: 350, FID Score: 9.208\n",
            "Iteration: 360, Discriminator Loss: 1.201, Generator Loss: 0.694\n",
            "Iteration: 360, FID Score: 8.936\n",
            "Iteration: 370, Discriminator Loss: 1.158, Generator Loss: 0.715\n",
            "Iteration: 370, FID Score: 8.979\n",
            "Iteration: 380, Discriminator Loss: 1.180, Generator Loss: 0.701\n",
            "Iteration: 380, FID Score: 9.654\n",
            "Iteration: 390, Discriminator Loss: 1.172, Generator Loss: 0.706\n",
            "Iteration: 390, FID Score: 9.402\n",
            "Iteration: 400, Discriminator Loss: 1.171, Generator Loss: 0.714\n",
            "Iteration: 400, FID Score: 9.949\n",
            "Iteration: 410, Discriminator Loss: 1.202, Generator Loss: 0.662\n",
            "Iteration: 410, FID Score: 8.259\n",
            "Iteration: 420, Discriminator Loss: 1.153, Generator Loss: 0.743\n",
            "Iteration: 420, FID Score: 8.429\n",
            "Iteration: 430, Discriminator Loss: 1.121, Generator Loss: 0.739\n",
            "Iteration: 430, FID Score: 8.565\n",
            "Iteration: 440, Discriminator Loss: 1.149, Generator Loss: 0.755\n",
            "Iteration: 440, FID Score: 9.513\n",
            "Iteration: 450, Discriminator Loss: 1.152, Generator Loss: 0.770\n",
            "Iteration: 450, FID Score: 8.615\n",
            "Iteration: 460, Discriminator Loss: 1.143, Generator Loss: 0.759\n",
            "Iteration: 460, FID Score: 9.177\n",
            "Iteration: 470, Discriminator Loss: 1.120, Generator Loss: 0.736\n",
            "Iteration: 470, FID Score: 8.713\n",
            "Iteration: 480, Discriminator Loss: 1.160, Generator Loss: 0.751\n",
            "Iteration: 480, FID Score: 8.564\n",
            "Iteration: 490, Discriminator Loss: 1.100, Generator Loss: 0.768\n",
            "Iteration: 490, FID Score: 8.585\n",
            "Iteration: 500, Discriminator Loss: 1.136, Generator Loss: 0.696\n",
            "Iteration: 500, FID Score: 10.033\n"
          ]
        }
      ],
      "source": [
        "# Model and optimizer setup\n",
        "discriminator = Discriminator().to(device)\n",
        "generator = PatchQuantumGenerator(n_generators).to(device)\n",
        "\n",
        "# Binary cross entropy\n",
        "criterion = nn.BCELoss()\n",
        "\n",
        "# Optimisers - stochastic grad descent\n",
        "optD = optim.SGD(discriminator.parameters(), lr=discrim_learnrate)\n",
        "optG = optim.SGD(generator.parameters(), lr=generator_learnrate)\n",
        "\n",
        "# Labels\n",
        "real_labels = torch.full((BATCH_SIZE,), 1.0, dtype=torch.float, device=device)\n",
        "fake_labels = torch.full((BATCH_SIZE,), 0.0, dtype=torch.float, device=device)\n",
        "\n",
        "# Fixed noise allows us to visually track the generated images throughout training\n",
        "fixed_noise = torch.rand(8, n_qubits, device=device) * math.pi / 2\n",
        "\n",
        "# Iteration counter\n",
        "counter = 0\n",
        "\n",
        "# Collect images for plotting later\n",
        "results = []\n",
        "\n",
        "# Lists to track FID scores\n",
        "fid_scores = []\n",
        "\n",
        "# Training loop\n",
        "while True:\n",
        "    for i, (data, _) in enumerate(dataloader):\n",
        "        # Data for training the discriminator\n",
        "        data = data.reshape(-1, IMAGE_SIZE * IMAGE_SIZE)\n",
        "        real_data = data.to(device)\n",
        "\n",
        "        # Noise following a uniform distribution in range [0,pi/2)\n",
        "        noise = torch.rand(BATCH_SIZE, n_qubits, device=device) * math.pi / 2\n",
        "        fake_data = generator(noise)\n",
        "\n",
        "        # Training the discriminator\n",
        "        discriminator.zero_grad()\n",
        "        outD_real = discriminator(real_data).view(-1)\n",
        "        outD_fake = discriminator(fake_data.detach()).view(-1)\n",
        "\n",
        "        errD_real = criterion(outD_real, real_labels)\n",
        "        errD_fake = criterion(outD_fake, fake_labels)\n",
        "\n",
        "        # Propagate gradients\n",
        "        errD_real.backward()\n",
        "        errD_fake.backward()\n",
        "\n",
        "        errD = errD_real + errD_fake\n",
        "        optD.step()\n",
        "\n",
        "        # Training the generator\n",
        "        generator.zero_grad()\n",
        "        outD_fake = discriminator(fake_data).view(-1)\n",
        "        errG = criterion(outD_fake, real_labels)\n",
        "        errG.backward()\n",
        "        optG.step()\n",
        "\n",
        "        counter += 1\n",
        "\n",
        "        # Show loss values and calculate FID periodically\n",
        "        if counter % 10 == 0:\n",
        "            print(f'Iteration: {counter}, Discriminator Loss: {errD:0.3f}, Generator Loss: {errG:0.3f}')\n",
        "            test_images = generator(fixed_noise).view(8, 1, IMAGE_SIZE, IMAGE_SIZE).cpu().detach()\n",
        "\n",
        "            # Save images every 50 iterations\n",
        "            if counter % 50 == 0:\n",
        "                results.append(test_images)\n",
        "\n",
        "        # Calculate FID every 100 iterations\n",
        "        if counter % 10 == 0:\n",
        "            # Generate images with fixed noise\n",
        "            test_images = generator(fixed_noise).view(8, -1).cpu().detach().numpy()\n",
        "\n",
        "            # Load some real images from the dataset\n",
        "            real_batch, _ = next(iter(dataloader))\n",
        "            real_batch = real_batch.reshape(8, -1).numpy()\n",
        "\n",
        "            # Calculate FID\n",
        "            fid_score = calculate_fid(real_batch, test_images)\n",
        "            fid_scores.append(fid_score)\n",
        "            print(f'Iteration: {counter}, FID Score: {fid_score:0.3f}')\n",
        "\n",
        "        if counter == num_iterations:\n",
        "            break\n",
        "    if counter == num_iterations:\n",
        "        break"
      ]
    },
    {
      "cell_type": "code",
      "execution_count": null,
      "metadata": {
        "id": "uRsB0whwb5Ft"
      },
      "outputs": [],
      "source": [
        "np.savetxt('fid_scores.txt', fid_scores)"
      ]
    },
    {
      "cell_type": "code",
      "execution_count": null,
      "metadata": {
        "id": "I4vfvGWhcc-C"
      },
      "outputs": [],
      "source": []
    },
    {
      "cell_type": "code",
      "execution_count": 36,
      "metadata": {
        "colab": {
          "base_uri": "https://localhost:8080/",
          "height": 465
        },
        "id": "a_2VqBAlD1_e",
        "outputId": "f23d285d-7851-466b-e101-e2fff003dc4d"
      },
      "outputs": [
        {
          "output_type": "display_data",
          "data": {
            "text/plain": [
              "<Figure size 1000x500 with 1 Axes>"
            ],
            "image/png": "[encoded data removed]"
          },
          "metadata": {}
        }
      ],
      "source": [
        "# Optional: Plot FID scores\n",
        "import matplotlib.pyplot as plt\n",
        "plt.figure(figsize=(10,5))\n",
        "plt.plot(np.arange(len(fid_scores))*10, fid_scores)\n",
        "plt.xlabel('Training Epochs')\n",
        "plt.ylabel('FID Score')\n",
        "plt.show()"
      ]
    },
    {
      "cell_type": "markdown",
      "metadata": {
        "id": "HTVIp1tzfc5S"
      },
      "source": [
        "## 3c) plot how the generated images evolved throughout training"
      ]
    },
    {
      "cell_type": "code",
      "execution_count": 37,
      "metadata": {
        "colab": {
          "base_uri": "https://localhost:8080/",
          "height": 417
        },
        "id": "XmT9z1RhJ3-9",
        "outputId": "6f30e0ea-b7f7-41d1-a705-b13e23d1c21d"
      },
      "outputs": [
        {
          "output_type": "display_data",
          "data": {
            "text/plain": [
              "<Figure size 1000x500 with 80 Axes>"
            ],
            "image/png": "[encoded data removed]"
          },
          "metadata": {}
        }
      ],
      "source": [
        "fig = plt.figure(figsize=(10, 5))\n",
        "outer = gridspec.GridSpec(5, 2, wspace=0.1)\n",
        "\n",
        "for i, images in enumerate(results):\n",
        "    inner = gridspec.GridSpecFromSubplotSpec(1, images.size(0),\n",
        "                    subplot_spec=outer[i])\n",
        "\n",
        "    images = torch.squeeze(images, dim=1)\n",
        "    for j, im in enumerate(images):\n",
        "\n",
        "        ax = plt.Subplot(fig, inner[j])\n",
        "        ax.imshow(im.numpy(), cmap=\"gray\")\n",
        "        ax.set_xticks([])\n",
        "        ax.set_yticks([])\n",
        "        if j==0:\n",
        "            ax.set_title(f'Iteration {50+i*50}', loc='left')\n",
        "        fig.add_subplot(ax)\n",
        "\n",
        "plt.show()"
      ]
    },
    {
      "cell_type": "code",
      "execution_count": null,
      "metadata": {
        "id": "nvSSPSkkJ4BA"
      },
      "outputs": [],
      "source": []
    }
  ],
  "metadata": {
    "colab": {
      "provenance": [],
      "include_colab_link": true
    },
    "kernelspec": {
      "display_name": "qgan_env",
      "language": "python",
      "name": "python3"
    },
    "language_info": {
      "codemirror_mode": {
        "name": "ipython",
        "version": 3
      },
      "file_extension": ".py",
      "mimetype": "text/x-python",
      "name": "python",
      "nbconvert_exporter": "python",
      "pygments_lexer": "ipython3",
      "version": "3.10.16"
    }
  },
  "nbformat": 4,
  "nbformat_minor": 0
}