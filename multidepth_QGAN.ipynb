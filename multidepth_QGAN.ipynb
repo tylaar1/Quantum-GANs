{
  "nbformat": 4,
  "nbformat_minor": 0,
  "metadata": {
    "colab": {
      "provenance": [],
      "include_colab_link": true
    },
    "kernelspec": {
      "name": "python3",
      "display_name": "Python 3"
    },
    "language_info": {
      "name": "python"
    }
  },
  "cells": [
    {
      "cell_type": "markdown",
      "metadata": {
        "id": "view-in-github",
        "colab_type": "text"
      },
      "source": [
        "<a href=\"https://colab.research.google.com/github/tylaar1/Quantum-GANs/blob/main/multidepth_QGAN.ipynb\" target=\"_parent\"><img src=\"https://colab.research.google.com/assets/colab-badge.svg\" alt=\"Open In Colab\"/></a>"
      ]
    },
    {
      "cell_type": "markdown",
      "source": [
        "# REFERENCES\n",
        "\n",
        "1. [Experimental Quantum Generative Adversarial Networks for Image Generation](https://arxiv.org/abs/2010.06201)\n",
        "2. [FID metric](https://machinelearningmastery.com/how-to-implement-the-frechet-inception-distance-fid-from-scratch/)"
      ],
      "metadata": {
        "id": "VgxWWTb88ERn"
      }
    },
    {
      "cell_type": "markdown",
      "source": [
        "# POTENTIAL ADD-ONS\n",
        "\n",
        "- code quantitative evaluation metrics [ref2]\n",
        "- grid search for hyperparam optimisation\n",
        "- quantum discriminator [ref 1]"
      ],
      "metadata": {
        "id": "2OLTpKi4-Qoa"
      }
    },
    {
      "cell_type": "markdown",
      "source": [
        "# Imports + Preamble"
      ],
      "metadata": {
        "id": "Vk1aXXB97Amb"
      }
    },
    {
      "cell_type": "code",
      "execution_count": 19,
      "metadata": {
        "colab": {
          "base_uri": "https://localhost:8080/"
        },
        "id": "c5d3UZ7FGU8w",
        "outputId": "01d42ea0-7d74-4a4d-84e0-4f8949e6e17b",
        "collapsed": true
      },
      "outputs": [
        {
          "output_type": "stream",
          "name": "stdout",
          "text": [
            "Requirement already satisfied: pennylane in /usr/local/lib/python3.11/dist-packages (0.40.0)\n",
            "Requirement already satisfied: numpy<2.1 in /usr/local/lib/python3.11/dist-packages (from pennylane) (2.0.2)\n",
            "Requirement already satisfied: scipy in /usr/local/lib/python3.11/dist-packages (from pennylane) (1.14.1)\n",
            "Requirement already satisfied: networkx in /usr/local/lib/python3.11/dist-packages (from pennylane) (3.4.2)\n",
            "Requirement already satisfied: rustworkx>=0.14.0 in /usr/local/lib/python3.11/dist-packages (from pennylane) (0.16.0)\n",
            "Requirement already satisfied: autograd in /usr/local/lib/python3.11/dist-packages (from pennylane) (1.7.0)\n",
            "Requirement already satisfied: tomlkit in /usr/local/lib/python3.11/dist-packages (from pennylane) (0.13.2)\n",
            "Requirement already satisfied: appdirs in /usr/local/lib/python3.11/dist-packages (from pennylane) (1.4.4)\n",
            "Requirement already satisfied: autoray>=0.6.11 in /usr/local/lib/python3.11/dist-packages (from pennylane) (0.7.1)\n",
            "Requirement already satisfied: cachetools in /usr/local/lib/python3.11/dist-packages (from pennylane) (5.5.2)\n",
            "Requirement already satisfied: pennylane-lightning>=0.40 in /usr/local/lib/python3.11/dist-packages (from pennylane) (0.40.0)\n",
            "Requirement already satisfied: requests in /usr/local/lib/python3.11/dist-packages (from pennylane) (2.32.3)\n",
            "Requirement already satisfied: typing-extensions in /usr/local/lib/python3.11/dist-packages (from pennylane) (4.12.2)\n",
            "Requirement already satisfied: packaging in /usr/local/lib/python3.11/dist-packages (from pennylane) (24.2)\n",
            "Requirement already satisfied: diastatic-malt in /usr/local/lib/python3.11/dist-packages (from pennylane) (2.15.2)\n",
            "Requirement already satisfied: scipy-openblas32>=0.3.26 in /usr/local/lib/python3.11/dist-packages (from pennylane-lightning>=0.40->pennylane) (0.3.29.0.0)\n",
            "Requirement already satisfied: astunparse in /usr/local/lib/python3.11/dist-packages (from diastatic-malt->pennylane) (1.6.3)\n",
            "Requirement already satisfied: gast in /usr/local/lib/python3.11/dist-packages (from diastatic-malt->pennylane) (0.6.0)\n",
            "Requirement already satisfied: termcolor in /usr/local/lib/python3.11/dist-packages (from diastatic-malt->pennylane) (2.5.0)\n",
            "Requirement already satisfied: charset-normalizer<4,>=2 in /usr/local/lib/python3.11/dist-packages (from requests->pennylane) (3.4.1)\n",
            "Requirement already satisfied: idna<4,>=2.5 in /usr/local/lib/python3.11/dist-packages (from requests->pennylane) (3.10)\n",
            "Requirement already satisfied: urllib3<3,>=1.21.1 in /usr/local/lib/python3.11/dist-packages (from requests->pennylane) (2.3.0)\n",
            "Requirement already satisfied: certifi>=2017.4.17 in /usr/local/lib/python3.11/dist-packages (from requests->pennylane) (2025.1.31)\n",
            "Requirement already satisfied: wheel<1.0,>=0.23.0 in /usr/local/lib/python3.11/dist-packages (from astunparse->diastatic-malt->pennylane) (0.45.1)\n",
            "Requirement already satisfied: six<2.0,>=1.6.1 in /usr/local/lib/python3.11/dist-packages (from astunparse->diastatic-malt->pennylane) (1.17.0)\n"
          ]
        }
      ],
      "source": [
        "import math\n",
        "import random\n",
        "import numpy as np\n",
        "import pandas as pd\n",
        "import matplotlib.pyplot as plt\n",
        "import matplotlib.gridspec as gridspec\n",
        "\n",
        "!pip install pennylane\n",
        "import pennylane as qml\n",
        "\n",
        "import torch\n",
        "import torch.nn as nn\n",
        "import torch.optim as optim\n",
        "import torchvision\n",
        "import torchvision.transforms as transforms\n",
        "from torch.utils.data import Dataset, DataLoader\n",
        "\n",
        "from scipy.linalg import sqrtm"
      ]
    },
    {
      "source": [
        "from google.colab import drive\n",
        "drive.mount('/content/drive')"
      ],
      "cell_type": "code",
      "metadata": {
        "colab": {
          "base_uri": "https://localhost:8080/"
        },
        "id": "cxMcVhHZJqQN",
        "outputId": "135760a5-bbd8-4b6a-a9f4-eb1371671b98"
      },
      "execution_count": 20,
      "outputs": [
        {
          "output_type": "stream",
          "name": "stdout",
          "text": [
            "Drive already mounted at /content/drive; to attempt to forcibly remount, call drive.mount(\"/content/drive\", force_remount=True).\n"
          ]
        }
      ]
    },
    {
      "cell_type": "markdown",
      "source": [
        "Set the random seed for reproducibility"
      ],
      "metadata": {
        "id": "Stf86xUe2ULF"
      }
    },
    {
      "cell_type": "code",
      "source": [
        "seed = 7\n",
        "torch.manual_seed(seed)\n",
        "np.random.seed(seed)\n",
        "random.seed(seed)"
      ],
      "metadata": {
        "id": "KzdGW-v92TeF"
      },
      "execution_count": 21,
      "outputs": []
    },
    {
      "cell_type": "markdown",
      "source": [
        "# 1) Data Loading + Pre-Processing\n",
        "\n",
        "a) Create class that does the loading and pre-processing of the MNIST data\n",
        "\n",
        "b) create class instance to load in the MNIST data\n",
        "\n",
        "c) create data loader object"
      ],
      "metadata": {
        "id": "EsZ-epQ52YVO"
      }
    },
    {
      "cell_type": "markdown",
      "source": [
        "## 1a) Create class that does the loading and pre-processing of the MNIST data\n",
        "\n",
        "- `__init__`: stores MNIST filepath, data transformation and filtered MNIST dataframe\n",
        "- `filter_by_label`: filters for images with the label = [insert [0,9] label]\n",
        "- `__len__`: returns total number of images in the filtered dataset\n",
        "- `__getitem__`: retrieves specific image and its label from the dataset based on the provided index. It normalises pixel values, reshapes the image, applies any specified transformations & returns the processed image and label"
      ],
      "metadata": {
        "id": "AnTmL2PH2uaU"
      }
    },
    {
      "cell_type": "code",
      "source": [
        "class DigitsDataset(Dataset):\n",
        "    \"\"\"Pytorch dataloader for the Optical Recognition of Handwritten Digits Data Set\"\"\"\n",
        "\n",
        "    def __init__(self, csv_file, label=0, transform=None):\n",
        "        \"\"\"\n",
        "        Args:\n",
        "            csv_file (string): Path to the csv file with annotations.\n",
        "            label (int [0,9], optional): Filter for MNIST images with said specified label.\n",
        "            transform (callable, optional): Optional transform to be applied\n",
        "                on a sample.\n",
        "            \"\"\"\n",
        "        self.csv_file = csv_file\n",
        "        self.transform = transform\n",
        "        self.df = self.filter_by_label(label)\n",
        "\n",
        "    def filter_by_label(self, label):\n",
        "        # Use pandas to return a dataframe of only zeros\n",
        "        df = pd.read_csv(self.csv_file)\n",
        "        df = df.loc[df.iloc[:, -1] == label]\n",
        "        return df\n",
        "\n",
        "    def __len__(self):\n",
        "        return len(self.df)\n",
        "\n",
        "    def __getitem__(self, idx):\n",
        "        if torch.is_tensor(idx):\n",
        "            idx = idx.tolist()\n",
        "\n",
        "        image = self.df.iloc[idx, :-1] / 16\n",
        "        image = np.array(image)\n",
        "        image = image.astype(np.float32).reshape(8, 8)\n",
        "\n",
        "        if self.transform:\n",
        "            image = self.transform(image)\n",
        "\n",
        "        # Return image and label\n",
        "        return image, 0"
      ],
      "metadata": {
        "id": "HJ8SAMtyGiMX"
      },
      "execution_count": 22,
      "outputs": []
    },
    {
      "cell_type": "markdown",
      "source": [
        "## 1b) create class instance to load in the MNIST data\n",
        "This data is filtered by the label kwarg in the DigitDataset class"
      ],
      "metadata": {
        "id": "39NfGu8wCsnk"
      }
    },
    {
      "cell_type": "code",
      "source": [
        "transform_to_pytorch_tensor = transforms.Compose([transforms.ToTensor()])\n",
        "'''\n",
        "dataset = DigitsDataset(\n",
        "    csv_file = \"/content/drive/MyDrive/0. MSc MLiS/google SPRING SEMESTER/3. Quantum/quantum_gan_project/MNIST_images.tra\",\n",
        "    transform = transform_to_pytorch_tensor\n",
        ")\n",
        "'''\n",
        "dataset = DigitsDataset(\n",
        "    csv_file = \"/content/drive/MyDrive/Quantum_data/optdigits.tra\",\n",
        "    label = 0,\n",
        "    transform = transform_to_pytorch_tensor\n",
        ")\n",
        ""
      ],
      "metadata": {
        "id": "R9DB1blcIQ9F"
      },
      "execution_count": 25,
      "outputs": []
    },
    {
      "cell_type": "markdown",
      "source": [
        "see what's in our class instance"
      ],
      "metadata": {
        "id": "B8zMwPqZBwUG"
      }
    },
    {
      "cell_type": "code",
      "source": [
        "dataset[0]"
      ],
      "metadata": {
        "colab": {
          "base_uri": "https://localhost:8080/"
        },
        "id": "964z9cFsB2cf",
        "outputId": "2259f6c9-6fe8-464e-b984-45d1834657d1"
      },
      "execution_count": 26,
      "outputs": [
        {
          "output_type": "execute_result",
          "data": {
            "text/plain": [
              "(tensor([[[0.0000, 0.0000, 0.6250, 1.0000, 0.3750, 0.0000, 0.0000, 0.0000],\n",
              "          [0.0000, 0.4375, 1.0000, 0.5000, 1.0000, 0.3125, 0.0000, 0.0000],\n",
              "          [0.0000, 0.6875, 1.0000, 0.0000, 0.3750, 0.8750, 0.1875, 0.0000],\n",
              "          [0.0000, 0.7500, 0.7500, 0.0000, 0.0000, 0.6875, 0.6875, 0.0000],\n",
              "          [0.0000, 0.7500, 0.7500, 0.0000, 0.0000, 0.5000, 0.7500, 0.0000],\n",
              "          [0.0000, 0.4375, 0.9375, 0.0625, 0.0000, 0.8125, 0.6875, 0.0000],\n",
              "          [0.0000, 0.0000, 1.0000, 0.5000, 0.6250, 0.9375, 0.1875, 0.0000],\n",
              "          [0.0000, 0.0000, 0.6250, 1.0000, 0.9375, 0.1875, 0.0000, 0.0000]]]),\n",
              " 0)"
            ]
          },
          "metadata": {},
          "execution_count": 26
        }
      ]
    },
    {
      "cell_type": "markdown",
      "source": [
        "in the above output we can see the feature map and the label"
      ],
      "metadata": {
        "id": "SAR0HLfTGHNF"
      }
    },
    {
      "cell_type": "markdown",
      "source": [
        "display the first 8 images in the dataset class instance"
      ],
      "metadata": {
        "id": "Lsd2Z3kUDMY3"
      }
    },
    {
      "cell_type": "code",
      "source": [
        "IMAGE_SIZE= 8\n",
        "reshaped_image_shape = (IMAGE_SIZE, IMAGE_SIZE)\n",
        "\n",
        "plt.figure(figsize=(8,2))\n",
        "\n",
        "for i in range(8):\n",
        "    image = dataset[i][0].reshape(reshaped_image_shape)\n",
        "    plt.subplot(1, 8, i+1)\n",
        "    plt.axis('off')\n",
        "    plt.imshow(image.numpy(), cmap='gray')\n",
        "\n",
        "plt.show()"
      ],
      "metadata": {
        "colab": {
          "base_uri": "https://localhost:8080/",
          "height": 102
        },
        "id": "DD3SLOH_DLmM",
        "outputId": "25509835-b825-43a5-a93f-0b8778dd5815"
      },
      "execution_count": 27,
      "outputs": [
        {
          "output_type": "display_data",
          "data": {
            "text/plain": [
              "<Figure size 800x200 with 8 Axes>"
            ],
            "image/png": "[encoded data removed]"
          },
          "metadata": {}
        }
      ]
    },
    {
      "cell_type": "markdown",
      "source": [
        "to change the digits printed, change the label kwarg in the DigitDataset class"
      ],
      "metadata": {
        "id": "UUUOK8zaHKZe"
      }
    },
    {
      "cell_type": "markdown",
      "source": [
        "## 1c) create data loader object\n",
        "\n",
        "dataloaders efficiently load date in batches during training"
      ],
      "metadata": {
        "id": "51EJy9vUGQxK"
      }
    },
    {
      "cell_type": "code",
      "source": [
        "BATCH_SIZE = 10\n",
        "\n",
        "dataloader = torch.utils.data.DataLoader(\n",
        "    dataset,\n",
        "    batch_size = BATCH_SIZE,\n",
        "    shuffle = True,\n",
        "    drop_last = True\n",
        ")"
      ],
      "metadata": {
        "id": "oG-T9naRCdoP"
      },
      "execution_count": 28,
      "outputs": []
    },
    {
      "cell_type": "markdown",
      "source": [
        "# 2) Model Building\n",
        "\n",
        "a) Build class for the classical discriminator\n",
        "\n",
        "b) Building the quantum generator\n",
        "- i) define the quantum variables\n",
        "- ii) define the quantum device\n",
        "- iii) define the qunatum circuit\n",
        "- iv) define the partial measurement process\n",
        "- v) create quantum generator class to use during training"
      ],
      "metadata": {
        "id": "3o5ceqNUG8tr"
      }
    },
    {
      "cell_type": "markdown",
      "source": [
        "## 2a) Build class for the classical discriminator\n",
        "\n",
        "- fully connected NN with two hidden layers\n",
        "- sigmoid output => probability of an input being classified as real"
      ],
      "metadata": {
        "id": "lRW_ZMRMHyhO"
      }
    },
    {
      "cell_type": "code",
      "source": [
        "class Discriminator(nn.Module):\n",
        "    \"\"\"Fully connected classical discriminator\"\"\"\n",
        "\n",
        "    def __init__(self):\n",
        "        super().__init__() # calls the constructer of the parent class (nn.Module)\n",
        "\n",
        "        self.model = nn.Sequential(\n",
        "            # Inputs to first hidden layer (num_input_features -> 64)\n",
        "            nn.Linear(IMAGE_SIZE * IMAGE_SIZE, 64),\n",
        "            nn.ReLU(),\n",
        "            # First hidden layer (64 -> 16)\n",
        "            nn.Linear(64, 16),\n",
        "            nn.ReLU(),\n",
        "            # Second hidden layer (16 -> output)\n",
        "            nn.Linear(16, 1),\n",
        "            nn.Sigmoid(),\n",
        "        )\n",
        "\n",
        "    def forward(self, x):\n",
        "        return self.model(x)"
      ],
      "metadata": {
        "id": "YKMfcs35J3wi"
      },
      "execution_count": 29,
      "outputs": []
    },
    {
      "cell_type": "markdown",
      "source": [
        "## 2b) building the quantum generator\n",
        "\n",
        "Quantum generator consists of `n_generators` sub-generators, each comprised of `n_qubits` qubits\n",
        "\n",
        "Sub-generator circuit architecture from the original article:\n",
        "\n",
        "<img src=\"https://pennylane.ai/_images/qcircuit.jpeg\" width=\"500\">\n",
        "\n",
        "---\n",
        "\n",
        "i) **state embedding**: a latent vector, $z \\in \\mathbb{R}^N$, is sampled from a uniform distn in the interval $[0, \\pi/2)$ and sent to all sub-generators\n",
        "\n",
        "$z$ --> $|z\\rangle$ (state embedding) by applying the RY gates. Each element of z determines the rotation angle of the RY gate.\n",
        "\n",
        "---\n",
        "\n",
        "ii) **parameterised layers**: a set of parameterised RY gates apply LINEAR (because they're unitary) TRANSFORMATIONS to the quantum state, followed by control Z gates (to introduce entanglement). This layer is repeated `q_depth` times.\n",
        "\n",
        "---\n",
        "\n",
        "iii) **Non-linear transform**: For non-simple generative tasks we need a non-linearity.\n",
        "\n",
        "Ancillary qubits and partial measurements are used to introduce NON-LINEARITY.\n",
        "\n",
        "Partial measurement: measure ONLY the ancillary qubits. This collapses them into classical values. We don't care about those values though so just discard them.\n",
        "\n",
        "The act of measuring the ancillary qubits and collapsing them to classical values forces a non-linear transformation on the remaining qubits. We then measure these remaining qubits to obtain sub-generator output $\\boldsymbol{g^{(i)}}$, the output for a given patch of pixels. Normalisation, causes the sum of all its elements to sum to 1\n",
        "\n",
        "---\n",
        "\n",
        "iv) **post processing**: all the elements summing to one makes it difficult to map them to pixel intensities\n",
        "\n",
        "$\\tilde{x}(i) = \\frac{g(i)}{\\max_k g(i)_k}$\n",
        "\n",
        "this solves the issue by scaling it so the largest values becomes 1 and all other values scale proportionally\n",
        "\n",
        "---"
      ],
      "metadata": {
        "id": "tGFyFTxJKUUF"
      }
    },
    {
      "cell_type": "markdown",
      "source": [
        "### 2b) i) define quantum variables - as per the diagram in the above markdown"
      ],
      "metadata": {
        "id": "LdjmV6ldb7In"
      }
    },
    {
      "cell_type": "markdown",
      "source": [
        "potentially add grid search for these hyperparams"
      ],
      "metadata": {
        "id": "V5saS53R9s2G"
      }
    },
    {
      "cell_type": "code",
      "source": [
        "n_qubits = 5\n",
        "n_a_qubits = 1\n",
        "q_depth = [int(x) for x in np.linspace(1,6,6)]\n",
        "n_generators = 4\n",
        "q_depth"
      ],
      "metadata": {
        "id": "J569xl1mJ3yt",
        "outputId": "825f50a3-5444-43f9-e722-677393c5b964",
        "colab": {
          "base_uri": "https://localhost:8080/"
        }
      },
      "execution_count": 30,
      "outputs": [
        {
          "output_type": "execute_result",
          "data": {
            "text/plain": [
              "[1, 2, 3, 4, 5, 6]"
            ]
          },
          "metadata": {},
          "execution_count": 30
        }
      ]
    },
    {
      "cell_type": "markdown",
      "source": [
        "### 2b) ii) define the quantum device"
      ],
      "metadata": {
        "id": "0CBCslgkcrcX"
      }
    },
    {
      "cell_type": "code",
      "source": [
        "dev = qml.device(\"lightning.qubit\", wires=n_qubits)\n",
        "\n",
        "# Enable CUDA device if available\n",
        "device = torch.device(\"cuda:0\" if torch.cuda.is_available() else \"cpu\")\n",
        "device"
      ],
      "metadata": {
        "colab": {
          "base_uri": "https://localhost:8080/"
        },
        "id": "kum6J7AnJ304",
        "outputId": "c4f0468d-e285-4e58-d921-4c185cd2cd3d"
      },
      "execution_count": 31,
      "outputs": [
        {
          "output_type": "execute_result",
          "data": {
            "text/plain": [
              "device(type='cpu')"
            ]
          },
          "metadata": {},
          "execution_count": 31
        }
      ]
    },
    {
      "cell_type": "markdown",
      "source": [
        "### 2b) iii) define the quantum circuit"
      ],
      "metadata": {
        "id": "r4nvaFV7dl6O"
      }
    },
    {
      "cell_type": "code",
      "source": [
        "@qml.qnode(dev, diff_method=\"parameter-shift\") # recall the parameter shift differentiation method from lectures, differentiation needed for backprop\n",
        "def quantum_circuit(noise, weights,q_depth):\n",
        "\n",
        "    weights = weights.reshape(q_depth, n_qubits)\n",
        "\n",
        "    # State embedding\n",
        "    for i in range(n_qubits):\n",
        "        qml.RY(noise[i], wires=i)\n",
        "\n",
        "    # Repeated layer\n",
        "    for i in range(q_depth):\n",
        "        # Parameterised layer\n",
        "        for y in range(n_qubits):\n",
        "            qml.RY(weights[i][y], wires=y)\n",
        "\n",
        "        # Control Z gates\n",
        "        for y in range(n_qubits - 1):\n",
        "            qml.CZ(wires=[y, y + 1])\n",
        "\n",
        "    return qml.probs(wires=list(range(n_qubits)))"
      ],
      "metadata": {
        "id": "ikXIuHasJ32z"
      },
      "execution_count": 51,
      "outputs": []
    },
    {
      "cell_type": "markdown",
      "source": [
        "### 2b) iv) define the partial measurement process"
      ],
      "metadata": {
        "id": "ti2hLBDVdxxF"
      }
    },
    {
      "cell_type": "code",
      "source": [
        "def partial_measure(noise, weights,q_depth):\n",
        "    # Non-linear Transform\n",
        "    probs = quantum_circuit(noise, weights,q_depth)\n",
        "    probsgiven0 = probs[: (2 ** (n_qubits - n_a_qubits))]\n",
        "    probsgiven0 /= torch.sum(probs)\n",
        "\n",
        "    # Post-Processing\n",
        "    probsgiven = probsgiven0 / torch.max(probsgiven0)\n",
        "    return probsgiven"
      ],
      "metadata": {
        "id": "PjK8QVbrdxMV"
      },
      "execution_count": 55,
      "outputs": []
    },
    {
      "cell_type": "markdown",
      "source": [
        "### 2b) v) create a quantum generator class to use during training\n",
        "\n",
        "- `__init__`: initialises the quantum generator, holds container for the learnable weights that will updated during training (`self.q_params`)\n",
        "- `forward`: iterates over `self.q_params` list which contains the paramters for each sub-generator used to generate the output patches, the patches are concatenated together to form a full image"
      ],
      "metadata": {
        "id": "claNHS8qeeT3"
      }
    },
    {
      "cell_type": "code",
      "source": [
        "class PatchQuantumGenerator(nn.Module):\n",
        "    \"\"\"Quantum generator class for the patch method\"\"\"\n",
        "\n",
        "    def __init__(self, n_generators,q_depth, q_delta=1):\n",
        "        \"\"\"\n",
        "        Args:\n",
        "            n_generators (int): Number of sub-generators to be used in the patch method.\n",
        "            q_delta (float, optional): Spread of the random distribution for parameter initialisation.\n",
        "        \"\"\"\n",
        "\n",
        "        super().__init__()\n",
        "\n",
        "        self.q_params = nn.ParameterList(\n",
        "            [\n",
        "                nn.Parameter(q_delta * torch.rand(q_depth * n_qubits), requires_grad=True)\n",
        "                for _ in range(n_generators)\n",
        "            ]\n",
        "        )\n",
        "        self.n_generators = n_generators\n",
        "\n",
        "    def forward(self, input_batch,q_depth):\n",
        "        # Initialise empty pytorch Tensor to store the generated images - x.size(0) is the batch size.\n",
        "        images = torch.Tensor(input_batch.size(0), 0).to(device)\n",
        "\n",
        "        # Iterate over all sub-generators\n",
        "        for params in self.q_params:\n",
        "\n",
        "            # Create a Tensor to 'catch' a batch of the patches from a single sub-generator\n",
        "            PATCH_SIZE = 2 ** (n_qubits - n_a_qubits)\n",
        "            patches = torch.Tensor(0, PATCH_SIZE).to(device) # initialise empty pytorch tensor to store the generated patches\n",
        "            for elem in input_batch:\n",
        "                q_out = partial_measure(elem, params,q_depth).float().unsqueeze(0)\n",
        "                patches = torch.cat((patches, q_out))\n",
        "\n",
        "            # Each batch of patches is concatenated with each other to create a batch of images\n",
        "            images = torch.cat((images, patches), 1)\n",
        "\n",
        "        return images"
      ],
      "metadata": {
        "id": "KNN-JD7nJ342"
      },
      "execution_count": 58,
      "outputs": []
    },
    {
      "cell_type": "markdown",
      "source": [
        "# 3) Training + Evaluation\n",
        "\n",
        "a) define learning rates and number of training iterations\n",
        "\n",
        "b) execute training process\n",
        "\n",
        "c) evaluation: plot how the generated images evolved throughout training"
      ],
      "metadata": {
        "id": "6aWLSLqMekl4"
      }
    },
    {
      "cell_type": "markdown",
      "source": [
        "## 3a) define learning rates and number of training iterations"
      ],
      "metadata": {
        "id": "wxquusP8erje"
      }
    },
    {
      "cell_type": "code",
      "source": [
        "generator_learnrate = 0.3\n",
        "discrim_learnrate = 0.01\n",
        "num_iterations = 500"
      ],
      "metadata": {
        "id": "WYu1hzGVJ367"
      },
      "execution_count": 35,
      "outputs": []
    },
    {
      "cell_type": "markdown",
      "source": [
        "## 3b) define quantitative evaluation metric"
      ],
      "metadata": {
        "id": "aPQ6Z3H5VOBK"
      }
    },
    {
      "cell_type": "code",
      "source": [
        "def calculate_fid(act1, act2):\n",
        "    \"\"\"Calculate the FID score between two sets of activations.\n",
        "\n",
        "    This function has been modified to handle potential shape mismatches\n",
        "    between the real and generated images. It now ensures that both sets\n",
        "    of activations have the same number of features before calculating\n",
        "    the FID score.\n",
        "\n",
        "    Args:\n",
        "        act1 (np.ndarray): Activations of real images.\n",
        "        act2 (np.ndarray): Activations of generated images.\n",
        "\n",
        "    Returns:\n",
        "        float: FID score.\n",
        "    \"\"\"\n",
        "    # Ensure both sets of activations have the same number of features\n",
        "    num_features = min(act1.shape[1], act2.shape[1])\n",
        "    act1 = act1[:, :num_features]\n",
        "    act2 = act2[:, :num_features]\n",
        "\n",
        "    # Calculate mean and covariance statistics\n",
        "    mu1, sigma1 = act1.mean(axis=0), np.cov(act1, rowvar=False)\n",
        "    mu2, sigma2 = act2.mean(axis=0), np.cov(act2, rowvar=False)\n",
        "    # calculate sum squared difference between means\n",
        "    ssdiff = np.sum((mu1 - mu2)**2.0)\n",
        "    # calculate sqrt of product between cov\n",
        "    covmean = sqrtm(sigma1.dot(sigma2))\n",
        "    # check and correct imaginary numbers from sqrt\n",
        "    if np.iscomplexobj(covmean):\n",
        "        covmean = covmean.real\n",
        "    # calculate score\n",
        "    fid = ssdiff + np.trace(sigma1 + sigma2 - 2.0 * covmean)\n",
        "    return fid"
      ],
      "metadata": {
        "id": "jpQmqkpLVSWp"
      },
      "execution_count": 49,
      "outputs": []
    },
    {
      "cell_type": "markdown",
      "source": [
        "## 3c) Execute training process"
      ],
      "metadata": {
        "id": "R6RG8MTbfH-k"
      }
    },
    {
      "cell_type": "code",
      "source": [
        "# Model and optimizer setup\n",
        "list_fid_scores = []\n",
        "for j in range(len(q_depth)):\n",
        "  discriminator = Discriminator().to(device)\n",
        "  generator = PatchQuantumGenerator(n_generators,q_depth[j]).to(device)\n",
        "\n",
        "  # Binary cross entropy\n",
        "  criterion = nn.BCELoss()\n",
        "\n",
        "  # Optimisers - stochastic grad descent\n",
        "  optD = optim.SGD(discriminator.parameters(), lr=discrim_learnrate)\n",
        "  optG = optim.SGD(generator.parameters(), lr=generator_learnrate)\n",
        "\n",
        "  # Labels\n",
        "  real_labels = torch.full((BATCH_SIZE,), 1.0, dtype=torch.float, device=device)\n",
        "  fake_labels = torch.full((BATCH_SIZE,), 0.0, dtype=torch.float, device=device)\n",
        "\n",
        "  # Fixed noise allows us to visually track the generated images throughout training\n",
        "  fixed_noise = torch.rand(8, n_qubits, device=device) * math.pi / 2\n",
        "\n",
        "  # Iteration counter\n",
        "  counter = 0\n",
        "\n",
        "  # Collect images for plotting later\n",
        "  results = []\n",
        "\n",
        "  # Lists to track FID scores\n",
        "  fid_scores = []\n",
        "\n",
        "  # Training loop\n",
        "  while True:\n",
        "      for i, (data, _) in enumerate(dataloader):\n",
        "          # Data for training the discriminator\n",
        "          data = data.reshape(-1, IMAGE_SIZE * IMAGE_SIZE)\n",
        "          real_data = data.to(device)\n",
        "\n",
        "          # Noise following a uniform distribution in range [0,pi/2)\n",
        "          noise = torch.rand(BATCH_SIZE, n_qubits, device=device) * math.pi / 2\n",
        "          fake_data = generator(noise,q_depth[j])\n",
        "\n",
        "          # Training the discriminator\n",
        "          discriminator.zero_grad()\n",
        "          outD_real = discriminator(real_data).view(-1)\n",
        "          outD_fake = discriminator(fake_data.detach()).view(-1)\n",
        "\n",
        "          errD_real = criterion(outD_real, real_labels)\n",
        "          errD_fake = criterion(outD_fake, fake_labels)\n",
        "\n",
        "          # Propagate gradients\n",
        "          errD_real.backward()\n",
        "          errD_fake.backward()\n",
        "\n",
        "          errD = errD_real + errD_fake\n",
        "          optD.step()\n",
        "\n",
        "          # Training the generator\n",
        "          generator.zero_grad()\n",
        "          outD_fake = discriminator(fake_data).view(-1)\n",
        "          errG = criterion(outD_fake, real_labels)\n",
        "          errG.backward()\n",
        "          optG.step()\n",
        "\n",
        "          counter += 1\n",
        "\n",
        "          # Show loss values and calculate FID periodically\n",
        "          if counter % 10 == 0:\n",
        "              print(f'Iteration: {counter}, Discriminator Loss: {errD:0.3f}, Generator Loss: {errG:0.3f}')\n",
        "              test_images = generator(fixed_noise,q_depth[j]).view(8, 1, IMAGE_SIZE, IMAGE_SIZE).cpu().detach()\n",
        "\n",
        "              # Save images every 50 iterations\n",
        "              if counter % 50 == 0:\n",
        "                  results.append(test_images)\n",
        "\n",
        "          # Calculate FID every 100 iterations\n",
        "          if counter % 10 == 0:\n",
        "              # Generate images with fixed noise\n",
        "              test_images = generator(fixed_noise,q_depth[j]).view(8, -1).cpu().detach().numpy()\n",
        "\n",
        "              # Load some real images from the dataset\n",
        "              real_batch, _ = next(iter(dataloader))\n",
        "              real_batch = real_batch.reshape(8, -1).numpy()\n",
        "\n",
        "              # Calculate FID\n",
        "              fid_score = calculate_fid(real_batch, test_images)\n",
        "              fid_scores.append(fid_score)\n",
        "              print(f'Iteration: {counter}, FID Score: {fid_score:0.3f}')\n",
        "\n",
        "          if counter == num_iterations:\n",
        "              break\n",
        "      list_fid_scores.append(fid_scores)\n",
        "      if counter == num_iterations:\n",
        "          break"
      ],
      "metadata": {
        "colab": {
          "base_uri": "https://localhost:8080/"
        },
        "id": "rqb8PyqyJ386",
        "outputId": "4952ef02-89d4-49f4-ec47-810135ddfa73",
        "collapsed": true
      },
      "execution_count": 61,
      "outputs": [
        {
          "output_type": "stream",
          "name": "stdout",
          "text": [
            "Iteration: 10, Discriminator Loss: 1.397, Generator Loss: 0.608\n",
            "Iteration: 10, FID Score: 14.061\n",
            "Iteration: 20, Discriminator Loss: 1.390, Generator Loss: 0.614\n",
            "Iteration: 20, FID Score: 14.516\n",
            "Iteration: 30, Discriminator Loss: 1.382, Generator Loss: 0.620\n",
            "Iteration: 30, FID Score: 13.490\n",
            "Iteration: 40, Discriminator Loss: 1.371, Generator Loss: 0.629\n",
            "Iteration: 40, FID Score: 13.975\n",
            "Iteration: 50, Discriminator Loss: 1.368, Generator Loss: 0.629\n",
            "Iteration: 50, FID Score: 14.479\n",
            "Iteration: 60, Discriminator Loss: 1.352, Generator Loss: 0.644\n",
            "Iteration: 60, FID Score: 14.785\n",
            "Iteration: 70, Discriminator Loss: 1.351, Generator Loss: 0.646\n",
            "Iteration: 70, FID Score: 14.035\n",
            "Iteration: 80, Discriminator Loss: 1.333, Generator Loss: 0.654\n",
            "Iteration: 80, FID Score: 14.539\n",
            "Iteration: 90, Discriminator Loss: 1.315, Generator Loss: 0.667\n",
            "Iteration: 90, FID Score: 14.294\n",
            "Iteration: 100, Discriminator Loss: 1.314, Generator Loss: 0.662\n",
            "Iteration: 100, FID Score: 14.746\n",
            "Iteration: 110, Discriminator Loss: 1.306, Generator Loss: 0.671\n",
            "Iteration: 110, FID Score: 14.245\n",
            "Iteration: 120, Discriminator Loss: 1.280, Generator Loss: 0.681\n",
            "Iteration: 120, FID Score: 14.785\n",
            "Iteration: 130, Discriminator Loss: 1.283, Generator Loss: 0.681\n",
            "Iteration: 130, FID Score: 14.532\n",
            "Iteration: 140, Discriminator Loss: 1.240, Generator Loss: 0.712\n",
            "Iteration: 140, FID Score: 14.715\n",
            "Iteration: 150, Discriminator Loss: 1.236, Generator Loss: 0.706\n",
            "Iteration: 150, FID Score: 14.039\n",
            "Iteration: 160, Discriminator Loss: 1.204, Generator Loss: 0.719\n",
            "Iteration: 160, FID Score: 13.230\n",
            "Iteration: 170, Discriminator Loss: 1.198, Generator Loss: 0.711\n",
            "Iteration: 170, FID Score: 12.863\n",
            "Iteration: 180, Discriminator Loss: 1.142, Generator Loss: 0.741\n",
            "Iteration: 180, FID Score: 12.435\n",
            "Iteration: 190, Discriminator Loss: 1.141, Generator Loss: 0.729\n",
            "Iteration: 190, FID Score: 13.696\n",
            "Iteration: 200, Discriminator Loss: 1.096, Generator Loss: 0.767\n",
            "Iteration: 200, FID Score: 12.326\n",
            "Iteration: 210, Discriminator Loss: 1.058, Generator Loss: 0.774\n",
            "Iteration: 210, FID Score: 12.481\n",
            "Iteration: 220, Discriminator Loss: 1.006, Generator Loss: 0.818\n",
            "Iteration: 220, FID Score: 12.187\n",
            "Iteration: 230, Discriminator Loss: 1.012, Generator Loss: 0.830\n",
            "Iteration: 230, FID Score: 13.081\n",
            "Iteration: 240, Discriminator Loss: 0.944, Generator Loss: 0.850\n",
            "Iteration: 240, FID Score: 13.220\n",
            "Iteration: 250, Discriminator Loss: 0.912, Generator Loss: 0.865\n",
            "Iteration: 250, FID Score: 12.776\n",
            "Iteration: 260, Discriminator Loss: 0.864, Generator Loss: 0.878\n",
            "Iteration: 260, FID Score: 13.320\n",
            "Iteration: 270, Discriminator Loss: 0.824, Generator Loss: 0.895\n",
            "Iteration: 270, FID Score: 13.193\n",
            "Iteration: 280, Discriminator Loss: 0.745, Generator Loss: 1.019\n",
            "Iteration: 280, FID Score: 13.274\n",
            "Iteration: 290, Discriminator Loss: 0.688, Generator Loss: 1.032\n",
            "Iteration: 290, FID Score: 14.167\n",
            "Iteration: 300, Discriminator Loss: 0.726, Generator Loss: 0.953\n",
            "Iteration: 300, FID Score: 12.721\n",
            "Iteration: 310, Discriminator Loss: 0.727, Generator Loss: 0.965\n",
            "Iteration: 310, FID Score: 12.664\n",
            "Iteration: 320, Discriminator Loss: 0.708, Generator Loss: 0.995\n",
            "Iteration: 320, FID Score: 13.250\n",
            "Iteration: 330, Discriminator Loss: 0.617, Generator Loss: 1.124\n",
            "Iteration: 330, FID Score: 12.931\n",
            "Iteration: 340, Discriminator Loss: 0.588, Generator Loss: 1.185\n",
            "Iteration: 340, FID Score: 12.653\n",
            "Iteration: 350, Discriminator Loss: 0.493, Generator Loss: 1.299\n",
            "Iteration: 350, FID Score: 11.004\n",
            "Iteration: 360, Discriminator Loss: 0.478, Generator Loss: 1.349\n",
            "Iteration: 360, FID Score: 10.732\n",
            "Iteration: 370, Discriminator Loss: 0.431, Generator Loss: 1.451\n",
            "Iteration: 370, FID Score: 12.601\n",
            "Iteration: 380, Discriminator Loss: 0.347, Generator Loss: 1.582\n",
            "Iteration: 380, FID Score: 12.330\n",
            "Iteration: 390, Discriminator Loss: 0.306, Generator Loss: 1.685\n",
            "Iteration: 390, FID Score: 12.444\n",
            "Iteration: 400, Discriminator Loss: 0.270, Generator Loss: 1.812\n",
            "Failed to find a square root.\n",
            "Iteration: 400, FID Score: nan\n",
            "Iteration: 410, Discriminator Loss: 0.257, Generator Loss: 1.860\n",
            "Failed to find a square root.\n",
            "Iteration: 410, FID Score: nan\n",
            "Iteration: 420, Discriminator Loss: 0.234, Generator Loss: 1.923\n",
            "Failed to find a square root.\n",
            "Iteration: 420, FID Score: nan\n",
            "Iteration: 430, Discriminator Loss: 0.190, Generator Loss: 2.029\n",
            "Failed to find a square root.\n",
            "Iteration: 430, FID Score: nan\n",
            "Iteration: 440, Discriminator Loss: 0.187, Generator Loss: 2.061\n",
            "Failed to find a square root.\n",
            "Iteration: 440, FID Score: nan\n",
            "Iteration: 450, Discriminator Loss: 0.158, Generator Loss: 2.173\n",
            "Failed to find a square root.\n",
            "Iteration: 450, FID Score: nan\n",
            "Iteration: 460, Discriminator Loss: 0.151, Generator Loss: 2.264\n",
            "Failed to find a square root.\n",
            "Iteration: 460, FID Score: nan\n",
            "Iteration: 470, Discriminator Loss: 0.130, Generator Loss: 2.336\n",
            "Failed to find a square root.\n",
            "Iteration: 470, FID Score: nan\n",
            "Iteration: 480, Discriminator Loss: 0.120, Generator Loss: 2.419\n",
            "Failed to find a square root.\n",
            "Iteration: 480, FID Score: nan\n",
            "Iteration: 490, Discriminator Loss: 0.106, Generator Loss: 2.523\n",
            "Failed to find a square root.\n",
            "Iteration: 490, FID Score: nan\n",
            "Iteration: 500, Discriminator Loss: 0.097, Generator Loss: 2.643\n",
            "Failed to find a square root.\n",
            "Iteration: 500, FID Score: nan\n",
            "Iteration: 10, Discriminator Loss: 0.712, Generator Loss: 0.930\n",
            "Failed to find a square root.\n",
            "Iteration: 10, FID Score: nan\n",
            "Iteration: 20, Discriminator Loss: 0.767, Generator Loss: 0.967\n",
            "Iteration: 20, FID Score: 11.207\n",
            "Iteration: 30, Discriminator Loss: 0.677, Generator Loss: 1.071\n",
            "Failed to find a square root.\n",
            "Iteration: 30, FID Score: nan\n",
            "Iteration: 40, Discriminator Loss: 0.641, Generator Loss: 1.123\n",
            "Iteration: 40, FID Score: 11.433\n",
            "Iteration: 50, Discriminator Loss: 0.592, Generator Loss: 1.385\n",
            "Iteration: 50, FID Score: 11.913\n",
            "Iteration: 60, Discriminator Loss: 0.458, Generator Loss: 1.518\n",
            "Iteration: 60, FID Score: 12.042\n",
            "Iteration: 70, Discriminator Loss: 0.424, Generator Loss: 1.583\n",
            "Iteration: 70, FID Score: 11.456\n",
            "Iteration: 80, Discriminator Loss: 0.357, Generator Loss: 1.857\n",
            "Iteration: 80, FID Score: 10.161\n",
            "Iteration: 90, Discriminator Loss: 0.338, Generator Loss: 1.792\n",
            "Iteration: 90, FID Score: 9.274\n",
            "Iteration: 100, Discriminator Loss: 0.348, Generator Loss: 1.942\n",
            "Iteration: 100, FID Score: 10.156\n",
            "Iteration: 110, Discriminator Loss: 0.259, Generator Loss: 2.127\n",
            "Iteration: 110, FID Score: 9.511\n",
            "Iteration: 120, Discriminator Loss: 0.196, Generator Loss: 2.403\n",
            "Iteration: 120, FID Score: 9.774\n",
            "Iteration: 130, Discriminator Loss: 0.237, Generator Loss: 2.279\n",
            "Iteration: 130, FID Score: 9.433\n",
            "Iteration: 140, Discriminator Loss: 0.281, Generator Loss: 2.127\n",
            "Iteration: 140, FID Score: 9.067\n",
            "Iteration: 150, Discriminator Loss: 0.234, Generator Loss: 2.195\n",
            "Iteration: 150, FID Score: 10.184\n",
            "Iteration: 160, Discriminator Loss: 0.197, Generator Loss: 2.403\n",
            "Iteration: 160, FID Score: 10.619\n",
            "Iteration: 170, Discriminator Loss: 0.162, Generator Loss: 2.550\n",
            "Iteration: 170, FID Score: 10.286\n",
            "Iteration: 180, Discriminator Loss: 0.128, Generator Loss: 2.728\n",
            "Failed to find a square root.\n",
            "Iteration: 180, FID Score: nan\n",
            "Iteration: 190, Discriminator Loss: 0.139, Generator Loss: 2.711\n",
            "Failed to find a square root.\n",
            "Iteration: 190, FID Score: nan\n",
            "Iteration: 200, Discriminator Loss: 0.101, Generator Loss: 3.009\n",
            "Failed to find a square root.\n",
            "Iteration: 200, FID Score: nan\n",
            "Iteration: 210, Discriminator Loss: 0.115, Generator Loss: 2.816\n",
            "Failed to find a square root.\n",
            "Iteration: 210, FID Score: nan\n",
            "Iteration: 220, Discriminator Loss: 0.146, Generator Loss: 3.110\n",
            "Failed to find a square root.\n",
            "Iteration: 220, FID Score: nan\n",
            "Iteration: 230, Discriminator Loss: 0.076, Generator Loss: 3.270\n",
            "Failed to find a square root.\n",
            "Iteration: 230, FID Score: nan\n",
            "Iteration: 240, Discriminator Loss: 0.071, Generator Loss: 3.188\n",
            "Iteration: 240, FID Score: 11.638\n",
            "Iteration: 250, Discriminator Loss: 0.082, Generator Loss: 3.073\n",
            "Failed to find a square root.\n",
            "Iteration: 250, FID Score: nan\n",
            "Iteration: 260, Discriminator Loss: 0.066, Generator Loss: 3.177\n",
            "Failed to find a square root.\n",
            "Iteration: 260, FID Score: nan\n",
            "Iteration: 270, Discriminator Loss: 0.080, Generator Loss: 3.170\n",
            "Failed to find a square root.\n",
            "Iteration: 270, FID Score: nan\n",
            "Iteration: 280, Discriminator Loss: 0.055, Generator Loss: 3.581\n",
            "Failed to find a square root.\n",
            "Iteration: 280, FID Score: nan\n",
            "Iteration: 290, Discriminator Loss: 0.058, Generator Loss: 3.255\n",
            "Failed to find a square root.\n",
            "Iteration: 290, FID Score: nan\n",
            "Iteration: 300, Discriminator Loss: 0.177, Generator Loss: 2.462\n",
            "Iteration: 300, FID Score: 9.653\n",
            "Iteration: 310, Discriminator Loss: 0.122, Generator Loss: 2.672\n",
            "Iteration: 310, FID Score: 8.447\n",
            "Iteration: 320, Discriminator Loss: 0.428, Generator Loss: 1.704\n",
            "Iteration: 320, FID Score: 8.544\n",
            "Iteration: 330, Discriminator Loss: 0.194, Generator Loss: 3.339\n",
            "Iteration: 330, FID Score: 9.958\n",
            "Iteration: 340, Discriminator Loss: 0.124, Generator Loss: 3.487\n",
            "Failed to find a square root.\n",
            "Iteration: 340, FID Score: nan\n",
            "Iteration: 350, Discriminator Loss: 0.333, Generator Loss: 2.152\n",
            "Failed to find a square root.\n",
            "Iteration: 350, FID Score: nan\n",
            "Iteration: 360, Discriminator Loss: 0.180, Generator Loss: 2.770\n",
            "Failed to find a square root.\n",
            "Iteration: 360, FID Score: nan\n",
            "Iteration: 370, Discriminator Loss: 0.275, Generator Loss: 2.118\n",
            "Iteration: 370, FID Score: 9.870\n",
            "Iteration: 380, Discriminator Loss: 0.105, Generator Loss: 3.132\n",
            "Failed to find a square root.\n",
            "Iteration: 380, FID Score: nan\n",
            "Iteration: 390, Discriminator Loss: 0.096, Generator Loss: 3.418\n",
            "Failed to find a square root.\n",
            "Iteration: 390, FID Score: nan\n",
            "Iteration: 400, Discriminator Loss: 0.213, Generator Loss: 3.848\n",
            "Failed to find a square root.\n",
            "Iteration: 400, FID Score: nan\n",
            "Iteration: 410, Discriminator Loss: 0.181, Generator Loss: 2.724\n",
            "Failed to find a square root.\n",
            "Iteration: 410, FID Score: nan\n",
            "Iteration: 420, Discriminator Loss: 0.279, Generator Loss: 2.584\n",
            "Iteration: 420, FID Score: 9.990\n",
            "Iteration: 430, Discriminator Loss: 0.142, Generator Loss: 3.086\n",
            "Failed to find a square root.\n",
            "Iteration: 430, FID Score: nan\n",
            "Iteration: 440, Discriminator Loss: 0.326, Generator Loss: 2.739\n",
            "Iteration: 440, FID Score: 10.461\n",
            "Iteration: 450, Discriminator Loss: 0.116, Generator Loss: 3.489\n",
            "Iteration: 450, FID Score: 9.488\n",
            "Iteration: 460, Discriminator Loss: 0.166, Generator Loss: 2.981\n",
            "Iteration: 460, FID Score: 9.829\n",
            "Iteration: 470, Discriminator Loss: 0.144, Generator Loss: 2.936\n",
            "Iteration: 470, FID Score: 9.795\n",
            "Iteration: 480, Discriminator Loss: 0.223, Generator Loss: 2.827\n",
            "Iteration: 480, FID Score: 9.219\n",
            "Iteration: 490, Discriminator Loss: 0.073, Generator Loss: 3.521\n",
            "Iteration: 490, FID Score: 9.048\n",
            "Iteration: 500, Discriminator Loss: 0.105, Generator Loss: 3.732\n",
            "Iteration: 500, FID Score: 7.593\n",
            "Iteration: 10, Discriminator Loss: 0.028, Generator Loss: 4.435\n",
            "Iteration: 10, FID Score: 13.001\n",
            "Iteration: 20, Discriminator Loss: 0.048, Generator Loss: 4.080\n",
            "Iteration: 20, FID Score: 13.247\n",
            "Iteration: 30, Discriminator Loss: 0.138, Generator Loss: 4.125\n",
            "Iteration: 30, FID Score: 9.688\n",
            "Iteration: 40, Discriminator Loss: 0.121, Generator Loss: 2.985\n",
            "Iteration: 40, FID Score: 9.269\n",
            "Iteration: 50, Discriminator Loss: 0.091, Generator Loss: 3.682\n",
            "Iteration: 50, FID Score: 9.902\n",
            "Iteration: 60, Discriminator Loss: 0.106, Generator Loss: 3.443\n",
            "Iteration: 60, FID Score: 9.848\n",
            "Iteration: 70, Discriminator Loss: 0.237, Generator Loss: 3.161\n",
            "Iteration: 70, FID Score: 10.098\n",
            "Iteration: 80, Discriminator Loss: 0.355, Generator Loss: 2.378\n",
            "Iteration: 80, FID Score: 10.696\n",
            "Iteration: 90, Discriminator Loss: 0.207, Generator Loss: 3.013\n",
            "Iteration: 90, FID Score: 10.218\n",
            "Iteration: 100, Discriminator Loss: 0.233, Generator Loss: 3.337\n",
            "Iteration: 100, FID Score: 9.052\n",
            "Iteration: 110, Discriminator Loss: 0.134, Generator Loss: 3.621\n",
            "Failed to find a square root.\n",
            "Iteration: 110, FID Score: nan\n",
            "Iteration: 120, Discriminator Loss: 0.285, Generator Loss: 2.469\n",
            "Iteration: 120, FID Score: 8.785\n",
            "Iteration: 130, Discriminator Loss: 0.327, Generator Loss: 2.469\n",
            "Iteration: 130, FID Score: 8.519\n",
            "Iteration: 140, Discriminator Loss: 0.090, Generator Loss: 4.196\n",
            "Iteration: 140, FID Score: 9.094\n",
            "Iteration: 150, Discriminator Loss: 0.456, Generator Loss: 2.579\n",
            "Iteration: 150, FID Score: 9.570\n",
            "Iteration: 160, Discriminator Loss: 0.103, Generator Loss: 4.724\n",
            "Failed to find a square root.\n",
            "Iteration: 160, FID Score: nan\n",
            "Iteration: 170, Discriminator Loss: 0.107, Generator Loss: 3.794\n",
            "Iteration: 170, FID Score: 10.605\n",
            "Iteration: 180, Discriminator Loss: 0.542, Generator Loss: 2.287\n",
            "Iteration: 180, FID Score: 10.278\n",
            "Iteration: 190, Discriminator Loss: 0.085, Generator Loss: 3.866\n",
            "Iteration: 190, FID Score: 9.796\n",
            "Iteration: 200, Discriminator Loss: 0.200, Generator Loss: 2.703\n",
            "Iteration: 200, FID Score: 9.016\n",
            "Iteration: 210, Discriminator Loss: 0.128, Generator Loss: 2.837\n",
            "Failed to find a square root.\n",
            "Iteration: 210, FID Score: nan\n",
            "Iteration: 220, Discriminator Loss: 0.084, Generator Loss: 3.530\n",
            "Iteration: 220, FID Score: 8.702\n",
            "Iteration: 230, Discriminator Loss: 0.035, Generator Loss: 4.603\n",
            "Failed to find a square root.\n",
            "Iteration: 230, FID Score: nan\n",
            "Iteration: 240, Discriminator Loss: 0.031, Generator Loss: 5.348\n",
            "Iteration: 240, FID Score: 8.382\n",
            "Iteration: 250, Discriminator Loss: 0.130, Generator Loss: 3.305\n",
            "Failed to find a square root.\n",
            "Iteration: 250, FID Score: nan\n",
            "Iteration: 260, Discriminator Loss: 0.170, Generator Loss: 3.414\n",
            "Iteration: 260, FID Score: 10.273\n",
            "Iteration: 270, Discriminator Loss: 0.065, Generator Loss: 4.037\n",
            "Iteration: 270, FID Score: 10.895\n",
            "Iteration: 280, Discriminator Loss: 0.044, Generator Loss: 4.784\n",
            "Iteration: 280, FID Score: 9.426\n",
            "Iteration: 290, Discriminator Loss: 0.034, Generator Loss: 5.868\n",
            "Iteration: 290, FID Score: 9.282\n",
            "Iteration: 300, Discriminator Loss: 0.023, Generator Loss: 4.985\n",
            "Iteration: 300, FID Score: 9.062\n",
            "Iteration: 310, Discriminator Loss: 0.158, Generator Loss: 3.214\n",
            "Iteration: 310, FID Score: 9.888\n",
            "Iteration: 320, Discriminator Loss: 0.048, Generator Loss: 4.097\n",
            "Iteration: 320, FID Score: 10.268\n",
            "Iteration: 330, Discriminator Loss: 0.191, Generator Loss: 3.451\n",
            "Failed to find a square root.\n",
            "Iteration: 330, FID Score: nan\n",
            "Iteration: 340, Discriminator Loss: 0.080, Generator Loss: 4.043\n",
            "Iteration: 340, FID Score: 8.894\n",
            "Iteration: 350, Discriminator Loss: 0.089, Generator Loss: 3.981\n",
            "Iteration: 350, FID Score: 8.881\n",
            "Iteration: 360, Discriminator Loss: 0.096, Generator Loss: 4.046\n",
            "Iteration: 360, FID Score: 9.559\n",
            "Iteration: 370, Discriminator Loss: 0.090, Generator Loss: 3.593\n",
            "Iteration: 370, FID Score: 9.371\n",
            "Iteration: 380, Discriminator Loss: 0.153, Generator Loss: 3.327\n",
            "Iteration: 380, FID Score: 8.865\n",
            "Iteration: 390, Discriminator Loss: 0.042, Generator Loss: 5.516\n",
            "Iteration: 390, FID Score: 9.329\n",
            "Iteration: 400, Discriminator Loss: 0.091, Generator Loss: 4.097\n",
            "Iteration: 400, FID Score: 8.856\n",
            "Iteration: 410, Discriminator Loss: 0.016, Generator Loss: 5.878\n",
            "Failed to find a square root.\n",
            "Iteration: 410, FID Score: nan\n",
            "Iteration: 420, Discriminator Loss: 0.072, Generator Loss: 3.796\n",
            "Iteration: 420, FID Score: 8.860\n",
            "Iteration: 430, Discriminator Loss: 0.063, Generator Loss: 4.697\n",
            "Iteration: 430, FID Score: 9.105\n",
            "Iteration: 440, Discriminator Loss: 0.069, Generator Loss: 5.039\n",
            "Iteration: 440, FID Score: 8.681\n",
            "Iteration: 450, Discriminator Loss: 0.028, Generator Loss: 5.949\n",
            "Iteration: 450, FID Score: 9.215\n",
            "Iteration: 460, Discriminator Loss: 0.058, Generator Loss: 5.107\n",
            "Failed to find a square root.\n",
            "Iteration: 460, FID Score: nan\n",
            "Iteration: 470, Discriminator Loss: 0.270, Generator Loss: 4.273\n",
            "Iteration: 470, FID Score: 9.593\n",
            "Iteration: 480, Discriminator Loss: 0.046, Generator Loss: 5.076\n",
            "Iteration: 480, FID Score: 8.623\n",
            "Iteration: 490, Discriminator Loss: 0.032, Generator Loss: 5.353\n",
            "Iteration: 490, FID Score: 9.707\n",
            "Iteration: 500, Discriminator Loss: 0.075, Generator Loss: 4.437\n",
            "Failed to find a square root.\n",
            "Iteration: 500, FID Score: nan\n",
            "Iteration: 10, Discriminator Loss: 0.135, Generator Loss: 3.928\n",
            "Iteration: 10, FID Score: 12.674\n",
            "Iteration: 20, Discriminator Loss: 0.015, Generator Loss: 5.040\n",
            "Failed to find a square root.\n",
            "Iteration: 20, FID Score: nan\n",
            "Iteration: 30, Discriminator Loss: 0.023, Generator Loss: 5.718\n",
            "Failed to find a square root.\n",
            "Iteration: 30, FID Score: nan\n",
            "Iteration: 40, Discriminator Loss: 0.017, Generator Loss: 5.691\n",
            "Iteration: 40, FID Score: 12.241\n",
            "Iteration: 50, Discriminator Loss: 0.018, Generator Loss: 5.348\n",
            "Iteration: 50, FID Score: 11.241\n",
            "Iteration: 60, Discriminator Loss: 0.067, Generator Loss: 4.674\n",
            "Iteration: 60, FID Score: 10.494\n",
            "Iteration: 70, Discriminator Loss: 0.013, Generator Loss: 5.784\n",
            "Iteration: 70, FID Score: 9.848\n",
            "Iteration: 80, Discriminator Loss: 0.011, Generator Loss: 6.606\n",
            "Failed to find a square root.\n",
            "Iteration: 80, FID Score: nan\n",
            "Iteration: 90, Discriminator Loss: 0.030, Generator Loss: 5.661\n",
            "Failed to find a square root.\n",
            "Iteration: 90, FID Score: nan\n",
            "Iteration: 100, Discriminator Loss: 0.015, Generator Loss: 6.857\n",
            "Iteration: 100, FID Score: 8.140\n",
            "Iteration: 110, Discriminator Loss: 0.041, Generator Loss: 6.455\n",
            "Iteration: 110, FID Score: 10.329\n",
            "Iteration: 120, Discriminator Loss: 0.044, Generator Loss: 6.073\n",
            "Iteration: 120, FID Score: 8.640\n",
            "Iteration: 130, Discriminator Loss: 0.039, Generator Loss: 4.822\n",
            "Iteration: 130, FID Score: 8.765\n",
            "Iteration: 140, Discriminator Loss: 0.019, Generator Loss: 6.234\n",
            "Iteration: 140, FID Score: 9.416\n",
            "Iteration: 150, Discriminator Loss: 0.022, Generator Loss: 6.212\n",
            "Iteration: 150, FID Score: 8.527\n",
            "Iteration: 160, Discriminator Loss: 0.019, Generator Loss: 5.998\n",
            "Iteration: 160, FID Score: 9.116\n",
            "Iteration: 170, Discriminator Loss: 0.045, Generator Loss: 4.606\n",
            "Iteration: 170, FID Score: 8.378\n",
            "Iteration: 180, Discriminator Loss: 0.049, Generator Loss: 6.142\n",
            "Iteration: 180, FID Score: 10.336\n",
            "Iteration: 190, Discriminator Loss: 0.039, Generator Loss: 6.904\n",
            "Iteration: 190, FID Score: 11.651\n",
            "Iteration: 200, Discriminator Loss: 0.046, Generator Loss: 4.308\n",
            "Iteration: 200, FID Score: 10.409\n",
            "Iteration: 210, Discriminator Loss: 0.069, Generator Loss: 4.560\n",
            "Iteration: 210, FID Score: 11.445\n",
            "Iteration: 220, Discriminator Loss: 0.034, Generator Loss: 5.106\n",
            "Iteration: 220, FID Score: 9.218\n",
            "Iteration: 230, Discriminator Loss: 0.062, Generator Loss: 5.763\n",
            "Iteration: 230, FID Score: 9.755\n",
            "Iteration: 240, Discriminator Loss: 0.014, Generator Loss: 6.097\n",
            "Iteration: 240, FID Score: 10.582\n",
            "Iteration: 250, Discriminator Loss: 0.014, Generator Loss: 5.965\n",
            "Iteration: 250, FID Score: 10.001\n",
            "Iteration: 260, Discriminator Loss: 0.014, Generator Loss: 6.278\n",
            "Iteration: 260, FID Score: 9.991\n",
            "Iteration: 270, Discriminator Loss: 0.073, Generator Loss: 4.582\n",
            "Iteration: 270, FID Score: 8.141\n",
            "Iteration: 280, Discriminator Loss: 0.034, Generator Loss: 5.066\n",
            "Iteration: 280, FID Score: 8.753\n",
            "Iteration: 290, Discriminator Loss: 0.042, Generator Loss: 5.273\n",
            "Failed to find a square root.\n",
            "Iteration: 290, FID Score: nan\n",
            "Iteration: 300, Discriminator Loss: 0.069, Generator Loss: 4.033\n",
            "Iteration: 300, FID Score: 9.474\n",
            "Iteration: 310, Discriminator Loss: 0.017, Generator Loss: 7.277\n",
            "Iteration: 310, FID Score: 10.385\n",
            "Iteration: 320, Discriminator Loss: 0.023, Generator Loss: 4.998\n",
            "Iteration: 320, FID Score: 8.620\n",
            "Iteration: 330, Discriminator Loss: 0.023, Generator Loss: 8.193\n",
            "Failed to find a square root.\n",
            "Iteration: 330, FID Score: nan\n",
            "Iteration: 340, Discriminator Loss: 0.016, Generator Loss: 7.118\n",
            "Iteration: 340, FID Score: 9.126\n",
            "Iteration: 350, Discriminator Loss: 0.149, Generator Loss: 4.558\n",
            "Iteration: 350, FID Score: 8.885\n",
            "Iteration: 360, Discriminator Loss: 0.043, Generator Loss: 4.982\n",
            "Iteration: 360, FID Score: 9.893\n",
            "Iteration: 370, Discriminator Loss: 0.027, Generator Loss: 5.011\n",
            "Iteration: 370, FID Score: 8.940\n",
            "Iteration: 380, Discriminator Loss: 0.011, Generator Loss: 10.161\n",
            "Iteration: 380, FID Score: 10.445\n",
            "Iteration: 390, Discriminator Loss: 0.015, Generator Loss: 5.741\n",
            "Iteration: 390, FID Score: 8.746\n",
            "Iteration: 400, Discriminator Loss: 0.024, Generator Loss: 5.076\n",
            "Iteration: 400, FID Score: 9.156\n",
            "Iteration: 410, Discriminator Loss: 0.126, Generator Loss: 5.249\n",
            "Iteration: 410, FID Score: 8.821\n",
            "Iteration: 420, Discriminator Loss: 0.051, Generator Loss: 4.817\n",
            "Iteration: 420, FID Score: 9.811\n",
            "Iteration: 430, Discriminator Loss: 0.084, Generator Loss: 5.228\n",
            "Iteration: 430, FID Score: 8.901\n",
            "Iteration: 440, Discriminator Loss: 0.085, Generator Loss: 5.625\n",
            "Iteration: 440, FID Score: 9.716\n",
            "Iteration: 450, Discriminator Loss: 0.016, Generator Loss: 5.930\n",
            "Iteration: 450, FID Score: 10.233\n",
            "Iteration: 460, Discriminator Loss: 0.013, Generator Loss: 6.475\n",
            "Iteration: 460, FID Score: 10.632\n",
            "Iteration: 470, Discriminator Loss: 0.009, Generator Loss: 7.188\n",
            "Iteration: 470, FID Score: 11.376\n",
            "Iteration: 480, Discriminator Loss: 0.030, Generator Loss: 5.778\n",
            "Iteration: 480, FID Score: 10.831\n",
            "Iteration: 490, Discriminator Loss: 0.039, Generator Loss: 5.194\n",
            "Iteration: 490, FID Score: 10.715\n",
            "Iteration: 500, Discriminator Loss: 0.369, Generator Loss: 3.360\n",
            "Iteration: 500, FID Score: 9.366\n",
            "Iteration: 10, Discriminator Loss: 0.005, Generator Loss: 6.501\n",
            "Failed to find a square root.\n",
            "Iteration: 10, FID Score: nan\n",
            "Iteration: 20, Discriminator Loss: 0.012, Generator Loss: 6.745\n",
            "Failed to find a square root.\n",
            "Iteration: 20, FID Score: nan\n",
            "Iteration: 30, Discriminator Loss: 0.017, Generator Loss: 5.807\n",
            "Iteration: 30, FID Score: 12.268\n",
            "Iteration: 40, Discriminator Loss: 0.032, Generator Loss: 4.260\n",
            "Failed to find a square root.\n",
            "Iteration: 40, FID Score: nan\n",
            "Iteration: 50, Discriminator Loss: 0.012, Generator Loss: 5.878\n",
            "Failed to find a square root.\n",
            "Iteration: 50, FID Score: nan\n",
            "Iteration: 60, Discriminator Loss: 0.016, Generator Loss: 5.263\n",
            "Failed to find a square root.\n",
            "Iteration: 60, FID Score: nan\n",
            "Iteration: 70, Discriminator Loss: 0.005, Generator Loss: 7.031\n",
            "Failed to find a square root.\n",
            "Iteration: 70, FID Score: nan\n",
            "Iteration: 80, Discriminator Loss: 0.007, Generator Loss: 6.481\n",
            "Failed to find a square root.\n",
            "Iteration: 80, FID Score: nan\n",
            "Iteration: 90, Discriminator Loss: 0.008, Generator Loss: 6.597\n",
            "Iteration: 90, FID Score: 10.276\n",
            "Iteration: 100, Discriminator Loss: 0.013, Generator Loss: 7.305\n",
            "Iteration: 100, FID Score: 9.392\n",
            "Iteration: 110, Discriminator Loss: 0.064, Generator Loss: 4.550\n",
            "Iteration: 110, FID Score: 8.401\n",
            "Iteration: 120, Discriminator Loss: 0.036, Generator Loss: 4.999\n",
            "Iteration: 120, FID Score: 8.973\n",
            "Iteration: 130, Discriminator Loss: 0.019, Generator Loss: 5.649\n",
            "Iteration: 130, FID Score: 9.540\n",
            "Iteration: 140, Discriminator Loss: 0.022, Generator Loss: 4.943\n",
            "Iteration: 140, FID Score: 8.750\n",
            "Iteration: 150, Discriminator Loss: 0.077, Generator Loss: 4.225\n",
            "Iteration: 150, FID Score: 9.051\n",
            "Iteration: 160, Discriminator Loss: 0.018, Generator Loss: 7.975\n",
            "Failed to find a square root.\n",
            "Iteration: 160, FID Score: nan\n",
            "Iteration: 170, Discriminator Loss: 0.026, Generator Loss: 6.062\n",
            "Iteration: 170, FID Score: 8.918\n",
            "Iteration: 180, Discriminator Loss: 0.026, Generator Loss: 5.304\n",
            "Iteration: 180, FID Score: 8.429\n",
            "Iteration: 190, Discriminator Loss: 0.007, Generator Loss: 7.054\n",
            "Iteration: 190, FID Score: 9.142\n",
            "Iteration: 200, Discriminator Loss: 0.042, Generator Loss: 6.962\n",
            "Failed to find a square root.\n",
            "Iteration: 200, FID Score: nan\n",
            "Iteration: 210, Discriminator Loss: 0.009, Generator Loss: 6.280\n",
            "Iteration: 210, FID Score: 10.579\n",
            "Iteration: 220, Discriminator Loss: 0.009, Generator Loss: 6.871\n",
            "Iteration: 220, FID Score: 9.370\n",
            "Iteration: 230, Discriminator Loss: 0.037, Generator Loss: 5.028\n",
            "Iteration: 230, FID Score: 8.520\n",
            "Iteration: 240, Discriminator Loss: 0.095, Generator Loss: 4.479\n",
            "Iteration: 240, FID Score: 11.218\n",
            "Iteration: 250, Discriminator Loss: 0.024, Generator Loss: 5.661\n",
            "Iteration: 250, FID Score: 9.960\n",
            "Iteration: 260, Discriminator Loss: 0.034, Generator Loss: 8.462\n",
            "Iteration: 260, FID Score: 10.385\n",
            "Iteration: 270, Discriminator Loss: 0.660, Generator Loss: 3.268\n",
            "Iteration: 270, FID Score: 10.373\n",
            "Iteration: 280, Discriminator Loss: 0.031, Generator Loss: 7.122\n",
            "Iteration: 280, FID Score: 11.401\n",
            "Iteration: 290, Discriminator Loss: 0.014, Generator Loss: 7.823\n",
            "Failed to find a square root.\n",
            "Iteration: 290, FID Score: nan\n",
            "Iteration: 300, Discriminator Loss: 0.009, Generator Loss: 6.020\n",
            "Iteration: 300, FID Score: 10.321\n",
            "Iteration: 310, Discriminator Loss: 0.004, Generator Loss: 6.864\n",
            "Iteration: 310, FID Score: 10.787\n",
            "Iteration: 320, Discriminator Loss: 0.013, Generator Loss: 7.640\n",
            "Iteration: 320, FID Score: 10.816\n",
            "Iteration: 330, Discriminator Loss: 0.014, Generator Loss: 5.852\n",
            "Iteration: 330, FID Score: 9.945\n",
            "Iteration: 340, Discriminator Loss: 0.064, Generator Loss: 4.124\n",
            "Iteration: 340, FID Score: 9.930\n",
            "Iteration: 350, Discriminator Loss: 0.015, Generator Loss: 6.573\n",
            "Iteration: 350, FID Score: 9.342\n",
            "Iteration: 360, Discriminator Loss: 0.030, Generator Loss: 5.546\n",
            "Failed to find a square root.\n",
            "Iteration: 360, FID Score: nan\n",
            "Iteration: 370, Discriminator Loss: 0.072, Generator Loss: 3.939\n",
            "Iteration: 370, FID Score: 9.277\n",
            "Iteration: 380, Discriminator Loss: 0.015, Generator Loss: 5.052\n",
            "Iteration: 380, FID Score: 9.772\n",
            "Iteration: 390, Discriminator Loss: 0.148, Generator Loss: 3.548\n",
            "Iteration: 390, FID Score: 10.106\n",
            "Iteration: 400, Discriminator Loss: 0.238, Generator Loss: 4.216\n",
            "Failed to find a square root.\n",
            "Iteration: 400, FID Score: nan\n",
            "Iteration: 410, Discriminator Loss: 0.025, Generator Loss: 5.842\n",
            "Iteration: 410, FID Score: 7.952\n",
            "Iteration: 420, Discriminator Loss: 0.006, Generator Loss: 7.670\n",
            "Failed to find a square root.\n",
            "Iteration: 420, FID Score: nan\n",
            "Iteration: 430, Discriminator Loss: 0.022, Generator Loss: 6.487\n",
            "Iteration: 430, FID Score: 8.624\n",
            "Iteration: 440, Discriminator Loss: 0.016, Generator Loss: 6.287\n",
            "Iteration: 440, FID Score: 9.541\n",
            "Iteration: 450, Discriminator Loss: 0.006, Generator Loss: 8.364\n",
            "Iteration: 450, FID Score: 9.647\n",
            "Iteration: 460, Discriminator Loss: 0.053, Generator Loss: 6.355\n",
            "Iteration: 460, FID Score: 9.163\n",
            "Iteration: 470, Discriminator Loss: 0.008, Generator Loss: 8.996\n",
            "Failed to find a square root.\n",
            "Iteration: 470, FID Score: nan\n",
            "Iteration: 480, Discriminator Loss: 0.074, Generator Loss: 5.280\n",
            "Iteration: 480, FID Score: 9.460\n",
            "Iteration: 490, Discriminator Loss: 0.016, Generator Loss: 6.569\n",
            "Iteration: 490, FID Score: 9.625\n",
            "Iteration: 500, Discriminator Loss: 0.010, Generator Loss: 7.312\n",
            "Iteration: 500, FID Score: 10.315\n",
            "Iteration: 10, Discriminator Loss: 0.003, Generator Loss: 8.686\n",
            "Failed to find a square root.\n",
            "Iteration: 10, FID Score: nan\n",
            "Iteration: 20, Discriminator Loss: 0.006, Generator Loss: 5.913\n",
            "Iteration: 20, FID Score: 9.987\n",
            "Iteration: 30, Discriminator Loss: 0.021, Generator Loss: 5.274\n",
            "Iteration: 30, FID Score: 11.062\n",
            "Iteration: 40, Discriminator Loss: 0.025, Generator Loss: 5.537\n",
            "Failed to find a square root.\n",
            "Iteration: 40, FID Score: nan\n",
            "Iteration: 50, Discriminator Loss: 0.011, Generator Loss: 6.448\n",
            "Failed to find a square root.\n",
            "Iteration: 50, FID Score: nan\n",
            "Iteration: 60, Discriminator Loss: 0.012, Generator Loss: 6.752\n",
            "Failed to find a square root.\n",
            "Iteration: 60, FID Score: nan\n",
            "Iteration: 70, Discriminator Loss: 0.011, Generator Loss: 7.192\n",
            "Failed to find a square root.\n",
            "Iteration: 70, FID Score: nan\n",
            "Iteration: 80, Discriminator Loss: 0.004, Generator Loss: 7.118\n",
            "Failed to find a square root.\n",
            "Iteration: 80, FID Score: nan\n",
            "Iteration: 90, Discriminator Loss: 0.034, Generator Loss: 5.462\n",
            "Failed to find a square root.\n",
            "Iteration: 90, FID Score: nan\n",
            "Iteration: 100, Discriminator Loss: 0.004, Generator Loss: 7.132\n",
            "Iteration: 100, FID Score: 8.892\n",
            "Iteration: 110, Discriminator Loss: 0.004, Generator Loss: 7.104\n",
            "Failed to find a square root.\n",
            "Iteration: 110, FID Score: nan\n",
            "Iteration: 120, Discriminator Loss: 0.015, Generator Loss: 6.189\n",
            "Iteration: 120, FID Score: 9.758\n",
            "Iteration: 130, Discriminator Loss: 0.021, Generator Loss: 6.249\n",
            "Failed to find a square root.\n",
            "Iteration: 130, FID Score: nan\n",
            "Iteration: 140, Discriminator Loss: 0.031, Generator Loss: 6.036\n",
            "Failed to find a square root.\n",
            "Iteration: 140, FID Score: nan\n",
            "Iteration: 150, Discriminator Loss: 0.001, Generator Loss: 8.898\n",
            "Failed to find a square root.\n",
            "Iteration: 150, FID Score: nan\n",
            "Iteration: 160, Discriminator Loss: 0.011, Generator Loss: 5.531\n",
            "Failed to find a square root.\n",
            "Iteration: 160, FID Score: nan\n",
            "Iteration: 170, Discriminator Loss: 0.014, Generator Loss: 6.800\n",
            "Failed to find a square root.\n",
            "Iteration: 170, FID Score: nan\n",
            "Iteration: 180, Discriminator Loss: 0.008, Generator Loss: 6.323\n",
            "Iteration: 180, FID Score: 9.551\n",
            "Iteration: 190, Discriminator Loss: 0.005, Generator Loss: 6.415\n",
            "Iteration: 190, FID Score: 10.022\n",
            "Iteration: 200, Discriminator Loss: 0.068, Generator Loss: 4.708\n",
            "Iteration: 200, FID Score: 9.111\n",
            "Iteration: 210, Discriminator Loss: 0.003, Generator Loss: 7.767\n",
            "Iteration: 210, FID Score: 9.543\n",
            "Iteration: 220, Discriminator Loss: 0.043, Generator Loss: 5.917\n",
            "Iteration: 220, FID Score: 8.210\n",
            "Iteration: 230, Discriminator Loss: 0.013, Generator Loss: 7.394\n",
            "Iteration: 230, FID Score: 10.321\n",
            "Iteration: 240, Discriminator Loss: 0.002, Generator Loss: 8.172\n",
            "Failed to find a square root.\n",
            "Iteration: 240, FID Score: nan\n",
            "Iteration: 250, Discriminator Loss: 0.004, Generator Loss: 8.260\n",
            "Iteration: 250, FID Score: 9.085\n",
            "Iteration: 260, Discriminator Loss: 0.012, Generator Loss: 6.879\n",
            "Failed to find a square root.\n",
            "Iteration: 260, FID Score: nan\n",
            "Iteration: 270, Discriminator Loss: 0.009, Generator Loss: 6.017\n",
            "Failed to find a square root.\n",
            "Iteration: 270, FID Score: nan\n",
            "Iteration: 280, Discriminator Loss: 0.016, Generator Loss: 7.036\n",
            "Iteration: 280, FID Score: 12.223\n",
            "Iteration: 290, Discriminator Loss: 0.007, Generator Loss: 8.097\n",
            "Iteration: 290, FID Score: 10.115\n",
            "Iteration: 300, Discriminator Loss: 0.018, Generator Loss: 6.862\n",
            "Iteration: 300, FID Score: 10.398\n",
            "Iteration: 310, Discriminator Loss: 0.006, Generator Loss: 7.079\n",
            "Failed to find a square root.\n",
            "Iteration: 310, FID Score: nan\n",
            "Iteration: 320, Discriminator Loss: 0.012, Generator Loss: 7.174\n",
            "Iteration: 320, FID Score: 10.091\n",
            "Iteration: 330, Discriminator Loss: 0.017, Generator Loss: 5.060\n",
            "Iteration: 330, FID Score: 10.069\n",
            "Iteration: 340, Discriminator Loss: 0.022, Generator Loss: 8.818\n",
            "Iteration: 340, FID Score: 9.534\n",
            "Iteration: 350, Discriminator Loss: 0.035, Generator Loss: 5.958\n",
            "Iteration: 350, FID Score: 9.950\n",
            "Iteration: 360, Discriminator Loss: 0.009, Generator Loss: 7.005\n",
            "Iteration: 360, FID Score: 8.761\n",
            "Iteration: 370, Discriminator Loss: 0.013, Generator Loss: 7.758\n",
            "Iteration: 370, FID Score: 10.573\n",
            "Iteration: 380, Discriminator Loss: 0.001, Generator Loss: 7.804\n",
            "Iteration: 380, FID Score: 9.569\n",
            "Iteration: 390, Discriminator Loss: 0.006, Generator Loss: 7.195\n",
            "Iteration: 390, FID Score: 9.596\n",
            "Iteration: 400, Discriminator Loss: 0.002, Generator Loss: 9.562\n",
            "Failed to find a square root.\n",
            "Iteration: 400, FID Score: nan\n",
            "Iteration: 410, Discriminator Loss: 0.006, Generator Loss: 7.748\n",
            "Failed to find a square root.\n",
            "Iteration: 410, FID Score: nan\n",
            "Iteration: 420, Discriminator Loss: 0.002, Generator Loss: 7.743\n",
            "Iteration: 420, FID Score: 9.266\n",
            "Iteration: 430, Discriminator Loss: 0.018, Generator Loss: 7.751\n",
            "Iteration: 430, FID Score: 8.750\n",
            "Iteration: 440, Discriminator Loss: 0.009, Generator Loss: 8.173\n",
            "Iteration: 440, FID Score: 7.999\n",
            "Iteration: 450, Discriminator Loss: 0.006, Generator Loss: 7.569\n",
            "Iteration: 450, FID Score: 7.612\n",
            "Iteration: 460, Discriminator Loss: 0.024, Generator Loss: 6.382\n",
            "Iteration: 460, FID Score: 10.672\n",
            "Iteration: 470, Discriminator Loss: 0.008, Generator Loss: 7.131\n",
            "Iteration: 470, FID Score: 9.647\n",
            "Iteration: 480, Discriminator Loss: 0.002, Generator Loss: 8.168\n",
            "Failed to find a square root.\n",
            "Iteration: 480, FID Score: nan\n",
            "Iteration: 490, Discriminator Loss: 0.004, Generator Loss: 7.349\n",
            "Iteration: 490, FID Score: 9.085\n",
            "Iteration: 500, Discriminator Loss: 0.008, Generator Loss: 7.070\n",
            "Failed to find a square root.\n",
            "Iteration: 500, FID Score: nan\n"
          ]
        }
      ]
    },
    {
      "cell_type": "markdown",
      "source": [
        "### potential issue - get NaNs (will experiment with adding NaN mask or small positive values to deal with this in future)"
      ],
      "metadata": {
        "id": "DykP0Rj29DMl"
      }
    },
    {
      "cell_type": "code",
      "source": [
        "np.savetxt('fid_scores.txt', fid_scores)"
      ],
      "metadata": {
        "id": "uRsB0whwb5Ft"
      },
      "execution_count": null,
      "outputs": []
    },
    {
      "cell_type": "code",
      "source": [
        "print(list_fid_scores)\n",
        "print(list_fid_scores.length)"
      ],
      "metadata": {
        "id": "I4vfvGWhcc-C",
        "outputId": "2616c747-1972-4a9f-d343-cc3b7ccdf8a6",
        "colab": {
          "base_uri": "https://localhost:8080/",
          "height": 196
        }
      },
      "execution_count": 62,
      "outputs": [
        {
          "output_type": "stream",
          "name": "stdout",
          "text": [
            "[[np.float64(14.061498414640448), np.float64(14.515622294293102), np.float64(13.490158077066235), np.float64(13.975227247719296), np.float64(14.478752309090426), np.float64(14.784921757922023), np.float64(14.03533586161088), np.float64(14.538709314946695), np.float64(14.294113601294185), np.float64(14.745621281112069), np.float64(14.244784166251872), np.float64(14.785184796280149), np.float64(14.531840778013141), np.float64(14.714897360983104), np.float64(14.038717714126467), np.float64(13.229676589900961), np.float64(12.863403194772378), np.float64(12.43512829429136), np.float64(13.696409621928048), np.float64(12.32628206754297), np.float64(12.481205519838543), np.float64(12.187171872043205), np.float64(13.08089431405271), np.float64(13.219517669710852), np.float64(12.776112223897485), np.float64(13.31989113905058), np.float64(13.192543829707853), np.float64(13.274195675530095), np.float64(14.166800811460144), np.float64(12.720642738968191), np.float64(12.664241086444004), np.float64(13.249924138524683), np.float64(12.93075248862698), np.float64(12.652540664894547), np.float64(11.003733124899325), np.float64(10.732473243175455), np.float64(12.600839642147907), np.float64(12.3302069841437), np.float64(12.444421519971767), np.float64(nan), np.float64(nan), np.float64(nan), np.float64(nan), np.float64(nan), np.float64(nan), np.float64(nan), np.float64(nan), np.float64(nan), np.float64(nan), np.float64(nan)], [np.float64(14.061498414640448), np.float64(14.515622294293102), np.float64(13.490158077066235), np.float64(13.975227247719296), np.float64(14.478752309090426), np.float64(14.784921757922023), np.float64(14.03533586161088), np.float64(14.538709314946695), np.float64(14.294113601294185), np.float64(14.745621281112069), np.float64(14.244784166251872), np.float64(14.785184796280149), np.float64(14.531840778013141), np.float64(14.714897360983104), np.float64(14.038717714126467), np.float64(13.229676589900961), np.float64(12.863403194772378), np.float64(12.43512829429136), np.float64(13.696409621928048), np.float64(12.32628206754297), np.float64(12.481205519838543), np.float64(12.187171872043205), np.float64(13.08089431405271), np.float64(13.219517669710852), np.float64(12.776112223897485), np.float64(13.31989113905058), np.float64(13.192543829707853), np.float64(13.274195675530095), np.float64(14.166800811460144), np.float64(12.720642738968191), np.float64(12.664241086444004), np.float64(13.249924138524683), np.float64(12.93075248862698), np.float64(12.652540664894547), np.float64(11.003733124899325), np.float64(10.732473243175455), np.float64(12.600839642147907), np.float64(12.3302069841437), np.float64(12.444421519971767), np.float64(nan), np.float64(nan), np.float64(nan), np.float64(nan), np.float64(nan), np.float64(nan), np.float64(nan), np.float64(nan), np.float64(nan), np.float64(nan), np.float64(nan)], [np.float64(14.061498414640448), np.float64(14.515622294293102), np.float64(13.490158077066235), np.float64(13.975227247719296), np.float64(14.478752309090426), np.float64(14.784921757922023), np.float64(14.03533586161088), np.float64(14.538709314946695), np.float64(14.294113601294185), np.float64(14.745621281112069), np.float64(14.244784166251872), np.float64(14.785184796280149), np.float64(14.531840778013141), np.float64(14.714897360983104), np.float64(14.038717714126467), np.float64(13.229676589900961), np.float64(12.863403194772378), np.float64(12.43512829429136), np.float64(13.696409621928048), np.float64(12.32628206754297), np.float64(12.481205519838543), np.float64(12.187171872043205), np.float64(13.08089431405271), np.float64(13.219517669710852), np.float64(12.776112223897485), np.float64(13.31989113905058), np.float64(13.192543829707853), np.float64(13.274195675530095), np.float64(14.166800811460144), np.float64(12.720642738968191), np.float64(12.664241086444004), np.float64(13.249924138524683), np.float64(12.93075248862698), np.float64(12.652540664894547), np.float64(11.003733124899325), np.float64(10.732473243175455), np.float64(12.600839642147907), np.float64(12.3302069841437), np.float64(12.444421519971767), np.float64(nan), np.float64(nan), np.float64(nan), np.float64(nan), np.float64(nan), np.float64(nan), np.float64(nan), np.float64(nan), np.float64(nan), np.float64(nan), np.float64(nan)], [np.float64(14.061498414640448), np.float64(14.515622294293102), np.float64(13.490158077066235), np.float64(13.975227247719296), np.float64(14.478752309090426), np.float64(14.784921757922023), np.float64(14.03533586161088), np.float64(14.538709314946695), np.float64(14.294113601294185), np.float64(14.745621281112069), np.float64(14.244784166251872), np.float64(14.785184796280149), np.float64(14.531840778013141), np.float64(14.714897360983104), np.float64(14.038717714126467), np.float64(13.229676589900961), np.float64(12.863403194772378), np.float64(12.43512829429136), np.float64(13.696409621928048), np.float64(12.32628206754297), np.float64(12.481205519838543), np.float64(12.187171872043205), np.float64(13.08089431405271), np.float64(13.219517669710852), np.float64(12.776112223897485), np.float64(13.31989113905058), np.float64(13.192543829707853), np.float64(13.274195675530095), np.float64(14.166800811460144), np.float64(12.720642738968191), np.float64(12.664241086444004), np.float64(13.249924138524683), np.float64(12.93075248862698), np.float64(12.652540664894547), np.float64(11.003733124899325), np.float64(10.732473243175455), np.float64(12.600839642147907), np.float64(12.3302069841437), np.float64(12.444421519971767), np.float64(nan), np.float64(nan), np.float64(nan), np.float64(nan), np.float64(nan), np.float64(nan), np.float64(nan), np.float64(nan), np.float64(nan), np.float64(nan), np.float64(nan)], [np.float64(14.061498414640448), np.float64(14.515622294293102), np.float64(13.490158077066235), np.float64(13.975227247719296), np.float64(14.478752309090426), np.float64(14.784921757922023), np.float64(14.03533586161088), np.float64(14.538709314946695), np.float64(14.294113601294185), np.float64(14.745621281112069), np.float64(14.244784166251872), np.float64(14.785184796280149), np.float64(14.531840778013141), np.float64(14.714897360983104), np.float64(14.038717714126467), np.float64(13.229676589900961), np.float64(12.863403194772378), np.float64(12.43512829429136), np.float64(13.696409621928048), np.float64(12.32628206754297), np.float64(12.481205519838543), np.float64(12.187171872043205), np.float64(13.08089431405271), np.float64(13.219517669710852), np.float64(12.776112223897485), np.float64(13.31989113905058), np.float64(13.192543829707853), np.float64(13.274195675530095), np.float64(14.166800811460144), np.float64(12.720642738968191), np.float64(12.664241086444004), np.float64(13.249924138524683), np.float64(12.93075248862698), np.float64(12.652540664894547), np.float64(11.003733124899325), np.float64(10.732473243175455), np.float64(12.600839642147907), np.float64(12.3302069841437), np.float64(12.444421519971767), np.float64(nan), np.float64(nan), np.float64(nan), np.float64(nan), np.float64(nan), np.float64(nan), np.float64(nan), np.float64(nan), np.float64(nan), np.float64(nan), np.float64(nan)], [np.float64(14.061498414640448), np.float64(14.515622294293102), np.float64(13.490158077066235), np.float64(13.975227247719296), np.float64(14.478752309090426), np.float64(14.784921757922023), np.float64(14.03533586161088), np.float64(14.538709314946695), np.float64(14.294113601294185), np.float64(14.745621281112069), np.float64(14.244784166251872), np.float64(14.785184796280149), np.float64(14.531840778013141), np.float64(14.714897360983104), np.float64(14.038717714126467), np.float64(13.229676589900961), np.float64(12.863403194772378), np.float64(12.43512829429136), np.float64(13.696409621928048), np.float64(12.32628206754297), np.float64(12.481205519838543), np.float64(12.187171872043205), np.float64(13.08089431405271), np.float64(13.219517669710852), np.float64(12.776112223897485), np.float64(13.31989113905058), np.float64(13.192543829707853), np.float64(13.274195675530095), np.float64(14.166800811460144), np.float64(12.720642738968191), np.float64(12.664241086444004), np.float64(13.249924138524683), np.float64(12.93075248862698), np.float64(12.652540664894547), np.float64(11.003733124899325), np.float64(10.732473243175455), np.float64(12.600839642147907), np.float64(12.3302069841437), np.float64(12.444421519971767), np.float64(nan), np.float64(nan), np.float64(nan), np.float64(nan), np.float64(nan), np.float64(nan), np.float64(nan), np.float64(nan), np.float64(nan), np.float64(nan), np.float64(nan)], [np.float64(14.061498414640448), np.float64(14.515622294293102), np.float64(13.490158077066235), np.float64(13.975227247719296), np.float64(14.478752309090426), np.float64(14.784921757922023), np.float64(14.03533586161088), np.float64(14.538709314946695), np.float64(14.294113601294185), np.float64(14.745621281112069), np.float64(14.244784166251872), np.float64(14.785184796280149), np.float64(14.531840778013141), np.float64(14.714897360983104), np.float64(14.038717714126467), np.float64(13.229676589900961), np.float64(12.863403194772378), np.float64(12.43512829429136), np.float64(13.696409621928048), np.float64(12.32628206754297), np.float64(12.481205519838543), np.float64(12.187171872043205), np.float64(13.08089431405271), np.float64(13.219517669710852), np.float64(12.776112223897485), np.float64(13.31989113905058), np.float64(13.192543829707853), np.float64(13.274195675530095), np.float64(14.166800811460144), np.float64(12.720642738968191), np.float64(12.664241086444004), np.float64(13.249924138524683), np.float64(12.93075248862698), np.float64(12.652540664894547), np.float64(11.003733124899325), np.float64(10.732473243175455), np.float64(12.600839642147907), np.float64(12.3302069841437), np.float64(12.444421519971767), np.float64(nan), np.float64(nan), np.float64(nan), np.float64(nan), np.float64(nan), np.float64(nan), np.float64(nan), np.float64(nan), np.float64(nan), np.float64(nan), np.float64(nan)], [np.float64(14.061498414640448), np.float64(14.515622294293102), np.float64(13.490158077066235), np.float64(13.975227247719296), np.float64(14.478752309090426), np.float64(14.784921757922023), np.float64(14.03533586161088), np.float64(14.538709314946695), np.float64(14.294113601294185), np.float64(14.745621281112069), np.float64(14.244784166251872), np.float64(14.785184796280149), np.float64(14.531840778013141), np.float64(14.714897360983104), np.float64(14.038717714126467), np.float64(13.229676589900961), np.float64(12.863403194772378), np.float64(12.43512829429136), np.float64(13.696409621928048), np.float64(12.32628206754297), np.float64(12.481205519838543), np.float64(12.187171872043205), np.float64(13.08089431405271), np.float64(13.219517669710852), np.float64(12.776112223897485), np.float64(13.31989113905058), np.float64(13.192543829707853), np.float64(13.274195675530095), np.float64(14.166800811460144), np.float64(12.720642738968191), np.float64(12.664241086444004), np.float64(13.249924138524683), np.float64(12.93075248862698), np.float64(12.652540664894547), np.float64(11.003733124899325), np.float64(10.732473243175455), np.float64(12.600839642147907), np.float64(12.3302069841437), np.float64(12.444421519971767), np.float64(nan), np.float64(nan), np.float64(nan), np.float64(nan), np.float64(nan), np.float64(nan), np.float64(nan), np.float64(nan), np.float64(nan), np.float64(nan), np.float64(nan)], [np.float64(14.061498414640448), np.float64(14.515622294293102), np.float64(13.490158077066235), np.float64(13.975227247719296), np.float64(14.478752309090426), np.float64(14.784921757922023), np.float64(14.03533586161088), np.float64(14.538709314946695), np.float64(14.294113601294185), np.float64(14.745621281112069), np.float64(14.244784166251872), np.float64(14.785184796280149), np.float64(14.531840778013141), np.float64(14.714897360983104), np.float64(14.038717714126467), np.float64(13.229676589900961), np.float64(12.863403194772378), np.float64(12.43512829429136), np.float64(13.696409621928048), np.float64(12.32628206754297), np.float64(12.481205519838543), np.float64(12.187171872043205), np.float64(13.08089431405271), np.float64(13.219517669710852), np.float64(12.776112223897485), np.float64(13.31989113905058), np.float64(13.192543829707853), np.float64(13.274195675530095), np.float64(14.166800811460144), np.float64(12.720642738968191), np.float64(12.664241086444004), np.float64(13.249924138524683), np.float64(12.93075248862698), np.float64(12.652540664894547), np.float64(11.003733124899325), np.float64(10.732473243175455), np.float64(12.600839642147907), np.float64(12.3302069841437), np.float64(12.444421519971767), np.float64(nan), np.float64(nan), np.float64(nan), np.float64(nan), np.float64(nan), np.float64(nan), np.float64(nan), np.float64(nan), np.float64(nan), np.float64(nan), np.float64(nan)], [np.float64(14.061498414640448), np.float64(14.515622294293102), np.float64(13.490158077066235), np.float64(13.975227247719296), np.float64(14.478752309090426), np.float64(14.784921757922023), np.float64(14.03533586161088), np.float64(14.538709314946695), np.float64(14.294113601294185), np.float64(14.745621281112069), np.float64(14.244784166251872), np.float64(14.785184796280149), np.float64(14.531840778013141), np.float64(14.714897360983104), np.float64(14.038717714126467), np.float64(13.229676589900961), np.float64(12.863403194772378), np.float64(12.43512829429136), np.float64(13.696409621928048), np.float64(12.32628206754297), np.float64(12.481205519838543), np.float64(12.187171872043205), np.float64(13.08089431405271), np.float64(13.219517669710852), np.float64(12.776112223897485), np.float64(13.31989113905058), np.float64(13.192543829707853), np.float64(13.274195675530095), np.float64(14.166800811460144), np.float64(12.720642738968191), np.float64(12.664241086444004), np.float64(13.249924138524683), np.float64(12.93075248862698), np.float64(12.652540664894547), np.float64(11.003733124899325), np.float64(10.732473243175455), np.float64(12.600839642147907), np.float64(12.3302069841437), np.float64(12.444421519971767), np.float64(nan), np.float64(nan), np.float64(nan), np.float64(nan), np.float64(nan), np.float64(nan), np.float64(nan), np.float64(nan), np.float64(nan), np.float64(nan), np.float64(nan)], [np.float64(14.061498414640448), np.float64(14.515622294293102), np.float64(13.490158077066235), np.float64(13.975227247719296), np.float64(14.478752309090426), np.float64(14.784921757922023), np.float64(14.03533586161088), np.float64(14.538709314946695), np.float64(14.294113601294185), np.float64(14.745621281112069), np.float64(14.244784166251872), np.float64(14.785184796280149), np.float64(14.531840778013141), np.float64(14.714897360983104), np.float64(14.038717714126467), np.float64(13.229676589900961), np.float64(12.863403194772378), np.float64(12.43512829429136), np.float64(13.696409621928048), np.float64(12.32628206754297), np.float64(12.481205519838543), np.float64(12.187171872043205), np.float64(13.08089431405271), np.float64(13.219517669710852), np.float64(12.776112223897485), np.float64(13.31989113905058), np.float64(13.192543829707853), np.float64(13.274195675530095), np.float64(14.166800811460144), np.float64(12.720642738968191), np.float64(12.664241086444004), np.float64(13.249924138524683), np.float64(12.93075248862698), np.float64(12.652540664894547), np.float64(11.003733124899325), np.float64(10.732473243175455), np.float64(12.600839642147907), np.float64(12.3302069841437), np.float64(12.444421519971767), np.float64(nan), np.float64(nan), np.float64(nan), np.float64(nan), np.float64(nan), np.float64(nan), np.float64(nan), np.float64(nan), np.float64(nan), np.float64(nan), np.float64(nan)], [np.float64(14.061498414640448), np.float64(14.515622294293102), np.float64(13.490158077066235), np.float64(13.975227247719296), np.float64(14.478752309090426), np.float64(14.784921757922023), np.float64(14.03533586161088), np.float64(14.538709314946695), np.float64(14.294113601294185), np.float64(14.745621281112069), np.float64(14.244784166251872), np.float64(14.785184796280149), np.float64(14.531840778013141), np.float64(14.714897360983104), np.float64(14.038717714126467), np.float64(13.229676589900961), np.float64(12.863403194772378), np.float64(12.43512829429136), np.float64(13.696409621928048), np.float64(12.32628206754297), np.float64(12.481205519838543), np.float64(12.187171872043205), np.float64(13.08089431405271), np.float64(13.219517669710852), np.float64(12.776112223897485), np.float64(13.31989113905058), np.float64(13.192543829707853), np.float64(13.274195675530095), np.float64(14.166800811460144), np.float64(12.720642738968191), np.float64(12.664241086444004), np.float64(13.249924138524683), np.float64(12.93075248862698), np.float64(12.652540664894547), np.float64(11.003733124899325), np.float64(10.732473243175455), np.float64(12.600839642147907), np.float64(12.3302069841437), np.float64(12.444421519971767), np.float64(nan), np.float64(nan), np.float64(nan), np.float64(nan), np.float64(nan), np.float64(nan), np.float64(nan), np.float64(nan), np.float64(nan), np.float64(nan), np.float64(nan)], [np.float64(14.061498414640448), np.float64(14.515622294293102), np.float64(13.490158077066235), np.float64(13.975227247719296), np.float64(14.478752309090426), np.float64(14.784921757922023), np.float64(14.03533586161088), np.float64(14.538709314946695), np.float64(14.294113601294185), np.float64(14.745621281112069), np.float64(14.244784166251872), np.float64(14.785184796280149), np.float64(14.531840778013141), np.float64(14.714897360983104), np.float64(14.038717714126467), np.float64(13.229676589900961), np.float64(12.863403194772378), np.float64(12.43512829429136), np.float64(13.696409621928048), np.float64(12.32628206754297), np.float64(12.481205519838543), np.float64(12.187171872043205), np.float64(13.08089431405271), np.float64(13.219517669710852), np.float64(12.776112223897485), np.float64(13.31989113905058), np.float64(13.192543829707853), np.float64(13.274195675530095), np.float64(14.166800811460144), np.float64(12.720642738968191), np.float64(12.664241086444004), np.float64(13.249924138524683), np.float64(12.93075248862698), np.float64(12.652540664894547), np.float64(11.003733124899325), np.float64(10.732473243175455), np.float64(12.600839642147907), np.float64(12.3302069841437), np.float64(12.444421519971767), np.float64(nan), np.float64(nan), np.float64(nan), np.float64(nan), np.float64(nan), np.float64(nan), np.float64(nan), np.float64(nan), np.float64(nan), np.float64(nan), np.float64(nan)], [np.float64(14.061498414640448), np.float64(14.515622294293102), np.float64(13.490158077066235), np.float64(13.975227247719296), np.float64(14.478752309090426), np.float64(14.784921757922023), np.float64(14.03533586161088), np.float64(14.538709314946695), np.float64(14.294113601294185), np.float64(14.745621281112069), np.float64(14.244784166251872), np.float64(14.785184796280149), np.float64(14.531840778013141), np.float64(14.714897360983104), np.float64(14.038717714126467), np.float64(13.229676589900961), np.float64(12.863403194772378), np.float64(12.43512829429136), np.float64(13.696409621928048), np.float64(12.32628206754297), np.float64(12.481205519838543), np.float64(12.187171872043205), np.float64(13.08089431405271), np.float64(13.219517669710852), np.float64(12.776112223897485), np.float64(13.31989113905058), np.float64(13.192543829707853), np.float64(13.274195675530095), np.float64(14.166800811460144), np.float64(12.720642738968191), np.float64(12.664241086444004), np.float64(13.249924138524683), np.float64(12.93075248862698), np.float64(12.652540664894547), np.float64(11.003733124899325), np.float64(10.732473243175455), np.float64(12.600839642147907), np.float64(12.3302069841437), np.float64(12.444421519971767), np.float64(nan), np.float64(nan), np.float64(nan), np.float64(nan), np.float64(nan), np.float64(nan), np.float64(nan), np.float64(nan), np.float64(nan), np.float64(nan), np.float64(nan)], [np.float64(nan), np.float64(11.206511385500974), np.float64(nan), np.float64(11.432564199314399), np.float64(11.913324181905923), np.float64(12.042111616647173), np.float64(11.456070446537094), np.float64(10.161432940808222), np.float64(9.274133003066478), np.float64(10.156091606351065), np.float64(9.510589396671186), np.float64(9.774049314952986), np.float64(9.432770802466447), np.float64(9.067069259535058), np.float64(10.183679566130682), np.float64(10.619491010564467), np.float64(10.28560380696608), np.float64(nan), np.float64(nan), np.float64(nan), np.float64(nan), np.float64(nan), np.float64(nan), np.float64(11.638330376797098), np.float64(nan), np.float64(nan), np.float64(nan), np.float64(nan), np.float64(nan), np.float64(9.652689716025556), np.float64(8.446882973761358), np.float64(8.544270656002299), np.float64(9.957529382844857), np.float64(nan), np.float64(nan), np.float64(nan), np.float64(9.869625956015883), np.float64(nan), np.float64(nan), np.float64(nan), np.float64(nan), np.float64(9.990317841155619), np.float64(nan), np.float64(10.461103833438893), np.float64(9.488358735706793), np.float64(9.829317980549767), np.float64(9.79479992489477), np.float64(9.218590069801268), np.float64(9.048266899209576), np.float64(7.593382942863313)], [np.float64(nan), np.float64(11.206511385500974), np.float64(nan), np.float64(11.432564199314399), np.float64(11.913324181905923), np.float64(12.042111616647173), np.float64(11.456070446537094), np.float64(10.161432940808222), np.float64(9.274133003066478), np.float64(10.156091606351065), np.float64(9.510589396671186), np.float64(9.774049314952986), np.float64(9.432770802466447), np.float64(9.067069259535058), np.float64(10.183679566130682), np.float64(10.619491010564467), np.float64(10.28560380696608), np.float64(nan), np.float64(nan), np.float64(nan), np.float64(nan), np.float64(nan), np.float64(nan), np.float64(11.638330376797098), np.float64(nan), np.float64(nan), np.float64(nan), np.float64(nan), np.float64(nan), np.float64(9.652689716025556), np.float64(8.446882973761358), np.float64(8.544270656002299), np.float64(9.957529382844857), np.float64(nan), np.float64(nan), np.float64(nan), np.float64(9.869625956015883), np.float64(nan), np.float64(nan), np.float64(nan), np.float64(nan), np.float64(9.990317841155619), np.float64(nan), np.float64(10.461103833438893), np.float64(9.488358735706793), np.float64(9.829317980549767), np.float64(9.79479992489477), np.float64(9.218590069801268), np.float64(9.048266899209576), np.float64(7.593382942863313)], [np.float64(nan), np.float64(11.206511385500974), np.float64(nan), np.float64(11.432564199314399), np.float64(11.913324181905923), np.float64(12.042111616647173), np.float64(11.456070446537094), np.float64(10.161432940808222), np.float64(9.274133003066478), np.float64(10.156091606351065), np.float64(9.510589396671186), np.float64(9.774049314952986), np.float64(9.432770802466447), np.float64(9.067069259535058), np.float64(10.183679566130682), np.float64(10.619491010564467), np.float64(10.28560380696608), np.float64(nan), np.float64(nan), np.float64(nan), np.float64(nan), np.float64(nan), np.float64(nan), np.float64(11.638330376797098), np.float64(nan), np.float64(nan), np.float64(nan), np.float64(nan), np.float64(nan), np.float64(9.652689716025556), np.float64(8.446882973761358), np.float64(8.544270656002299), np.float64(9.957529382844857), np.float64(nan), np.float64(nan), np.float64(nan), np.float64(9.869625956015883), np.float64(nan), np.float64(nan), np.float64(nan), np.float64(nan), np.float64(9.990317841155619), np.float64(nan), np.float64(10.461103833438893), np.float64(9.488358735706793), np.float64(9.829317980549767), np.float64(9.79479992489477), np.float64(9.218590069801268), np.float64(9.048266899209576), np.float64(7.593382942863313)], [np.float64(nan), np.float64(11.206511385500974), np.float64(nan), np.float64(11.432564199314399), np.float64(11.913324181905923), np.float64(12.042111616647173), np.float64(11.456070446537094), np.float64(10.161432940808222), np.float64(9.274133003066478), np.float64(10.156091606351065), np.float64(9.510589396671186), np.float64(9.774049314952986), np.float64(9.432770802466447), np.float64(9.067069259535058), np.float64(10.183679566130682), np.float64(10.619491010564467), np.float64(10.28560380696608), np.float64(nan), np.float64(nan), np.float64(nan), np.float64(nan), np.float64(nan), np.float64(nan), np.float64(11.638330376797098), np.float64(nan), np.float64(nan), np.float64(nan), np.float64(nan), np.float64(nan), np.float64(9.652689716025556), np.float64(8.446882973761358), np.float64(8.544270656002299), np.float64(9.957529382844857), np.float64(nan), np.float64(nan), np.float64(nan), np.float64(9.869625956015883), np.float64(nan), np.float64(nan), np.float64(nan), np.float64(nan), np.float64(9.990317841155619), np.float64(nan), np.float64(10.461103833438893), np.float64(9.488358735706793), np.float64(9.829317980549767), np.float64(9.79479992489477), np.float64(9.218590069801268), np.float64(9.048266899209576), np.float64(7.593382942863313)], [np.float64(nan), np.float64(11.206511385500974), np.float64(nan), np.float64(11.432564199314399), np.float64(11.913324181905923), np.float64(12.042111616647173), np.float64(11.456070446537094), np.float64(10.161432940808222), np.float64(9.274133003066478), np.float64(10.156091606351065), np.float64(9.510589396671186), np.float64(9.774049314952986), np.float64(9.432770802466447), np.float64(9.067069259535058), np.float64(10.183679566130682), np.float64(10.619491010564467), np.float64(10.28560380696608), np.float64(nan), np.float64(nan), np.float64(nan), np.float64(nan), np.float64(nan), np.float64(nan), np.float64(11.638330376797098), np.float64(nan), np.float64(nan), np.float64(nan), np.float64(nan), np.float64(nan), np.float64(9.652689716025556), np.float64(8.446882973761358), np.float64(8.544270656002299), np.float64(9.957529382844857), np.float64(nan), np.float64(nan), np.float64(nan), np.float64(9.869625956015883), np.float64(nan), np.float64(nan), np.float64(nan), np.float64(nan), np.float64(9.990317841155619), np.float64(nan), np.float64(10.461103833438893), np.float64(9.488358735706793), np.float64(9.829317980549767), np.float64(9.79479992489477), np.float64(9.218590069801268), np.float64(9.048266899209576), np.float64(7.593382942863313)], [np.float64(nan), np.float64(11.206511385500974), np.float64(nan), np.float64(11.432564199314399), np.float64(11.913324181905923), np.float64(12.042111616647173), np.float64(11.456070446537094), np.float64(10.161432940808222), np.float64(9.274133003066478), np.float64(10.156091606351065), np.float64(9.510589396671186), np.float64(9.774049314952986), np.float64(9.432770802466447), np.float64(9.067069259535058), np.float64(10.183679566130682), np.float64(10.619491010564467), np.float64(10.28560380696608), np.float64(nan), np.float64(nan), np.float64(nan), np.float64(nan), np.float64(nan), np.float64(nan), np.float64(11.638330376797098), np.float64(nan), np.float64(nan), np.float64(nan), np.float64(nan), np.float64(nan), np.float64(9.652689716025556), np.float64(8.446882973761358), np.float64(8.544270656002299), np.float64(9.957529382844857), np.float64(nan), np.float64(nan), np.float64(nan), np.float64(9.869625956015883), np.float64(nan), np.float64(nan), np.float64(nan), np.float64(nan), np.float64(9.990317841155619), np.float64(nan), np.float64(10.461103833438893), np.float64(9.488358735706793), np.float64(9.829317980549767), np.float64(9.79479992489477), np.float64(9.218590069801268), np.float64(9.048266899209576), np.float64(7.593382942863313)], [np.float64(nan), np.float64(11.206511385500974), np.float64(nan), np.float64(11.432564199314399), np.float64(11.913324181905923), np.float64(12.042111616647173), np.float64(11.456070446537094), np.float64(10.161432940808222), np.float64(9.274133003066478), np.float64(10.156091606351065), np.float64(9.510589396671186), np.float64(9.774049314952986), np.float64(9.432770802466447), np.float64(9.067069259535058), np.float64(10.183679566130682), np.float64(10.619491010564467), np.float64(10.28560380696608), np.float64(nan), np.float64(nan), np.float64(nan), np.float64(nan), np.float64(nan), np.float64(nan), np.float64(11.638330376797098), np.float64(nan), np.float64(nan), np.float64(nan), np.float64(nan), np.float64(nan), np.float64(9.652689716025556), np.float64(8.446882973761358), np.float64(8.544270656002299), np.float64(9.957529382844857), np.float64(nan), np.float64(nan), np.float64(nan), np.float64(9.869625956015883), np.float64(nan), np.float64(nan), np.float64(nan), np.float64(nan), np.float64(9.990317841155619), np.float64(nan), np.float64(10.461103833438893), np.float64(9.488358735706793), np.float64(9.829317980549767), np.float64(9.79479992489477), np.float64(9.218590069801268), np.float64(9.048266899209576), np.float64(7.593382942863313)], [np.float64(nan), np.float64(11.206511385500974), np.float64(nan), np.float64(11.432564199314399), np.float64(11.913324181905923), np.float64(12.042111616647173), np.float64(11.456070446537094), np.float64(10.161432940808222), np.float64(9.274133003066478), np.float64(10.156091606351065), np.float64(9.510589396671186), np.float64(9.774049314952986), np.float64(9.432770802466447), np.float64(9.067069259535058), np.float64(10.183679566130682), np.float64(10.619491010564467), np.float64(10.28560380696608), np.float64(nan), np.float64(nan), np.float64(nan), np.float64(nan), np.float64(nan), np.float64(nan), np.float64(11.638330376797098), np.float64(nan), np.float64(nan), np.float64(nan), np.float64(nan), np.float64(nan), np.float64(9.652689716025556), np.float64(8.446882973761358), np.float64(8.544270656002299), np.float64(9.957529382844857), np.float64(nan), np.float64(nan), np.float64(nan), np.float64(9.869625956015883), np.float64(nan), np.float64(nan), np.float64(nan), np.float64(nan), np.float64(9.990317841155619), np.float64(nan), np.float64(10.461103833438893), np.float64(9.488358735706793), np.float64(9.829317980549767), np.float64(9.79479992489477), np.float64(9.218590069801268), np.float64(9.048266899209576), np.float64(7.593382942863313)], [np.float64(nan), np.float64(11.206511385500974), np.float64(nan), np.float64(11.432564199314399), np.float64(11.913324181905923), np.float64(12.042111616647173), np.float64(11.456070446537094), np.float64(10.161432940808222), np.float64(9.274133003066478), np.float64(10.156091606351065), np.float64(9.510589396671186), np.float64(9.774049314952986), np.float64(9.432770802466447), np.float64(9.067069259535058), np.float64(10.183679566130682), np.float64(10.619491010564467), np.float64(10.28560380696608), np.float64(nan), np.float64(nan), np.float64(nan), np.float64(nan), np.float64(nan), np.float64(nan), np.float64(11.638330376797098), np.float64(nan), np.float64(nan), np.float64(nan), np.float64(nan), np.float64(nan), np.float64(9.652689716025556), np.float64(8.446882973761358), np.float64(8.544270656002299), np.float64(9.957529382844857), np.float64(nan), np.float64(nan), np.float64(nan), np.float64(9.869625956015883), np.float64(nan), np.float64(nan), np.float64(nan), np.float64(nan), np.float64(9.990317841155619), np.float64(nan), np.float64(10.461103833438893), np.float64(9.488358735706793), np.float64(9.829317980549767), np.float64(9.79479992489477), np.float64(9.218590069801268), np.float64(9.048266899209576), np.float64(7.593382942863313)], [np.float64(nan), np.float64(11.206511385500974), np.float64(nan), np.float64(11.432564199314399), np.float64(11.913324181905923), np.float64(12.042111616647173), np.float64(11.456070446537094), np.float64(10.161432940808222), np.float64(9.274133003066478), np.float64(10.156091606351065), np.float64(9.510589396671186), np.float64(9.774049314952986), np.float64(9.432770802466447), np.float64(9.067069259535058), np.float64(10.183679566130682), np.float64(10.619491010564467), np.float64(10.28560380696608), np.float64(nan), np.float64(nan), np.float64(nan), np.float64(nan), np.float64(nan), np.float64(nan), np.float64(11.638330376797098), np.float64(nan), np.float64(nan), np.float64(nan), np.float64(nan), np.float64(nan), np.float64(9.652689716025556), np.float64(8.446882973761358), np.float64(8.544270656002299), np.float64(9.957529382844857), np.float64(nan), np.float64(nan), np.float64(nan), np.float64(9.869625956015883), np.float64(nan), np.float64(nan), np.float64(nan), np.float64(nan), np.float64(9.990317841155619), np.float64(nan), np.float64(10.461103833438893), np.float64(9.488358735706793), np.float64(9.829317980549767), np.float64(9.79479992489477), np.float64(9.218590069801268), np.float64(9.048266899209576), np.float64(7.593382942863313)], [np.float64(nan), np.float64(11.206511385500974), np.float64(nan), np.float64(11.432564199314399), np.float64(11.913324181905923), np.float64(12.042111616647173), np.float64(11.456070446537094), np.float64(10.161432940808222), np.float64(9.274133003066478), np.float64(10.156091606351065), np.float64(9.510589396671186), np.float64(9.774049314952986), np.float64(9.432770802466447), np.float64(9.067069259535058), np.float64(10.183679566130682), np.float64(10.619491010564467), np.float64(10.28560380696608), np.float64(nan), np.float64(nan), np.float64(nan), np.float64(nan), np.float64(nan), np.float64(nan), np.float64(11.638330376797098), np.float64(nan), np.float64(nan), np.float64(nan), np.float64(nan), np.float64(nan), np.float64(9.652689716025556), np.float64(8.446882973761358), np.float64(8.544270656002299), np.float64(9.957529382844857), np.float64(nan), np.float64(nan), np.float64(nan), np.float64(9.869625956015883), np.float64(nan), np.float64(nan), np.float64(nan), np.float64(nan), np.float64(9.990317841155619), np.float64(nan), np.float64(10.461103833438893), np.float64(9.488358735706793), np.float64(9.829317980549767), np.float64(9.79479992489477), np.float64(9.218590069801268), np.float64(9.048266899209576), np.float64(7.593382942863313)], [np.float64(nan), np.float64(11.206511385500974), np.float64(nan), np.float64(11.432564199314399), np.float64(11.913324181905923), np.float64(12.042111616647173), np.float64(11.456070446537094), np.float64(10.161432940808222), np.float64(9.274133003066478), np.float64(10.156091606351065), np.float64(9.510589396671186), np.float64(9.774049314952986), np.float64(9.432770802466447), np.float64(9.067069259535058), np.float64(10.183679566130682), np.float64(10.619491010564467), np.float64(10.28560380696608), np.float64(nan), np.float64(nan), np.float64(nan), np.float64(nan), np.float64(nan), np.float64(nan), np.float64(11.638330376797098), np.float64(nan), np.float64(nan), np.float64(nan), np.float64(nan), np.float64(nan), np.float64(9.652689716025556), np.float64(8.446882973761358), np.float64(8.544270656002299), np.float64(9.957529382844857), np.float64(nan), np.float64(nan), np.float64(nan), np.float64(9.869625956015883), np.float64(nan), np.float64(nan), np.float64(nan), np.float64(nan), np.float64(9.990317841155619), np.float64(nan), np.float64(10.461103833438893), np.float64(9.488358735706793), np.float64(9.829317980549767), np.float64(9.79479992489477), np.float64(9.218590069801268), np.float64(9.048266899209576), np.float64(7.593382942863313)], [np.float64(nan), np.float64(11.206511385500974), np.float64(nan), np.float64(11.432564199314399), np.float64(11.913324181905923), np.float64(12.042111616647173), np.float64(11.456070446537094), np.float64(10.161432940808222), np.float64(9.274133003066478), np.float64(10.156091606351065), np.float64(9.510589396671186), np.float64(9.774049314952986), np.float64(9.432770802466447), np.float64(9.067069259535058), np.float64(10.183679566130682), np.float64(10.619491010564467), np.float64(10.28560380696608), np.float64(nan), np.float64(nan), np.float64(nan), np.float64(nan), np.float64(nan), np.float64(nan), np.float64(11.638330376797098), np.float64(nan), np.float64(nan), np.float64(nan), np.float64(nan), np.float64(nan), np.float64(9.652689716025556), np.float64(8.446882973761358), np.float64(8.544270656002299), np.float64(9.957529382844857), np.float64(nan), np.float64(nan), np.float64(nan), np.float64(9.869625956015883), np.float64(nan), np.float64(nan), np.float64(nan), np.float64(nan), np.float64(9.990317841155619), np.float64(nan), np.float64(10.461103833438893), np.float64(9.488358735706793), np.float64(9.829317980549767), np.float64(9.79479992489477), np.float64(9.218590069801268), np.float64(9.048266899209576), np.float64(7.593382942863313)], [np.float64(nan), np.float64(11.206511385500974), np.float64(nan), np.float64(11.432564199314399), np.float64(11.913324181905923), np.float64(12.042111616647173), np.float64(11.456070446537094), np.float64(10.161432940808222), np.float64(9.274133003066478), np.float64(10.156091606351065), np.float64(9.510589396671186), np.float64(9.774049314952986), np.float64(9.432770802466447), np.float64(9.067069259535058), np.float64(10.183679566130682), np.float64(10.619491010564467), np.float64(10.28560380696608), np.float64(nan), np.float64(nan), np.float64(nan), np.float64(nan), np.float64(nan), np.float64(nan), np.float64(11.638330376797098), np.float64(nan), np.float64(nan), np.float64(nan), np.float64(nan), np.float64(nan), np.float64(9.652689716025556), np.float64(8.446882973761358), np.float64(8.544270656002299), np.float64(9.957529382844857), np.float64(nan), np.float64(nan), np.float64(nan), np.float64(9.869625956015883), np.float64(nan), np.float64(nan), np.float64(nan), np.float64(nan), np.float64(9.990317841155619), np.float64(nan), np.float64(10.461103833438893), np.float64(9.488358735706793), np.float64(9.829317980549767), np.float64(9.79479992489477), np.float64(9.218590069801268), np.float64(9.048266899209576), np.float64(7.593382942863313)], [np.float64(13.000941484382793), np.float64(13.246732153301828), np.float64(9.688464921739428), np.float64(9.26871301016964), np.float64(9.901575257571327), np.float64(9.848451168089555), np.float64(10.09798963138475), np.float64(10.696221269798441), np.float64(10.218477724662947), np.float64(9.052222374463616), np.float64(nan), np.float64(8.784522125829275), np.float64(8.51927424127668), np.float64(9.093515581135367), np.float64(9.570008176566224), np.float64(nan), np.float64(10.605204339499997), np.float64(10.278420331869155), np.float64(9.795653613345731), np.float64(9.016063762050962), np.float64(nan), np.float64(8.702385486122207), np.float64(nan), np.float64(8.382400435106774), np.float64(nan), np.float64(10.273382038975743), np.float64(10.89521935868547), np.float64(9.425925445168676), np.float64(9.28216262506788), np.float64(9.062383389455043), np.float64(9.887759249492508), np.float64(10.268455848300551), np.float64(nan), np.float64(8.894433757220002), np.float64(8.881330879798965), np.float64(9.558829544624032), np.float64(9.370916015526197), np.float64(8.865488931824775), np.float64(9.328586745773363), np.float64(8.85626099814709), np.float64(nan), np.float64(8.860491778458568), np.float64(9.10487062948069), np.float64(8.681338493730927), np.float64(9.215244691963534), np.float64(nan), np.float64(9.592580986984808), np.float64(8.622617045004748), np.float64(9.707294849610077), np.float64(nan)], [np.float64(13.000941484382793), np.float64(13.246732153301828), np.float64(9.688464921739428), np.float64(9.26871301016964), np.float64(9.901575257571327), np.float64(9.848451168089555), np.float64(10.09798963138475), np.float64(10.696221269798441), np.float64(10.218477724662947), np.float64(9.052222374463616), np.float64(nan), np.float64(8.784522125829275), np.float64(8.51927424127668), np.float64(9.093515581135367), np.float64(9.570008176566224), np.float64(nan), np.float64(10.605204339499997), np.float64(10.278420331869155), np.float64(9.795653613345731), np.float64(9.016063762050962), np.float64(nan), np.float64(8.702385486122207), np.float64(nan), np.float64(8.382400435106774), np.float64(nan), np.float64(10.273382038975743), np.float64(10.89521935868547), np.float64(9.425925445168676), np.float64(9.28216262506788), np.float64(9.062383389455043), np.float64(9.887759249492508), np.float64(10.268455848300551), np.float64(nan), np.float64(8.894433757220002), np.float64(8.881330879798965), np.float64(9.558829544624032), np.float64(9.370916015526197), np.float64(8.865488931824775), np.float64(9.328586745773363), np.float64(8.85626099814709), np.float64(nan), np.float64(8.860491778458568), np.float64(9.10487062948069), np.float64(8.681338493730927), np.float64(9.215244691963534), np.float64(nan), np.float64(9.592580986984808), np.float64(8.622617045004748), np.float64(9.707294849610077), np.float64(nan)], [np.float64(13.000941484382793), np.float64(13.246732153301828), np.float64(9.688464921739428), np.float64(9.26871301016964), np.float64(9.901575257571327), np.float64(9.848451168089555), np.float64(10.09798963138475), np.float64(10.696221269798441), np.float64(10.218477724662947), np.float64(9.052222374463616), np.float64(nan), np.float64(8.784522125829275), np.float64(8.51927424127668), np.float64(9.093515581135367), np.float64(9.570008176566224), np.float64(nan), np.float64(10.605204339499997), np.float64(10.278420331869155), np.float64(9.795653613345731), np.float64(9.016063762050962), np.float64(nan), np.float64(8.702385486122207), np.float64(nan), np.float64(8.382400435106774), np.float64(nan), np.float64(10.273382038975743), np.float64(10.89521935868547), np.float64(9.425925445168676), np.float64(9.28216262506788), np.float64(9.062383389455043), np.float64(9.887759249492508), np.float64(10.268455848300551), np.float64(nan), np.float64(8.894433757220002), np.float64(8.881330879798965), np.float64(9.558829544624032), np.float64(9.370916015526197), np.float64(8.865488931824775), np.float64(9.328586745773363), np.float64(8.85626099814709), np.float64(nan), np.float64(8.860491778458568), np.float64(9.10487062948069), np.float64(8.681338493730927), np.float64(9.215244691963534), np.float64(nan), np.float64(9.592580986984808), np.float64(8.622617045004748), np.float64(9.707294849610077), np.float64(nan)], [np.float64(13.000941484382793), np.float64(13.246732153301828), np.float64(9.688464921739428), np.float64(9.26871301016964), np.float64(9.901575257571327), np.float64(9.848451168089555), np.float64(10.09798963138475), np.float64(10.696221269798441), np.float64(10.218477724662947), np.float64(9.052222374463616), np.float64(nan), np.float64(8.784522125829275), np.float64(8.51927424127668), np.float64(9.093515581135367), np.float64(9.570008176566224), np.float64(nan), np.float64(10.605204339499997), np.float64(10.278420331869155), np.float64(9.795653613345731), np.float64(9.016063762050962), np.float64(nan), np.float64(8.702385486122207), np.float64(nan), np.float64(8.382400435106774), np.float64(nan), np.float64(10.273382038975743), np.float64(10.89521935868547), np.float64(9.425925445168676), np.float64(9.28216262506788), np.float64(9.062383389455043), np.float64(9.887759249492508), np.float64(10.268455848300551), np.float64(nan), np.float64(8.894433757220002), np.float64(8.881330879798965), np.float64(9.558829544624032), np.float64(9.370916015526197), np.float64(8.865488931824775), np.float64(9.328586745773363), np.float64(8.85626099814709), np.float64(nan), np.float64(8.860491778458568), np.float64(9.10487062948069), np.float64(8.681338493730927), np.float64(9.215244691963534), np.float64(nan), np.float64(9.592580986984808), np.float64(8.622617045004748), np.float64(9.707294849610077), np.float64(nan)], [np.float64(13.000941484382793), np.float64(13.246732153301828), np.float64(9.688464921739428), np.float64(9.26871301016964), np.float64(9.901575257571327), np.float64(9.848451168089555), np.float64(10.09798963138475), np.float64(10.696221269798441), np.float64(10.218477724662947), np.float64(9.052222374463616), np.float64(nan), np.float64(8.784522125829275), np.float64(8.51927424127668), np.float64(9.093515581135367), np.float64(9.570008176566224), np.float64(nan), np.float64(10.605204339499997), np.float64(10.278420331869155), np.float64(9.795653613345731), np.float64(9.016063762050962), np.float64(nan), np.float64(8.702385486122207), np.float64(nan), np.float64(8.382400435106774), np.float64(nan), np.float64(10.273382038975743), np.float64(10.89521935868547), np.float64(9.425925445168676), np.float64(9.28216262506788), np.float64(9.062383389455043), np.float64(9.887759249492508), np.float64(10.268455848300551), np.float64(nan), np.float64(8.894433757220002), np.float64(8.881330879798965), np.float64(9.558829544624032), np.float64(9.370916015526197), np.float64(8.865488931824775), np.float64(9.328586745773363), np.float64(8.85626099814709), np.float64(nan), np.float64(8.860491778458568), np.float64(9.10487062948069), np.float64(8.681338493730927), np.float64(9.215244691963534), np.float64(nan), np.float64(9.592580986984808), np.float64(8.622617045004748), np.float64(9.707294849610077), np.float64(nan)], [np.float64(13.000941484382793), np.float64(13.246732153301828), np.float64(9.688464921739428), np.float64(9.26871301016964), np.float64(9.901575257571327), np.float64(9.848451168089555), np.float64(10.09798963138475), np.float64(10.696221269798441), np.float64(10.218477724662947), np.float64(9.052222374463616), np.float64(nan), np.float64(8.784522125829275), np.float64(8.51927424127668), np.float64(9.093515581135367), np.float64(9.570008176566224), np.float64(nan), np.float64(10.605204339499997), np.float64(10.278420331869155), np.float64(9.795653613345731), np.float64(9.016063762050962), np.float64(nan), np.float64(8.702385486122207), np.float64(nan), np.float64(8.382400435106774), np.float64(nan), np.float64(10.273382038975743), np.float64(10.89521935868547), np.float64(9.425925445168676), np.float64(9.28216262506788), np.float64(9.062383389455043), np.float64(9.887759249492508), np.float64(10.268455848300551), np.float64(nan), np.float64(8.894433757220002), np.float64(8.881330879798965), np.float64(9.558829544624032), np.float64(9.370916015526197), np.float64(8.865488931824775), np.float64(9.328586745773363), np.float64(8.85626099814709), np.float64(nan), np.float64(8.860491778458568), np.float64(9.10487062948069), np.float64(8.681338493730927), np.float64(9.215244691963534), np.float64(nan), np.float64(9.592580986984808), np.float64(8.622617045004748), np.float64(9.707294849610077), np.float64(nan)], [np.float64(13.000941484382793), np.float64(13.246732153301828), np.float64(9.688464921739428), np.float64(9.26871301016964), np.float64(9.901575257571327), np.float64(9.848451168089555), np.float64(10.09798963138475), np.float64(10.696221269798441), np.float64(10.218477724662947), np.float64(9.052222374463616), np.float64(nan), np.float64(8.784522125829275), np.float64(8.51927424127668), np.float64(9.093515581135367), np.float64(9.570008176566224), np.float64(nan), np.float64(10.605204339499997), np.float64(10.278420331869155), np.float64(9.795653613345731), np.float64(9.016063762050962), np.float64(nan), np.float64(8.702385486122207), np.float64(nan), np.float64(8.382400435106774), np.float64(nan), np.float64(10.273382038975743), np.float64(10.89521935868547), np.float64(9.425925445168676), np.float64(9.28216262506788), np.float64(9.062383389455043), np.float64(9.887759249492508), np.float64(10.268455848300551), np.float64(nan), np.float64(8.894433757220002), np.float64(8.881330879798965), np.float64(9.558829544624032), np.float64(9.370916015526197), np.float64(8.865488931824775), np.float64(9.328586745773363), np.float64(8.85626099814709), np.float64(nan), np.float64(8.860491778458568), np.float64(9.10487062948069), np.float64(8.681338493730927), np.float64(9.215244691963534), np.float64(nan), np.float64(9.592580986984808), np.float64(8.622617045004748), np.float64(9.707294849610077), np.float64(nan)], [np.float64(13.000941484382793), np.float64(13.246732153301828), np.float64(9.688464921739428), np.float64(9.26871301016964), np.float64(9.901575257571327), np.float64(9.848451168089555), np.float64(10.09798963138475), np.float64(10.696221269798441), np.float64(10.218477724662947), np.float64(9.052222374463616), np.float64(nan), np.float64(8.784522125829275), np.float64(8.51927424127668), np.float64(9.093515581135367), np.float64(9.570008176566224), np.float64(nan), np.float64(10.605204339499997), np.float64(10.278420331869155), np.float64(9.795653613345731), np.float64(9.016063762050962), np.float64(nan), np.float64(8.702385486122207), np.float64(nan), np.float64(8.382400435106774), np.float64(nan), np.float64(10.273382038975743), np.float64(10.89521935868547), np.float64(9.425925445168676), np.float64(9.28216262506788), np.float64(9.062383389455043), np.float64(9.887759249492508), np.float64(10.268455848300551), np.float64(nan), np.float64(8.894433757220002), np.float64(8.881330879798965), np.float64(9.558829544624032), np.float64(9.370916015526197), np.float64(8.865488931824775), np.float64(9.328586745773363), np.float64(8.85626099814709), np.float64(nan), np.float64(8.860491778458568), np.float64(9.10487062948069), np.float64(8.681338493730927), np.float64(9.215244691963534), np.float64(nan), np.float64(9.592580986984808), np.float64(8.622617045004748), np.float64(9.707294849610077), np.float64(nan)], [np.float64(13.000941484382793), np.float64(13.246732153301828), np.float64(9.688464921739428), np.float64(9.26871301016964), np.float64(9.901575257571327), np.float64(9.848451168089555), np.float64(10.09798963138475), np.float64(10.696221269798441), np.float64(10.218477724662947), np.float64(9.052222374463616), np.float64(nan), np.float64(8.784522125829275), np.float64(8.51927424127668), np.float64(9.093515581135367), np.float64(9.570008176566224), np.float64(nan), np.float64(10.605204339499997), np.float64(10.278420331869155), np.float64(9.795653613345731), np.float64(9.016063762050962), np.float64(nan), np.float64(8.702385486122207), np.float64(nan), np.float64(8.382400435106774), np.float64(nan), np.float64(10.273382038975743), np.float64(10.89521935868547), np.float64(9.425925445168676), np.float64(9.28216262506788), np.float64(9.062383389455043), np.float64(9.887759249492508), np.float64(10.268455848300551), np.float64(nan), np.float64(8.894433757220002), np.float64(8.881330879798965), np.float64(9.558829544624032), np.float64(9.370916015526197), np.float64(8.865488931824775), np.float64(9.328586745773363), np.float64(8.85626099814709), np.float64(nan), np.float64(8.860491778458568), np.float64(9.10487062948069), np.float64(8.681338493730927), np.float64(9.215244691963534), np.float64(nan), np.float64(9.592580986984808), np.float64(8.622617045004748), np.float64(9.707294849610077), np.float64(nan)], [np.float64(13.000941484382793), np.float64(13.246732153301828), np.float64(9.688464921739428), np.float64(9.26871301016964), np.float64(9.901575257571327), np.float64(9.848451168089555), np.float64(10.09798963138475), np.float64(10.696221269798441), np.float64(10.218477724662947), np.float64(9.052222374463616), np.float64(nan), np.float64(8.784522125829275), np.float64(8.51927424127668), np.float64(9.093515581135367), np.float64(9.570008176566224), np.float64(nan), np.float64(10.605204339499997), np.float64(10.278420331869155), np.float64(9.795653613345731), np.float64(9.016063762050962), np.float64(nan), np.float64(8.702385486122207), np.float64(nan), np.float64(8.382400435106774), np.float64(nan), np.float64(10.273382038975743), np.float64(10.89521935868547), np.float64(9.425925445168676), np.float64(9.28216262506788), np.float64(9.062383389455043), np.float64(9.887759249492508), np.float64(10.268455848300551), np.float64(nan), np.float64(8.894433757220002), np.float64(8.881330879798965), np.float64(9.558829544624032), np.float64(9.370916015526197), np.float64(8.865488931824775), np.float64(9.328586745773363), np.float64(8.85626099814709), np.float64(nan), np.float64(8.860491778458568), np.float64(9.10487062948069), np.float64(8.681338493730927), np.float64(9.215244691963534), np.float64(nan), np.float64(9.592580986984808), np.float64(8.622617045004748), np.float64(9.707294849610077), np.float64(nan)], [np.float64(13.000941484382793), np.float64(13.246732153301828), np.float64(9.688464921739428), np.float64(9.26871301016964), np.float64(9.901575257571327), np.float64(9.848451168089555), np.float64(10.09798963138475), np.float64(10.696221269798441), np.float64(10.218477724662947), np.float64(9.052222374463616), np.float64(nan), np.float64(8.784522125829275), np.float64(8.51927424127668), np.float64(9.093515581135367), np.float64(9.570008176566224), np.float64(nan), np.float64(10.605204339499997), np.float64(10.278420331869155), np.float64(9.795653613345731), np.float64(9.016063762050962), np.float64(nan), np.float64(8.702385486122207), np.float64(nan), np.float64(8.382400435106774), np.float64(nan), np.float64(10.273382038975743), np.float64(10.89521935868547), np.float64(9.425925445168676), np.float64(9.28216262506788), np.float64(9.062383389455043), np.float64(9.887759249492508), np.float64(10.268455848300551), np.float64(nan), np.float64(8.894433757220002), np.float64(8.881330879798965), np.float64(9.558829544624032), np.float64(9.370916015526197), np.float64(8.865488931824775), np.float64(9.328586745773363), np.float64(8.85626099814709), np.float64(nan), np.float64(8.860491778458568), np.float64(9.10487062948069), np.float64(8.681338493730927), np.float64(9.215244691963534), np.float64(nan), np.float64(9.592580986984808), np.float64(8.622617045004748), np.float64(9.707294849610077), np.float64(nan)], [np.float64(13.000941484382793), np.float64(13.246732153301828), np.float64(9.688464921739428), np.float64(9.26871301016964), np.float64(9.901575257571327), np.float64(9.848451168089555), np.float64(10.09798963138475), np.float64(10.696221269798441), np.float64(10.218477724662947), np.float64(9.052222374463616), np.float64(nan), np.float64(8.784522125829275), np.float64(8.51927424127668), np.float64(9.093515581135367), np.float64(9.570008176566224), np.float64(nan), np.float64(10.605204339499997), np.float64(10.278420331869155), np.float64(9.795653613345731), np.float64(9.016063762050962), np.float64(nan), np.float64(8.702385486122207), np.float64(nan), np.float64(8.382400435106774), np.float64(nan), np.float64(10.273382038975743), np.float64(10.89521935868547), np.float64(9.425925445168676), np.float64(9.28216262506788), np.float64(9.062383389455043), np.float64(9.887759249492508), np.float64(10.268455848300551), np.float64(nan), np.float64(8.894433757220002), np.float64(8.881330879798965), np.float64(9.558829544624032), np.float64(9.370916015526197), np.float64(8.865488931824775), np.float64(9.328586745773363), np.float64(8.85626099814709), np.float64(nan), np.float64(8.860491778458568), np.float64(9.10487062948069), np.float64(8.681338493730927), np.float64(9.215244691963534), np.float64(nan), np.float64(9.592580986984808), np.float64(8.622617045004748), np.float64(9.707294849610077), np.float64(nan)], [np.float64(13.000941484382793), np.float64(13.246732153301828), np.float64(9.688464921739428), np.float64(9.26871301016964), np.float64(9.901575257571327), np.float64(9.848451168089555), np.float64(10.09798963138475), np.float64(10.696221269798441), np.float64(10.218477724662947), np.float64(9.052222374463616), np.float64(nan), np.float64(8.784522125829275), np.float64(8.51927424127668), np.float64(9.093515581135367), np.float64(9.570008176566224), np.float64(nan), np.float64(10.605204339499997), np.float64(10.278420331869155), np.float64(9.795653613345731), np.float64(9.016063762050962), np.float64(nan), np.float64(8.702385486122207), np.float64(nan), np.float64(8.382400435106774), np.float64(nan), np.float64(10.273382038975743), np.float64(10.89521935868547), np.float64(9.425925445168676), np.float64(9.28216262506788), np.float64(9.062383389455043), np.float64(9.887759249492508), np.float64(10.268455848300551), np.float64(nan), np.float64(8.894433757220002), np.float64(8.881330879798965), np.float64(9.558829544624032), np.float64(9.370916015526197), np.float64(8.865488931824775), np.float64(9.328586745773363), np.float64(8.85626099814709), np.float64(nan), np.float64(8.860491778458568), np.float64(9.10487062948069), np.float64(8.681338493730927), np.float64(9.215244691963534), np.float64(nan), np.float64(9.592580986984808), np.float64(8.622617045004748), np.float64(9.707294849610077), np.float64(nan)], [np.float64(13.000941484382793), np.float64(13.246732153301828), np.float64(9.688464921739428), np.float64(9.26871301016964), np.float64(9.901575257571327), np.float64(9.848451168089555), np.float64(10.09798963138475), np.float64(10.696221269798441), np.float64(10.218477724662947), np.float64(9.052222374463616), np.float64(nan), np.float64(8.784522125829275), np.float64(8.51927424127668), np.float64(9.093515581135367), np.float64(9.570008176566224), np.float64(nan), np.float64(10.605204339499997), np.float64(10.278420331869155), np.float64(9.795653613345731), np.float64(9.016063762050962), np.float64(nan), np.float64(8.702385486122207), np.float64(nan), np.float64(8.382400435106774), np.float64(nan), np.float64(10.273382038975743), np.float64(10.89521935868547), np.float64(9.425925445168676), np.float64(9.28216262506788), np.float64(9.062383389455043), np.float64(9.887759249492508), np.float64(10.268455848300551), np.float64(nan), np.float64(8.894433757220002), np.float64(8.881330879798965), np.float64(9.558829544624032), np.float64(9.370916015526197), np.float64(8.865488931824775), np.float64(9.328586745773363), np.float64(8.85626099814709), np.float64(nan), np.float64(8.860491778458568), np.float64(9.10487062948069), np.float64(8.681338493730927), np.float64(9.215244691963534), np.float64(nan), np.float64(9.592580986984808), np.float64(8.622617045004748), np.float64(9.707294849610077), np.float64(nan)], [np.float64(12.674108529330057), np.float64(nan), np.float64(nan), np.float64(12.241044385343237), np.float64(11.240658998952373), np.float64(10.493668027739764), np.float64(9.847765086313597), np.float64(nan), np.float64(nan), np.float64(8.139717928462309), np.float64(10.329490115992709), np.float64(8.640130394173037), np.float64(8.76509716124976), np.float64(9.415554208529583), np.float64(8.527255771620364), np.float64(9.116091141378167), np.float64(8.378184150753267), np.float64(10.336437501078015), np.float64(11.651201383295705), np.float64(10.409424237823627), np.float64(11.444931958627317), np.float64(9.218418434108726), np.float64(9.75488273159534), np.float64(10.582371237342004), np.float64(10.000971189676623), np.float64(9.99113287492442), np.float64(8.141038474176357), np.float64(8.753140366308532), np.float64(nan), np.float64(9.473620699797529), np.float64(10.385157891255394), np.float64(8.62017786927526), np.float64(nan), np.float64(9.125502088084769), np.float64(8.885322783949285), np.float64(9.893406118063305), np.float64(8.940469617080819), np.float64(10.445483584889923), np.float64(8.746324348567024), np.float64(9.156105366013922), np.float64(8.821469488915627), np.float64(9.811402657288642), np.float64(8.90074070299323), np.float64(9.716140479428176), np.float64(10.232931375555644), np.float64(10.63228928671456), np.float64(11.376113944810491), np.float64(10.83147778188637), np.float64(10.71455168264124), np.float64(9.365644861807398)], [np.float64(12.674108529330057), np.float64(nan), np.float64(nan), np.float64(12.241044385343237), np.float64(11.240658998952373), np.float64(10.493668027739764), np.float64(9.847765086313597), np.float64(nan), np.float64(nan), np.float64(8.139717928462309), np.float64(10.329490115992709), np.float64(8.640130394173037), np.float64(8.76509716124976), np.float64(9.415554208529583), np.float64(8.527255771620364), np.float64(9.116091141378167), np.float64(8.378184150753267), np.float64(10.336437501078015), np.float64(11.651201383295705), np.float64(10.409424237823627), np.float64(11.444931958627317), np.float64(9.218418434108726), np.float64(9.75488273159534), np.float64(10.582371237342004), np.float64(10.000971189676623), np.float64(9.99113287492442), np.float64(8.141038474176357), np.float64(8.753140366308532), np.float64(nan), np.float64(9.473620699797529), np.float64(10.385157891255394), np.float64(8.62017786927526), np.float64(nan), np.float64(9.125502088084769), np.float64(8.885322783949285), np.float64(9.893406118063305), np.float64(8.940469617080819), np.float64(10.445483584889923), np.float64(8.746324348567024), np.float64(9.156105366013922), np.float64(8.821469488915627), np.float64(9.811402657288642), np.float64(8.90074070299323), np.float64(9.716140479428176), np.float64(10.232931375555644), np.float64(10.63228928671456), np.float64(11.376113944810491), np.float64(10.83147778188637), np.float64(10.71455168264124), np.float64(9.365644861807398)], [np.float64(12.674108529330057), np.float64(nan), np.float64(nan), np.float64(12.241044385343237), np.float64(11.240658998952373), np.float64(10.493668027739764), np.float64(9.847765086313597), np.float64(nan), np.float64(nan), np.float64(8.139717928462309), np.float64(10.329490115992709), np.float64(8.640130394173037), np.float64(8.76509716124976), np.float64(9.415554208529583), np.float64(8.527255771620364), np.float64(9.116091141378167), np.float64(8.378184150753267), np.float64(10.336437501078015), np.float64(11.651201383295705), np.float64(10.409424237823627), np.float64(11.444931958627317), np.float64(9.218418434108726), np.float64(9.75488273159534), np.float64(10.582371237342004), np.float64(10.000971189676623), np.float64(9.99113287492442), np.float64(8.141038474176357), np.float64(8.753140366308532), np.float64(nan), np.float64(9.473620699797529), np.float64(10.385157891255394), np.float64(8.62017786927526), np.float64(nan), np.float64(9.125502088084769), np.float64(8.885322783949285), np.float64(9.893406118063305), np.float64(8.940469617080819), np.float64(10.445483584889923), np.float64(8.746324348567024), np.float64(9.156105366013922), np.float64(8.821469488915627), np.float64(9.811402657288642), np.float64(8.90074070299323), np.float64(9.716140479428176), np.float64(10.232931375555644), np.float64(10.63228928671456), np.float64(11.376113944810491), np.float64(10.83147778188637), np.float64(10.71455168264124), np.float64(9.365644861807398)], [np.float64(12.674108529330057), np.float64(nan), np.float64(nan), np.float64(12.241044385343237), np.float64(11.240658998952373), np.float64(10.493668027739764), np.float64(9.847765086313597), np.float64(nan), np.float64(nan), np.float64(8.139717928462309), np.float64(10.329490115992709), np.float64(8.640130394173037), np.float64(8.76509716124976), np.float64(9.415554208529583), np.float64(8.527255771620364), np.float64(9.116091141378167), np.float64(8.378184150753267), np.float64(10.336437501078015), np.float64(11.651201383295705), np.float64(10.409424237823627), np.float64(11.444931958627317), np.float64(9.218418434108726), np.float64(9.75488273159534), np.float64(10.582371237342004), np.float64(10.000971189676623), np.float64(9.99113287492442), np.float64(8.141038474176357), np.float64(8.753140366308532), np.float64(nan), np.float64(9.473620699797529), np.float64(10.385157891255394), np.float64(8.62017786927526), np.float64(nan), np.float64(9.125502088084769), np.float64(8.885322783949285), np.float64(9.893406118063305), np.float64(8.940469617080819), np.float64(10.445483584889923), np.float64(8.746324348567024), np.float64(9.156105366013922), np.float64(8.821469488915627), np.float64(9.811402657288642), np.float64(8.90074070299323), np.float64(9.716140479428176), np.float64(10.232931375555644), np.float64(10.63228928671456), np.float64(11.376113944810491), np.float64(10.83147778188637), np.float64(10.71455168264124), np.float64(9.365644861807398)], [np.float64(12.674108529330057), np.float64(nan), np.float64(nan), np.float64(12.241044385343237), np.float64(11.240658998952373), np.float64(10.493668027739764), np.float64(9.847765086313597), np.float64(nan), np.float64(nan), np.float64(8.139717928462309), np.float64(10.329490115992709), np.float64(8.640130394173037), np.float64(8.76509716124976), np.float64(9.415554208529583), np.float64(8.527255771620364), np.float64(9.116091141378167), np.float64(8.378184150753267), np.float64(10.336437501078015), np.float64(11.651201383295705), np.float64(10.409424237823627), np.float64(11.444931958627317), np.float64(9.218418434108726), np.float64(9.75488273159534), np.float64(10.582371237342004), np.float64(10.000971189676623), np.float64(9.99113287492442), np.float64(8.141038474176357), np.float64(8.753140366308532), np.float64(nan), np.float64(9.473620699797529), np.float64(10.385157891255394), np.float64(8.62017786927526), np.float64(nan), np.float64(9.125502088084769), np.float64(8.885322783949285), np.float64(9.893406118063305), np.float64(8.940469617080819), np.float64(10.445483584889923), np.float64(8.746324348567024), np.float64(9.156105366013922), np.float64(8.821469488915627), np.float64(9.811402657288642), np.float64(8.90074070299323), np.float64(9.716140479428176), np.float64(10.232931375555644), np.float64(10.63228928671456), np.float64(11.376113944810491), np.float64(10.83147778188637), np.float64(10.71455168264124), np.float64(9.365644861807398)], [np.float64(12.674108529330057), np.float64(nan), np.float64(nan), np.float64(12.241044385343237), np.float64(11.240658998952373), np.float64(10.493668027739764), np.float64(9.847765086313597), np.float64(nan), np.float64(nan), np.float64(8.139717928462309), np.float64(10.329490115992709), np.float64(8.640130394173037), np.float64(8.76509716124976), np.float64(9.415554208529583), np.float64(8.527255771620364), np.float64(9.116091141378167), np.float64(8.378184150753267), np.float64(10.336437501078015), np.float64(11.651201383295705), np.float64(10.409424237823627), np.float64(11.444931958627317), np.float64(9.218418434108726), np.float64(9.75488273159534), np.float64(10.582371237342004), np.float64(10.000971189676623), np.float64(9.99113287492442), np.float64(8.141038474176357), np.float64(8.753140366308532), np.float64(nan), np.float64(9.473620699797529), np.float64(10.385157891255394), np.float64(8.62017786927526), np.float64(nan), np.float64(9.125502088084769), np.float64(8.885322783949285), np.float64(9.893406118063305), np.float64(8.940469617080819), np.float64(10.445483584889923), np.float64(8.746324348567024), np.float64(9.156105366013922), np.float64(8.821469488915627), np.float64(9.811402657288642), np.float64(8.90074070299323), np.float64(9.716140479428176), np.float64(10.232931375555644), np.float64(10.63228928671456), np.float64(11.376113944810491), np.float64(10.83147778188637), np.float64(10.71455168264124), np.float64(9.365644861807398)], [np.float64(12.674108529330057), np.float64(nan), np.float64(nan), np.float64(12.241044385343237), np.float64(11.240658998952373), np.float64(10.493668027739764), np.float64(9.847765086313597), np.float64(nan), np.float64(nan), np.float64(8.139717928462309), np.float64(10.329490115992709), np.float64(8.640130394173037), np.float64(8.76509716124976), np.float64(9.415554208529583), np.float64(8.527255771620364), np.float64(9.116091141378167), np.float64(8.378184150753267), np.float64(10.336437501078015), np.float64(11.651201383295705), np.float64(10.409424237823627), np.float64(11.444931958627317), np.float64(9.218418434108726), np.float64(9.75488273159534), np.float64(10.582371237342004), np.float64(10.000971189676623), np.float64(9.99113287492442), np.float64(8.141038474176357), np.float64(8.753140366308532), np.float64(nan), np.float64(9.473620699797529), np.float64(10.385157891255394), np.float64(8.62017786927526), np.float64(nan), np.float64(9.125502088084769), np.float64(8.885322783949285), np.float64(9.893406118063305), np.float64(8.940469617080819), np.float64(10.445483584889923), np.float64(8.746324348567024), np.float64(9.156105366013922), np.float64(8.821469488915627), np.float64(9.811402657288642), np.float64(8.90074070299323), np.float64(9.716140479428176), np.float64(10.232931375555644), np.float64(10.63228928671456), np.float64(11.376113944810491), np.float64(10.83147778188637), np.float64(10.71455168264124), np.float64(9.365644861807398)], [np.float64(12.674108529330057), np.float64(nan), np.float64(nan), np.float64(12.241044385343237), np.float64(11.240658998952373), np.float64(10.493668027739764), np.float64(9.847765086313597), np.float64(nan), np.float64(nan), np.float64(8.139717928462309), np.float64(10.329490115992709), np.float64(8.640130394173037), np.float64(8.76509716124976), np.float64(9.415554208529583), np.float64(8.527255771620364), np.float64(9.116091141378167), np.float64(8.378184150753267), np.float64(10.336437501078015), np.float64(11.651201383295705), np.float64(10.409424237823627), np.float64(11.444931958627317), np.float64(9.218418434108726), np.float64(9.75488273159534), np.float64(10.582371237342004), np.float64(10.000971189676623), np.float64(9.99113287492442), np.float64(8.141038474176357), np.float64(8.753140366308532), np.float64(nan), np.float64(9.473620699797529), np.float64(10.385157891255394), np.float64(8.62017786927526), np.float64(nan), np.float64(9.125502088084769), np.float64(8.885322783949285), np.float64(9.893406118063305), np.float64(8.940469617080819), np.float64(10.445483584889923), np.float64(8.746324348567024), np.float64(9.156105366013922), np.float64(8.821469488915627), np.float64(9.811402657288642), np.float64(8.90074070299323), np.float64(9.716140479428176), np.float64(10.232931375555644), np.float64(10.63228928671456), np.float64(11.376113944810491), np.float64(10.83147778188637), np.float64(10.71455168264124), np.float64(9.365644861807398)], [np.float64(12.674108529330057), np.float64(nan), np.float64(nan), np.float64(12.241044385343237), np.float64(11.240658998952373), np.float64(10.493668027739764), np.float64(9.847765086313597), np.float64(nan), np.float64(nan), np.float64(8.139717928462309), np.float64(10.329490115992709), np.float64(8.640130394173037), np.float64(8.76509716124976), np.float64(9.415554208529583), np.float64(8.527255771620364), np.float64(9.116091141378167), np.float64(8.378184150753267), np.float64(10.336437501078015), np.float64(11.651201383295705), np.float64(10.409424237823627), np.float64(11.444931958627317), np.float64(9.218418434108726), np.float64(9.75488273159534), np.float64(10.582371237342004), np.float64(10.000971189676623), np.float64(9.99113287492442), np.float64(8.141038474176357), np.float64(8.753140366308532), np.float64(nan), np.float64(9.473620699797529), np.float64(10.385157891255394), np.float64(8.62017786927526), np.float64(nan), np.float64(9.125502088084769), np.float64(8.885322783949285), np.float64(9.893406118063305), np.float64(8.940469617080819), np.float64(10.445483584889923), np.float64(8.746324348567024), np.float64(9.156105366013922), np.float64(8.821469488915627), np.float64(9.811402657288642), np.float64(8.90074070299323), np.float64(9.716140479428176), np.float64(10.232931375555644), np.float64(10.63228928671456), np.float64(11.376113944810491), np.float64(10.83147778188637), np.float64(10.71455168264124), np.float64(9.365644861807398)], [np.float64(12.674108529330057), np.float64(nan), np.float64(nan), np.float64(12.241044385343237), np.float64(11.240658998952373), np.float64(10.493668027739764), np.float64(9.847765086313597), np.float64(nan), np.float64(nan), np.float64(8.139717928462309), np.float64(10.329490115992709), np.float64(8.640130394173037), np.float64(8.76509716124976), np.float64(9.415554208529583), np.float64(8.527255771620364), np.float64(9.116091141378167), np.float64(8.378184150753267), np.float64(10.336437501078015), np.float64(11.651201383295705), np.float64(10.409424237823627), np.float64(11.444931958627317), np.float64(9.218418434108726), np.float64(9.75488273159534), np.float64(10.582371237342004), np.float64(10.000971189676623), np.float64(9.99113287492442), np.float64(8.141038474176357), np.float64(8.753140366308532), np.float64(nan), np.float64(9.473620699797529), np.float64(10.385157891255394), np.float64(8.62017786927526), np.float64(nan), np.float64(9.125502088084769), np.float64(8.885322783949285), np.float64(9.893406118063305), np.float64(8.940469617080819), np.float64(10.445483584889923), np.float64(8.746324348567024), np.float64(9.156105366013922), np.float64(8.821469488915627), np.float64(9.811402657288642), np.float64(8.90074070299323), np.float64(9.716140479428176), np.float64(10.232931375555644), np.float64(10.63228928671456), np.float64(11.376113944810491), np.float64(10.83147778188637), np.float64(10.71455168264124), np.float64(9.365644861807398)], [np.float64(12.674108529330057), np.float64(nan), np.float64(nan), np.float64(12.241044385343237), np.float64(11.240658998952373), np.float64(10.493668027739764), np.float64(9.847765086313597), np.float64(nan), np.float64(nan), np.float64(8.139717928462309), np.float64(10.329490115992709), np.float64(8.640130394173037), np.float64(8.76509716124976), np.float64(9.415554208529583), np.float64(8.527255771620364), np.float64(9.116091141378167), np.float64(8.378184150753267), np.float64(10.336437501078015), np.float64(11.651201383295705), np.float64(10.409424237823627), np.float64(11.444931958627317), np.float64(9.218418434108726), np.float64(9.75488273159534), np.float64(10.582371237342004), np.float64(10.000971189676623), np.float64(9.99113287492442), np.float64(8.141038474176357), np.float64(8.753140366308532), np.float64(nan), np.float64(9.473620699797529), np.float64(10.385157891255394), np.float64(8.62017786927526), np.float64(nan), np.float64(9.125502088084769), np.float64(8.885322783949285), np.float64(9.893406118063305), np.float64(8.940469617080819), np.float64(10.445483584889923), np.float64(8.746324348567024), np.float64(9.156105366013922), np.float64(8.821469488915627), np.float64(9.811402657288642), np.float64(8.90074070299323), np.float64(9.716140479428176), np.float64(10.232931375555644), np.float64(10.63228928671456), np.float64(11.376113944810491), np.float64(10.83147778188637), np.float64(10.71455168264124), np.float64(9.365644861807398)], [np.float64(12.674108529330057), np.float64(nan), np.float64(nan), np.float64(12.241044385343237), np.float64(11.240658998952373), np.float64(10.493668027739764), np.float64(9.847765086313597), np.float64(nan), np.float64(nan), np.float64(8.139717928462309), np.float64(10.329490115992709), np.float64(8.640130394173037), np.float64(8.76509716124976), np.float64(9.415554208529583), np.float64(8.527255771620364), np.float64(9.116091141378167), np.float64(8.378184150753267), np.float64(10.336437501078015), np.float64(11.651201383295705), np.float64(10.409424237823627), np.float64(11.444931958627317), np.float64(9.218418434108726), np.float64(9.75488273159534), np.float64(10.582371237342004), np.float64(10.000971189676623), np.float64(9.99113287492442), np.float64(8.141038474176357), np.float64(8.753140366308532), np.float64(nan), np.float64(9.473620699797529), np.float64(10.385157891255394), np.float64(8.62017786927526), np.float64(nan), np.float64(9.125502088084769), np.float64(8.885322783949285), np.float64(9.893406118063305), np.float64(8.940469617080819), np.float64(10.445483584889923), np.float64(8.746324348567024), np.float64(9.156105366013922), np.float64(8.821469488915627), np.float64(9.811402657288642), np.float64(8.90074070299323), np.float64(9.716140479428176), np.float64(10.232931375555644), np.float64(10.63228928671456), np.float64(11.376113944810491), np.float64(10.83147778188637), np.float64(10.71455168264124), np.float64(9.365644861807398)], [np.float64(12.674108529330057), np.float64(nan), np.float64(nan), np.float64(12.241044385343237), np.float64(11.240658998952373), np.float64(10.493668027739764), np.float64(9.847765086313597), np.float64(nan), np.float64(nan), np.float64(8.139717928462309), np.float64(10.329490115992709), np.float64(8.640130394173037), np.float64(8.76509716124976), np.float64(9.415554208529583), np.float64(8.527255771620364), np.float64(9.116091141378167), np.float64(8.378184150753267), np.float64(10.336437501078015), np.float64(11.651201383295705), np.float64(10.409424237823627), np.float64(11.444931958627317), np.float64(9.218418434108726), np.float64(9.75488273159534), np.float64(10.582371237342004), np.float64(10.000971189676623), np.float64(9.99113287492442), np.float64(8.141038474176357), np.float64(8.753140366308532), np.float64(nan), np.float64(9.473620699797529), np.float64(10.385157891255394), np.float64(8.62017786927526), np.float64(nan), np.float64(9.125502088084769), np.float64(8.885322783949285), np.float64(9.893406118063305), np.float64(8.940469617080819), np.float64(10.445483584889923), np.float64(8.746324348567024), np.float64(9.156105366013922), np.float64(8.821469488915627), np.float64(9.811402657288642), np.float64(8.90074070299323), np.float64(9.716140479428176), np.float64(10.232931375555644), np.float64(10.63228928671456), np.float64(11.376113944810491), np.float64(10.83147778188637), np.float64(10.71455168264124), np.float64(9.365644861807398)], [np.float64(12.674108529330057), np.float64(nan), np.float64(nan), np.float64(12.241044385343237), np.float64(11.240658998952373), np.float64(10.493668027739764), np.float64(9.847765086313597), np.float64(nan), np.float64(nan), np.float64(8.139717928462309), np.float64(10.329490115992709), np.float64(8.640130394173037), np.float64(8.76509716124976), np.float64(9.415554208529583), np.float64(8.527255771620364), np.float64(9.116091141378167), np.float64(8.378184150753267), np.float64(10.336437501078015), np.float64(11.651201383295705), np.float64(10.409424237823627), np.float64(11.444931958627317), np.float64(9.218418434108726), np.float64(9.75488273159534), np.float64(10.582371237342004), np.float64(10.000971189676623), np.float64(9.99113287492442), np.float64(8.141038474176357), np.float64(8.753140366308532), np.float64(nan), np.float64(9.473620699797529), np.float64(10.385157891255394), np.float64(8.62017786927526), np.float64(nan), np.float64(9.125502088084769), np.float64(8.885322783949285), np.float64(9.893406118063305), np.float64(8.940469617080819), np.float64(10.445483584889923), np.float64(8.746324348567024), np.float64(9.156105366013922), np.float64(8.821469488915627), np.float64(9.811402657288642), np.float64(8.90074070299323), np.float64(9.716140479428176), np.float64(10.232931375555644), np.float64(10.63228928671456), np.float64(11.376113944810491), np.float64(10.83147778188637), np.float64(10.71455168264124), np.float64(9.365644861807398)], [np.float64(nan), np.float64(nan), np.float64(12.268348030409893), np.float64(nan), np.float64(nan), np.float64(nan), np.float64(nan), np.float64(nan), np.float64(10.27567905680521), np.float64(9.39244609253668), np.float64(8.400787103977258), np.float64(8.97345391369928), np.float64(9.539991737987297), np.float64(8.750169482855044), np.float64(9.050725338236255), np.float64(nan), np.float64(8.918169800205181), np.float64(8.428738266304851), np.float64(9.141527243913124), np.float64(nan), np.float64(10.579096394730241), np.float64(9.370200033312864), np.float64(8.52002230626324), np.float64(11.218434907023278), np.float64(9.959821644637469), np.float64(10.385177283849776), np.float64(10.372762892235915), np.float64(11.401312027751517), np.float64(nan), np.float64(10.320871189265258), np.float64(10.787461381827775), np.float64(10.816056625553106), np.float64(9.945201743010843), np.float64(9.929867800489385), np.float64(9.342268690836626), np.float64(nan), np.float64(9.277359669473718), np.float64(9.772244699078168), np.float64(10.106216613281667), np.float64(nan), np.float64(7.952261174527317), np.float64(nan), np.float64(8.623827184332061), np.float64(9.54141428049553), np.float64(9.647356271304414), np.float64(9.162544628070453), np.float64(nan), np.float64(9.459630180375317), np.float64(9.624900650322461), np.float64(10.314892806150821)], [np.float64(nan), np.float64(nan), np.float64(12.268348030409893), np.float64(nan), np.float64(nan), np.float64(nan), np.float64(nan), np.float64(nan), np.float64(10.27567905680521), np.float64(9.39244609253668), np.float64(8.400787103977258), np.float64(8.97345391369928), np.float64(9.539991737987297), np.float64(8.750169482855044), np.float64(9.050725338236255), np.float64(nan), np.float64(8.918169800205181), np.float64(8.428738266304851), np.float64(9.141527243913124), np.float64(nan), np.float64(10.579096394730241), np.float64(9.370200033312864), np.float64(8.52002230626324), np.float64(11.218434907023278), np.float64(9.959821644637469), np.float64(10.385177283849776), np.float64(10.372762892235915), np.float64(11.401312027751517), np.float64(nan), np.float64(10.320871189265258), np.float64(10.787461381827775), np.float64(10.816056625553106), np.float64(9.945201743010843), np.float64(9.929867800489385), np.float64(9.342268690836626), np.float64(nan), np.float64(9.277359669473718), np.float64(9.772244699078168), np.float64(10.106216613281667), np.float64(nan), np.float64(7.952261174527317), np.float64(nan), np.float64(8.623827184332061), np.float64(9.54141428049553), np.float64(9.647356271304414), np.float64(9.162544628070453), np.float64(nan), np.float64(9.459630180375317), np.float64(9.624900650322461), np.float64(10.314892806150821)], [np.float64(nan), np.float64(nan), np.float64(12.268348030409893), np.float64(nan), np.float64(nan), np.float64(nan), np.float64(nan), np.float64(nan), np.float64(10.27567905680521), np.float64(9.39244609253668), np.float64(8.400787103977258), np.float64(8.97345391369928), np.float64(9.539991737987297), np.float64(8.750169482855044), np.float64(9.050725338236255), np.float64(nan), np.float64(8.918169800205181), np.float64(8.428738266304851), np.float64(9.141527243913124), np.float64(nan), np.float64(10.579096394730241), np.float64(9.370200033312864), np.float64(8.52002230626324), np.float64(11.218434907023278), np.float64(9.959821644637469), np.float64(10.385177283849776), np.float64(10.372762892235915), np.float64(11.401312027751517), np.float64(nan), np.float64(10.320871189265258), np.float64(10.787461381827775), np.float64(10.816056625553106), np.float64(9.945201743010843), np.float64(9.929867800489385), np.float64(9.342268690836626), np.float64(nan), np.float64(9.277359669473718), np.float64(9.772244699078168), np.float64(10.106216613281667), np.float64(nan), np.float64(7.952261174527317), np.float64(nan), np.float64(8.623827184332061), np.float64(9.54141428049553), np.float64(9.647356271304414), np.float64(9.162544628070453), np.float64(nan), np.float64(9.459630180375317), np.float64(9.624900650322461), np.float64(10.314892806150821)], [np.float64(nan), np.float64(nan), np.float64(12.268348030409893), np.float64(nan), np.float64(nan), np.float64(nan), np.float64(nan), np.float64(nan), np.float64(10.27567905680521), np.float64(9.39244609253668), np.float64(8.400787103977258), np.float64(8.97345391369928), np.float64(9.539991737987297), np.float64(8.750169482855044), np.float64(9.050725338236255), np.float64(nan), np.float64(8.918169800205181), np.float64(8.428738266304851), np.float64(9.141527243913124), np.float64(nan), np.float64(10.579096394730241), np.float64(9.370200033312864), np.float64(8.52002230626324), np.float64(11.218434907023278), np.float64(9.959821644637469), np.float64(10.385177283849776), np.float64(10.372762892235915), np.float64(11.401312027751517), np.float64(nan), np.float64(10.320871189265258), np.float64(10.787461381827775), np.float64(10.816056625553106), np.float64(9.945201743010843), np.float64(9.929867800489385), np.float64(9.342268690836626), np.float64(nan), np.float64(9.277359669473718), np.float64(9.772244699078168), np.float64(10.106216613281667), np.float64(nan), np.float64(7.952261174527317), np.float64(nan), np.float64(8.623827184332061), np.float64(9.54141428049553), np.float64(9.647356271304414), np.float64(9.162544628070453), np.float64(nan), np.float64(9.459630180375317), np.float64(9.624900650322461), np.float64(10.314892806150821)], [np.float64(nan), np.float64(nan), np.float64(12.268348030409893), np.float64(nan), np.float64(nan), np.float64(nan), np.float64(nan), np.float64(nan), np.float64(10.27567905680521), np.float64(9.39244609253668), np.float64(8.400787103977258), np.float64(8.97345391369928), np.float64(9.539991737987297), np.float64(8.750169482855044), np.float64(9.050725338236255), np.float64(nan), np.float64(8.918169800205181), np.float64(8.428738266304851), np.float64(9.141527243913124), np.float64(nan), np.float64(10.579096394730241), np.float64(9.370200033312864), np.float64(8.52002230626324), np.float64(11.218434907023278), np.float64(9.959821644637469), np.float64(10.385177283849776), np.float64(10.372762892235915), np.float64(11.401312027751517), np.float64(nan), np.float64(10.320871189265258), np.float64(10.787461381827775), np.float64(10.816056625553106), np.float64(9.945201743010843), np.float64(9.929867800489385), np.float64(9.342268690836626), np.float64(nan), np.float64(9.277359669473718), np.float64(9.772244699078168), np.float64(10.106216613281667), np.float64(nan), np.float64(7.952261174527317), np.float64(nan), np.float64(8.623827184332061), np.float64(9.54141428049553), np.float64(9.647356271304414), np.float64(9.162544628070453), np.float64(nan), np.float64(9.459630180375317), np.float64(9.624900650322461), np.float64(10.314892806150821)], [np.float64(nan), np.float64(nan), np.float64(12.268348030409893), np.float64(nan), np.float64(nan), np.float64(nan), np.float64(nan), np.float64(nan), np.float64(10.27567905680521), np.float64(9.39244609253668), np.float64(8.400787103977258), np.float64(8.97345391369928), np.float64(9.539991737987297), np.float64(8.750169482855044), np.float64(9.050725338236255), np.float64(nan), np.float64(8.918169800205181), np.float64(8.428738266304851), np.float64(9.141527243913124), np.float64(nan), np.float64(10.579096394730241), np.float64(9.370200033312864), np.float64(8.52002230626324), np.float64(11.218434907023278), np.float64(9.959821644637469), np.float64(10.385177283849776), np.float64(10.372762892235915), np.float64(11.401312027751517), np.float64(nan), np.float64(10.320871189265258), np.float64(10.787461381827775), np.float64(10.816056625553106), np.float64(9.945201743010843), np.float64(9.929867800489385), np.float64(9.342268690836626), np.float64(nan), np.float64(9.277359669473718), np.float64(9.772244699078168), np.float64(10.106216613281667), np.float64(nan), np.float64(7.952261174527317), np.float64(nan), np.float64(8.623827184332061), np.float64(9.54141428049553), np.float64(9.647356271304414), np.float64(9.162544628070453), np.float64(nan), np.float64(9.459630180375317), np.float64(9.624900650322461), np.float64(10.314892806150821)], [np.float64(nan), np.float64(nan), np.float64(12.268348030409893), np.float64(nan), np.float64(nan), np.float64(nan), np.float64(nan), np.float64(nan), np.float64(10.27567905680521), np.float64(9.39244609253668), np.float64(8.400787103977258), np.float64(8.97345391369928), np.float64(9.539991737987297), np.float64(8.750169482855044), np.float64(9.050725338236255), np.float64(nan), np.float64(8.918169800205181), np.float64(8.428738266304851), np.float64(9.141527243913124), np.float64(nan), np.float64(10.579096394730241), np.float64(9.370200033312864), np.float64(8.52002230626324), np.float64(11.218434907023278), np.float64(9.959821644637469), np.float64(10.385177283849776), np.float64(10.372762892235915), np.float64(11.401312027751517), np.float64(nan), np.float64(10.320871189265258), np.float64(10.787461381827775), np.float64(10.816056625553106), np.float64(9.945201743010843), np.float64(9.929867800489385), np.float64(9.342268690836626), np.float64(nan), np.float64(9.277359669473718), np.float64(9.772244699078168), np.float64(10.106216613281667), np.float64(nan), np.float64(7.952261174527317), np.float64(nan), np.float64(8.623827184332061), np.float64(9.54141428049553), np.float64(9.647356271304414), np.float64(9.162544628070453), np.float64(nan), np.float64(9.459630180375317), np.float64(9.624900650322461), np.float64(10.314892806150821)], [np.float64(nan), np.float64(nan), np.float64(12.268348030409893), np.float64(nan), np.float64(nan), np.float64(nan), np.float64(nan), np.float64(nan), np.float64(10.27567905680521), np.float64(9.39244609253668), np.float64(8.400787103977258), np.float64(8.97345391369928), np.float64(9.539991737987297), np.float64(8.750169482855044), np.float64(9.050725338236255), np.float64(nan), np.float64(8.918169800205181), np.float64(8.428738266304851), np.float64(9.141527243913124), np.float64(nan), np.float64(10.579096394730241), np.float64(9.370200033312864), np.float64(8.52002230626324), np.float64(11.218434907023278), np.float64(9.959821644637469), np.float64(10.385177283849776), np.float64(10.372762892235915), np.float64(11.401312027751517), np.float64(nan), np.float64(10.320871189265258), np.float64(10.787461381827775), np.float64(10.816056625553106), np.float64(9.945201743010843), np.float64(9.929867800489385), np.float64(9.342268690836626), np.float64(nan), np.float64(9.277359669473718), np.float64(9.772244699078168), np.float64(10.106216613281667), np.float64(nan), np.float64(7.952261174527317), np.float64(nan), np.float64(8.623827184332061), np.float64(9.54141428049553), np.float64(9.647356271304414), np.float64(9.162544628070453), np.float64(nan), np.float64(9.459630180375317), np.float64(9.624900650322461), np.float64(10.314892806150821)], [np.float64(nan), np.float64(nan), np.float64(12.268348030409893), np.float64(nan), np.float64(nan), np.float64(nan), np.float64(nan), np.float64(nan), np.float64(10.27567905680521), np.float64(9.39244609253668), np.float64(8.400787103977258), np.float64(8.97345391369928), np.float64(9.539991737987297), np.float64(8.750169482855044), np.float64(9.050725338236255), np.float64(nan), np.float64(8.918169800205181), np.float64(8.428738266304851), np.float64(9.141527243913124), np.float64(nan), np.float64(10.579096394730241), np.float64(9.370200033312864), np.float64(8.52002230626324), np.float64(11.218434907023278), np.float64(9.959821644637469), np.float64(10.385177283849776), np.float64(10.372762892235915), np.float64(11.401312027751517), np.float64(nan), np.float64(10.320871189265258), np.float64(10.787461381827775), np.float64(10.816056625553106), np.float64(9.945201743010843), np.float64(9.929867800489385), np.float64(9.342268690836626), np.float64(nan), np.float64(9.277359669473718), np.float64(9.772244699078168), np.float64(10.106216613281667), np.float64(nan), np.float64(7.952261174527317), np.float64(nan), np.float64(8.623827184332061), np.float64(9.54141428049553), np.float64(9.647356271304414), np.float64(9.162544628070453), np.float64(nan), np.float64(9.459630180375317), np.float64(9.624900650322461), np.float64(10.314892806150821)], [np.float64(nan), np.float64(nan), np.float64(12.268348030409893), np.float64(nan), np.float64(nan), np.float64(nan), np.float64(nan), np.float64(nan), np.float64(10.27567905680521), np.float64(9.39244609253668), np.float64(8.400787103977258), np.float64(8.97345391369928), np.float64(9.539991737987297), np.float64(8.750169482855044), np.float64(9.050725338236255), np.float64(nan), np.float64(8.918169800205181), np.float64(8.428738266304851), np.float64(9.141527243913124), np.float64(nan), np.float64(10.579096394730241), np.float64(9.370200033312864), np.float64(8.52002230626324), np.float64(11.218434907023278), np.float64(9.959821644637469), np.float64(10.385177283849776), np.float64(10.372762892235915), np.float64(11.401312027751517), np.float64(nan), np.float64(10.320871189265258), np.float64(10.787461381827775), np.float64(10.816056625553106), np.float64(9.945201743010843), np.float64(9.929867800489385), np.float64(9.342268690836626), np.float64(nan), np.float64(9.277359669473718), np.float64(9.772244699078168), np.float64(10.106216613281667), np.float64(nan), np.float64(7.952261174527317), np.float64(nan), np.float64(8.623827184332061), np.float64(9.54141428049553), np.float64(9.647356271304414), np.float64(9.162544628070453), np.float64(nan), np.float64(9.459630180375317), np.float64(9.624900650322461), np.float64(10.314892806150821)], [np.float64(nan), np.float64(nan), np.float64(12.268348030409893), np.float64(nan), np.float64(nan), np.float64(nan), np.float64(nan), np.float64(nan), np.float64(10.27567905680521), np.float64(9.39244609253668), np.float64(8.400787103977258), np.float64(8.97345391369928), np.float64(9.539991737987297), np.float64(8.750169482855044), np.float64(9.050725338236255), np.float64(nan), np.float64(8.918169800205181), np.float64(8.428738266304851), np.float64(9.141527243913124), np.float64(nan), np.float64(10.579096394730241), np.float64(9.370200033312864), np.float64(8.52002230626324), np.float64(11.218434907023278), np.float64(9.959821644637469), np.float64(10.385177283849776), np.float64(10.372762892235915), np.float64(11.401312027751517), np.float64(nan), np.float64(10.320871189265258), np.float64(10.787461381827775), np.float64(10.816056625553106), np.float64(9.945201743010843), np.float64(9.929867800489385), np.float64(9.342268690836626), np.float64(nan), np.float64(9.277359669473718), np.float64(9.772244699078168), np.float64(10.106216613281667), np.float64(nan), np.float64(7.952261174527317), np.float64(nan), np.float64(8.623827184332061), np.float64(9.54141428049553), np.float64(9.647356271304414), np.float64(9.162544628070453), np.float64(nan), np.float64(9.459630180375317), np.float64(9.624900650322461), np.float64(10.314892806150821)], [np.float64(nan), np.float64(nan), np.float64(12.268348030409893), np.float64(nan), np.float64(nan), np.float64(nan), np.float64(nan), np.float64(nan), np.float64(10.27567905680521), np.float64(9.39244609253668), np.float64(8.400787103977258), np.float64(8.97345391369928), np.float64(9.539991737987297), np.float64(8.750169482855044), np.float64(9.050725338236255), np.float64(nan), np.float64(8.918169800205181), np.float64(8.428738266304851), np.float64(9.141527243913124), np.float64(nan), np.float64(10.579096394730241), np.float64(9.370200033312864), np.float64(8.52002230626324), np.float64(11.218434907023278), np.float64(9.959821644637469), np.float64(10.385177283849776), np.float64(10.372762892235915), np.float64(11.401312027751517), np.float64(nan), np.float64(10.320871189265258), np.float64(10.787461381827775), np.float64(10.816056625553106), np.float64(9.945201743010843), np.float64(9.929867800489385), np.float64(9.342268690836626), np.float64(nan), np.float64(9.277359669473718), np.float64(9.772244699078168), np.float64(10.106216613281667), np.float64(nan), np.float64(7.952261174527317), np.float64(nan), np.float64(8.623827184332061), np.float64(9.54141428049553), np.float64(9.647356271304414), np.float64(9.162544628070453), np.float64(nan), np.float64(9.459630180375317), np.float64(9.624900650322461), np.float64(10.314892806150821)], [np.float64(nan), np.float64(nan), np.float64(12.268348030409893), np.float64(nan), np.float64(nan), np.float64(nan), np.float64(nan), np.float64(nan), np.float64(10.27567905680521), np.float64(9.39244609253668), np.float64(8.400787103977258), np.float64(8.97345391369928), np.float64(9.539991737987297), np.float64(8.750169482855044), np.float64(9.050725338236255), np.float64(nan), np.float64(8.918169800205181), np.float64(8.428738266304851), np.float64(9.141527243913124), np.float64(nan), np.float64(10.579096394730241), np.float64(9.370200033312864), np.float64(8.52002230626324), np.float64(11.218434907023278), np.float64(9.959821644637469), np.float64(10.385177283849776), np.float64(10.372762892235915), np.float64(11.401312027751517), np.float64(nan), np.float64(10.320871189265258), np.float64(10.787461381827775), np.float64(10.816056625553106), np.float64(9.945201743010843), np.float64(9.929867800489385), np.float64(9.342268690836626), np.float64(nan), np.float64(9.277359669473718), np.float64(9.772244699078168), np.float64(10.106216613281667), np.float64(nan), np.float64(7.952261174527317), np.float64(nan), np.float64(8.623827184332061), np.float64(9.54141428049553), np.float64(9.647356271304414), np.float64(9.162544628070453), np.float64(nan), np.float64(9.459630180375317), np.float64(9.624900650322461), np.float64(10.314892806150821)], [np.float64(nan), np.float64(nan), np.float64(12.268348030409893), np.float64(nan), np.float64(nan), np.float64(nan), np.float64(nan), np.float64(nan), np.float64(10.27567905680521), np.float64(9.39244609253668), np.float64(8.400787103977258), np.float64(8.97345391369928), np.float64(9.539991737987297), np.float64(8.750169482855044), np.float64(9.050725338236255), np.float64(nan), np.float64(8.918169800205181), np.float64(8.428738266304851), np.float64(9.141527243913124), np.float64(nan), np.float64(10.579096394730241), np.float64(9.370200033312864), np.float64(8.52002230626324), np.float64(11.218434907023278), np.float64(9.959821644637469), np.float64(10.385177283849776), np.float64(10.372762892235915), np.float64(11.401312027751517), np.float64(nan), np.float64(10.320871189265258), np.float64(10.787461381827775), np.float64(10.816056625553106), np.float64(9.945201743010843), np.float64(9.929867800489385), np.float64(9.342268690836626), np.float64(nan), np.float64(9.277359669473718), np.float64(9.772244699078168), np.float64(10.106216613281667), np.float64(nan), np.float64(7.952261174527317), np.float64(nan), np.float64(8.623827184332061), np.float64(9.54141428049553), np.float64(9.647356271304414), np.float64(9.162544628070453), np.float64(nan), np.float64(9.459630180375317), np.float64(9.624900650322461), np.float64(10.314892806150821)], [np.float64(nan), np.float64(9.986876023543855), np.float64(11.061986639764394), np.float64(nan), np.float64(nan), np.float64(nan), np.float64(nan), np.float64(nan), np.float64(nan), np.float64(8.892404510228223), np.float64(nan), np.float64(9.757911339678719), np.float64(nan), np.float64(nan), np.float64(nan), np.float64(nan), np.float64(nan), np.float64(9.550907809501638), np.float64(10.022267133475879), np.float64(9.11130258974747), np.float64(9.542560052493751), np.float64(8.209989971043406), np.float64(10.32073533272525), np.float64(nan), np.float64(9.084963333361294), np.float64(nan), np.float64(nan), np.float64(12.223371919407223), np.float64(10.115472208457208), np.float64(10.398064236982862), np.float64(nan), np.float64(10.090980630797263), np.float64(10.068961371712499), np.float64(9.534109617699576), np.float64(9.950179117050322), np.float64(8.760978540900892), np.float64(10.57309418913438), np.float64(9.568861680825002), np.float64(9.59589660048988), np.float64(nan), np.float64(nan), np.float64(9.266114390114945), np.float64(8.749667010702481), np.float64(7.9989710506767056), np.float64(7.612234821408048), np.float64(10.671648165294048), np.float64(9.646635490731175), np.float64(nan), np.float64(9.08516173361072), np.float64(nan)], [np.float64(nan), np.float64(9.986876023543855), np.float64(11.061986639764394), np.float64(nan), np.float64(nan), np.float64(nan), np.float64(nan), np.float64(nan), np.float64(nan), np.float64(8.892404510228223), np.float64(nan), np.float64(9.757911339678719), np.float64(nan), np.float64(nan), np.float64(nan), np.float64(nan), np.float64(nan), np.float64(9.550907809501638), np.float64(10.022267133475879), np.float64(9.11130258974747), np.float64(9.542560052493751), np.float64(8.209989971043406), np.float64(10.32073533272525), np.float64(nan), np.float64(9.084963333361294), np.float64(nan), np.float64(nan), np.float64(12.223371919407223), np.float64(10.115472208457208), np.float64(10.398064236982862), np.float64(nan), np.float64(10.090980630797263), np.float64(10.068961371712499), np.float64(9.534109617699576), np.float64(9.950179117050322), np.float64(8.760978540900892), np.float64(10.57309418913438), np.float64(9.568861680825002), np.float64(9.59589660048988), np.float64(nan), np.float64(nan), np.float64(9.266114390114945), np.float64(8.749667010702481), np.float64(7.9989710506767056), np.float64(7.612234821408048), np.float64(10.671648165294048), np.float64(9.646635490731175), np.float64(nan), np.float64(9.08516173361072), np.float64(nan)], [np.float64(nan), np.float64(9.986876023543855), np.float64(11.061986639764394), np.float64(nan), np.float64(nan), np.float64(nan), np.float64(nan), np.float64(nan), np.float64(nan), np.float64(8.892404510228223), np.float64(nan), np.float64(9.757911339678719), np.float64(nan), np.float64(nan), np.float64(nan), np.float64(nan), np.float64(nan), np.float64(9.550907809501638), np.float64(10.022267133475879), np.float64(9.11130258974747), np.float64(9.542560052493751), np.float64(8.209989971043406), np.float64(10.32073533272525), np.float64(nan), np.float64(9.084963333361294), np.float64(nan), np.float64(nan), np.float64(12.223371919407223), np.float64(10.115472208457208), np.float64(10.398064236982862), np.float64(nan), np.float64(10.090980630797263), np.float64(10.068961371712499), np.float64(9.534109617699576), np.float64(9.950179117050322), np.float64(8.760978540900892), np.float64(10.57309418913438), np.float64(9.568861680825002), np.float64(9.59589660048988), np.float64(nan), np.float64(nan), np.float64(9.266114390114945), np.float64(8.749667010702481), np.float64(7.9989710506767056), np.float64(7.612234821408048), np.float64(10.671648165294048), np.float64(9.646635490731175), np.float64(nan), np.float64(9.08516173361072), np.float64(nan)], [np.float64(nan), np.float64(9.986876023543855), np.float64(11.061986639764394), np.float64(nan), np.float64(nan), np.float64(nan), np.float64(nan), np.float64(nan), np.float64(nan), np.float64(8.892404510228223), np.float64(nan), np.float64(9.757911339678719), np.float64(nan), np.float64(nan), np.float64(nan), np.float64(nan), np.float64(nan), np.float64(9.550907809501638), np.float64(10.022267133475879), np.float64(9.11130258974747), np.float64(9.542560052493751), np.float64(8.209989971043406), np.float64(10.32073533272525), np.float64(nan), np.float64(9.084963333361294), np.float64(nan), np.float64(nan), np.float64(12.223371919407223), np.float64(10.115472208457208), np.float64(10.398064236982862), np.float64(nan), np.float64(10.090980630797263), np.float64(10.068961371712499), np.float64(9.534109617699576), np.float64(9.950179117050322), np.float64(8.760978540900892), np.float64(10.57309418913438), np.float64(9.568861680825002), np.float64(9.59589660048988), np.float64(nan), np.float64(nan), np.float64(9.266114390114945), np.float64(8.749667010702481), np.float64(7.9989710506767056), np.float64(7.612234821408048), np.float64(10.671648165294048), np.float64(9.646635490731175), np.float64(nan), np.float64(9.08516173361072), np.float64(nan)], [np.float64(nan), np.float64(9.986876023543855), np.float64(11.061986639764394), np.float64(nan), np.float64(nan), np.float64(nan), np.float64(nan), np.float64(nan), np.float64(nan), np.float64(8.892404510228223), np.float64(nan), np.float64(9.757911339678719), np.float64(nan), np.float64(nan), np.float64(nan), np.float64(nan), np.float64(nan), np.float64(9.550907809501638), np.float64(10.022267133475879), np.float64(9.11130258974747), np.float64(9.542560052493751), np.float64(8.209989971043406), np.float64(10.32073533272525), np.float64(nan), np.float64(9.084963333361294), np.float64(nan), np.float64(nan), np.float64(12.223371919407223), np.float64(10.115472208457208), np.float64(10.398064236982862), np.float64(nan), np.float64(10.090980630797263), np.float64(10.068961371712499), np.float64(9.534109617699576), np.float64(9.950179117050322), np.float64(8.760978540900892), np.float64(10.57309418913438), np.float64(9.568861680825002), np.float64(9.59589660048988), np.float64(nan), np.float64(nan), np.float64(9.266114390114945), np.float64(8.749667010702481), np.float64(7.9989710506767056), np.float64(7.612234821408048), np.float64(10.671648165294048), np.float64(9.646635490731175), np.float64(nan), np.float64(9.08516173361072), np.float64(nan)], [np.float64(nan), np.float64(9.986876023543855), np.float64(11.061986639764394), np.float64(nan), np.float64(nan), np.float64(nan), np.float64(nan), np.float64(nan), np.float64(nan), np.float64(8.892404510228223), np.float64(nan), np.float64(9.757911339678719), np.float64(nan), np.float64(nan), np.float64(nan), np.float64(nan), np.float64(nan), np.float64(9.550907809501638), np.float64(10.022267133475879), np.float64(9.11130258974747), np.float64(9.542560052493751), np.float64(8.209989971043406), np.float64(10.32073533272525), np.float64(nan), np.float64(9.084963333361294), np.float64(nan), np.float64(nan), np.float64(12.223371919407223), np.float64(10.115472208457208), np.float64(10.398064236982862), np.float64(nan), np.float64(10.090980630797263), np.float64(10.068961371712499), np.float64(9.534109617699576), np.float64(9.950179117050322), np.float64(8.760978540900892), np.float64(10.57309418913438), np.float64(9.568861680825002), np.float64(9.59589660048988), np.float64(nan), np.float64(nan), np.float64(9.266114390114945), np.float64(8.749667010702481), np.float64(7.9989710506767056), np.float64(7.612234821408048), np.float64(10.671648165294048), np.float64(9.646635490731175), np.float64(nan), np.float64(9.08516173361072), np.float64(nan)], [np.float64(nan), np.float64(9.986876023543855), np.float64(11.061986639764394), np.float64(nan), np.float64(nan), np.float64(nan), np.float64(nan), np.float64(nan), np.float64(nan), np.float64(8.892404510228223), np.float64(nan), np.float64(9.757911339678719), np.float64(nan), np.float64(nan), np.float64(nan), np.float64(nan), np.float64(nan), np.float64(9.550907809501638), np.float64(10.022267133475879), np.float64(9.11130258974747), np.float64(9.542560052493751), np.float64(8.209989971043406), np.float64(10.32073533272525), np.float64(nan), np.float64(9.084963333361294), np.float64(nan), np.float64(nan), np.float64(12.223371919407223), np.float64(10.115472208457208), np.float64(10.398064236982862), np.float64(nan), np.float64(10.090980630797263), np.float64(10.068961371712499), np.float64(9.534109617699576), np.float64(9.950179117050322), np.float64(8.760978540900892), np.float64(10.57309418913438), np.float64(9.568861680825002), np.float64(9.59589660048988), np.float64(nan), np.float64(nan), np.float64(9.266114390114945), np.float64(8.749667010702481), np.float64(7.9989710506767056), np.float64(7.612234821408048), np.float64(10.671648165294048), np.float64(9.646635490731175), np.float64(nan), np.float64(9.08516173361072), np.float64(nan)], [np.float64(nan), np.float64(9.986876023543855), np.float64(11.061986639764394), np.float64(nan), np.float64(nan), np.float64(nan), np.float64(nan), np.float64(nan), np.float64(nan), np.float64(8.892404510228223), np.float64(nan), np.float64(9.757911339678719), np.float64(nan), np.float64(nan), np.float64(nan), np.float64(nan), np.float64(nan), np.float64(9.550907809501638), np.float64(10.022267133475879), np.float64(9.11130258974747), np.float64(9.542560052493751), np.float64(8.209989971043406), np.float64(10.32073533272525), np.float64(nan), np.float64(9.084963333361294), np.float64(nan), np.float64(nan), np.float64(12.223371919407223), np.float64(10.115472208457208), np.float64(10.398064236982862), np.float64(nan), np.float64(10.090980630797263), np.float64(10.068961371712499), np.float64(9.534109617699576), np.float64(9.950179117050322), np.float64(8.760978540900892), np.float64(10.57309418913438), np.float64(9.568861680825002), np.float64(9.59589660048988), np.float64(nan), np.float64(nan), np.float64(9.266114390114945), np.float64(8.749667010702481), np.float64(7.9989710506767056), np.float64(7.612234821408048), np.float64(10.671648165294048), np.float64(9.646635490731175), np.float64(nan), np.float64(9.08516173361072), np.float64(nan)], [np.float64(nan), np.float64(9.986876023543855), np.float64(11.061986639764394), np.float64(nan), np.float64(nan), np.float64(nan), np.float64(nan), np.float64(nan), np.float64(nan), np.float64(8.892404510228223), np.float64(nan), np.float64(9.757911339678719), np.float64(nan), np.float64(nan), np.float64(nan), np.float64(nan), np.float64(nan), np.float64(9.550907809501638), np.float64(10.022267133475879), np.float64(9.11130258974747), np.float64(9.542560052493751), np.float64(8.209989971043406), np.float64(10.32073533272525), np.float64(nan), np.float64(9.084963333361294), np.float64(nan), np.float64(nan), np.float64(12.223371919407223), np.float64(10.115472208457208), np.float64(10.398064236982862), np.float64(nan), np.float64(10.090980630797263), np.float64(10.068961371712499), np.float64(9.534109617699576), np.float64(9.950179117050322), np.float64(8.760978540900892), np.float64(10.57309418913438), np.float64(9.568861680825002), np.float64(9.59589660048988), np.float64(nan), np.float64(nan), np.float64(9.266114390114945), np.float64(8.749667010702481), np.float64(7.9989710506767056), np.float64(7.612234821408048), np.float64(10.671648165294048), np.float64(9.646635490731175), np.float64(nan), np.float64(9.08516173361072), np.float64(nan)], [np.float64(nan), np.float64(9.986876023543855), np.float64(11.061986639764394), np.float64(nan), np.float64(nan), np.float64(nan), np.float64(nan), np.float64(nan), np.float64(nan), np.float64(8.892404510228223), np.float64(nan), np.float64(9.757911339678719), np.float64(nan), np.float64(nan), np.float64(nan), np.float64(nan), np.float64(nan), np.float64(9.550907809501638), np.float64(10.022267133475879), np.float64(9.11130258974747), np.float64(9.542560052493751), np.float64(8.209989971043406), np.float64(10.32073533272525), np.float64(nan), np.float64(9.084963333361294), np.float64(nan), np.float64(nan), np.float64(12.223371919407223), np.float64(10.115472208457208), np.float64(10.398064236982862), np.float64(nan), np.float64(10.090980630797263), np.float64(10.068961371712499), np.float64(9.534109617699576), np.float64(9.950179117050322), np.float64(8.760978540900892), np.float64(10.57309418913438), np.float64(9.568861680825002), np.float64(9.59589660048988), np.float64(nan), np.float64(nan), np.float64(9.266114390114945), np.float64(8.749667010702481), np.float64(7.9989710506767056), np.float64(7.612234821408048), np.float64(10.671648165294048), np.float64(9.646635490731175), np.float64(nan), np.float64(9.08516173361072), np.float64(nan)], [np.float64(nan), np.float64(9.986876023543855), np.float64(11.061986639764394), np.float64(nan), np.float64(nan), np.float64(nan), np.float64(nan), np.float64(nan), np.float64(nan), np.float64(8.892404510228223), np.float64(nan), np.float64(9.757911339678719), np.float64(nan), np.float64(nan), np.float64(nan), np.float64(nan), np.float64(nan), np.float64(9.550907809501638), np.float64(10.022267133475879), np.float64(9.11130258974747), np.float64(9.542560052493751), np.float64(8.209989971043406), np.float64(10.32073533272525), np.float64(nan), np.float64(9.084963333361294), np.float64(nan), np.float64(nan), np.float64(12.223371919407223), np.float64(10.115472208457208), np.float64(10.398064236982862), np.float64(nan), np.float64(10.090980630797263), np.float64(10.068961371712499), np.float64(9.534109617699576), np.float64(9.950179117050322), np.float64(8.760978540900892), np.float64(10.57309418913438), np.float64(9.568861680825002), np.float64(9.59589660048988), np.float64(nan), np.float64(nan), np.float64(9.266114390114945), np.float64(8.749667010702481), np.float64(7.9989710506767056), np.float64(7.612234821408048), np.float64(10.671648165294048), np.float64(9.646635490731175), np.float64(nan), np.float64(9.08516173361072), np.float64(nan)], [np.float64(nan), np.float64(9.986876023543855), np.float64(11.061986639764394), np.float64(nan), np.float64(nan), np.float64(nan), np.float64(nan), np.float64(nan), np.float64(nan), np.float64(8.892404510228223), np.float64(nan), np.float64(9.757911339678719), np.float64(nan), np.float64(nan), np.float64(nan), np.float64(nan), np.float64(nan), np.float64(9.550907809501638), np.float64(10.022267133475879), np.float64(9.11130258974747), np.float64(9.542560052493751), np.float64(8.209989971043406), np.float64(10.32073533272525), np.float64(nan), np.float64(9.084963333361294), np.float64(nan), np.float64(nan), np.float64(12.223371919407223), np.float64(10.115472208457208), np.float64(10.398064236982862), np.float64(nan), np.float64(10.090980630797263), np.float64(10.068961371712499), np.float64(9.534109617699576), np.float64(9.950179117050322), np.float64(8.760978540900892), np.float64(10.57309418913438), np.float64(9.568861680825002), np.float64(9.59589660048988), np.float64(nan), np.float64(nan), np.float64(9.266114390114945), np.float64(8.749667010702481), np.float64(7.9989710506767056), np.float64(7.612234821408048), np.float64(10.671648165294048), np.float64(9.646635490731175), np.float64(nan), np.float64(9.08516173361072), np.float64(nan)], [np.float64(nan), np.float64(9.986876023543855), np.float64(11.061986639764394), np.float64(nan), np.float64(nan), np.float64(nan), np.float64(nan), np.float64(nan), np.float64(nan), np.float64(8.892404510228223), np.float64(nan), np.float64(9.757911339678719), np.float64(nan), np.float64(nan), np.float64(nan), np.float64(nan), np.float64(nan), np.float64(9.550907809501638), np.float64(10.022267133475879), np.float64(9.11130258974747), np.float64(9.542560052493751), np.float64(8.209989971043406), np.float64(10.32073533272525), np.float64(nan), np.float64(9.084963333361294), np.float64(nan), np.float64(nan), np.float64(12.223371919407223), np.float64(10.115472208457208), np.float64(10.398064236982862), np.float64(nan), np.float64(10.090980630797263), np.float64(10.068961371712499), np.float64(9.534109617699576), np.float64(9.950179117050322), np.float64(8.760978540900892), np.float64(10.57309418913438), np.float64(9.568861680825002), np.float64(9.59589660048988), np.float64(nan), np.float64(nan), np.float64(9.266114390114945), np.float64(8.749667010702481), np.float64(7.9989710506767056), np.float64(7.612234821408048), np.float64(10.671648165294048), np.float64(9.646635490731175), np.float64(nan), np.float64(9.08516173361072), np.float64(nan)], [np.float64(nan), np.float64(9.986876023543855), np.float64(11.061986639764394), np.float64(nan), np.float64(nan), np.float64(nan), np.float64(nan), np.float64(nan), np.float64(nan), np.float64(8.892404510228223), np.float64(nan), np.float64(9.757911339678719), np.float64(nan), np.float64(nan), np.float64(nan), np.float64(nan), np.float64(nan), np.float64(9.550907809501638), np.float64(10.022267133475879), np.float64(9.11130258974747), np.float64(9.542560052493751), np.float64(8.209989971043406), np.float64(10.32073533272525), np.float64(nan), np.float64(9.084963333361294), np.float64(nan), np.float64(nan), np.float64(12.223371919407223), np.float64(10.115472208457208), np.float64(10.398064236982862), np.float64(nan), np.float64(10.090980630797263), np.float64(10.068961371712499), np.float64(9.534109617699576), np.float64(9.950179117050322), np.float64(8.760978540900892), np.float64(10.57309418913438), np.float64(9.568861680825002), np.float64(9.59589660048988), np.float64(nan), np.float64(nan), np.float64(9.266114390114945), np.float64(8.749667010702481), np.float64(7.9989710506767056), np.float64(7.612234821408048), np.float64(10.671648165294048), np.float64(9.646635490731175), np.float64(nan), np.float64(9.08516173361072), np.float64(nan)]]\n"
          ]
        },
        {
          "output_type": "error",
          "ename": "AttributeError",
          "evalue": "'list' object has no attribute 'shape'",
          "traceback": [
            "\u001b[0;31m---------------------------------------------------------------------------\u001b[0m",
            "\u001b[0;31mAttributeError\u001b[0m                            Traceback (most recent call last)",
            "\u001b[0;32m<ipython-input-62-0e9376716855>\u001b[0m in \u001b[0;36m<cell line: 0>\u001b[0;34m()\u001b[0m\n\u001b[1;32m      1\u001b[0m \u001b[0mprint\u001b[0m\u001b[0;34m(\u001b[0m\u001b[0mlist_fid_scores\u001b[0m\u001b[0;34m)\u001b[0m\u001b[0;34m\u001b[0m\u001b[0;34m\u001b[0m\u001b[0m\n\u001b[0;32m----> 2\u001b[0;31m \u001b[0mprint\u001b[0m\u001b[0;34m(\u001b[0m\u001b[0mlist_fid_scores\u001b[0m\u001b[0;34m.\u001b[0m\u001b[0mshape\u001b[0m\u001b[0;34m)\u001b[0m\u001b[0;34m\u001b[0m\u001b[0;34m\u001b[0m\u001b[0m\n\u001b[0m",
            "\u001b[0;31mAttributeError\u001b[0m: 'list' object has no attribute 'shape'"
          ]
        }
      ]
    },
    {
      "source": [
        "print(list_fid_scores)\n",
        "for fid_scores_for_depth in list_fid_scores:\n",
        "  print(np.array(fid_scores_for_depth).shape) # fid_scores_for_depth is a list of fid_scores for a particular depth, convert it to NumPy array before getting shape"
      ],
      "cell_type": "code",
      "metadata": {
        "id": "vIk1-SczOewe",
        "outputId": "01ef5f71-87f3-4397-f505-47445298d92a",
        "colab": {
          "base_uri": "https://localhost:8080/"
        }
      },
      "execution_count": 63,
      "outputs": [
        {
          "output_type": "stream",
          "name": "stdout",
          "text": [
            "[[np.float64(14.061498414640448), np.float64(14.515622294293102), np.float64(13.490158077066235), np.float64(13.975227247719296), np.float64(14.478752309090426), np.float64(14.784921757922023), np.float64(14.03533586161088), np.float64(14.538709314946695), np.float64(14.294113601294185), np.float64(14.745621281112069), np.float64(14.244784166251872), np.float64(14.785184796280149), np.float64(14.531840778013141), np.float64(14.714897360983104), np.float64(14.038717714126467), np.float64(13.229676589900961), np.float64(12.863403194772378), np.float64(12.43512829429136), np.float64(13.696409621928048), np.float64(12.32628206754297), np.float64(12.481205519838543), np.float64(12.187171872043205), np.float64(13.08089431405271), np.float64(13.219517669710852), np.float64(12.776112223897485), np.float64(13.31989113905058), np.float64(13.192543829707853), np.float64(13.274195675530095), np.float64(14.166800811460144), np.float64(12.720642738968191), np.float64(12.664241086444004), np.float64(13.249924138524683), np.float64(12.93075248862698), np.float64(12.652540664894547), np.float64(11.003733124899325), np.float64(10.732473243175455), np.float64(12.600839642147907), np.float64(12.3302069841437), np.float64(12.444421519971767), np.float64(nan), np.float64(nan), np.float64(nan), np.float64(nan), np.float64(nan), np.float64(nan), np.float64(nan), np.float64(nan), np.float64(nan), np.float64(nan), np.float64(nan)], [np.float64(14.061498414640448), np.float64(14.515622294293102), np.float64(13.490158077066235), np.float64(13.975227247719296), np.float64(14.478752309090426), np.float64(14.784921757922023), np.float64(14.03533586161088), np.float64(14.538709314946695), np.float64(14.294113601294185), np.float64(14.745621281112069), np.float64(14.244784166251872), np.float64(14.785184796280149), np.float64(14.531840778013141), np.float64(14.714897360983104), np.float64(14.038717714126467), np.float64(13.229676589900961), np.float64(12.863403194772378), np.float64(12.43512829429136), np.float64(13.696409621928048), np.float64(12.32628206754297), np.float64(12.481205519838543), np.float64(12.187171872043205), np.float64(13.08089431405271), np.float64(13.219517669710852), np.float64(12.776112223897485), np.float64(13.31989113905058), np.float64(13.192543829707853), np.float64(13.274195675530095), np.float64(14.166800811460144), np.float64(12.720642738968191), np.float64(12.664241086444004), np.float64(13.249924138524683), np.float64(12.93075248862698), np.float64(12.652540664894547), np.float64(11.003733124899325), np.float64(10.732473243175455), np.float64(12.600839642147907), np.float64(12.3302069841437), np.float64(12.444421519971767), np.float64(nan), np.float64(nan), np.float64(nan), np.float64(nan), np.float64(nan), np.float64(nan), np.float64(nan), np.float64(nan), np.float64(nan), np.float64(nan), np.float64(nan)], [np.float64(14.061498414640448), np.float64(14.515622294293102), np.float64(13.490158077066235), np.float64(13.975227247719296), np.float64(14.478752309090426), np.float64(14.784921757922023), np.float64(14.03533586161088), np.float64(14.538709314946695), np.float64(14.294113601294185), np.float64(14.745621281112069), np.float64(14.244784166251872), np.float64(14.785184796280149), np.float64(14.531840778013141), np.float64(14.714897360983104), np.float64(14.038717714126467), np.float64(13.229676589900961), np.float64(12.863403194772378), np.float64(12.43512829429136), np.float64(13.696409621928048), np.float64(12.32628206754297), np.float64(12.481205519838543), np.float64(12.187171872043205), np.float64(13.08089431405271), np.float64(13.219517669710852), np.float64(12.776112223897485), np.float64(13.31989113905058), np.float64(13.192543829707853), np.float64(13.274195675530095), np.float64(14.166800811460144), np.float64(12.720642738968191), np.float64(12.664241086444004), np.float64(13.249924138524683), np.float64(12.93075248862698), np.float64(12.652540664894547), np.float64(11.003733124899325), np.float64(10.732473243175455), np.float64(12.600839642147907), np.float64(12.3302069841437), np.float64(12.444421519971767), np.float64(nan), np.float64(nan), np.float64(nan), np.float64(nan), np.float64(nan), np.float64(nan), np.float64(nan), np.float64(nan), np.float64(nan), np.float64(nan), np.float64(nan)], [np.float64(14.061498414640448), np.float64(14.515622294293102), np.float64(13.490158077066235), np.float64(13.975227247719296), np.float64(14.478752309090426), np.float64(14.784921757922023), np.float64(14.03533586161088), np.float64(14.538709314946695), np.float64(14.294113601294185), np.float64(14.745621281112069), np.float64(14.244784166251872), np.float64(14.785184796280149), np.float64(14.531840778013141), np.float64(14.714897360983104), np.float64(14.038717714126467), np.float64(13.229676589900961), np.float64(12.863403194772378), np.float64(12.43512829429136), np.float64(13.696409621928048), np.float64(12.32628206754297), np.float64(12.481205519838543), np.float64(12.187171872043205), np.float64(13.08089431405271), np.float64(13.219517669710852), np.float64(12.776112223897485), np.float64(13.31989113905058), np.float64(13.192543829707853), np.float64(13.274195675530095), np.float64(14.166800811460144), np.float64(12.720642738968191), np.float64(12.664241086444004), np.float64(13.249924138524683), np.float64(12.93075248862698), np.float64(12.652540664894547), np.float64(11.003733124899325), np.float64(10.732473243175455), np.float64(12.600839642147907), np.float64(12.3302069841437), np.float64(12.444421519971767), np.float64(nan), np.float64(nan), np.float64(nan), np.float64(nan), np.float64(nan), np.float64(nan), np.float64(nan), np.float64(nan), np.float64(nan), np.float64(nan), np.float64(nan)], [np.float64(14.061498414640448), np.float64(14.515622294293102), np.float64(13.490158077066235), np.float64(13.975227247719296), np.float64(14.478752309090426), np.float64(14.784921757922023), np.float64(14.03533586161088), np.float64(14.538709314946695), np.float64(14.294113601294185), np.float64(14.745621281112069), np.float64(14.244784166251872), np.float64(14.785184796280149), np.float64(14.531840778013141), np.float64(14.714897360983104), np.float64(14.038717714126467), np.float64(13.229676589900961), np.float64(12.863403194772378), np.float64(12.43512829429136), np.float64(13.696409621928048), np.float64(12.32628206754297), np.float64(12.481205519838543), np.float64(12.187171872043205), np.float64(13.08089431405271), np.float64(13.219517669710852), np.float64(12.776112223897485), np.float64(13.31989113905058), np.float64(13.192543829707853), np.float64(13.274195675530095), np.float64(14.166800811460144), np.float64(12.720642738968191), np.float64(12.664241086444004), np.float64(13.249924138524683), np.float64(12.93075248862698), np.float64(12.652540664894547), np.float64(11.003733124899325), np.float64(10.732473243175455), np.float64(12.600839642147907), np.float64(12.3302069841437), np.float64(12.444421519971767), np.float64(nan), np.float64(nan), np.float64(nan), np.float64(nan), np.float64(nan), np.float64(nan), np.float64(nan), np.float64(nan), np.float64(nan), np.float64(nan), np.float64(nan)], [np.float64(14.061498414640448), np.float64(14.515622294293102), np.float64(13.490158077066235), np.float64(13.975227247719296), np.float64(14.478752309090426), np.float64(14.784921757922023), np.float64(14.03533586161088), np.float64(14.538709314946695), np.float64(14.294113601294185), np.float64(14.745621281112069), np.float64(14.244784166251872), np.float64(14.785184796280149), np.float64(14.531840778013141), np.float64(14.714897360983104), np.float64(14.038717714126467), np.float64(13.229676589900961), np.float64(12.863403194772378), np.float64(12.43512829429136), np.float64(13.696409621928048), np.float64(12.32628206754297), np.float64(12.481205519838543), np.float64(12.187171872043205), np.float64(13.08089431405271), np.float64(13.219517669710852), np.float64(12.776112223897485), np.float64(13.31989113905058), np.float64(13.192543829707853), np.float64(13.274195675530095), np.float64(14.166800811460144), np.float64(12.720642738968191), np.float64(12.664241086444004), np.float64(13.249924138524683), np.float64(12.93075248862698), np.float64(12.652540664894547), np.float64(11.003733124899325), np.float64(10.732473243175455), np.float64(12.600839642147907), np.float64(12.3302069841437), np.float64(12.444421519971767), np.float64(nan), np.float64(nan), np.float64(nan), np.float64(nan), np.float64(nan), np.float64(nan), np.float64(nan), np.float64(nan), np.float64(nan), np.float64(nan), np.float64(nan)], [np.float64(14.061498414640448), np.float64(14.515622294293102), np.float64(13.490158077066235), np.float64(13.975227247719296), np.float64(14.478752309090426), np.float64(14.784921757922023), np.float64(14.03533586161088), np.float64(14.538709314946695), np.float64(14.294113601294185), np.float64(14.745621281112069), np.float64(14.244784166251872), np.float64(14.785184796280149), np.float64(14.531840778013141), np.float64(14.714897360983104), np.float64(14.038717714126467), np.float64(13.229676589900961), np.float64(12.863403194772378), np.float64(12.43512829429136), np.float64(13.696409621928048), np.float64(12.32628206754297), np.float64(12.481205519838543), np.float64(12.187171872043205), np.float64(13.08089431405271), np.float64(13.219517669710852), np.float64(12.776112223897485), np.float64(13.31989113905058), np.float64(13.192543829707853), np.float64(13.274195675530095), np.float64(14.166800811460144), np.float64(12.720642738968191), np.float64(12.664241086444004), np.float64(13.249924138524683), np.float64(12.93075248862698), np.float64(12.652540664894547), np.float64(11.003733124899325), np.float64(10.732473243175455), np.float64(12.600839642147907), np.float64(12.3302069841437), np.float64(12.444421519971767), np.float64(nan), np.float64(nan), np.float64(nan), np.float64(nan), np.float64(nan), np.float64(nan), np.float64(nan), np.float64(nan), np.float64(nan), np.float64(nan), np.float64(nan)], [np.float64(14.061498414640448), np.float64(14.515622294293102), np.float64(13.490158077066235), np.float64(13.975227247719296), np.float64(14.478752309090426), np.float64(14.784921757922023), np.float64(14.03533586161088), np.float64(14.538709314946695), np.float64(14.294113601294185), np.float64(14.745621281112069), np.float64(14.244784166251872), np.float64(14.785184796280149), np.float64(14.531840778013141), np.float64(14.714897360983104), np.float64(14.038717714126467), np.float64(13.229676589900961), np.float64(12.863403194772378), np.float64(12.43512829429136), np.float64(13.696409621928048), np.float64(12.32628206754297), np.float64(12.481205519838543), np.float64(12.187171872043205), np.float64(13.08089431405271), np.float64(13.219517669710852), np.float64(12.776112223897485), np.float64(13.31989113905058), np.float64(13.192543829707853), np.float64(13.274195675530095), np.float64(14.166800811460144), np.float64(12.720642738968191), np.float64(12.664241086444004), np.float64(13.249924138524683), np.float64(12.93075248862698), np.float64(12.652540664894547), np.float64(11.003733124899325), np.float64(10.732473243175455), np.float64(12.600839642147907), np.float64(12.3302069841437), np.float64(12.444421519971767), np.float64(nan), np.float64(nan), np.float64(nan), np.float64(nan), np.float64(nan), np.float64(nan), np.float64(nan), np.float64(nan), np.float64(nan), np.float64(nan), np.float64(nan)], [np.float64(14.061498414640448), np.float64(14.515622294293102), np.float64(13.490158077066235), np.float64(13.975227247719296), np.float64(14.478752309090426), np.float64(14.784921757922023), np.float64(14.03533586161088), np.float64(14.538709314946695), np.float64(14.294113601294185), np.float64(14.745621281112069), np.float64(14.244784166251872), np.float64(14.785184796280149), np.float64(14.531840778013141), np.float64(14.714897360983104), np.float64(14.038717714126467), np.float64(13.229676589900961), np.float64(12.863403194772378), np.float64(12.43512829429136), np.float64(13.696409621928048), np.float64(12.32628206754297), np.float64(12.481205519838543), np.float64(12.187171872043205), np.float64(13.08089431405271), np.float64(13.219517669710852), np.float64(12.776112223897485), np.float64(13.31989113905058), np.float64(13.192543829707853), np.float64(13.274195675530095), np.float64(14.166800811460144), np.float64(12.720642738968191), np.float64(12.664241086444004), np.float64(13.249924138524683), np.float64(12.93075248862698), np.float64(12.652540664894547), np.float64(11.003733124899325), np.float64(10.732473243175455), np.float64(12.600839642147907), np.float64(12.3302069841437), np.float64(12.444421519971767), np.float64(nan), np.float64(nan), np.float64(nan), np.float64(nan), np.float64(nan), np.float64(nan), np.float64(nan), np.float64(nan), np.float64(nan), np.float64(nan), np.float64(nan)], [np.float64(14.061498414640448), np.float64(14.515622294293102), np.float64(13.490158077066235), np.float64(13.975227247719296), np.float64(14.478752309090426), np.float64(14.784921757922023), np.float64(14.03533586161088), np.float64(14.538709314946695), np.float64(14.294113601294185), np.float64(14.745621281112069), np.float64(14.244784166251872), np.float64(14.785184796280149), np.float64(14.531840778013141), np.float64(14.714897360983104), np.float64(14.038717714126467), np.float64(13.229676589900961), np.float64(12.863403194772378), np.float64(12.43512829429136), np.float64(13.696409621928048), np.float64(12.32628206754297), np.float64(12.481205519838543), np.float64(12.187171872043205), np.float64(13.08089431405271), np.float64(13.219517669710852), np.float64(12.776112223897485), np.float64(13.31989113905058), np.float64(13.192543829707853), np.float64(13.274195675530095), np.float64(14.166800811460144), np.float64(12.720642738968191), np.float64(12.664241086444004), np.float64(13.249924138524683), np.float64(12.93075248862698), np.float64(12.652540664894547), np.float64(11.003733124899325), np.float64(10.732473243175455), np.float64(12.600839642147907), np.float64(12.3302069841437), np.float64(12.444421519971767), np.float64(nan), np.float64(nan), np.float64(nan), np.float64(nan), np.float64(nan), np.float64(nan), np.float64(nan), np.float64(nan), np.float64(nan), np.float64(nan), np.float64(nan)], [np.float64(14.061498414640448), np.float64(14.515622294293102), np.float64(13.490158077066235), np.float64(13.975227247719296), np.float64(14.478752309090426), np.float64(14.784921757922023), np.float64(14.03533586161088), np.float64(14.538709314946695), np.float64(14.294113601294185), np.float64(14.745621281112069), np.float64(14.244784166251872), np.float64(14.785184796280149), np.float64(14.531840778013141), np.float64(14.714897360983104), np.float64(14.038717714126467), np.float64(13.229676589900961), np.float64(12.863403194772378), np.float64(12.43512829429136), np.float64(13.696409621928048), np.float64(12.32628206754297), np.float64(12.481205519838543), np.float64(12.187171872043205), np.float64(13.08089431405271), np.float64(13.219517669710852), np.float64(12.776112223897485), np.float64(13.31989113905058), np.float64(13.192543829707853), np.float64(13.274195675530095), np.float64(14.166800811460144), np.float64(12.720642738968191), np.float64(12.664241086444004), np.float64(13.249924138524683), np.float64(12.93075248862698), np.float64(12.652540664894547), np.float64(11.003733124899325), np.float64(10.732473243175455), np.float64(12.600839642147907), np.float64(12.3302069841437), np.float64(12.444421519971767), np.float64(nan), np.float64(nan), np.float64(nan), np.float64(nan), np.float64(nan), np.float64(nan), np.float64(nan), np.float64(nan), np.float64(nan), np.float64(nan), np.float64(nan)], [np.float64(14.061498414640448), np.float64(14.515622294293102), np.float64(13.490158077066235), np.float64(13.975227247719296), np.float64(14.478752309090426), np.float64(14.784921757922023), np.float64(14.03533586161088), np.float64(14.538709314946695), np.float64(14.294113601294185), np.float64(14.745621281112069), np.float64(14.244784166251872), np.float64(14.785184796280149), np.float64(14.531840778013141), np.float64(14.714897360983104), np.float64(14.038717714126467), np.float64(13.229676589900961), np.float64(12.863403194772378), np.float64(12.43512829429136), np.float64(13.696409621928048), np.float64(12.32628206754297), np.float64(12.481205519838543), np.float64(12.187171872043205), np.float64(13.08089431405271), np.float64(13.219517669710852), np.float64(12.776112223897485), np.float64(13.31989113905058), np.float64(13.192543829707853), np.float64(13.274195675530095), np.float64(14.166800811460144), np.float64(12.720642738968191), np.float64(12.664241086444004), np.float64(13.249924138524683), np.float64(12.93075248862698), np.float64(12.652540664894547), np.float64(11.003733124899325), np.float64(10.732473243175455), np.float64(12.600839642147907), np.float64(12.3302069841437), np.float64(12.444421519971767), np.float64(nan), np.float64(nan), np.float64(nan), np.float64(nan), np.float64(nan), np.float64(nan), np.float64(nan), np.float64(nan), np.float64(nan), np.float64(nan), np.float64(nan)], [np.float64(14.061498414640448), np.float64(14.515622294293102), np.float64(13.490158077066235), np.float64(13.975227247719296), np.float64(14.478752309090426), np.float64(14.784921757922023), np.float64(14.03533586161088), np.float64(14.538709314946695), np.float64(14.294113601294185), np.float64(14.745621281112069), np.float64(14.244784166251872), np.float64(14.785184796280149), np.float64(14.531840778013141), np.float64(14.714897360983104), np.float64(14.038717714126467), np.float64(13.229676589900961), np.float64(12.863403194772378), np.float64(12.43512829429136), np.float64(13.696409621928048), np.float64(12.32628206754297), np.float64(12.481205519838543), np.float64(12.187171872043205), np.float64(13.08089431405271), np.float64(13.219517669710852), np.float64(12.776112223897485), np.float64(13.31989113905058), np.float64(13.192543829707853), np.float64(13.274195675530095), np.float64(14.166800811460144), np.float64(12.720642738968191), np.float64(12.664241086444004), np.float64(13.249924138524683), np.float64(12.93075248862698), np.float64(12.652540664894547), np.float64(11.003733124899325), np.float64(10.732473243175455), np.float64(12.600839642147907), np.float64(12.3302069841437), np.float64(12.444421519971767), np.float64(nan), np.float64(nan), np.float64(nan), np.float64(nan), np.float64(nan), np.float64(nan), np.float64(nan), np.float64(nan), np.float64(nan), np.float64(nan), np.float64(nan)], [np.float64(14.061498414640448), np.float64(14.515622294293102), np.float64(13.490158077066235), np.float64(13.975227247719296), np.float64(14.478752309090426), np.float64(14.784921757922023), np.float64(14.03533586161088), np.float64(14.538709314946695), np.float64(14.294113601294185), np.float64(14.745621281112069), np.float64(14.244784166251872), np.float64(14.785184796280149), np.float64(14.531840778013141), np.float64(14.714897360983104), np.float64(14.038717714126467), np.float64(13.229676589900961), np.float64(12.863403194772378), np.float64(12.43512829429136), np.float64(13.696409621928048), np.float64(12.32628206754297), np.float64(12.481205519838543), np.float64(12.187171872043205), np.float64(13.08089431405271), np.float64(13.219517669710852), np.float64(12.776112223897485), np.float64(13.31989113905058), np.float64(13.192543829707853), np.float64(13.274195675530095), np.float64(14.166800811460144), np.float64(12.720642738968191), np.float64(12.664241086444004), np.float64(13.249924138524683), np.float64(12.93075248862698), np.float64(12.652540664894547), np.float64(11.003733124899325), np.float64(10.732473243175455), np.float64(12.600839642147907), np.float64(12.3302069841437), np.float64(12.444421519971767), np.float64(nan), np.float64(nan), np.float64(nan), np.float64(nan), np.float64(nan), np.float64(nan), np.float64(nan), np.float64(nan), np.float64(nan), np.float64(nan), np.float64(nan)], [np.float64(nan), np.float64(11.206511385500974), np.float64(nan), np.float64(11.432564199314399), np.float64(11.913324181905923), np.float64(12.042111616647173), np.float64(11.456070446537094), np.float64(10.161432940808222), np.float64(9.274133003066478), np.float64(10.156091606351065), np.float64(9.510589396671186), np.float64(9.774049314952986), np.float64(9.432770802466447), np.float64(9.067069259535058), np.float64(10.183679566130682), np.float64(10.619491010564467), np.float64(10.28560380696608), np.float64(nan), np.float64(nan), np.float64(nan), np.float64(nan), np.float64(nan), np.float64(nan), np.float64(11.638330376797098), np.float64(nan), np.float64(nan), np.float64(nan), np.float64(nan), np.float64(nan), np.float64(9.652689716025556), np.float64(8.446882973761358), np.float64(8.544270656002299), np.float64(9.957529382844857), np.float64(nan), np.float64(nan), np.float64(nan), np.float64(9.869625956015883), np.float64(nan), np.float64(nan), np.float64(nan), np.float64(nan), np.float64(9.990317841155619), np.float64(nan), np.float64(10.461103833438893), np.float64(9.488358735706793), np.float64(9.829317980549767), np.float64(9.79479992489477), np.float64(9.218590069801268), np.float64(9.048266899209576), np.float64(7.593382942863313)], [np.float64(nan), np.float64(11.206511385500974), np.float64(nan), np.float64(11.432564199314399), np.float64(11.913324181905923), np.float64(12.042111616647173), np.float64(11.456070446537094), np.float64(10.161432940808222), np.float64(9.274133003066478), np.float64(10.156091606351065), np.float64(9.510589396671186), np.float64(9.774049314952986), np.float64(9.432770802466447), np.float64(9.067069259535058), np.float64(10.183679566130682), np.float64(10.619491010564467), np.float64(10.28560380696608), np.float64(nan), np.float64(nan), np.float64(nan), np.float64(nan), np.float64(nan), np.float64(nan), np.float64(11.638330376797098), np.float64(nan), np.float64(nan), np.float64(nan), np.float64(nan), np.float64(nan), np.float64(9.652689716025556), np.float64(8.446882973761358), np.float64(8.544270656002299), np.float64(9.957529382844857), np.float64(nan), np.float64(nan), np.float64(nan), np.float64(9.869625956015883), np.float64(nan), np.float64(nan), np.float64(nan), np.float64(nan), np.float64(9.990317841155619), np.float64(nan), np.float64(10.461103833438893), np.float64(9.488358735706793), np.float64(9.829317980549767), np.float64(9.79479992489477), np.float64(9.218590069801268), np.float64(9.048266899209576), np.float64(7.593382942863313)], [np.float64(nan), np.float64(11.206511385500974), np.float64(nan), np.float64(11.432564199314399), np.float64(11.913324181905923), np.float64(12.042111616647173), np.float64(11.456070446537094), np.float64(10.161432940808222), np.float64(9.274133003066478), np.float64(10.156091606351065), np.float64(9.510589396671186), np.float64(9.774049314952986), np.float64(9.432770802466447), np.float64(9.067069259535058), np.float64(10.183679566130682), np.float64(10.619491010564467), np.float64(10.28560380696608), np.float64(nan), np.float64(nan), np.float64(nan), np.float64(nan), np.float64(nan), np.float64(nan), np.float64(11.638330376797098), np.float64(nan), np.float64(nan), np.float64(nan), np.float64(nan), np.float64(nan), np.float64(9.652689716025556), np.float64(8.446882973761358), np.float64(8.544270656002299), np.float64(9.957529382844857), np.float64(nan), np.float64(nan), np.float64(nan), np.float64(9.869625956015883), np.float64(nan), np.float64(nan), np.float64(nan), np.float64(nan), np.float64(9.990317841155619), np.float64(nan), np.float64(10.461103833438893), np.float64(9.488358735706793), np.float64(9.829317980549767), np.float64(9.79479992489477), np.float64(9.218590069801268), np.float64(9.048266899209576), np.float64(7.593382942863313)], [np.float64(nan), np.float64(11.206511385500974), np.float64(nan), np.float64(11.432564199314399), np.float64(11.913324181905923), np.float64(12.042111616647173), np.float64(11.456070446537094), np.float64(10.161432940808222), np.float64(9.274133003066478), np.float64(10.156091606351065), np.float64(9.510589396671186), np.float64(9.774049314952986), np.float64(9.432770802466447), np.float64(9.067069259535058), np.float64(10.183679566130682), np.float64(10.619491010564467), np.float64(10.28560380696608), np.float64(nan), np.float64(nan), np.float64(nan), np.float64(nan), np.float64(nan), np.float64(nan), np.float64(11.638330376797098), np.float64(nan), np.float64(nan), np.float64(nan), np.float64(nan), np.float64(nan), np.float64(9.652689716025556), np.float64(8.446882973761358), np.float64(8.544270656002299), np.float64(9.957529382844857), np.float64(nan), np.float64(nan), np.float64(nan), np.float64(9.869625956015883), np.float64(nan), np.float64(nan), np.float64(nan), np.float64(nan), np.float64(9.990317841155619), np.float64(nan), np.float64(10.461103833438893), np.float64(9.488358735706793), np.float64(9.829317980549767), np.float64(9.79479992489477), np.float64(9.218590069801268), np.float64(9.048266899209576), np.float64(7.593382942863313)], [np.float64(nan), np.float64(11.206511385500974), np.float64(nan), np.float64(11.432564199314399), np.float64(11.913324181905923), np.float64(12.042111616647173), np.float64(11.456070446537094), np.float64(10.161432940808222), np.float64(9.274133003066478), np.float64(10.156091606351065), np.float64(9.510589396671186), np.float64(9.774049314952986), np.float64(9.432770802466447), np.float64(9.067069259535058), np.float64(10.183679566130682), np.float64(10.619491010564467), np.float64(10.28560380696608), np.float64(nan), np.float64(nan), np.float64(nan), np.float64(nan), np.float64(nan), np.float64(nan), np.float64(11.638330376797098), np.float64(nan), np.float64(nan), np.float64(nan), np.float64(nan), np.float64(nan), np.float64(9.652689716025556), np.float64(8.446882973761358), np.float64(8.544270656002299), np.float64(9.957529382844857), np.float64(nan), np.float64(nan), np.float64(nan), np.float64(9.869625956015883), np.float64(nan), np.float64(nan), np.float64(nan), np.float64(nan), np.float64(9.990317841155619), np.float64(nan), np.float64(10.461103833438893), np.float64(9.488358735706793), np.float64(9.829317980549767), np.float64(9.79479992489477), np.float64(9.218590069801268), np.float64(9.048266899209576), np.float64(7.593382942863313)], [np.float64(nan), np.float64(11.206511385500974), np.float64(nan), np.float64(11.432564199314399), np.float64(11.913324181905923), np.float64(12.042111616647173), np.float64(11.456070446537094), np.float64(10.161432940808222), np.float64(9.274133003066478), np.float64(10.156091606351065), np.float64(9.510589396671186), np.float64(9.774049314952986), np.float64(9.432770802466447), np.float64(9.067069259535058), np.float64(10.183679566130682), np.float64(10.619491010564467), np.float64(10.28560380696608), np.float64(nan), np.float64(nan), np.float64(nan), np.float64(nan), np.float64(nan), np.float64(nan), np.float64(11.638330376797098), np.float64(nan), np.float64(nan), np.float64(nan), np.float64(nan), np.float64(nan), np.float64(9.652689716025556), np.float64(8.446882973761358), np.float64(8.544270656002299), np.float64(9.957529382844857), np.float64(nan), np.float64(nan), np.float64(nan), np.float64(9.869625956015883), np.float64(nan), np.float64(nan), np.float64(nan), np.float64(nan), np.float64(9.990317841155619), np.float64(nan), np.float64(10.461103833438893), np.float64(9.488358735706793), np.float64(9.829317980549767), np.float64(9.79479992489477), np.float64(9.218590069801268), np.float64(9.048266899209576), np.float64(7.593382942863313)], [np.float64(nan), np.float64(11.206511385500974), np.float64(nan), np.float64(11.432564199314399), np.float64(11.913324181905923), np.float64(12.042111616647173), np.float64(11.456070446537094), np.float64(10.161432940808222), np.float64(9.274133003066478), np.float64(10.156091606351065), np.float64(9.510589396671186), np.float64(9.774049314952986), np.float64(9.432770802466447), np.float64(9.067069259535058), np.float64(10.183679566130682), np.float64(10.619491010564467), np.float64(10.28560380696608), np.float64(nan), np.float64(nan), np.float64(nan), np.float64(nan), np.float64(nan), np.float64(nan), np.float64(11.638330376797098), np.float64(nan), np.float64(nan), np.float64(nan), np.float64(nan), np.float64(nan), np.float64(9.652689716025556), np.float64(8.446882973761358), np.float64(8.544270656002299), np.float64(9.957529382844857), np.float64(nan), np.float64(nan), np.float64(nan), np.float64(9.869625956015883), np.float64(nan), np.float64(nan), np.float64(nan), np.float64(nan), np.float64(9.990317841155619), np.float64(nan), np.float64(10.461103833438893), np.float64(9.488358735706793), np.float64(9.829317980549767), np.float64(9.79479992489477), np.float64(9.218590069801268), np.float64(9.048266899209576), np.float64(7.593382942863313)], [np.float64(nan), np.float64(11.206511385500974), np.float64(nan), np.float64(11.432564199314399), np.float64(11.913324181905923), np.float64(12.042111616647173), np.float64(11.456070446537094), np.float64(10.161432940808222), np.float64(9.274133003066478), np.float64(10.156091606351065), np.float64(9.510589396671186), np.float64(9.774049314952986), np.float64(9.432770802466447), np.float64(9.067069259535058), np.float64(10.183679566130682), np.float64(10.619491010564467), np.float64(10.28560380696608), np.float64(nan), np.float64(nan), np.float64(nan), np.float64(nan), np.float64(nan), np.float64(nan), np.float64(11.638330376797098), np.float64(nan), np.float64(nan), np.float64(nan), np.float64(nan), np.float64(nan), np.float64(9.652689716025556), np.float64(8.446882973761358), np.float64(8.544270656002299), np.float64(9.957529382844857), np.float64(nan), np.float64(nan), np.float64(nan), np.float64(9.869625956015883), np.float64(nan), np.float64(nan), np.float64(nan), np.float64(nan), np.float64(9.990317841155619), np.float64(nan), np.float64(10.461103833438893), np.float64(9.488358735706793), np.float64(9.829317980549767), np.float64(9.79479992489477), np.float64(9.218590069801268), np.float64(9.048266899209576), np.float64(7.593382942863313)], [np.float64(nan), np.float64(11.206511385500974), np.float64(nan), np.float64(11.432564199314399), np.float64(11.913324181905923), np.float64(12.042111616647173), np.float64(11.456070446537094), np.float64(10.161432940808222), np.float64(9.274133003066478), np.float64(10.156091606351065), np.float64(9.510589396671186), np.float64(9.774049314952986), np.float64(9.432770802466447), np.float64(9.067069259535058), np.float64(10.183679566130682), np.float64(10.619491010564467), np.float64(10.28560380696608), np.float64(nan), np.float64(nan), np.float64(nan), np.float64(nan), np.float64(nan), np.float64(nan), np.float64(11.638330376797098), np.float64(nan), np.float64(nan), np.float64(nan), np.float64(nan), np.float64(nan), np.float64(9.652689716025556), np.float64(8.446882973761358), np.float64(8.544270656002299), np.float64(9.957529382844857), np.float64(nan), np.float64(nan), np.float64(nan), np.float64(9.869625956015883), np.float64(nan), np.float64(nan), np.float64(nan), np.float64(nan), np.float64(9.990317841155619), np.float64(nan), np.float64(10.461103833438893), np.float64(9.488358735706793), np.float64(9.829317980549767), np.float64(9.79479992489477), np.float64(9.218590069801268), np.float64(9.048266899209576), np.float64(7.593382942863313)], [np.float64(nan), np.float64(11.206511385500974), np.float64(nan), np.float64(11.432564199314399), np.float64(11.913324181905923), np.float64(12.042111616647173), np.float64(11.456070446537094), np.float64(10.161432940808222), np.float64(9.274133003066478), np.float64(10.156091606351065), np.float64(9.510589396671186), np.float64(9.774049314952986), np.float64(9.432770802466447), np.float64(9.067069259535058), np.float64(10.183679566130682), np.float64(10.619491010564467), np.float64(10.28560380696608), np.float64(nan), np.float64(nan), np.float64(nan), np.float64(nan), np.float64(nan), np.float64(nan), np.float64(11.638330376797098), np.float64(nan), np.float64(nan), np.float64(nan), np.float64(nan), np.float64(nan), np.float64(9.652689716025556), np.float64(8.446882973761358), np.float64(8.544270656002299), np.float64(9.957529382844857), np.float64(nan), np.float64(nan), np.float64(nan), np.float64(9.869625956015883), np.float64(nan), np.float64(nan), np.float64(nan), np.float64(nan), np.float64(9.990317841155619), np.float64(nan), np.float64(10.461103833438893), np.float64(9.488358735706793), np.float64(9.829317980549767), np.float64(9.79479992489477), np.float64(9.218590069801268), np.float64(9.048266899209576), np.float64(7.593382942863313)], [np.float64(nan), np.float64(11.206511385500974), np.float64(nan), np.float64(11.432564199314399), np.float64(11.913324181905923), np.float64(12.042111616647173), np.float64(11.456070446537094), np.float64(10.161432940808222), np.float64(9.274133003066478), np.float64(10.156091606351065), np.float64(9.510589396671186), np.float64(9.774049314952986), np.float64(9.432770802466447), np.float64(9.067069259535058), np.float64(10.183679566130682), np.float64(10.619491010564467), np.float64(10.28560380696608), np.float64(nan), np.float64(nan), np.float64(nan), np.float64(nan), np.float64(nan), np.float64(nan), np.float64(11.638330376797098), np.float64(nan), np.float64(nan), np.float64(nan), np.float64(nan), np.float64(nan), np.float64(9.652689716025556), np.float64(8.446882973761358), np.float64(8.544270656002299), np.float64(9.957529382844857), np.float64(nan), np.float64(nan), np.float64(nan), np.float64(9.869625956015883), np.float64(nan), np.float64(nan), np.float64(nan), np.float64(nan), np.float64(9.990317841155619), np.float64(nan), np.float64(10.461103833438893), np.float64(9.488358735706793), np.float64(9.829317980549767), np.float64(9.79479992489477), np.float64(9.218590069801268), np.float64(9.048266899209576), np.float64(7.593382942863313)], [np.float64(nan), np.float64(11.206511385500974), np.float64(nan), np.float64(11.432564199314399), np.float64(11.913324181905923), np.float64(12.042111616647173), np.float64(11.456070446537094), np.float64(10.161432940808222), np.float64(9.274133003066478), np.float64(10.156091606351065), np.float64(9.510589396671186), np.float64(9.774049314952986), np.float64(9.432770802466447), np.float64(9.067069259535058), np.float64(10.183679566130682), np.float64(10.619491010564467), np.float64(10.28560380696608), np.float64(nan), np.float64(nan), np.float64(nan), np.float64(nan), np.float64(nan), np.float64(nan), np.float64(11.638330376797098), np.float64(nan), np.float64(nan), np.float64(nan), np.float64(nan), np.float64(nan), np.float64(9.652689716025556), np.float64(8.446882973761358), np.float64(8.544270656002299), np.float64(9.957529382844857), np.float64(nan), np.float64(nan), np.float64(nan), np.float64(9.869625956015883), np.float64(nan), np.float64(nan), np.float64(nan), np.float64(nan), np.float64(9.990317841155619), np.float64(nan), np.float64(10.461103833438893), np.float64(9.488358735706793), np.float64(9.829317980549767), np.float64(9.79479992489477), np.float64(9.218590069801268), np.float64(9.048266899209576), np.float64(7.593382942863313)], [np.float64(nan), np.float64(11.206511385500974), np.float64(nan), np.float64(11.432564199314399), np.float64(11.913324181905923), np.float64(12.042111616647173), np.float64(11.456070446537094), np.float64(10.161432940808222), np.float64(9.274133003066478), np.float64(10.156091606351065), np.float64(9.510589396671186), np.float64(9.774049314952986), np.float64(9.432770802466447), np.float64(9.067069259535058), np.float64(10.183679566130682), np.float64(10.619491010564467), np.float64(10.28560380696608), np.float64(nan), np.float64(nan), np.float64(nan), np.float64(nan), np.float64(nan), np.float64(nan), np.float64(11.638330376797098), np.float64(nan), np.float64(nan), np.float64(nan), np.float64(nan), np.float64(nan), np.float64(9.652689716025556), np.float64(8.446882973761358), np.float64(8.544270656002299), np.float64(9.957529382844857), np.float64(nan), np.float64(nan), np.float64(nan), np.float64(9.869625956015883), np.float64(nan), np.float64(nan), np.float64(nan), np.float64(nan), np.float64(9.990317841155619), np.float64(nan), np.float64(10.461103833438893), np.float64(9.488358735706793), np.float64(9.829317980549767), np.float64(9.79479992489477), np.float64(9.218590069801268), np.float64(9.048266899209576), np.float64(7.593382942863313)], [np.float64(nan), np.float64(11.206511385500974), np.float64(nan), np.float64(11.432564199314399), np.float64(11.913324181905923), np.float64(12.042111616647173), np.float64(11.456070446537094), np.float64(10.161432940808222), np.float64(9.274133003066478), np.float64(10.156091606351065), np.float64(9.510589396671186), np.float64(9.774049314952986), np.float64(9.432770802466447), np.float64(9.067069259535058), np.float64(10.183679566130682), np.float64(10.619491010564467), np.float64(10.28560380696608), np.float64(nan), np.float64(nan), np.float64(nan), np.float64(nan), np.float64(nan), np.float64(nan), np.float64(11.638330376797098), np.float64(nan), np.float64(nan), np.float64(nan), np.float64(nan), np.float64(nan), np.float64(9.652689716025556), np.float64(8.446882973761358), np.float64(8.544270656002299), np.float64(9.957529382844857), np.float64(nan), np.float64(nan), np.float64(nan), np.float64(9.869625956015883), np.float64(nan), np.float64(nan), np.float64(nan), np.float64(nan), np.float64(9.990317841155619), np.float64(nan), np.float64(10.461103833438893), np.float64(9.488358735706793), np.float64(9.829317980549767), np.float64(9.79479992489477), np.float64(9.218590069801268), np.float64(9.048266899209576), np.float64(7.593382942863313)], [np.float64(13.000941484382793), np.float64(13.246732153301828), np.float64(9.688464921739428), np.float64(9.26871301016964), np.float64(9.901575257571327), np.float64(9.848451168089555), np.float64(10.09798963138475), np.float64(10.696221269798441), np.float64(10.218477724662947), np.float64(9.052222374463616), np.float64(nan), np.float64(8.784522125829275), np.float64(8.51927424127668), np.float64(9.093515581135367), np.float64(9.570008176566224), np.float64(nan), np.float64(10.605204339499997), np.float64(10.278420331869155), np.float64(9.795653613345731), np.float64(9.016063762050962), np.float64(nan), np.float64(8.702385486122207), np.float64(nan), np.float64(8.382400435106774), np.float64(nan), np.float64(10.273382038975743), np.float64(10.89521935868547), np.float64(9.425925445168676), np.float64(9.28216262506788), np.float64(9.062383389455043), np.float64(9.887759249492508), np.float64(10.268455848300551), np.float64(nan), np.float64(8.894433757220002), np.float64(8.881330879798965), np.float64(9.558829544624032), np.float64(9.370916015526197), np.float64(8.865488931824775), np.float64(9.328586745773363), np.float64(8.85626099814709), np.float64(nan), np.float64(8.860491778458568), np.float64(9.10487062948069), np.float64(8.681338493730927), np.float64(9.215244691963534), np.float64(nan), np.float64(9.592580986984808), np.float64(8.622617045004748), np.float64(9.707294849610077), np.float64(nan)], [np.float64(13.000941484382793), np.float64(13.246732153301828), np.float64(9.688464921739428), np.float64(9.26871301016964), np.float64(9.901575257571327), np.float64(9.848451168089555), np.float64(10.09798963138475), np.float64(10.696221269798441), np.float64(10.218477724662947), np.float64(9.052222374463616), np.float64(nan), np.float64(8.784522125829275), np.float64(8.51927424127668), np.float64(9.093515581135367), np.float64(9.570008176566224), np.float64(nan), np.float64(10.605204339499997), np.float64(10.278420331869155), np.float64(9.795653613345731), np.float64(9.016063762050962), np.float64(nan), np.float64(8.702385486122207), np.float64(nan), np.float64(8.382400435106774), np.float64(nan), np.float64(10.273382038975743), np.float64(10.89521935868547), np.float64(9.425925445168676), np.float64(9.28216262506788), np.float64(9.062383389455043), np.float64(9.887759249492508), np.float64(10.268455848300551), np.float64(nan), np.float64(8.894433757220002), np.float64(8.881330879798965), np.float64(9.558829544624032), np.float64(9.370916015526197), np.float64(8.865488931824775), np.float64(9.328586745773363), np.float64(8.85626099814709), np.float64(nan), np.float64(8.860491778458568), np.float64(9.10487062948069), np.float64(8.681338493730927), np.float64(9.215244691963534), np.float64(nan), np.float64(9.592580986984808), np.float64(8.622617045004748), np.float64(9.707294849610077), np.float64(nan)], [np.float64(13.000941484382793), np.float64(13.246732153301828), np.float64(9.688464921739428), np.float64(9.26871301016964), np.float64(9.901575257571327), np.float64(9.848451168089555), np.float64(10.09798963138475), np.float64(10.696221269798441), np.float64(10.218477724662947), np.float64(9.052222374463616), np.float64(nan), np.float64(8.784522125829275), np.float64(8.51927424127668), np.float64(9.093515581135367), np.float64(9.570008176566224), np.float64(nan), np.float64(10.605204339499997), np.float64(10.278420331869155), np.float64(9.795653613345731), np.float64(9.016063762050962), np.float64(nan), np.float64(8.702385486122207), np.float64(nan), np.float64(8.382400435106774), np.float64(nan), np.float64(10.273382038975743), np.float64(10.89521935868547), np.float64(9.425925445168676), np.float64(9.28216262506788), np.float64(9.062383389455043), np.float64(9.887759249492508), np.float64(10.268455848300551), np.float64(nan), np.float64(8.894433757220002), np.float64(8.881330879798965), np.float64(9.558829544624032), np.float64(9.370916015526197), np.float64(8.865488931824775), np.float64(9.328586745773363), np.float64(8.85626099814709), np.float64(nan), np.float64(8.860491778458568), np.float64(9.10487062948069), np.float64(8.681338493730927), np.float64(9.215244691963534), np.float64(nan), np.float64(9.592580986984808), np.float64(8.622617045004748), np.float64(9.707294849610077), np.float64(nan)], [np.float64(13.000941484382793), np.float64(13.246732153301828), np.float64(9.688464921739428), np.float64(9.26871301016964), np.float64(9.901575257571327), np.float64(9.848451168089555), np.float64(10.09798963138475), np.float64(10.696221269798441), np.float64(10.218477724662947), np.float64(9.052222374463616), np.float64(nan), np.float64(8.784522125829275), np.float64(8.51927424127668), np.float64(9.093515581135367), np.float64(9.570008176566224), np.float64(nan), np.float64(10.605204339499997), np.float64(10.278420331869155), np.float64(9.795653613345731), np.float64(9.016063762050962), np.float64(nan), np.float64(8.702385486122207), np.float64(nan), np.float64(8.382400435106774), np.float64(nan), np.float64(10.273382038975743), np.float64(10.89521935868547), np.float64(9.425925445168676), np.float64(9.28216262506788), np.float64(9.062383389455043), np.float64(9.887759249492508), np.float64(10.268455848300551), np.float64(nan), np.float64(8.894433757220002), np.float64(8.881330879798965), np.float64(9.558829544624032), np.float64(9.370916015526197), np.float64(8.865488931824775), np.float64(9.328586745773363), np.float64(8.85626099814709), np.float64(nan), np.float64(8.860491778458568), np.float64(9.10487062948069), np.float64(8.681338493730927), np.float64(9.215244691963534), np.float64(nan), np.float64(9.592580986984808), np.float64(8.622617045004748), np.float64(9.707294849610077), np.float64(nan)], [np.float64(13.000941484382793), np.float64(13.246732153301828), np.float64(9.688464921739428), np.float64(9.26871301016964), np.float64(9.901575257571327), np.float64(9.848451168089555), np.float64(10.09798963138475), np.float64(10.696221269798441), np.float64(10.218477724662947), np.float64(9.052222374463616), np.float64(nan), np.float64(8.784522125829275), np.float64(8.51927424127668), np.float64(9.093515581135367), np.float64(9.570008176566224), np.float64(nan), np.float64(10.605204339499997), np.float64(10.278420331869155), np.float64(9.795653613345731), np.float64(9.016063762050962), np.float64(nan), np.float64(8.702385486122207), np.float64(nan), np.float64(8.382400435106774), np.float64(nan), np.float64(10.273382038975743), np.float64(10.89521935868547), np.float64(9.425925445168676), np.float64(9.28216262506788), np.float64(9.062383389455043), np.float64(9.887759249492508), np.float64(10.268455848300551), np.float64(nan), np.float64(8.894433757220002), np.float64(8.881330879798965), np.float64(9.558829544624032), np.float64(9.370916015526197), np.float64(8.865488931824775), np.float64(9.328586745773363), np.float64(8.85626099814709), np.float64(nan), np.float64(8.860491778458568), np.float64(9.10487062948069), np.float64(8.681338493730927), np.float64(9.215244691963534), np.float64(nan), np.float64(9.592580986984808), np.float64(8.622617045004748), np.float64(9.707294849610077), np.float64(nan)], [np.float64(13.000941484382793), np.float64(13.246732153301828), np.float64(9.688464921739428), np.float64(9.26871301016964), np.float64(9.901575257571327), np.float64(9.848451168089555), np.float64(10.09798963138475), np.float64(10.696221269798441), np.float64(10.218477724662947), np.float64(9.052222374463616), np.float64(nan), np.float64(8.784522125829275), np.float64(8.51927424127668), np.float64(9.093515581135367), np.float64(9.570008176566224), np.float64(nan), np.float64(10.605204339499997), np.float64(10.278420331869155), np.float64(9.795653613345731), np.float64(9.016063762050962), np.float64(nan), np.float64(8.702385486122207), np.float64(nan), np.float64(8.382400435106774), np.float64(nan), np.float64(10.273382038975743), np.float64(10.89521935868547), np.float64(9.425925445168676), np.float64(9.28216262506788), np.float64(9.062383389455043), np.float64(9.887759249492508), np.float64(10.268455848300551), np.float64(nan), np.float64(8.894433757220002), np.float64(8.881330879798965), np.float64(9.558829544624032), np.float64(9.370916015526197), np.float64(8.865488931824775), np.float64(9.328586745773363), np.float64(8.85626099814709), np.float64(nan), np.float64(8.860491778458568), np.float64(9.10487062948069), np.float64(8.681338493730927), np.float64(9.215244691963534), np.float64(nan), np.float64(9.592580986984808), np.float64(8.622617045004748), np.float64(9.707294849610077), np.float64(nan)], [np.float64(13.000941484382793), np.float64(13.246732153301828), np.float64(9.688464921739428), np.float64(9.26871301016964), np.float64(9.901575257571327), np.float64(9.848451168089555), np.float64(10.09798963138475), np.float64(10.696221269798441), np.float64(10.218477724662947), np.float64(9.052222374463616), np.float64(nan), np.float64(8.784522125829275), np.float64(8.51927424127668), np.float64(9.093515581135367), np.float64(9.570008176566224), np.float64(nan), np.float64(10.605204339499997), np.float64(10.278420331869155), np.float64(9.795653613345731), np.float64(9.016063762050962), np.float64(nan), np.float64(8.702385486122207), np.float64(nan), np.float64(8.382400435106774), np.float64(nan), np.float64(10.273382038975743), np.float64(10.89521935868547), np.float64(9.425925445168676), np.float64(9.28216262506788), np.float64(9.062383389455043), np.float64(9.887759249492508), np.float64(10.268455848300551), np.float64(nan), np.float64(8.894433757220002), np.float64(8.881330879798965), np.float64(9.558829544624032), np.float64(9.370916015526197), np.float64(8.865488931824775), np.float64(9.328586745773363), np.float64(8.85626099814709), np.float64(nan), np.float64(8.860491778458568), np.float64(9.10487062948069), np.float64(8.681338493730927), np.float64(9.215244691963534), np.float64(nan), np.float64(9.592580986984808), np.float64(8.622617045004748), np.float64(9.707294849610077), np.float64(nan)], [np.float64(13.000941484382793), np.float64(13.246732153301828), np.float64(9.688464921739428), np.float64(9.26871301016964), np.float64(9.901575257571327), np.float64(9.848451168089555), np.float64(10.09798963138475), np.float64(10.696221269798441), np.float64(10.218477724662947), np.float64(9.052222374463616), np.float64(nan), np.float64(8.784522125829275), np.float64(8.51927424127668), np.float64(9.093515581135367), np.float64(9.570008176566224), np.float64(nan), np.float64(10.605204339499997), np.float64(10.278420331869155), np.float64(9.795653613345731), np.float64(9.016063762050962), np.float64(nan), np.float64(8.702385486122207), np.float64(nan), np.float64(8.382400435106774), np.float64(nan), np.float64(10.273382038975743), np.float64(10.89521935868547), np.float64(9.425925445168676), np.float64(9.28216262506788), np.float64(9.062383389455043), np.float64(9.887759249492508), np.float64(10.268455848300551), np.float64(nan), np.float64(8.894433757220002), np.float64(8.881330879798965), np.float64(9.558829544624032), np.float64(9.370916015526197), np.float64(8.865488931824775), np.float64(9.328586745773363), np.float64(8.85626099814709), np.float64(nan), np.float64(8.860491778458568), np.float64(9.10487062948069), np.float64(8.681338493730927), np.float64(9.215244691963534), np.float64(nan), np.float64(9.592580986984808), np.float64(8.622617045004748), np.float64(9.707294849610077), np.float64(nan)], [np.float64(13.000941484382793), np.float64(13.246732153301828), np.float64(9.688464921739428), np.float64(9.26871301016964), np.float64(9.901575257571327), np.float64(9.848451168089555), np.float64(10.09798963138475), np.float64(10.696221269798441), np.float64(10.218477724662947), np.float64(9.052222374463616), np.float64(nan), np.float64(8.784522125829275), np.float64(8.51927424127668), np.float64(9.093515581135367), np.float64(9.570008176566224), np.float64(nan), np.float64(10.605204339499997), np.float64(10.278420331869155), np.float64(9.795653613345731), np.float64(9.016063762050962), np.float64(nan), np.float64(8.702385486122207), np.float64(nan), np.float64(8.382400435106774), np.float64(nan), np.float64(10.273382038975743), np.float64(10.89521935868547), np.float64(9.425925445168676), np.float64(9.28216262506788), np.float64(9.062383389455043), np.float64(9.887759249492508), np.float64(10.268455848300551), np.float64(nan), np.float64(8.894433757220002), np.float64(8.881330879798965), np.float64(9.558829544624032), np.float64(9.370916015526197), np.float64(8.865488931824775), np.float64(9.328586745773363), np.float64(8.85626099814709), np.float64(nan), np.float64(8.860491778458568), np.float64(9.10487062948069), np.float64(8.681338493730927), np.float64(9.215244691963534), np.float64(nan), np.float64(9.592580986984808), np.float64(8.622617045004748), np.float64(9.707294849610077), np.float64(nan)], [np.float64(13.000941484382793), np.float64(13.246732153301828), np.float64(9.688464921739428), np.float64(9.26871301016964), np.float64(9.901575257571327), np.float64(9.848451168089555), np.float64(10.09798963138475), np.float64(10.696221269798441), np.float64(10.218477724662947), np.float64(9.052222374463616), np.float64(nan), np.float64(8.784522125829275), np.float64(8.51927424127668), np.float64(9.093515581135367), np.float64(9.570008176566224), np.float64(nan), np.float64(10.605204339499997), np.float64(10.278420331869155), np.float64(9.795653613345731), np.float64(9.016063762050962), np.float64(nan), np.float64(8.702385486122207), np.float64(nan), np.float64(8.382400435106774), np.float64(nan), np.float64(10.273382038975743), np.float64(10.89521935868547), np.float64(9.425925445168676), np.float64(9.28216262506788), np.float64(9.062383389455043), np.float64(9.887759249492508), np.float64(10.268455848300551), np.float64(nan), np.float64(8.894433757220002), np.float64(8.881330879798965), np.float64(9.558829544624032), np.float64(9.370916015526197), np.float64(8.865488931824775), np.float64(9.328586745773363), np.float64(8.85626099814709), np.float64(nan), np.float64(8.860491778458568), np.float64(9.10487062948069), np.float64(8.681338493730927), np.float64(9.215244691963534), np.float64(nan), np.float64(9.592580986984808), np.float64(8.622617045004748), np.float64(9.707294849610077), np.float64(nan)], [np.float64(13.000941484382793), np.float64(13.246732153301828), np.float64(9.688464921739428), np.float64(9.26871301016964), np.float64(9.901575257571327), np.float64(9.848451168089555), np.float64(10.09798963138475), np.float64(10.696221269798441), np.float64(10.218477724662947), np.float64(9.052222374463616), np.float64(nan), np.float64(8.784522125829275), np.float64(8.51927424127668), np.float64(9.093515581135367), np.float64(9.570008176566224), np.float64(nan), np.float64(10.605204339499997), np.float64(10.278420331869155), np.float64(9.795653613345731), np.float64(9.016063762050962), np.float64(nan), np.float64(8.702385486122207), np.float64(nan), np.float64(8.382400435106774), np.float64(nan), np.float64(10.273382038975743), np.float64(10.89521935868547), np.float64(9.425925445168676), np.float64(9.28216262506788), np.float64(9.062383389455043), np.float64(9.887759249492508), np.float64(10.268455848300551), np.float64(nan), np.float64(8.894433757220002), np.float64(8.881330879798965), np.float64(9.558829544624032), np.float64(9.370916015526197), np.float64(8.865488931824775), np.float64(9.328586745773363), np.float64(8.85626099814709), np.float64(nan), np.float64(8.860491778458568), np.float64(9.10487062948069), np.float64(8.681338493730927), np.float64(9.215244691963534), np.float64(nan), np.float64(9.592580986984808), np.float64(8.622617045004748), np.float64(9.707294849610077), np.float64(nan)], [np.float64(13.000941484382793), np.float64(13.246732153301828), np.float64(9.688464921739428), np.float64(9.26871301016964), np.float64(9.901575257571327), np.float64(9.848451168089555), np.float64(10.09798963138475), np.float64(10.696221269798441), np.float64(10.218477724662947), np.float64(9.052222374463616), np.float64(nan), np.float64(8.784522125829275), np.float64(8.51927424127668), np.float64(9.093515581135367), np.float64(9.570008176566224), np.float64(nan), np.float64(10.605204339499997), np.float64(10.278420331869155), np.float64(9.795653613345731), np.float64(9.016063762050962), np.float64(nan), np.float64(8.702385486122207), np.float64(nan), np.float64(8.382400435106774), np.float64(nan), np.float64(10.273382038975743), np.float64(10.89521935868547), np.float64(9.425925445168676), np.float64(9.28216262506788), np.float64(9.062383389455043), np.float64(9.887759249492508), np.float64(10.268455848300551), np.float64(nan), np.float64(8.894433757220002), np.float64(8.881330879798965), np.float64(9.558829544624032), np.float64(9.370916015526197), np.float64(8.865488931824775), np.float64(9.328586745773363), np.float64(8.85626099814709), np.float64(nan), np.float64(8.860491778458568), np.float64(9.10487062948069), np.float64(8.681338493730927), np.float64(9.215244691963534), np.float64(nan), np.float64(9.592580986984808), np.float64(8.622617045004748), np.float64(9.707294849610077), np.float64(nan)], [np.float64(13.000941484382793), np.float64(13.246732153301828), np.float64(9.688464921739428), np.float64(9.26871301016964), np.float64(9.901575257571327), np.float64(9.848451168089555), np.float64(10.09798963138475), np.float64(10.696221269798441), np.float64(10.218477724662947), np.float64(9.052222374463616), np.float64(nan), np.float64(8.784522125829275), np.float64(8.51927424127668), np.float64(9.093515581135367), np.float64(9.570008176566224), np.float64(nan), np.float64(10.605204339499997), np.float64(10.278420331869155), np.float64(9.795653613345731), np.float64(9.016063762050962), np.float64(nan), np.float64(8.702385486122207), np.float64(nan), np.float64(8.382400435106774), np.float64(nan), np.float64(10.273382038975743), np.float64(10.89521935868547), np.float64(9.425925445168676), np.float64(9.28216262506788), np.float64(9.062383389455043), np.float64(9.887759249492508), np.float64(10.268455848300551), np.float64(nan), np.float64(8.894433757220002), np.float64(8.881330879798965), np.float64(9.558829544624032), np.float64(9.370916015526197), np.float64(8.865488931824775), np.float64(9.328586745773363), np.float64(8.85626099814709), np.float64(nan), np.float64(8.860491778458568), np.float64(9.10487062948069), np.float64(8.681338493730927), np.float64(9.215244691963534), np.float64(nan), np.float64(9.592580986984808), np.float64(8.622617045004748), np.float64(9.707294849610077), np.float64(nan)], [np.float64(13.000941484382793), np.float64(13.246732153301828), np.float64(9.688464921739428), np.float64(9.26871301016964), np.float64(9.901575257571327), np.float64(9.848451168089555), np.float64(10.09798963138475), np.float64(10.696221269798441), np.float64(10.218477724662947), np.float64(9.052222374463616), np.float64(nan), np.float64(8.784522125829275), np.float64(8.51927424127668), np.float64(9.093515581135367), np.float64(9.570008176566224), np.float64(nan), np.float64(10.605204339499997), np.float64(10.278420331869155), np.float64(9.795653613345731), np.float64(9.016063762050962), np.float64(nan), np.float64(8.702385486122207), np.float64(nan), np.float64(8.382400435106774), np.float64(nan), np.float64(10.273382038975743), np.float64(10.89521935868547), np.float64(9.425925445168676), np.float64(9.28216262506788), np.float64(9.062383389455043), np.float64(9.887759249492508), np.float64(10.268455848300551), np.float64(nan), np.float64(8.894433757220002), np.float64(8.881330879798965), np.float64(9.558829544624032), np.float64(9.370916015526197), np.float64(8.865488931824775), np.float64(9.328586745773363), np.float64(8.85626099814709), np.float64(nan), np.float64(8.860491778458568), np.float64(9.10487062948069), np.float64(8.681338493730927), np.float64(9.215244691963534), np.float64(nan), np.float64(9.592580986984808), np.float64(8.622617045004748), np.float64(9.707294849610077), np.float64(nan)], [np.float64(12.674108529330057), np.float64(nan), np.float64(nan), np.float64(12.241044385343237), np.float64(11.240658998952373), np.float64(10.493668027739764), np.float64(9.847765086313597), np.float64(nan), np.float64(nan), np.float64(8.139717928462309), np.float64(10.329490115992709), np.float64(8.640130394173037), np.float64(8.76509716124976), np.float64(9.415554208529583), np.float64(8.527255771620364), np.float64(9.116091141378167), np.float64(8.378184150753267), np.float64(10.336437501078015), np.float64(11.651201383295705), np.float64(10.409424237823627), np.float64(11.444931958627317), np.float64(9.218418434108726), np.float64(9.75488273159534), np.float64(10.582371237342004), np.float64(10.000971189676623), np.float64(9.99113287492442), np.float64(8.141038474176357), np.float64(8.753140366308532), np.float64(nan), np.float64(9.473620699797529), np.float64(10.385157891255394), np.float64(8.62017786927526), np.float64(nan), np.float64(9.125502088084769), np.float64(8.885322783949285), np.float64(9.893406118063305), np.float64(8.940469617080819), np.float64(10.445483584889923), np.float64(8.746324348567024), np.float64(9.156105366013922), np.float64(8.821469488915627), np.float64(9.811402657288642), np.float64(8.90074070299323), np.float64(9.716140479428176), np.float64(10.232931375555644), np.float64(10.63228928671456), np.float64(11.376113944810491), np.float64(10.83147778188637), np.float64(10.71455168264124), np.float64(9.365644861807398)], [np.float64(12.674108529330057), np.float64(nan), np.float64(nan), np.float64(12.241044385343237), np.float64(11.240658998952373), np.float64(10.493668027739764), np.float64(9.847765086313597), np.float64(nan), np.float64(nan), np.float64(8.139717928462309), np.float64(10.329490115992709), np.float64(8.640130394173037), np.float64(8.76509716124976), np.float64(9.415554208529583), np.float64(8.527255771620364), np.float64(9.116091141378167), np.float64(8.378184150753267), np.float64(10.336437501078015), np.float64(11.651201383295705), np.float64(10.409424237823627), np.float64(11.444931958627317), np.float64(9.218418434108726), np.float64(9.75488273159534), np.float64(10.582371237342004), np.float64(10.000971189676623), np.float64(9.99113287492442), np.float64(8.141038474176357), np.float64(8.753140366308532), np.float64(nan), np.float64(9.473620699797529), np.float64(10.385157891255394), np.float64(8.62017786927526), np.float64(nan), np.float64(9.125502088084769), np.float64(8.885322783949285), np.float64(9.893406118063305), np.float64(8.940469617080819), np.float64(10.445483584889923), np.float64(8.746324348567024), np.float64(9.156105366013922), np.float64(8.821469488915627), np.float64(9.811402657288642), np.float64(8.90074070299323), np.float64(9.716140479428176), np.float64(10.232931375555644), np.float64(10.63228928671456), np.float64(11.376113944810491), np.float64(10.83147778188637), np.float64(10.71455168264124), np.float64(9.365644861807398)], [np.float64(12.674108529330057), np.float64(nan), np.float64(nan), np.float64(12.241044385343237), np.float64(11.240658998952373), np.float64(10.493668027739764), np.float64(9.847765086313597), np.float64(nan), np.float64(nan), np.float64(8.139717928462309), np.float64(10.329490115992709), np.float64(8.640130394173037), np.float64(8.76509716124976), np.float64(9.415554208529583), np.float64(8.527255771620364), np.float64(9.116091141378167), np.float64(8.378184150753267), np.float64(10.336437501078015), np.float64(11.651201383295705), np.float64(10.409424237823627), np.float64(11.444931958627317), np.float64(9.218418434108726), np.float64(9.75488273159534), np.float64(10.582371237342004), np.float64(10.000971189676623), np.float64(9.99113287492442), np.float64(8.141038474176357), np.float64(8.753140366308532), np.float64(nan), np.float64(9.473620699797529), np.float64(10.385157891255394), np.float64(8.62017786927526), np.float64(nan), np.float64(9.125502088084769), np.float64(8.885322783949285), np.float64(9.893406118063305), np.float64(8.940469617080819), np.float64(10.445483584889923), np.float64(8.746324348567024), np.float64(9.156105366013922), np.float64(8.821469488915627), np.float64(9.811402657288642), np.float64(8.90074070299323), np.float64(9.716140479428176), np.float64(10.232931375555644), np.float64(10.63228928671456), np.float64(11.376113944810491), np.float64(10.83147778188637), np.float64(10.71455168264124), np.float64(9.365644861807398)], [np.float64(12.674108529330057), np.float64(nan), np.float64(nan), np.float64(12.241044385343237), np.float64(11.240658998952373), np.float64(10.493668027739764), np.float64(9.847765086313597), np.float64(nan), np.float64(nan), np.float64(8.139717928462309), np.float64(10.329490115992709), np.float64(8.640130394173037), np.float64(8.76509716124976), np.float64(9.415554208529583), np.float64(8.527255771620364), np.float64(9.116091141378167), np.float64(8.378184150753267), np.float64(10.336437501078015), np.float64(11.651201383295705), np.float64(10.409424237823627), np.float64(11.444931958627317), np.float64(9.218418434108726), np.float64(9.75488273159534), np.float64(10.582371237342004), np.float64(10.000971189676623), np.float64(9.99113287492442), np.float64(8.141038474176357), np.float64(8.753140366308532), np.float64(nan), np.float64(9.473620699797529), np.float64(10.385157891255394), np.float64(8.62017786927526), np.float64(nan), np.float64(9.125502088084769), np.float64(8.885322783949285), np.float64(9.893406118063305), np.float64(8.940469617080819), np.float64(10.445483584889923), np.float64(8.746324348567024), np.float64(9.156105366013922), np.float64(8.821469488915627), np.float64(9.811402657288642), np.float64(8.90074070299323), np.float64(9.716140479428176), np.float64(10.232931375555644), np.float64(10.63228928671456), np.float64(11.376113944810491), np.float64(10.83147778188637), np.float64(10.71455168264124), np.float64(9.365644861807398)], [np.float64(12.674108529330057), np.float64(nan), np.float64(nan), np.float64(12.241044385343237), np.float64(11.240658998952373), np.float64(10.493668027739764), np.float64(9.847765086313597), np.float64(nan), np.float64(nan), np.float64(8.139717928462309), np.float64(10.329490115992709), np.float64(8.640130394173037), np.float64(8.76509716124976), np.float64(9.415554208529583), np.float64(8.527255771620364), np.float64(9.116091141378167), np.float64(8.378184150753267), np.float64(10.336437501078015), np.float64(11.651201383295705), np.float64(10.409424237823627), np.float64(11.444931958627317), np.float64(9.218418434108726), np.float64(9.75488273159534), np.float64(10.582371237342004), np.float64(10.000971189676623), np.float64(9.99113287492442), np.float64(8.141038474176357), np.float64(8.753140366308532), np.float64(nan), np.float64(9.473620699797529), np.float64(10.385157891255394), np.float64(8.62017786927526), np.float64(nan), np.float64(9.125502088084769), np.float64(8.885322783949285), np.float64(9.893406118063305), np.float64(8.940469617080819), np.float64(10.445483584889923), np.float64(8.746324348567024), np.float64(9.156105366013922), np.float64(8.821469488915627), np.float64(9.811402657288642), np.float64(8.90074070299323), np.float64(9.716140479428176), np.float64(10.232931375555644), np.float64(10.63228928671456), np.float64(11.376113944810491), np.float64(10.83147778188637), np.float64(10.71455168264124), np.float64(9.365644861807398)], [np.float64(12.674108529330057), np.float64(nan), np.float64(nan), np.float64(12.241044385343237), np.float64(11.240658998952373), np.float64(10.493668027739764), np.float64(9.847765086313597), np.float64(nan), np.float64(nan), np.float64(8.139717928462309), np.float64(10.329490115992709), np.float64(8.640130394173037), np.float64(8.76509716124976), np.float64(9.415554208529583), np.float64(8.527255771620364), np.float64(9.116091141378167), np.float64(8.378184150753267), np.float64(10.336437501078015), np.float64(11.651201383295705), np.float64(10.409424237823627), np.float64(11.444931958627317), np.float64(9.218418434108726), np.float64(9.75488273159534), np.float64(10.582371237342004), np.float64(10.000971189676623), np.float64(9.99113287492442), np.float64(8.141038474176357), np.float64(8.753140366308532), np.float64(nan), np.float64(9.473620699797529), np.float64(10.385157891255394), np.float64(8.62017786927526), np.float64(nan), np.float64(9.125502088084769), np.float64(8.885322783949285), np.float64(9.893406118063305), np.float64(8.940469617080819), np.float64(10.445483584889923), np.float64(8.746324348567024), np.float64(9.156105366013922), np.float64(8.821469488915627), np.float64(9.811402657288642), np.float64(8.90074070299323), np.float64(9.716140479428176), np.float64(10.232931375555644), np.float64(10.63228928671456), np.float64(11.376113944810491), np.float64(10.83147778188637), np.float64(10.71455168264124), np.float64(9.365644861807398)], [np.float64(12.674108529330057), np.float64(nan), np.float64(nan), np.float64(12.241044385343237), np.float64(11.240658998952373), np.float64(10.493668027739764), np.float64(9.847765086313597), np.float64(nan), np.float64(nan), np.float64(8.139717928462309), np.float64(10.329490115992709), np.float64(8.640130394173037), np.float64(8.76509716124976), np.float64(9.415554208529583), np.float64(8.527255771620364), np.float64(9.116091141378167), np.float64(8.378184150753267), np.float64(10.336437501078015), np.float64(11.651201383295705), np.float64(10.409424237823627), np.float64(11.444931958627317), np.float64(9.218418434108726), np.float64(9.75488273159534), np.float64(10.582371237342004), np.float64(10.000971189676623), np.float64(9.99113287492442), np.float64(8.141038474176357), np.float64(8.753140366308532), np.float64(nan), np.float64(9.473620699797529), np.float64(10.385157891255394), np.float64(8.62017786927526), np.float64(nan), np.float64(9.125502088084769), np.float64(8.885322783949285), np.float64(9.893406118063305), np.float64(8.940469617080819), np.float64(10.445483584889923), np.float64(8.746324348567024), np.float64(9.156105366013922), np.float64(8.821469488915627), np.float64(9.811402657288642), np.float64(8.90074070299323), np.float64(9.716140479428176), np.float64(10.232931375555644), np.float64(10.63228928671456), np.float64(11.376113944810491), np.float64(10.83147778188637), np.float64(10.71455168264124), np.float64(9.365644861807398)], [np.float64(12.674108529330057), np.float64(nan), np.float64(nan), np.float64(12.241044385343237), np.float64(11.240658998952373), np.float64(10.493668027739764), np.float64(9.847765086313597), np.float64(nan), np.float64(nan), np.float64(8.139717928462309), np.float64(10.329490115992709), np.float64(8.640130394173037), np.float64(8.76509716124976), np.float64(9.415554208529583), np.float64(8.527255771620364), np.float64(9.116091141378167), np.float64(8.378184150753267), np.float64(10.336437501078015), np.float64(11.651201383295705), np.float64(10.409424237823627), np.float64(11.444931958627317), np.float64(9.218418434108726), np.float64(9.75488273159534), np.float64(10.582371237342004), np.float64(10.000971189676623), np.float64(9.99113287492442), np.float64(8.141038474176357), np.float64(8.753140366308532), np.float64(nan), np.float64(9.473620699797529), np.float64(10.385157891255394), np.float64(8.62017786927526), np.float64(nan), np.float64(9.125502088084769), np.float64(8.885322783949285), np.float64(9.893406118063305), np.float64(8.940469617080819), np.float64(10.445483584889923), np.float64(8.746324348567024), np.float64(9.156105366013922), np.float64(8.821469488915627), np.float64(9.811402657288642), np.float64(8.90074070299323), np.float64(9.716140479428176), np.float64(10.232931375555644), np.float64(10.63228928671456), np.float64(11.376113944810491), np.float64(10.83147778188637), np.float64(10.71455168264124), np.float64(9.365644861807398)], [np.float64(12.674108529330057), np.float64(nan), np.float64(nan), np.float64(12.241044385343237), np.float64(11.240658998952373), np.float64(10.493668027739764), np.float64(9.847765086313597), np.float64(nan), np.float64(nan), np.float64(8.139717928462309), np.float64(10.329490115992709), np.float64(8.640130394173037), np.float64(8.76509716124976), np.float64(9.415554208529583), np.float64(8.527255771620364), np.float64(9.116091141378167), np.float64(8.378184150753267), np.float64(10.336437501078015), np.float64(11.651201383295705), np.float64(10.409424237823627), np.float64(11.444931958627317), np.float64(9.218418434108726), np.float64(9.75488273159534), np.float64(10.582371237342004), np.float64(10.000971189676623), np.float64(9.99113287492442), np.float64(8.141038474176357), np.float64(8.753140366308532), np.float64(nan), np.float64(9.473620699797529), np.float64(10.385157891255394), np.float64(8.62017786927526), np.float64(nan), np.float64(9.125502088084769), np.float64(8.885322783949285), np.float64(9.893406118063305), np.float64(8.940469617080819), np.float64(10.445483584889923), np.float64(8.746324348567024), np.float64(9.156105366013922), np.float64(8.821469488915627), np.float64(9.811402657288642), np.float64(8.90074070299323), np.float64(9.716140479428176), np.float64(10.232931375555644), np.float64(10.63228928671456), np.float64(11.376113944810491), np.float64(10.83147778188637), np.float64(10.71455168264124), np.float64(9.365644861807398)], [np.float64(12.674108529330057), np.float64(nan), np.float64(nan), np.float64(12.241044385343237), np.float64(11.240658998952373), np.float64(10.493668027739764), np.float64(9.847765086313597), np.float64(nan), np.float64(nan), np.float64(8.139717928462309), np.float64(10.329490115992709), np.float64(8.640130394173037), np.float64(8.76509716124976), np.float64(9.415554208529583), np.float64(8.527255771620364), np.float64(9.116091141378167), np.float64(8.378184150753267), np.float64(10.336437501078015), np.float64(11.651201383295705), np.float64(10.409424237823627), np.float64(11.444931958627317), np.float64(9.218418434108726), np.float64(9.75488273159534), np.float64(10.582371237342004), np.float64(10.000971189676623), np.float64(9.99113287492442), np.float64(8.141038474176357), np.float64(8.753140366308532), np.float64(nan), np.float64(9.473620699797529), np.float64(10.385157891255394), np.float64(8.62017786927526), np.float64(nan), np.float64(9.125502088084769), np.float64(8.885322783949285), np.float64(9.893406118063305), np.float64(8.940469617080819), np.float64(10.445483584889923), np.float64(8.746324348567024), np.float64(9.156105366013922), np.float64(8.821469488915627), np.float64(9.811402657288642), np.float64(8.90074070299323), np.float64(9.716140479428176), np.float64(10.232931375555644), np.float64(10.63228928671456), np.float64(11.376113944810491), np.float64(10.83147778188637), np.float64(10.71455168264124), np.float64(9.365644861807398)], [np.float64(12.674108529330057), np.float64(nan), np.float64(nan), np.float64(12.241044385343237), np.float64(11.240658998952373), np.float64(10.493668027739764), np.float64(9.847765086313597), np.float64(nan), np.float64(nan), np.float64(8.139717928462309), np.float64(10.329490115992709), np.float64(8.640130394173037), np.float64(8.76509716124976), np.float64(9.415554208529583), np.float64(8.527255771620364), np.float64(9.116091141378167), np.float64(8.378184150753267), np.float64(10.336437501078015), np.float64(11.651201383295705), np.float64(10.409424237823627), np.float64(11.444931958627317), np.float64(9.218418434108726), np.float64(9.75488273159534), np.float64(10.582371237342004), np.float64(10.000971189676623), np.float64(9.99113287492442), np.float64(8.141038474176357), np.float64(8.753140366308532), np.float64(nan), np.float64(9.473620699797529), np.float64(10.385157891255394), np.float64(8.62017786927526), np.float64(nan), np.float64(9.125502088084769), np.float64(8.885322783949285), np.float64(9.893406118063305), np.float64(8.940469617080819), np.float64(10.445483584889923), np.float64(8.746324348567024), np.float64(9.156105366013922), np.float64(8.821469488915627), np.float64(9.811402657288642), np.float64(8.90074070299323), np.float64(9.716140479428176), np.float64(10.232931375555644), np.float64(10.63228928671456), np.float64(11.376113944810491), np.float64(10.83147778188637), np.float64(10.71455168264124), np.float64(9.365644861807398)], [np.float64(12.674108529330057), np.float64(nan), np.float64(nan), np.float64(12.241044385343237), np.float64(11.240658998952373), np.float64(10.493668027739764), np.float64(9.847765086313597), np.float64(nan), np.float64(nan), np.float64(8.139717928462309), np.float64(10.329490115992709), np.float64(8.640130394173037), np.float64(8.76509716124976), np.float64(9.415554208529583), np.float64(8.527255771620364), np.float64(9.116091141378167), np.float64(8.378184150753267), np.float64(10.336437501078015), np.float64(11.651201383295705), np.float64(10.409424237823627), np.float64(11.444931958627317), np.float64(9.218418434108726), np.float64(9.75488273159534), np.float64(10.582371237342004), np.float64(10.000971189676623), np.float64(9.99113287492442), np.float64(8.141038474176357), np.float64(8.753140366308532), np.float64(nan), np.float64(9.473620699797529), np.float64(10.385157891255394), np.float64(8.62017786927526), np.float64(nan), np.float64(9.125502088084769), np.float64(8.885322783949285), np.float64(9.893406118063305), np.float64(8.940469617080819), np.float64(10.445483584889923), np.float64(8.746324348567024), np.float64(9.156105366013922), np.float64(8.821469488915627), np.float64(9.811402657288642), np.float64(8.90074070299323), np.float64(9.716140479428176), np.float64(10.232931375555644), np.float64(10.63228928671456), np.float64(11.376113944810491), np.float64(10.83147778188637), np.float64(10.71455168264124), np.float64(9.365644861807398)], [np.float64(12.674108529330057), np.float64(nan), np.float64(nan), np.float64(12.241044385343237), np.float64(11.240658998952373), np.float64(10.493668027739764), np.float64(9.847765086313597), np.float64(nan), np.float64(nan), np.float64(8.139717928462309), np.float64(10.329490115992709), np.float64(8.640130394173037), np.float64(8.76509716124976), np.float64(9.415554208529583), np.float64(8.527255771620364), np.float64(9.116091141378167), np.float64(8.378184150753267), np.float64(10.336437501078015), np.float64(11.651201383295705), np.float64(10.409424237823627), np.float64(11.444931958627317), np.float64(9.218418434108726), np.float64(9.75488273159534), np.float64(10.582371237342004), np.float64(10.000971189676623), np.float64(9.99113287492442), np.float64(8.141038474176357), np.float64(8.753140366308532), np.float64(nan), np.float64(9.473620699797529), np.float64(10.385157891255394), np.float64(8.62017786927526), np.float64(nan), np.float64(9.125502088084769), np.float64(8.885322783949285), np.float64(9.893406118063305), np.float64(8.940469617080819), np.float64(10.445483584889923), np.float64(8.746324348567024), np.float64(9.156105366013922), np.float64(8.821469488915627), np.float64(9.811402657288642), np.float64(8.90074070299323), np.float64(9.716140479428176), np.float64(10.232931375555644), np.float64(10.63228928671456), np.float64(11.376113944810491), np.float64(10.83147778188637), np.float64(10.71455168264124), np.float64(9.365644861807398)], [np.float64(12.674108529330057), np.float64(nan), np.float64(nan), np.float64(12.241044385343237), np.float64(11.240658998952373), np.float64(10.493668027739764), np.float64(9.847765086313597), np.float64(nan), np.float64(nan), np.float64(8.139717928462309), np.float64(10.329490115992709), np.float64(8.640130394173037), np.float64(8.76509716124976), np.float64(9.415554208529583), np.float64(8.527255771620364), np.float64(9.116091141378167), np.float64(8.378184150753267), np.float64(10.336437501078015), np.float64(11.651201383295705), np.float64(10.409424237823627), np.float64(11.444931958627317), np.float64(9.218418434108726), np.float64(9.75488273159534), np.float64(10.582371237342004), np.float64(10.000971189676623), np.float64(9.99113287492442), np.float64(8.141038474176357), np.float64(8.753140366308532), np.float64(nan), np.float64(9.473620699797529), np.float64(10.385157891255394), np.float64(8.62017786927526), np.float64(nan), np.float64(9.125502088084769), np.float64(8.885322783949285), np.float64(9.893406118063305), np.float64(8.940469617080819), np.float64(10.445483584889923), np.float64(8.746324348567024), np.float64(9.156105366013922), np.float64(8.821469488915627), np.float64(9.811402657288642), np.float64(8.90074070299323), np.float64(9.716140479428176), np.float64(10.232931375555644), np.float64(10.63228928671456), np.float64(11.376113944810491), np.float64(10.83147778188637), np.float64(10.71455168264124), np.float64(9.365644861807398)], [np.float64(nan), np.float64(nan), np.float64(12.268348030409893), np.float64(nan), np.float64(nan), np.float64(nan), np.float64(nan), np.float64(nan), np.float64(10.27567905680521), np.float64(9.39244609253668), np.float64(8.400787103977258), np.float64(8.97345391369928), np.float64(9.539991737987297), np.float64(8.750169482855044), np.float64(9.050725338236255), np.float64(nan), np.float64(8.918169800205181), np.float64(8.428738266304851), np.float64(9.141527243913124), np.float64(nan), np.float64(10.579096394730241), np.float64(9.370200033312864), np.float64(8.52002230626324), np.float64(11.218434907023278), np.float64(9.959821644637469), np.float64(10.385177283849776), np.float64(10.372762892235915), np.float64(11.401312027751517), np.float64(nan), np.float64(10.320871189265258), np.float64(10.787461381827775), np.float64(10.816056625553106), np.float64(9.945201743010843), np.float64(9.929867800489385), np.float64(9.342268690836626), np.float64(nan), np.float64(9.277359669473718), np.float64(9.772244699078168), np.float64(10.106216613281667), np.float64(nan), np.float64(7.952261174527317), np.float64(nan), np.float64(8.623827184332061), np.float64(9.54141428049553), np.float64(9.647356271304414), np.float64(9.162544628070453), np.float64(nan), np.float64(9.459630180375317), np.float64(9.624900650322461), np.float64(10.314892806150821)], [np.float64(nan), np.float64(nan), np.float64(12.268348030409893), np.float64(nan), np.float64(nan), np.float64(nan), np.float64(nan), np.float64(nan), np.float64(10.27567905680521), np.float64(9.39244609253668), np.float64(8.400787103977258), np.float64(8.97345391369928), np.float64(9.539991737987297), np.float64(8.750169482855044), np.float64(9.050725338236255), np.float64(nan), np.float64(8.918169800205181), np.float64(8.428738266304851), np.float64(9.141527243913124), np.float64(nan), np.float64(10.579096394730241), np.float64(9.370200033312864), np.float64(8.52002230626324), np.float64(11.218434907023278), np.float64(9.959821644637469), np.float64(10.385177283849776), np.float64(10.372762892235915), np.float64(11.401312027751517), np.float64(nan), np.float64(10.320871189265258), np.float64(10.787461381827775), np.float64(10.816056625553106), np.float64(9.945201743010843), np.float64(9.929867800489385), np.float64(9.342268690836626), np.float64(nan), np.float64(9.277359669473718), np.float64(9.772244699078168), np.float64(10.106216613281667), np.float64(nan), np.float64(7.952261174527317), np.float64(nan), np.float64(8.623827184332061), np.float64(9.54141428049553), np.float64(9.647356271304414), np.float64(9.162544628070453), np.float64(nan), np.float64(9.459630180375317), np.float64(9.624900650322461), np.float64(10.314892806150821)], [np.float64(nan), np.float64(nan), np.float64(12.268348030409893), np.float64(nan), np.float64(nan), np.float64(nan), np.float64(nan), np.float64(nan), np.float64(10.27567905680521), np.float64(9.39244609253668), np.float64(8.400787103977258), np.float64(8.97345391369928), np.float64(9.539991737987297), np.float64(8.750169482855044), np.float64(9.050725338236255), np.float64(nan), np.float64(8.918169800205181), np.float64(8.428738266304851), np.float64(9.141527243913124), np.float64(nan), np.float64(10.579096394730241), np.float64(9.370200033312864), np.float64(8.52002230626324), np.float64(11.218434907023278), np.float64(9.959821644637469), np.float64(10.385177283849776), np.float64(10.372762892235915), np.float64(11.401312027751517), np.float64(nan), np.float64(10.320871189265258), np.float64(10.787461381827775), np.float64(10.816056625553106), np.float64(9.945201743010843), np.float64(9.929867800489385), np.float64(9.342268690836626), np.float64(nan), np.float64(9.277359669473718), np.float64(9.772244699078168), np.float64(10.106216613281667), np.float64(nan), np.float64(7.952261174527317), np.float64(nan), np.float64(8.623827184332061), np.float64(9.54141428049553), np.float64(9.647356271304414), np.float64(9.162544628070453), np.float64(nan), np.float64(9.459630180375317), np.float64(9.624900650322461), np.float64(10.314892806150821)], [np.float64(nan), np.float64(nan), np.float64(12.268348030409893), np.float64(nan), np.float64(nan), np.float64(nan), np.float64(nan), np.float64(nan), np.float64(10.27567905680521), np.float64(9.39244609253668), np.float64(8.400787103977258), np.float64(8.97345391369928), np.float64(9.539991737987297), np.float64(8.750169482855044), np.float64(9.050725338236255), np.float64(nan), np.float64(8.918169800205181), np.float64(8.428738266304851), np.float64(9.141527243913124), np.float64(nan), np.float64(10.579096394730241), np.float64(9.370200033312864), np.float64(8.52002230626324), np.float64(11.218434907023278), np.float64(9.959821644637469), np.float64(10.385177283849776), np.float64(10.372762892235915), np.float64(11.401312027751517), np.float64(nan), np.float64(10.320871189265258), np.float64(10.787461381827775), np.float64(10.816056625553106), np.float64(9.945201743010843), np.float64(9.929867800489385), np.float64(9.342268690836626), np.float64(nan), np.float64(9.277359669473718), np.float64(9.772244699078168), np.float64(10.106216613281667), np.float64(nan), np.float64(7.952261174527317), np.float64(nan), np.float64(8.623827184332061), np.float64(9.54141428049553), np.float64(9.647356271304414), np.float64(9.162544628070453), np.float64(nan), np.float64(9.459630180375317), np.float64(9.624900650322461), np.float64(10.314892806150821)], [np.float64(nan), np.float64(nan), np.float64(12.268348030409893), np.float64(nan), np.float64(nan), np.float64(nan), np.float64(nan), np.float64(nan), np.float64(10.27567905680521), np.float64(9.39244609253668), np.float64(8.400787103977258), np.float64(8.97345391369928), np.float64(9.539991737987297), np.float64(8.750169482855044), np.float64(9.050725338236255), np.float64(nan), np.float64(8.918169800205181), np.float64(8.428738266304851), np.float64(9.141527243913124), np.float64(nan), np.float64(10.579096394730241), np.float64(9.370200033312864), np.float64(8.52002230626324), np.float64(11.218434907023278), np.float64(9.959821644637469), np.float64(10.385177283849776), np.float64(10.372762892235915), np.float64(11.401312027751517), np.float64(nan), np.float64(10.320871189265258), np.float64(10.787461381827775), np.float64(10.816056625553106), np.float64(9.945201743010843), np.float64(9.929867800489385), np.float64(9.342268690836626), np.float64(nan), np.float64(9.277359669473718), np.float64(9.772244699078168), np.float64(10.106216613281667), np.float64(nan), np.float64(7.952261174527317), np.float64(nan), np.float64(8.623827184332061), np.float64(9.54141428049553), np.float64(9.647356271304414), np.float64(9.162544628070453), np.float64(nan), np.float64(9.459630180375317), np.float64(9.624900650322461), np.float64(10.314892806150821)], [np.float64(nan), np.float64(nan), np.float64(12.268348030409893), np.float64(nan), np.float64(nan), np.float64(nan), np.float64(nan), np.float64(nan), np.float64(10.27567905680521), np.float64(9.39244609253668), np.float64(8.400787103977258), np.float64(8.97345391369928), np.float64(9.539991737987297), np.float64(8.750169482855044), np.float64(9.050725338236255), np.float64(nan), np.float64(8.918169800205181), np.float64(8.428738266304851), np.float64(9.141527243913124), np.float64(nan), np.float64(10.579096394730241), np.float64(9.370200033312864), np.float64(8.52002230626324), np.float64(11.218434907023278), np.float64(9.959821644637469), np.float64(10.385177283849776), np.float64(10.372762892235915), np.float64(11.401312027751517), np.float64(nan), np.float64(10.320871189265258), np.float64(10.787461381827775), np.float64(10.816056625553106), np.float64(9.945201743010843), np.float64(9.929867800489385), np.float64(9.342268690836626), np.float64(nan), np.float64(9.277359669473718), np.float64(9.772244699078168), np.float64(10.106216613281667), np.float64(nan), np.float64(7.952261174527317), np.float64(nan), np.float64(8.623827184332061), np.float64(9.54141428049553), np.float64(9.647356271304414), np.float64(9.162544628070453), np.float64(nan), np.float64(9.459630180375317), np.float64(9.624900650322461), np.float64(10.314892806150821)], [np.float64(nan), np.float64(nan), np.float64(12.268348030409893), np.float64(nan), np.float64(nan), np.float64(nan), np.float64(nan), np.float64(nan), np.float64(10.27567905680521), np.float64(9.39244609253668), np.float64(8.400787103977258), np.float64(8.97345391369928), np.float64(9.539991737987297), np.float64(8.750169482855044), np.float64(9.050725338236255), np.float64(nan), np.float64(8.918169800205181), np.float64(8.428738266304851), np.float64(9.141527243913124), np.float64(nan), np.float64(10.579096394730241), np.float64(9.370200033312864), np.float64(8.52002230626324), np.float64(11.218434907023278), np.float64(9.959821644637469), np.float64(10.385177283849776), np.float64(10.372762892235915), np.float64(11.401312027751517), np.float64(nan), np.float64(10.320871189265258), np.float64(10.787461381827775), np.float64(10.816056625553106), np.float64(9.945201743010843), np.float64(9.929867800489385), np.float64(9.342268690836626), np.float64(nan), np.float64(9.277359669473718), np.float64(9.772244699078168), np.float64(10.106216613281667), np.float64(nan), np.float64(7.952261174527317), np.float64(nan), np.float64(8.623827184332061), np.float64(9.54141428049553), np.float64(9.647356271304414), np.float64(9.162544628070453), np.float64(nan), np.float64(9.459630180375317), np.float64(9.624900650322461), np.float64(10.314892806150821)], [np.float64(nan), np.float64(nan), np.float64(12.268348030409893), np.float64(nan), np.float64(nan), np.float64(nan), np.float64(nan), np.float64(nan), np.float64(10.27567905680521), np.float64(9.39244609253668), np.float64(8.400787103977258), np.float64(8.97345391369928), np.float64(9.539991737987297), np.float64(8.750169482855044), np.float64(9.050725338236255), np.float64(nan), np.float64(8.918169800205181), np.float64(8.428738266304851), np.float64(9.141527243913124), np.float64(nan), np.float64(10.579096394730241), np.float64(9.370200033312864), np.float64(8.52002230626324), np.float64(11.218434907023278), np.float64(9.959821644637469), np.float64(10.385177283849776), np.float64(10.372762892235915), np.float64(11.401312027751517), np.float64(nan), np.float64(10.320871189265258), np.float64(10.787461381827775), np.float64(10.816056625553106), np.float64(9.945201743010843), np.float64(9.929867800489385), np.float64(9.342268690836626), np.float64(nan), np.float64(9.277359669473718), np.float64(9.772244699078168), np.float64(10.106216613281667), np.float64(nan), np.float64(7.952261174527317), np.float64(nan), np.float64(8.623827184332061), np.float64(9.54141428049553), np.float64(9.647356271304414), np.float64(9.162544628070453), np.float64(nan), np.float64(9.459630180375317), np.float64(9.624900650322461), np.float64(10.314892806150821)], [np.float64(nan), np.float64(nan), np.float64(12.268348030409893), np.float64(nan), np.float64(nan), np.float64(nan), np.float64(nan), np.float64(nan), np.float64(10.27567905680521), np.float64(9.39244609253668), np.float64(8.400787103977258), np.float64(8.97345391369928), np.float64(9.539991737987297), np.float64(8.750169482855044), np.float64(9.050725338236255), np.float64(nan), np.float64(8.918169800205181), np.float64(8.428738266304851), np.float64(9.141527243913124), np.float64(nan), np.float64(10.579096394730241), np.float64(9.370200033312864), np.float64(8.52002230626324), np.float64(11.218434907023278), np.float64(9.959821644637469), np.float64(10.385177283849776), np.float64(10.372762892235915), np.float64(11.401312027751517), np.float64(nan), np.float64(10.320871189265258), np.float64(10.787461381827775), np.float64(10.816056625553106), np.float64(9.945201743010843), np.float64(9.929867800489385), np.float64(9.342268690836626), np.float64(nan), np.float64(9.277359669473718), np.float64(9.772244699078168), np.float64(10.106216613281667), np.float64(nan), np.float64(7.952261174527317), np.float64(nan), np.float64(8.623827184332061), np.float64(9.54141428049553), np.float64(9.647356271304414), np.float64(9.162544628070453), np.float64(nan), np.float64(9.459630180375317), np.float64(9.624900650322461), np.float64(10.314892806150821)], [np.float64(nan), np.float64(nan), np.float64(12.268348030409893), np.float64(nan), np.float64(nan), np.float64(nan), np.float64(nan), np.float64(nan), np.float64(10.27567905680521), np.float64(9.39244609253668), np.float64(8.400787103977258), np.float64(8.97345391369928), np.float64(9.539991737987297), np.float64(8.750169482855044), np.float64(9.050725338236255), np.float64(nan), np.float64(8.918169800205181), np.float64(8.428738266304851), np.float64(9.141527243913124), np.float64(nan), np.float64(10.579096394730241), np.float64(9.370200033312864), np.float64(8.52002230626324), np.float64(11.218434907023278), np.float64(9.959821644637469), np.float64(10.385177283849776), np.float64(10.372762892235915), np.float64(11.401312027751517), np.float64(nan), np.float64(10.320871189265258), np.float64(10.787461381827775), np.float64(10.816056625553106), np.float64(9.945201743010843), np.float64(9.929867800489385), np.float64(9.342268690836626), np.float64(nan), np.float64(9.277359669473718), np.float64(9.772244699078168), np.float64(10.106216613281667), np.float64(nan), np.float64(7.952261174527317), np.float64(nan), np.float64(8.623827184332061), np.float64(9.54141428049553), np.float64(9.647356271304414), np.float64(9.162544628070453), np.float64(nan), np.float64(9.459630180375317), np.float64(9.624900650322461), np.float64(10.314892806150821)], [np.float64(nan), np.float64(nan), np.float64(12.268348030409893), np.float64(nan), np.float64(nan), np.float64(nan), np.float64(nan), np.float64(nan), np.float64(10.27567905680521), np.float64(9.39244609253668), np.float64(8.400787103977258), np.float64(8.97345391369928), np.float64(9.539991737987297), np.float64(8.750169482855044), np.float64(9.050725338236255), np.float64(nan), np.float64(8.918169800205181), np.float64(8.428738266304851), np.float64(9.141527243913124), np.float64(nan), np.float64(10.579096394730241), np.float64(9.370200033312864), np.float64(8.52002230626324), np.float64(11.218434907023278), np.float64(9.959821644637469), np.float64(10.385177283849776), np.float64(10.372762892235915), np.float64(11.401312027751517), np.float64(nan), np.float64(10.320871189265258), np.float64(10.787461381827775), np.float64(10.816056625553106), np.float64(9.945201743010843), np.float64(9.929867800489385), np.float64(9.342268690836626), np.float64(nan), np.float64(9.277359669473718), np.float64(9.772244699078168), np.float64(10.106216613281667), np.float64(nan), np.float64(7.952261174527317), np.float64(nan), np.float64(8.623827184332061), np.float64(9.54141428049553), np.float64(9.647356271304414), np.float64(9.162544628070453), np.float64(nan), np.float64(9.459630180375317), np.float64(9.624900650322461), np.float64(10.314892806150821)], [np.float64(nan), np.float64(nan), np.float64(12.268348030409893), np.float64(nan), np.float64(nan), np.float64(nan), np.float64(nan), np.float64(nan), np.float64(10.27567905680521), np.float64(9.39244609253668), np.float64(8.400787103977258), np.float64(8.97345391369928), np.float64(9.539991737987297), np.float64(8.750169482855044), np.float64(9.050725338236255), np.float64(nan), np.float64(8.918169800205181), np.float64(8.428738266304851), np.float64(9.141527243913124), np.float64(nan), np.float64(10.579096394730241), np.float64(9.370200033312864), np.float64(8.52002230626324), np.float64(11.218434907023278), np.float64(9.959821644637469), np.float64(10.385177283849776), np.float64(10.372762892235915), np.float64(11.401312027751517), np.float64(nan), np.float64(10.320871189265258), np.float64(10.787461381827775), np.float64(10.816056625553106), np.float64(9.945201743010843), np.float64(9.929867800489385), np.float64(9.342268690836626), np.float64(nan), np.float64(9.277359669473718), np.float64(9.772244699078168), np.float64(10.106216613281667), np.float64(nan), np.float64(7.952261174527317), np.float64(nan), np.float64(8.623827184332061), np.float64(9.54141428049553), np.float64(9.647356271304414), np.float64(9.162544628070453), np.float64(nan), np.float64(9.459630180375317), np.float64(9.624900650322461), np.float64(10.314892806150821)], [np.float64(nan), np.float64(nan), np.float64(12.268348030409893), np.float64(nan), np.float64(nan), np.float64(nan), np.float64(nan), np.float64(nan), np.float64(10.27567905680521), np.float64(9.39244609253668), np.float64(8.400787103977258), np.float64(8.97345391369928), np.float64(9.539991737987297), np.float64(8.750169482855044), np.float64(9.050725338236255), np.float64(nan), np.float64(8.918169800205181), np.float64(8.428738266304851), np.float64(9.141527243913124), np.float64(nan), np.float64(10.579096394730241), np.float64(9.370200033312864), np.float64(8.52002230626324), np.float64(11.218434907023278), np.float64(9.959821644637469), np.float64(10.385177283849776), np.float64(10.372762892235915), np.float64(11.401312027751517), np.float64(nan), np.float64(10.320871189265258), np.float64(10.787461381827775), np.float64(10.816056625553106), np.float64(9.945201743010843), np.float64(9.929867800489385), np.float64(9.342268690836626), np.float64(nan), np.float64(9.277359669473718), np.float64(9.772244699078168), np.float64(10.106216613281667), np.float64(nan), np.float64(7.952261174527317), np.float64(nan), np.float64(8.623827184332061), np.float64(9.54141428049553), np.float64(9.647356271304414), np.float64(9.162544628070453), np.float64(nan), np.float64(9.459630180375317), np.float64(9.624900650322461), np.float64(10.314892806150821)], [np.float64(nan), np.float64(nan), np.float64(12.268348030409893), np.float64(nan), np.float64(nan), np.float64(nan), np.float64(nan), np.float64(nan), np.float64(10.27567905680521), np.float64(9.39244609253668), np.float64(8.400787103977258), np.float64(8.97345391369928), np.float64(9.539991737987297), np.float64(8.750169482855044), np.float64(9.050725338236255), np.float64(nan), np.float64(8.918169800205181), np.float64(8.428738266304851), np.float64(9.141527243913124), np.float64(nan), np.float64(10.579096394730241), np.float64(9.370200033312864), np.float64(8.52002230626324), np.float64(11.218434907023278), np.float64(9.959821644637469), np.float64(10.385177283849776), np.float64(10.372762892235915), np.float64(11.401312027751517), np.float64(nan), np.float64(10.320871189265258), np.float64(10.787461381827775), np.float64(10.816056625553106), np.float64(9.945201743010843), np.float64(9.929867800489385), np.float64(9.342268690836626), np.float64(nan), np.float64(9.277359669473718), np.float64(9.772244699078168), np.float64(10.106216613281667), np.float64(nan), np.float64(7.952261174527317), np.float64(nan), np.float64(8.623827184332061), np.float64(9.54141428049553), np.float64(9.647356271304414), np.float64(9.162544628070453), np.float64(nan), np.float64(9.459630180375317), np.float64(9.624900650322461), np.float64(10.314892806150821)], [np.float64(nan), np.float64(9.986876023543855), np.float64(11.061986639764394), np.float64(nan), np.float64(nan), np.float64(nan), np.float64(nan), np.float64(nan), np.float64(nan), np.float64(8.892404510228223), np.float64(nan), np.float64(9.757911339678719), np.float64(nan), np.float64(nan), np.float64(nan), np.float64(nan), np.float64(nan), np.float64(9.550907809501638), np.float64(10.022267133475879), np.float64(9.11130258974747), np.float64(9.542560052493751), np.float64(8.209989971043406), np.float64(10.32073533272525), np.float64(nan), np.float64(9.084963333361294), np.float64(nan), np.float64(nan), np.float64(12.223371919407223), np.float64(10.115472208457208), np.float64(10.398064236982862), np.float64(nan), np.float64(10.090980630797263), np.float64(10.068961371712499), np.float64(9.534109617699576), np.float64(9.950179117050322), np.float64(8.760978540900892), np.float64(10.57309418913438), np.float64(9.568861680825002), np.float64(9.59589660048988), np.float64(nan), np.float64(nan), np.float64(9.266114390114945), np.float64(8.749667010702481), np.float64(7.9989710506767056), np.float64(7.612234821408048), np.float64(10.671648165294048), np.float64(9.646635490731175), np.float64(nan), np.float64(9.08516173361072), np.float64(nan)], [np.float64(nan), np.float64(9.986876023543855), np.float64(11.061986639764394), np.float64(nan), np.float64(nan), np.float64(nan), np.float64(nan), np.float64(nan), np.float64(nan), np.float64(8.892404510228223), np.float64(nan), np.float64(9.757911339678719), np.float64(nan), np.float64(nan), np.float64(nan), np.float64(nan), np.float64(nan), np.float64(9.550907809501638), np.float64(10.022267133475879), np.float64(9.11130258974747), np.float64(9.542560052493751), np.float64(8.209989971043406), np.float64(10.32073533272525), np.float64(nan), np.float64(9.084963333361294), np.float64(nan), np.float64(nan), np.float64(12.223371919407223), np.float64(10.115472208457208), np.float64(10.398064236982862), np.float64(nan), np.float64(10.090980630797263), np.float64(10.068961371712499), np.float64(9.534109617699576), np.float64(9.950179117050322), np.float64(8.760978540900892), np.float64(10.57309418913438), np.float64(9.568861680825002), np.float64(9.59589660048988), np.float64(nan), np.float64(nan), np.float64(9.266114390114945), np.float64(8.749667010702481), np.float64(7.9989710506767056), np.float64(7.612234821408048), np.float64(10.671648165294048), np.float64(9.646635490731175), np.float64(nan), np.float64(9.08516173361072), np.float64(nan)], [np.float64(nan), np.float64(9.986876023543855), np.float64(11.061986639764394), np.float64(nan), np.float64(nan), np.float64(nan), np.float64(nan), np.float64(nan), np.float64(nan), np.float64(8.892404510228223), np.float64(nan), np.float64(9.757911339678719), np.float64(nan), np.float64(nan), np.float64(nan), np.float64(nan), np.float64(nan), np.float64(9.550907809501638), np.float64(10.022267133475879), np.float64(9.11130258974747), np.float64(9.542560052493751), np.float64(8.209989971043406), np.float64(10.32073533272525), np.float64(nan), np.float64(9.084963333361294), np.float64(nan), np.float64(nan), np.float64(12.223371919407223), np.float64(10.115472208457208), np.float64(10.398064236982862), np.float64(nan), np.float64(10.090980630797263), np.float64(10.068961371712499), np.float64(9.534109617699576), np.float64(9.950179117050322), np.float64(8.760978540900892), np.float64(10.57309418913438), np.float64(9.568861680825002), np.float64(9.59589660048988), np.float64(nan), np.float64(nan), np.float64(9.266114390114945), np.float64(8.749667010702481), np.float64(7.9989710506767056), np.float64(7.612234821408048), np.float64(10.671648165294048), np.float64(9.646635490731175), np.float64(nan), np.float64(9.08516173361072), np.float64(nan)], [np.float64(nan), np.float64(9.986876023543855), np.float64(11.061986639764394), np.float64(nan), np.float64(nan), np.float64(nan), np.float64(nan), np.float64(nan), np.float64(nan), np.float64(8.892404510228223), np.float64(nan), np.float64(9.757911339678719), np.float64(nan), np.float64(nan), np.float64(nan), np.float64(nan), np.float64(nan), np.float64(9.550907809501638), np.float64(10.022267133475879), np.float64(9.11130258974747), np.float64(9.542560052493751), np.float64(8.209989971043406), np.float64(10.32073533272525), np.float64(nan), np.float64(9.084963333361294), np.float64(nan), np.float64(nan), np.float64(12.223371919407223), np.float64(10.115472208457208), np.float64(10.398064236982862), np.float64(nan), np.float64(10.090980630797263), np.float64(10.068961371712499), np.float64(9.534109617699576), np.float64(9.950179117050322), np.float64(8.760978540900892), np.float64(10.57309418913438), np.float64(9.568861680825002), np.float64(9.59589660048988), np.float64(nan), np.float64(nan), np.float64(9.266114390114945), np.float64(8.749667010702481), np.float64(7.9989710506767056), np.float64(7.612234821408048), np.float64(10.671648165294048), np.float64(9.646635490731175), np.float64(nan), np.float64(9.08516173361072), np.float64(nan)], [np.float64(nan), np.float64(9.986876023543855), np.float64(11.061986639764394), np.float64(nan), np.float64(nan), np.float64(nan), np.float64(nan), np.float64(nan), np.float64(nan), np.float64(8.892404510228223), np.float64(nan), np.float64(9.757911339678719), np.float64(nan), np.float64(nan), np.float64(nan), np.float64(nan), np.float64(nan), np.float64(9.550907809501638), np.float64(10.022267133475879), np.float64(9.11130258974747), np.float64(9.542560052493751), np.float64(8.209989971043406), np.float64(10.32073533272525), np.float64(nan), np.float64(9.084963333361294), np.float64(nan), np.float64(nan), np.float64(12.223371919407223), np.float64(10.115472208457208), np.float64(10.398064236982862), np.float64(nan), np.float64(10.090980630797263), np.float64(10.068961371712499), np.float64(9.534109617699576), np.float64(9.950179117050322), np.float64(8.760978540900892), np.float64(10.57309418913438), np.float64(9.568861680825002), np.float64(9.59589660048988), np.float64(nan), np.float64(nan), np.float64(9.266114390114945), np.float64(8.749667010702481), np.float64(7.9989710506767056), np.float64(7.612234821408048), np.float64(10.671648165294048), np.float64(9.646635490731175), np.float64(nan), np.float64(9.08516173361072), np.float64(nan)], [np.float64(nan), np.float64(9.986876023543855), np.float64(11.061986639764394), np.float64(nan), np.float64(nan), np.float64(nan), np.float64(nan), np.float64(nan), np.float64(nan), np.float64(8.892404510228223), np.float64(nan), np.float64(9.757911339678719), np.float64(nan), np.float64(nan), np.float64(nan), np.float64(nan), np.float64(nan), np.float64(9.550907809501638), np.float64(10.022267133475879), np.float64(9.11130258974747), np.float64(9.542560052493751), np.float64(8.209989971043406), np.float64(10.32073533272525), np.float64(nan), np.float64(9.084963333361294), np.float64(nan), np.float64(nan), np.float64(12.223371919407223), np.float64(10.115472208457208), np.float64(10.398064236982862), np.float64(nan), np.float64(10.090980630797263), np.float64(10.068961371712499), np.float64(9.534109617699576), np.float64(9.950179117050322), np.float64(8.760978540900892), np.float64(10.57309418913438), np.float64(9.568861680825002), np.float64(9.59589660048988), np.float64(nan), np.float64(nan), np.float64(9.266114390114945), np.float64(8.749667010702481), np.float64(7.9989710506767056), np.float64(7.612234821408048), np.float64(10.671648165294048), np.float64(9.646635490731175), np.float64(nan), np.float64(9.08516173361072), np.float64(nan)], [np.float64(nan), np.float64(9.986876023543855), np.float64(11.061986639764394), np.float64(nan), np.float64(nan), np.float64(nan), np.float64(nan), np.float64(nan), np.float64(nan), np.float64(8.892404510228223), np.float64(nan), np.float64(9.757911339678719), np.float64(nan), np.float64(nan), np.float64(nan), np.float64(nan), np.float64(nan), np.float64(9.550907809501638), np.float64(10.022267133475879), np.float64(9.11130258974747), np.float64(9.542560052493751), np.float64(8.209989971043406), np.float64(10.32073533272525), np.float64(nan), np.float64(9.084963333361294), np.float64(nan), np.float64(nan), np.float64(12.223371919407223), np.float64(10.115472208457208), np.float64(10.398064236982862), np.float64(nan), np.float64(10.090980630797263), np.float64(10.068961371712499), np.float64(9.534109617699576), np.float64(9.950179117050322), np.float64(8.760978540900892), np.float64(10.57309418913438), np.float64(9.568861680825002), np.float64(9.59589660048988), np.float64(nan), np.float64(nan), np.float64(9.266114390114945), np.float64(8.749667010702481), np.float64(7.9989710506767056), np.float64(7.612234821408048), np.float64(10.671648165294048), np.float64(9.646635490731175), np.float64(nan), np.float64(9.08516173361072), np.float64(nan)], [np.float64(nan), np.float64(9.986876023543855), np.float64(11.061986639764394), np.float64(nan), np.float64(nan), np.float64(nan), np.float64(nan), np.float64(nan), np.float64(nan), np.float64(8.892404510228223), np.float64(nan), np.float64(9.757911339678719), np.float64(nan), np.float64(nan), np.float64(nan), np.float64(nan), np.float64(nan), np.float64(9.550907809501638), np.float64(10.022267133475879), np.float64(9.11130258974747), np.float64(9.542560052493751), np.float64(8.209989971043406), np.float64(10.32073533272525), np.float64(nan), np.float64(9.084963333361294), np.float64(nan), np.float64(nan), np.float64(12.223371919407223), np.float64(10.115472208457208), np.float64(10.398064236982862), np.float64(nan), np.float64(10.090980630797263), np.float64(10.068961371712499), np.float64(9.534109617699576), np.float64(9.950179117050322), np.float64(8.760978540900892), np.float64(10.57309418913438), np.float64(9.568861680825002), np.float64(9.59589660048988), np.float64(nan), np.float64(nan), np.float64(9.266114390114945), np.float64(8.749667010702481), np.float64(7.9989710506767056), np.float64(7.612234821408048), np.float64(10.671648165294048), np.float64(9.646635490731175), np.float64(nan), np.float64(9.08516173361072), np.float64(nan)], [np.float64(nan), np.float64(9.986876023543855), np.float64(11.061986639764394), np.float64(nan), np.float64(nan), np.float64(nan), np.float64(nan), np.float64(nan), np.float64(nan), np.float64(8.892404510228223), np.float64(nan), np.float64(9.757911339678719), np.float64(nan), np.float64(nan), np.float64(nan), np.float64(nan), np.float64(nan), np.float64(9.550907809501638), np.float64(10.022267133475879), np.float64(9.11130258974747), np.float64(9.542560052493751), np.float64(8.209989971043406), np.float64(10.32073533272525), np.float64(nan), np.float64(9.084963333361294), np.float64(nan), np.float64(nan), np.float64(12.223371919407223), np.float64(10.115472208457208), np.float64(10.398064236982862), np.float64(nan), np.float64(10.090980630797263), np.float64(10.068961371712499), np.float64(9.534109617699576), np.float64(9.950179117050322), np.float64(8.760978540900892), np.float64(10.57309418913438), np.float64(9.568861680825002), np.float64(9.59589660048988), np.float64(nan), np.float64(nan), np.float64(9.266114390114945), np.float64(8.749667010702481), np.float64(7.9989710506767056), np.float64(7.612234821408048), np.float64(10.671648165294048), np.float64(9.646635490731175), np.float64(nan), np.float64(9.08516173361072), np.float64(nan)], [np.float64(nan), np.float64(9.986876023543855), np.float64(11.061986639764394), np.float64(nan), np.float64(nan), np.float64(nan), np.float64(nan), np.float64(nan), np.float64(nan), np.float64(8.892404510228223), np.float64(nan), np.float64(9.757911339678719), np.float64(nan), np.float64(nan), np.float64(nan), np.float64(nan), np.float64(nan), np.float64(9.550907809501638), np.float64(10.022267133475879), np.float64(9.11130258974747), np.float64(9.542560052493751), np.float64(8.209989971043406), np.float64(10.32073533272525), np.float64(nan), np.float64(9.084963333361294), np.float64(nan), np.float64(nan), np.float64(12.223371919407223), np.float64(10.115472208457208), np.float64(10.398064236982862), np.float64(nan), np.float64(10.090980630797263), np.float64(10.068961371712499), np.float64(9.534109617699576), np.float64(9.950179117050322), np.float64(8.760978540900892), np.float64(10.57309418913438), np.float64(9.568861680825002), np.float64(9.59589660048988), np.float64(nan), np.float64(nan), np.float64(9.266114390114945), np.float64(8.749667010702481), np.float64(7.9989710506767056), np.float64(7.612234821408048), np.float64(10.671648165294048), np.float64(9.646635490731175), np.float64(nan), np.float64(9.08516173361072), np.float64(nan)], [np.float64(nan), np.float64(9.986876023543855), np.float64(11.061986639764394), np.float64(nan), np.float64(nan), np.float64(nan), np.float64(nan), np.float64(nan), np.float64(nan), np.float64(8.892404510228223), np.float64(nan), np.float64(9.757911339678719), np.float64(nan), np.float64(nan), np.float64(nan), np.float64(nan), np.float64(nan), np.float64(9.550907809501638), np.float64(10.022267133475879), np.float64(9.11130258974747), np.float64(9.542560052493751), np.float64(8.209989971043406), np.float64(10.32073533272525), np.float64(nan), np.float64(9.084963333361294), np.float64(nan), np.float64(nan), np.float64(12.223371919407223), np.float64(10.115472208457208), np.float64(10.398064236982862), np.float64(nan), np.float64(10.090980630797263), np.float64(10.068961371712499), np.float64(9.534109617699576), np.float64(9.950179117050322), np.float64(8.760978540900892), np.float64(10.57309418913438), np.float64(9.568861680825002), np.float64(9.59589660048988), np.float64(nan), np.float64(nan), np.float64(9.266114390114945), np.float64(8.749667010702481), np.float64(7.9989710506767056), np.float64(7.612234821408048), np.float64(10.671648165294048), np.float64(9.646635490731175), np.float64(nan), np.float64(9.08516173361072), np.float64(nan)], [np.float64(nan), np.float64(9.986876023543855), np.float64(11.061986639764394), np.float64(nan), np.float64(nan), np.float64(nan), np.float64(nan), np.float64(nan), np.float64(nan), np.float64(8.892404510228223), np.float64(nan), np.float64(9.757911339678719), np.float64(nan), np.float64(nan), np.float64(nan), np.float64(nan), np.float64(nan), np.float64(9.550907809501638), np.float64(10.022267133475879), np.float64(9.11130258974747), np.float64(9.542560052493751), np.float64(8.209989971043406), np.float64(10.32073533272525), np.float64(nan), np.float64(9.084963333361294), np.float64(nan), np.float64(nan), np.float64(12.223371919407223), np.float64(10.115472208457208), np.float64(10.398064236982862), np.float64(nan), np.float64(10.090980630797263), np.float64(10.068961371712499), np.float64(9.534109617699576), np.float64(9.950179117050322), np.float64(8.760978540900892), np.float64(10.57309418913438), np.float64(9.568861680825002), np.float64(9.59589660048988), np.float64(nan), np.float64(nan), np.float64(9.266114390114945), np.float64(8.749667010702481), np.float64(7.9989710506767056), np.float64(7.612234821408048), np.float64(10.671648165294048), np.float64(9.646635490731175), np.float64(nan), np.float64(9.08516173361072), np.float64(nan)], [np.float64(nan), np.float64(9.986876023543855), np.float64(11.061986639764394), np.float64(nan), np.float64(nan), np.float64(nan), np.float64(nan), np.float64(nan), np.float64(nan), np.float64(8.892404510228223), np.float64(nan), np.float64(9.757911339678719), np.float64(nan), np.float64(nan), np.float64(nan), np.float64(nan), np.float64(nan), np.float64(9.550907809501638), np.float64(10.022267133475879), np.float64(9.11130258974747), np.float64(9.542560052493751), np.float64(8.209989971043406), np.float64(10.32073533272525), np.float64(nan), np.float64(9.084963333361294), np.float64(nan), np.float64(nan), np.float64(12.223371919407223), np.float64(10.115472208457208), np.float64(10.398064236982862), np.float64(nan), np.float64(10.090980630797263), np.float64(10.068961371712499), np.float64(9.534109617699576), np.float64(9.950179117050322), np.float64(8.760978540900892), np.float64(10.57309418913438), np.float64(9.568861680825002), np.float64(9.59589660048988), np.float64(nan), np.float64(nan), np.float64(9.266114390114945), np.float64(8.749667010702481), np.float64(7.9989710506767056), np.float64(7.612234821408048), np.float64(10.671648165294048), np.float64(9.646635490731175), np.float64(nan), np.float64(9.08516173361072), np.float64(nan)], [np.float64(nan), np.float64(9.986876023543855), np.float64(11.061986639764394), np.float64(nan), np.float64(nan), np.float64(nan), np.float64(nan), np.float64(nan), np.float64(nan), np.float64(8.892404510228223), np.float64(nan), np.float64(9.757911339678719), np.float64(nan), np.float64(nan), np.float64(nan), np.float64(nan), np.float64(nan), np.float64(9.550907809501638), np.float64(10.022267133475879), np.float64(9.11130258974747), np.float64(9.542560052493751), np.float64(8.209989971043406), np.float64(10.32073533272525), np.float64(nan), np.float64(9.084963333361294), np.float64(nan), np.float64(nan), np.float64(12.223371919407223), np.float64(10.115472208457208), np.float64(10.398064236982862), np.float64(nan), np.float64(10.090980630797263), np.float64(10.068961371712499), np.float64(9.534109617699576), np.float64(9.950179117050322), np.float64(8.760978540900892), np.float64(10.57309418913438), np.float64(9.568861680825002), np.float64(9.59589660048988), np.float64(nan), np.float64(nan), np.float64(9.266114390114945), np.float64(8.749667010702481), np.float64(7.9989710506767056), np.float64(7.612234821408048), np.float64(10.671648165294048), np.float64(9.646635490731175), np.float64(nan), np.float64(9.08516173361072), np.float64(nan)]]\n",
            "(50,)\n",
            "(50,)\n",
            "(50,)\n",
            "(50,)\n",
            "(50,)\n",
            "(50,)\n",
            "(50,)\n",
            "(50,)\n",
            "(50,)\n",
            "(50,)\n",
            "(50,)\n",
            "(50,)\n",
            "(50,)\n",
            "(50,)\n",
            "(50,)\n",
            "(50,)\n",
            "(50,)\n",
            "(50,)\n",
            "(50,)\n",
            "(50,)\n",
            "(50,)\n",
            "(50,)\n",
            "(50,)\n",
            "(50,)\n",
            "(50,)\n",
            "(50,)\n",
            "(50,)\n",
            "(50,)\n",
            "(50,)\n",
            "(50,)\n",
            "(50,)\n",
            "(50,)\n",
            "(50,)\n",
            "(50,)\n",
            "(50,)\n",
            "(50,)\n",
            "(50,)\n",
            "(50,)\n",
            "(50,)\n",
            "(50,)\n",
            "(50,)\n",
            "(50,)\n",
            "(50,)\n",
            "(50,)\n",
            "(50,)\n",
            "(50,)\n",
            "(50,)\n",
            "(50,)\n",
            "(50,)\n",
            "(50,)\n",
            "(50,)\n",
            "(50,)\n",
            "(50,)\n",
            "(50,)\n",
            "(50,)\n",
            "(50,)\n",
            "(50,)\n",
            "(50,)\n",
            "(50,)\n",
            "(50,)\n",
            "(50,)\n",
            "(50,)\n",
            "(50,)\n",
            "(50,)\n",
            "(50,)\n",
            "(50,)\n",
            "(50,)\n",
            "(50,)\n",
            "(50,)\n",
            "(50,)\n",
            "(50,)\n",
            "(50,)\n",
            "(50,)\n",
            "(50,)\n",
            "(50,)\n",
            "(50,)\n",
            "(50,)\n",
            "(50,)\n",
            "(50,)\n",
            "(50,)\n",
            "(50,)\n",
            "(50,)\n",
            "(50,)\n",
            "(50,)\n"
          ]
        }
      ]
    },
    {
      "cell_type": "code",
      "source": [
        "# Optional: Plot FID scores\n",
        "import matplotlib.pyplot as plt\n",
        "plt.figure(figsize=(10,5))\n",
        "for i in range(len(q_depth)):\n",
        "  plt.plot(np.arange(len(fid_scores[i]))*10, fid_scores[i])\n",
        "  plt.xlabel('Training Epochs')\n",
        "  plt.ylabel('FID Score')\n",
        "  plt.show()"
      ],
      "metadata": {
        "colab": {
          "base_uri": "https://localhost:8080/",
          "height": 228
        },
        "id": "a_2VqBAlD1_e",
        "outputId": "f3cf8241-8908-46c0-8ef1-6f8ef66e0cfd"
      },
      "execution_count": 64,
      "outputs": [
        {
          "output_type": "error",
          "ename": "TypeError",
          "evalue": "object of type 'numpy.float64' has no len()",
          "traceback": [
            "\u001b[0;31m---------------------------------------------------------------------------\u001b[0m",
            "\u001b[0;31mTypeError\u001b[0m                                 Traceback (most recent call last)",
            "\u001b[0;32m<ipython-input-64-cd86ff205839>\u001b[0m in \u001b[0;36m<cell line: 0>\u001b[0;34m()\u001b[0m\n\u001b[1;32m      3\u001b[0m \u001b[0mplt\u001b[0m\u001b[0;34m.\u001b[0m\u001b[0mfigure\u001b[0m\u001b[0;34m(\u001b[0m\u001b[0mfigsize\u001b[0m\u001b[0;34m=\u001b[0m\u001b[0;34m(\u001b[0m\u001b[0;36m10\u001b[0m\u001b[0;34m,\u001b[0m\u001b[0;36m5\u001b[0m\u001b[0;34m)\u001b[0m\u001b[0;34m)\u001b[0m\u001b[0;34m\u001b[0m\u001b[0;34m\u001b[0m\u001b[0m\n\u001b[1;32m      4\u001b[0m \u001b[0;32mfor\u001b[0m \u001b[0mi\u001b[0m \u001b[0;32min\u001b[0m \u001b[0mrange\u001b[0m\u001b[0;34m(\u001b[0m\u001b[0mlen\u001b[0m\u001b[0;34m(\u001b[0m\u001b[0mq_depth\u001b[0m\u001b[0;34m)\u001b[0m\u001b[0;34m)\u001b[0m\u001b[0;34m:\u001b[0m\u001b[0;34m\u001b[0m\u001b[0;34m\u001b[0m\u001b[0m\n\u001b[0;32m----> 5\u001b[0;31m   \u001b[0mplt\u001b[0m\u001b[0;34m.\u001b[0m\u001b[0mplot\u001b[0m\u001b[0;34m(\u001b[0m\u001b[0mnp\u001b[0m\u001b[0;34m.\u001b[0m\u001b[0marange\u001b[0m\u001b[0;34m(\u001b[0m\u001b[0mlen\u001b[0m\u001b[0;34m(\u001b[0m\u001b[0mfid_scores\u001b[0m\u001b[0;34m[\u001b[0m\u001b[0mi\u001b[0m\u001b[0;34m]\u001b[0m\u001b[0;34m)\u001b[0m\u001b[0;34m)\u001b[0m\u001b[0;34m*\u001b[0m\u001b[0;36m10\u001b[0m\u001b[0;34m,\u001b[0m \u001b[0mfid_scores\u001b[0m\u001b[0;34m[\u001b[0m\u001b[0mi\u001b[0m\u001b[0;34m]\u001b[0m\u001b[0;34m)\u001b[0m\u001b[0;34m\u001b[0m\u001b[0;34m\u001b[0m\u001b[0m\n\u001b[0m\u001b[1;32m      6\u001b[0m   \u001b[0mplt\u001b[0m\u001b[0;34m.\u001b[0m\u001b[0mxlabel\u001b[0m\u001b[0;34m(\u001b[0m\u001b[0;34m'Training Epochs'\u001b[0m\u001b[0;34m)\u001b[0m\u001b[0;34m\u001b[0m\u001b[0;34m\u001b[0m\u001b[0m\n\u001b[1;32m      7\u001b[0m   \u001b[0mplt\u001b[0m\u001b[0;34m.\u001b[0m\u001b[0mylabel\u001b[0m\u001b[0;34m(\u001b[0m\u001b[0;34m'FID Score'\u001b[0m\u001b[0;34m)\u001b[0m\u001b[0;34m\u001b[0m\u001b[0;34m\u001b[0m\u001b[0m\n",
            "\u001b[0;31mTypeError\u001b[0m: object of type 'numpy.float64' has no len()"
          ]
        },
        {
          "output_type": "display_data",
          "data": {
            "text/plain": [
              "<Figure size 1000x500 with 0 Axes>"
            ]
          },
          "metadata": {}
        }
      ]
    },
    {
      "cell_type": "markdown",
      "source": [
        "## 3c) plot how the generated images evolved throughout training"
      ],
      "metadata": {
        "id": "HTVIp1tzfc5S"
      }
    },
    {
      "cell_type": "code",
      "source": [
        "fig = plt.figure(figsize=(10, 5))\n",
        "outer = gridspec.GridSpec(5, 2, wspace=0.1)\n",
        "\n",
        "for i, images in enumerate(results):\n",
        "    inner = gridspec.GridSpecFromSubplotSpec(1, images.size(0),\n",
        "                    subplot_spec=outer[i])\n",
        "\n",
        "    images = torch.squeeze(images, dim=1)\n",
        "    for j, im in enumerate(images):\n",
        "\n",
        "        ax = plt.Subplot(fig, inner[j])\n",
        "        ax.imshow(im.numpy(), cmap=\"gray\")\n",
        "        ax.set_xticks([])\n",
        "        ax.set_yticks([])\n",
        "        if j==0:\n",
        "            ax.set_title(f'Iteration {50+i*50}', loc='left')\n",
        "        fig.add_subplot(ax)\n",
        "\n",
        "plt.show()"
      ],
      "metadata": {
        "colab": {
          "base_uri": "https://localhost:8080/",
          "height": 417
        },
        "id": "XmT9z1RhJ3-9",
        "outputId": "8e0ddcc8-6398-409d-e58f-14a9bee26c19"
      },
      "execution_count": 65,
      "outputs": [
        {
          "output_type": "display_data",
          "data": {
            "text/plain": [
              "<Figure size 1000x500 with 80 Axes>"
            ],
            "image/png": "[encoded data removed]"
          },
          "metadata": {}
        }
      ]
    },
    {
      "cell_type": "code",
      "source": [],
      "metadata": {
        "id": "nvSSPSkkJ4BA"
      },
      "execution_count": null,
      "outputs": []
    }
  ]
}